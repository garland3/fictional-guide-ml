{
 "cells": [
  {
   "cell_type": "markdown",
   "metadata": {},
   "source": [
    "# Goal\n",
    "* Generate many functions. \n",
    "    * Model the function with an MLP and fit with 300 epochs\n",
    "    * Use the MLP to find $dydx$ and $d2y/d2x$ using `torch.autograd.grad`.\n",
    "    * Use the  range of -1 to 1\n",
    "    * Calculate the expected $dydx$ and $d2y/d2x$ for each function using sympy\n",
    "    * Compare the L1 error between the analytical values and the MLP evaluted values for $dydx$ and $d2y/d2x$ \n",
    "    * Record the error values \n",
    "    * Plot the performance of the MLP to model the function and its deriviates\n"
   ]
  },
  {
   "cell_type": "code",
   "execution_count": 670,
   "metadata": {},
   "outputs": [],
   "source": [
    "import torch\n",
    "import torch.nn as nn\n",
    "import torch.nn.functional as F\n",
    "import matplotlib.pyplot as plt"
   ]
  },
  {
   "cell_type": "code",
   "execution_count": 671,
   "metadata": {},
   "outputs": [],
   "source": [
    "%matplotlib inline"
   ]
  },
  {
   "cell_type": "code",
   "execution_count": 672,
   "metadata": {},
   "outputs": [],
   "source": [
    "def mish(input):\n",
    "    return input * torch.tanh(F.softplus(input))\n",
    "\n",
    "class Mish(nn.Module):\n",
    "    def __init__(self):\n",
    "        super().__init__()\n",
    "        \n",
    "    def forward(self, _input):\n",
    "        return mish(_input)\n",
    "    \n",
    "class Sine(nn.Module):\n",
    "    def __init__(self):\n",
    "        super().__init__()\n",
    "        \n",
    "    def forward(self, _input):\n",
    "        return torch.sin(_input)\n",
    "    \n",
    "def make_batch(x): return x[:,None]\n",
    "\n",
    "def debatch(x, detach = True):\n",
    "    x =  x.squeeze()\n",
    "    if detach: x = x.detach()\n",
    "    return x\n",
    "\n",
    "def make_mlp(n = 20, layers_count = 3, act = Mish):\n",
    "    layers = []\n",
    "    layers.append(nn.Linear(1,n))\n",
    "    layers.append(act())\n",
    "    for i in range(layers_count -2):\n",
    "        layers.append(nn.Linear(n,n))\n",
    "        layers.append(act())\n",
    "    layers.append(nn.Linear(n,1))\n",
    "    mlp = nn.Sequential(*layers)\n",
    "    return mlp\n",
    "\n",
    "class Stepper:\n",
    "    clear_grad = True\n",
    "    def __call__(self,my_mlp,xb, yb, lr = 1e-1):\n",
    "        yprime = my_mlp(xb)\n",
    "        self.loss = F.mse_loss(yb,yprime )\n",
    "        self.loss.backward()\n",
    "        for name, param in my_mlp.named_parameters():\n",
    "            param.data = param.data - param.grad*lr\n",
    "        if self.clear_grad: my_mlp.zero_grad()\n",
    "        self.yprime = yprime\n",
    "        return yprime.squeeze().detach()"
   ]
  },
  {
   "cell_type": "code",
   "execution_count": 673,
   "metadata": {},
   "outputs": [],
   "source": [
    "do_step = Stepper()"
   ]
  },
  {
   "cell_type": "markdown",
   "metadata": {},
   "source": [
    "# Randomly generate an equation"
   ]
  },
  {
   "cell_type": "code",
   "execution_count": 674,
   "metadata": {},
   "outputs": [],
   "source": [
    "from  sympy import *\n",
    "import random\n",
    "import numpy as np\n",
    "import warnings"
   ]
  },
  {
   "cell_type": "code",
   "execution_count": 675,
   "metadata": {},
   "outputs": [],
   "source": [
    "x = symbols(\"x\")"
   ]
  },
  {
   "cell_type": "code",
   "execution_count": 676,
   "metadata": {},
   "outputs": [],
   "source": [
    "def add(x1,x2): return x1-x2\n",
    "def minus(x1, x2): return x1-x2\n",
    "def power(x1, x2): return x1**x2\n",
    "def identity(x1): return x1\n",
    "# def sin_with_frequency(x1, x2): return sin(x1*x2)"
   ]
  },
  {
   "cell_type": "markdown",
   "metadata": {},
   "source": [
    "Here we are making a list of operations we might use. We break it up into two types of operations\n",
    "* operations with just a single input\n",
    "* operations with a input and a second number"
   ]
  },
  {
   "cell_type": "code",
   "execution_count": 677,
   "metadata": {},
   "outputs": [],
   "source": [
    "fns = [cos, sin, identity]\n",
    "fns2 = [add, minus, power]"
   ]
  },
  {
   "cell_type": "markdown",
   "metadata": {},
   "source": [
    "Make an expression will combine together `number_of_num_fncs` of operations together. For each operation it will first randomly pick an operation in the list `fns` or `fns2` with the only difference being that for `fns2` operations, it will need to generate another random value as an additional argument to the operation.  "
   ]
  },
  {
   "cell_type": "code",
   "execution_count": 681,
   "metadata": {},
   "outputs": [],
   "source": [
    "def make_equation(number_of_num_fncs):\n",
    "    y  = 1\n",
    "    for i in range(number_of_num_fncs):\n",
    "        if random.randint(0,1)==0:\n",
    "            # only requires 1 input. \n",
    "            fn = random.choice(fns)\n",
    "            y = y*fn(x)\n",
    "        else:\n",
    "            # requires 2 inputs. \n",
    "            fn = random.choice(fns2)\n",
    "            value = random.random()-0.5\n",
    "            # now choose if x is the input\n",
    "            if type(y)!=int and  y.has(x): # first, make sure y already has an x in its expression\n",
    "                if random.randint(0,1)==0:\n",
    "                    y = y*fn(x,value) # just use x as the input\n",
    "                else:\n",
    "                    print(f\"making composite, fn is {fn} and  y = {y}\")\n",
    "                    y = fn(y,value) # do a composite function\n",
    "                    \n",
    "            else:\n",
    "                # if missing x in the express, then we need to use X for sure as the 1st input. \n",
    "                y = y*fn(x,value)\n",
    "#         print(i, y)\n",
    "\n",
    "    # catch the special case where everything cancels out. Just make the identity function\n",
    "    if type(y)==int or  y.has(x)== False:\n",
    "        print(f\"catching function with nothing {y}\")\n",
    "        y = x\n",
    "    return y\n",
    "    "
   ]
  },
  {
   "cell_type": "markdown",
   "metadata": {},
   "source": [
    "We call `make_equation` twice for the numerator and operator, then combine the results to make a whole equation. "
   ]
  },
  {
   "cell_type": "code",
   "execution_count": 682,
   "metadata": {},
   "outputs": [],
   "source": [
    "def make_whole_equation(possible_operations = 3, min_operations = 1):\n",
    "    number_of_num_fncs_numerator = random.randint(min_operations,possible_operations)\n",
    "    number_of_num_fncs_denominator = random.randint(min_operations,possible_operations)\n",
    "#     print(number_of_num_fncs_numerator,number_of_num_fncs_denominator )\n",
    "    numerator = make_equation(number_of_num_fncs_numerator)\n",
    "    denominator = make_equation(number_of_num_fncs_numerator)\n",
    "    equation = numerator/denominator\n",
    "    return equation"
   ]
  },
  {
   "cell_type": "code",
   "execution_count": 688,
   "metadata": {},
   "outputs": [
    {
     "name": "stdout",
     "output_type": "stream",
     "text": [
      "making composite, fn is <function power at 0x00000230FD47CF70> and  y = (x - 0.376779181270076)*sin(x)\n"
     ]
    },
    {
     "data": {
      "text/latex": [
       "$\\displaystyle \\frac{\\left(\\left(x - 0.376779181270076\\right) \\sin{\\left(x \\right)}\\right)^{0.409184220094182}}{x \\left(x + 0.070420710013898\\right) \\sin{\\left(x \\right)}}$"
      ],
      "text/plain": [
       "((x - 0.376779181270076)*sin(x))**0.409184220094182/(x*(x + 0.070420710013898)*sin(x))"
      ]
     },
     "execution_count": 688,
     "metadata": {},
     "output_type": "execute_result"
    }
   ],
   "source": [
    "equation = make_whole_equation()\n",
    "equation"
   ]
  },
  {
   "cell_type": "markdown",
   "metadata": {},
   "source": [
    "We take the symbolic equation and convert it to a numpy function using `lambdify`. Then we evalute the function at the points in `x_numeric` and then plot to see if everything is working. "
   ]
  },
  {
   "cell_type": "code",
   "execution_count": 689,
   "metadata": {},
   "outputs": [],
   "source": [
    "f = lambdify(x, equation, \"numpy\")"
   ]
  },
  {
   "cell_type": "code",
   "execution_count": 690,
   "metadata": {},
   "outputs": [],
   "source": [
    "x_numeric = np.linspace(-1,1, 40)"
   ]
  },
  {
   "cell_type": "code",
   "execution_count": 691,
   "metadata": {},
   "outputs": [],
   "source": [
    "with warnings.catch_warnings():\n",
    "    warnings.simplefilter(\"ignore\")\n",
    "    y = f(x_numeric)\n",
    "    y = np.nan_to_num(y)"
   ]
  },
  {
   "cell_type": "code",
   "execution_count": 692,
   "metadata": {},
   "outputs": [
    {
     "data": {
      "text/plain": [
       "(-1.0, 1.0)"
      ]
     },
     "execution_count": 692,
     "metadata": {},
     "output_type": "execute_result"
    },
    {
     "data": {
      "image/png": "[encoded data removed]",
      "text/plain": [
       "<Figure size 432x288 with 1 Axes>"
      ]
     },
     "metadata": {
      "needs_background": "light"
     },
     "output_type": "display_data"
    }
   ],
   "source": [
    "plt.plot(x_numeric, y, 'ro-')\n",
    "plt.ylim([-10,10])\n",
    "plt.xlim([-1,1])"
   ]
  },
  {
   "cell_type": "markdown",
   "metadata": {},
   "source": [
    "Next, we calculate the analytical first derivative. Then we turn the function into a numpy function, evalute, and plot. "
   ]
  },
  {
   "cell_type": "code",
   "execution_count": 693,
   "metadata": {},
   "outputs": [],
   "source": [
    "with warnings.catch_warnings():\n",
    "    warnings.simplefilter(\"ignore\")\n",
    "#     dydx = simplify( diff(equation, x))\n",
    "    dydx =  diff(equation, x)"
   ]
  },
  {
   "cell_type": "code",
   "execution_count": 694,
   "metadata": {},
   "outputs": [
    {
     "data": {
      "text/latex": [
       "$\\displaystyle - \\frac{\\left(\\left(x - 0.376779181270076\\right) \\sin{\\left(x \\right)}\\right)^{0.409184220094182} \\cos{\\left(x \\right)}}{x \\left(x + 0.070420710013898\\right) \\sin^{2}{\\left(x \\right)}} - \\frac{\\left(\\left(x - 0.376779181270076\\right) \\sin{\\left(x \\right)}\\right)^{0.409184220094182}}{x \\left(x + 0.070420710013898\\right)^{2} \\sin{\\left(x \\right)}} + \\frac{\\left(\\left(x - 0.376779181270076\\right) \\sin{\\left(x \\right)}\\right)^{0.409184220094182} \\left(0.409184220094182 \\left(x - 0.376779181270076\\right) \\cos{\\left(x \\right)} + 0.409184220094182 \\sin{\\left(x \\right)}\\right)}{x \\left(x - 0.376779181270076\\right) \\left(x + 0.070420710013898\\right) \\sin^{2}{\\left(x \\right)}} - \\frac{\\left(\\left(x - 0.376779181270076\\right) \\sin{\\left(x \\right)}\\right)^{0.409184220094182}}{x^{2} \\left(x + 0.070420710013898\\right) \\sin{\\left(x \\right)}}$"
      ],
      "text/plain": [
       "-((x - 0.376779181270076)*sin(x))**0.409184220094182*cos(x)/(x*(x + 0.070420710013898)*sin(x)**2) - ((x - 0.376779181270076)*sin(x))**0.409184220094182/(x*(x + 0.070420710013898)**2*sin(x)) + ((x - 0.376779181270076)*sin(x))**0.409184220094182*(0.409184220094182*(x - 0.376779181270076)*cos(x) + 0.409184220094182*sin(x))/(x*(x - 0.376779181270076)*(x + 0.070420710013898)*sin(x)**2) - ((x - 0.376779181270076)*sin(x))**0.409184220094182/(x**2*(x + 0.070420710013898)*sin(x))"
      ]
     },
     "execution_count": 694,
     "metadata": {},
     "output_type": "execute_result"
    }
   ],
   "source": [
    "dydx"
   ]
  },
  {
   "cell_type": "code",
   "execution_count": null,
   "metadata": {},
   "outputs": [],
   "source": []
  },
  {
   "cell_type": "code",
   "execution_count": 695,
   "metadata": {},
   "outputs": [],
   "source": [
    "with warnings.catch_warnings():\n",
    "    warnings.simplefilter(\"ignore\")\n",
    "    f_dydx = lambdify(x, dydx, \"numpy\")\n",
    "    dydx_values = f_dydx(x_numeric)\n",
    "    dydx_values = np.nan_to_num(dydx_values)"
   ]
  },
  {
   "cell_type": "code",
   "execution_count": 696,
   "metadata": {},
   "outputs": [
    {
     "data": {
      "text/plain": [
       "(-1.0, 1.0)"
      ]
     },
     "execution_count": 696,
     "metadata": {},
     "output_type": "execute_result"
    },
    {
     "data": {
      "image/png": "[encoded data removed]",
      "text/plain": [
       "<Figure size 432x288 with 1 Axes>"
      ]
     },
     "metadata": {
      "needs_background": "light"
     },
     "output_type": "display_data"
    }
   ],
   "source": [
    "plt.plot(x_numeric, dydx_values, 'ro-')\n",
    "plt.ylim([-10,10])\n",
    "plt.xlim([-1,1])"
   ]
  },
  {
   "cell_type": "markdown",
   "metadata": {},
   "source": [
    "We do the same thing for hte 2nd derivative. "
   ]
  },
  {
   "cell_type": "code",
   "execution_count": 697,
   "metadata": {},
   "outputs": [],
   "source": [
    "with warnings.catch_warnings():\n",
    "    warnings.simplefilter(\"ignore\")\n",
    "    d2yd2x =  diff(dydx, x)\n",
    "    f_d2yd2x = lambdify(x, d2yd2x, \"numpy\")\n",
    "    d2yd2x_values = f_d2yd2x(x_numeric)\n",
    "    d2yd2x_values = np.nan_to_num(d2yd2x_values)"
   ]
  },
  {
   "cell_type": "code",
   "execution_count": 698,
   "metadata": {},
   "outputs": [
    {
     "data": {
      "text/plain": [
       "(-1.0, 1.0)"
      ]
     },
     "execution_count": 698,
     "metadata": {},
     "output_type": "execute_result"
    },
    {
     "data": {
      "image/png": "[encoded data removed]",
      "text/plain": [
       "<Figure size 432x288 with 1 Axes>"
      ]
     },
     "metadata": {
      "needs_background": "light"
     },
     "output_type": "display_data"
    }
   ],
   "source": [
    "plt.plot(x_numeric, d2yd2x_values, 'ro-')\n",
    "plt.ylim([-10,10])\n",
    "plt.xlim([-1,1])"
   ]
  },
  {
   "cell_type": "code",
   "execution_count": 699,
   "metadata": {},
   "outputs": [],
   "source": [
    "# d2yd2x"
   ]
  },
  {
   "cell_type": "markdown",
   "metadata": {},
   "source": [
    "## MLP\n",
    "* make an mlp\n",
    "* fit it to y values \n",
    "* measure the error for y, dydx, and d2yd2x"
   ]
  },
  {
   "cell_type": "code",
   "execution_count": 700,
   "metadata": {},
   "outputs": [],
   "source": [
    "class Normalizer:\n",
    "    def __init__(self, values):\n",
    "        self.mean = values.mean()\n",
    "        self.std = values.std()\n",
    "    \n",
    "    def norm(self, values):\n",
    "        return  (values - self.mean)/self.std\n",
    "    \n",
    "    def denorm(self, values):\n",
    "        return values*self.std + self.mean"
   ]
  },
  {
   "cell_type": "code",
   "execution_count": 701,
   "metadata": {},
   "outputs": [],
   "source": [
    "# mlp"
   ]
  },
  {
   "cell_type": "markdown",
   "metadata": {},
   "source": [
    "Notes:\n",
    "* convert nan's to 0 and infinity to a large number with `nan_to_num`\n",
    "* convert to tensor\n",
    "* convert to batch format\n",
    "* convert to float32"
   ]
  },
  {
   "cell_type": "code",
   "execution_count": 702,
   "metadata": {},
   "outputs": [],
   "source": [
    "# x_numeric_t, y_t = [torch.tensor(z) for z in  [x_numeric,y]]\n",
    "xb, yb = [make_batch(torch.tensor(np.nan_to_num(z))).to(torch.float32) for z in [x_numeric,y]]\n",
    "yb_normalizer = Normalizer(yb)\n",
    "yb_norm = yb_normalizer.norm(yb)"
   ]
  },
  {
   "cell_type": "code",
   "execution_count": 703,
   "metadata": {},
   "outputs": [],
   "source": [
    "# yb_norm"
   ]
  },
  {
   "cell_type": "markdown",
   "metadata": {},
   "source": [
    "## Train the MLP\n",
    "* a learning rate higher than 1e-2 is generally unstable. "
   ]
  },
  {
   "cell_type": "code",
   "execution_count": 704,
   "metadata": {},
   "outputs": [],
   "source": [
    "from fastcore.basics import store_attr\n",
    "from torch.optim import *"
   ]
  },
  {
   "cell_type": "code",
   "execution_count": 705,
   "metadata": {},
   "outputs": [],
   "source": [
    "class Stepper_v2:\n",
    "    \"\"\"Uses Adam optimizer rather than just SGD. Adam is much better. \"\"\"\n",
    "    def __init__(self, my_mlp, xb, yb, lr = 0.001):\n",
    "        store_attr(\"my_mlp, xb, yb, lr\")\n",
    "        \n",
    "    def do_epochs(self, epochs, lr = None):\n",
    "        lr = self.lr if lr is None else lr\n",
    "        self.optimizer = Adam(self.my_mlp.parameters(), lr = lr)\n",
    "        self.loss_list = []\n",
    "        for i in range(epochs):\n",
    "            self.optimizer.zero_grad()\n",
    "            self.yprime = self.my_mlp(self.xb)\n",
    "            self.loss = F.mse_loss(self.yb,self.yprime )\n",
    "            self.loss.backward()\n",
    "            self.optimizer.step()\n",
    "            self.loss_list.append(self.loss.detach())\n",
    "            \n",
    "   "
   ]
  },
  {
   "cell_type": "code",
   "execution_count": 706,
   "metadata": {},
   "outputs": [],
   "source": [
    "mlp = make_mlp(n = 100, layers_count=3, act = Mish)"
   ]
  },
  {
   "cell_type": "code",
   "execution_count": 707,
   "metadata": {},
   "outputs": [],
   "source": [
    "do_step2 = Stepper_v2(mlp, xb, yb_norm)"
   ]
  },
  {
   "cell_type": "code",
   "execution_count": 708,
   "metadata": {},
   "outputs": [],
   "source": [
    "do_step2.do_epochs(int(1e4), lr = 1e-4)"
   ]
  },
  {
   "cell_type": "code",
   "execution_count": 709,
   "metadata": {},
   "outputs": [
    {
     "data": {
      "text/plain": [
       "[<matplotlib.lines.Line2D at 0x230fd0808e0>]"
      ]
     },
     "execution_count": 709,
     "metadata": {},
     "output_type": "execute_result"
    },
    {
     "data": {
      "image/png": "[encoded data removed]",
      "text/plain": [
       "<Figure size 432x288 with 1 Axes>"
      ]
     },
     "metadata": {
      "needs_background": "light"
     },
     "output_type": "display_data"
    }
   ],
   "source": [
    "plt.plot(do_step2.loss_list)"
   ]
  },
  {
   "cell_type": "code",
   "execution_count": 710,
   "metadata": {},
   "outputs": [
    {
     "data": {
      "text/plain": [
       "(-1.0, 1.0)"
      ]
     },
     "execution_count": 710,
     "metadata": {},
     "output_type": "execute_result"
    },
    {
     "data": {
      "image/png": "[encoded data removed]",
      "text/plain": [
       "<Figure size 432x288 with 1 Axes>"
      ]
     },
     "metadata": {
      "needs_background": "light"
     },
     "output_type": "display_data"
    }
   ],
   "source": [
    "yprime = mlp(xb)\n",
    "\n",
    "yprime_debatch = yb_normalizer.denorm(   debatch(yprime))\n",
    "# x_debatch = debatch(x)\n",
    "\n",
    "plt.plot(x_numeric,y, \"rd-\", label = \"true\")\n",
    "plt.plot(x_numeric,yprime_debatch, \"gs-\", label = \"MLP\")\n",
    "plt.legend()\n",
    "plt.ylim([-10,10])\n",
    "plt.xlim([-1,1])"
   ]
  },
  {
   "cell_type": "code",
   "execution_count": 711,
   "metadata": {},
   "outputs": [],
   "source": [
    "xb.requires_grad = True\n",
    "yprime_pre = mlp(xb)\n",
    "yprime_pre.retain_grad()\n",
    "# yprime_pre.requires_grad = True\n",
    "yprime = yb_normalizer.denorm(   yprime_pre)\n",
    "\n",
    "dydx = torch.autograd.grad(yprime.sum(), xb, create_graph=True)[0]\n",
    "\n",
    "d2yd2x = torch.autograd.grad(dydx.sum(), xb, create_graph=True)[0]"
   ]
  },
  {
   "cell_type": "code",
   "execution_count": 712,
   "metadata": {},
   "outputs": [
    {
     "data": {
      "text/plain": [
       "(-1.0, 1.0)"
      ]
     },
     "execution_count": 712,
     "metadata": {},
     "output_type": "execute_result"
    },
    {
     "data": {
      "image/png": "[encoded data removed]",
      "text/plain": [
       "<Figure size 432x288 with 1 Axes>"
      ]
     },
     "metadata": {
      "needs_background": "light"
     },
     "output_type": "display_data"
    }
   ],
   "source": [
    "plt.plot(x_numeric,dydx_values, \"rd-\", label = \"true dy/dx\")\n",
    "plt.plot(x_numeric,debatch(dydx), \"gs-\", label = \"MLP dy/dx\")\n",
    "plt.legend()\n",
    "\n",
    "# plt.plot(x_numeric, dydx_values, 'ro-')\n",
    "plt.ylim([-10,10])\n",
    "plt.xlim([-1,1])"
   ]
  },
  {
   "cell_type": "code",
   "execution_count": 713,
   "metadata": {},
   "outputs": [
    {
     "data": {
      "text/plain": [
       "<matplotlib.legend.Legend at 0x230fe176c10>"
      ]
     },
     "execution_count": 713,
     "metadata": {},
     "output_type": "execute_result"
    },
    {
     "data": {
      "image/png": "[encoded data removed]",
      "text/plain": [
       "<Figure size 432x288 with 1 Axes>"
      ]
     },
     "metadata": {
      "needs_background": "light"
     },
     "output_type": "display_data"
    }
   ],
   "source": [
    "plt.plot(x_numeric,d2yd2x_values, \"rd-\", label = \"true d2y/d2x\")\n",
    "plt.plot(x_numeric,debatch(d2yd2x), \"gs-\", label = \"MLP d2y/d2x\")\n",
    "plt.legend()"
   ]
  },
  {
   "cell_type": "markdown",
   "metadata": {},
   "source": [
    "# Put it all together now in a loop\n",
    "* "
   ]
  },
  {
   "cell_type": "code",
   "execution_count": null,
   "metadata": {},
   "outputs": [],
   "source": []
  },
  {
   "cell_type": "code",
   "execution_count": null,
   "metadata": {},
   "outputs": [],
   "source": []
  },
  {
   "cell_type": "code",
   "execution_count": 411,
   "metadata": {},
   "outputs": [],
   "source": [
    "# # yprime_debatch\n",
    "\n",
    "# # yprime\n",
    "\n",
    "\n",
    "\n",
    "\n",
    "\n",
    "# for i in range(300):\n",
    "#     yprime_out = do_step(mlp, xb, yb, lr = 1e-1)\n",
    "\n",
    "# plt.plot(x,y, \"rd-\", label = \"true\")\n",
    "# plt.plot(x,yprime_out, \"gs-\", label = \"MLP\")\n",
    "# plt.legend()\n",
    "\n",
    "# xb.requires_grad = True\n",
    "# yprime = mlp(xb)\n",
    "\n",
    "# dydx = torch.autograd.grad(yprime.sum(), xb, create_graph=True)[0]\n",
    "\n",
    "# d2yd2x = torch.autograd.grad(dydx.sum(), xb, create_graph=True)[0]\n",
    "\n",
    "# # y, dydx_analytical, d2yd2x_analytical \n",
    "\n"
   ]
  },
  {
   "cell_type": "code",
   "execution_count": 412,
   "metadata": {},
   "outputs": [],
   "source": [
    "# plt.plot(x,dydx_analytical, \"rd-\", label = \"true dy/dx\")\n",
    "# plt.plot(x,debatch(dydx), \"gs-\", label = \"MLP dy/dx\")\n",
    "# plt.legend()"
   ]
  },
  {
   "cell_type": "code",
   "execution_count": 413,
   "metadata": {},
   "outputs": [],
   "source": [
    "# plt.plot(x,d2yd2x_analytical, \"rd-\", label = \"true d2y/d2x\")\n",
    "# plt.plot(x,debatch(d2yd2x), \"gs-\", label = \"MLP d2y/d2x\")\n",
    "# plt.legend()"
   ]
  },
  {
   "cell_type": "code",
   "execution_count": null,
   "metadata": {},
   "outputs": [],
   "source": []
  },
  {
   "cell_type": "code",
   "execution_count": null,
   "metadata": {},
   "outputs": [],
   "source": []
  }
 ],
 "metadata": {
  "kernelspec": {
   "display_name": "tutorial3",
   "language": "python",
   "name": "tutorial3"
  },
  "language_info": {
   "codemirror_mode": {
    "name": "ipython",
    "version": 3
   },
   "file_extension": ".py",
   "mimetype": "text/x-python",
   "name": "python",
   "nbconvert_exporter": "python",
   "pygments_lexer": "ipython3",
   "version": "3.8.12"
  }
 },
 "nbformat": 4,
 "nbformat_minor": 4
}
