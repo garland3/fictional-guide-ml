{
 "cells": [
  {
   "cell_type": "markdown",
   "metadata": {},
   "source": [
    "# Goal\n",
    "* Generate many functions. \n",
    "    * Model the function with an MLP and fit with 300 epochs\n",
    "    * Use the MLP to find $dydx$ and $d2y/d2x$ using `torch.autograd.grad`.\n",
    "    * Use the  range of -1 to 1\n",
    "    * Calculate the expected $dydx$ and $d2y/d2x$ for each function using sympy\n",
    "    * Compare the L1 error between the analytical values and the MLP evaluted values for $dydx$ and $d2y/d2x$ \n",
    "    * Record the error values \n",
    "    * Plot the performance of the MLP to model the function and its deriviates\n"
   ]
  },
  {
   "cell_type": "code",
   "execution_count": 564,
   "metadata": {},
   "outputs": [],
   "source": [
    "import torch\n",
    "import torch.nn as nn\n",
    "import torch.nn.functional as F\n",
    "import matplotlib.pyplot as plt"
   ]
  },
  {
   "cell_type": "code",
   "execution_count": 565,
   "metadata": {},
   "outputs": [],
   "source": [
    "%matplotlib inline"
   ]
  },
  {
   "cell_type": "code",
   "execution_count": 597,
   "metadata": {},
   "outputs": [],
   "source": [
    "def mish(input):\n",
    "    return input * torch.tanh(F.softplus(input))\n",
    "\n",
    "class Mish(nn.Module):\n",
    "    def __init__(self):\n",
    "        super().__init__()\n",
    "        \n",
    "    def forward(self, _input):\n",
    "        return mish(_input)\n",
    "    \n",
    "class Sine(nn.Module):\n",
    "    def __init__(self):\n",
    "        super().__init__()\n",
    "        \n",
    "    def forward(self, _input):\n",
    "        return torch.sin(_input)\n",
    "    \n",
    "def make_batch(x): return x[:,None]\n",
    "\n",
    "def debatch(x, detach = True):\n",
    "    x =  x.squeeze()\n",
    "    if detach: x = x.detach()\n",
    "    return x\n",
    "\n",
    "def make_mlp(n = 20, layers_count = 3, act = Mish):\n",
    "    layers = []\n",
    "    layers.append(nn.Linear(1,n))\n",
    "    layers.append(act())\n",
    "    for i in range(layers_count -2):\n",
    "        layers.append(nn.Linear(n,n))\n",
    "        layers.append(act())\n",
    "    layers.append(nn.Linear(n,1))\n",
    "    mlp = nn.Sequential(*layers)\n",
    "    return mlp\n",
    "\n",
    "class Stepper:\n",
    "    clear_grad = True\n",
    "    def __call__(self,my_mlp,xb, yb, lr = 1e-1):\n",
    "        yprime = my_mlp(xb)\n",
    "        self.loss = F.mse_loss(yb,yprime )\n",
    "        self.loss.backward()\n",
    "        for name, param in my_mlp.named_parameters():\n",
    "            param.data = param.data - param.grad*lr\n",
    "        if self.clear_grad: my_mlp.zero_grad()\n",
    "        self.yprime = yprime\n",
    "        return yprime.squeeze().detach()"
   ]
  },
  {
   "cell_type": "code",
   "execution_count": 598,
   "metadata": {},
   "outputs": [],
   "source": [
    "do_step = Stepper()"
   ]
  },
  {
   "cell_type": "markdown",
   "metadata": {},
   "source": [
    "# Randomly generate an equation"
   ]
  },
  {
   "cell_type": "code",
   "execution_count": 568,
   "metadata": {},
   "outputs": [],
   "source": [
    "from  sympy import *\n",
    "import random\n",
    "import numpy as np\n",
    "import warnings"
   ]
  },
  {
   "cell_type": "code",
   "execution_count": 569,
   "metadata": {},
   "outputs": [],
   "source": [
    "x = symbols(\"x\")"
   ]
  },
  {
   "cell_type": "code",
   "execution_count": 570,
   "metadata": {},
   "outputs": [],
   "source": [
    "def add(x1,x2): return x1-x2\n",
    "def minus(x1, x2): return x1-x2\n",
    "def power(x1, x2): return x1**x2\n",
    "def identity(x1): return x1"
   ]
  },
  {
   "cell_type": "markdown",
   "metadata": {},
   "source": [
    "Here we are making a list of operations we might use. We break it up into two types of operations\n",
    "* operations with just a single input\n",
    "* operations with a input and a second number"
   ]
  },
  {
   "cell_type": "code",
   "execution_count": 571,
   "metadata": {},
   "outputs": [],
   "source": [
    "fns = [cos, sin, identity]\n",
    "fns2 = [add, minus, power]"
   ]
  },
  {
   "cell_type": "markdown",
   "metadata": {},
   "source": [
    "Make an expression will combine together `number_of_num_fncs` of operations together. For each operation it will first randomly pick an operation in the list `fns` or `fns2` with the only difference being that for `fns2` operations, it will need to generate another random value as an additional argument to the operation.  "
   ]
  },
  {
   "cell_type": "code",
   "execution_count": 572,
   "metadata": {},
   "outputs": [],
   "source": [
    "def make_equation(number_of_num_fncs):\n",
    "    y  = 1\n",
    "    for i in range(number_of_num_fncs):\n",
    "        if random.randint(0,1)==0:\n",
    "            fn = random.choice(fns)\n",
    "            y = y*fn(x)\n",
    "        else:\n",
    "            fn = random.choice(fns2)\n",
    "            value = random.random()-0.5\n",
    "            y = y*fn(x,value)\n",
    "#         print(i, y)\n",
    "    return y\n",
    "    "
   ]
  },
  {
   "cell_type": "markdown",
   "metadata": {},
   "source": [
    "We call `make_equation` twice for the numerator and operator, then combine the results to make a whole equation. "
   ]
  },
  {
   "cell_type": "code",
   "execution_count": 573,
   "metadata": {},
   "outputs": [],
   "source": [
    "def make_whole_equation(possible_operations = 4, min_operations = 1):\n",
    "    number_of_num_fncs_numerator = random.randint(min_operations,possible_operations)\n",
    "    number_of_num_fncs_denominator = random.randint(min_operations,possible_operations)\n",
    "#     print(number_of_num_fncs_numerator,number_of_num_fncs_denominator )\n",
    "    numerator = make_equation(number_of_num_fncs_numerator)\n",
    "    denominator = make_equation(number_of_num_fncs_numerator)\n",
    "    equation = numerator/denominator\n",
    "    return equation"
   ]
  },
  {
   "cell_type": "code",
   "execution_count": 574,
   "metadata": {},
   "outputs": [
    {
     "data": {
      "text/latex": [
       "$\\displaystyle \\frac{x - 0.0398709874092558}{x}$"
      ],
      "text/plain": [
       "(x - 0.0398709874092558)/x"
      ]
     },
     "execution_count": 574,
     "metadata": {},
     "output_type": "execute_result"
    }
   ],
   "source": [
    "equation = make_whole_equation()\n",
    "equation"
   ]
  },
  {
   "cell_type": "markdown",
   "metadata": {},
   "source": [
    "We take the symbolic equation and convert it to a numpy function using `lambdify`. Then we evalute the function at the points in `x_numeric` and then plot to see if everything is working. "
   ]
  },
  {
   "cell_type": "code",
   "execution_count": 575,
   "metadata": {},
   "outputs": [],
   "source": [
    "f = lambdify(x, equation, \"numpy\")"
   ]
  },
  {
   "cell_type": "code",
   "execution_count": 576,
   "metadata": {},
   "outputs": [],
   "source": [
    "x_numeric = np.linspace(-1,1, 40)"
   ]
  },
  {
   "cell_type": "code",
   "execution_count": 577,
   "metadata": {},
   "outputs": [],
   "source": [
    "with warnings.catch_warnings():\n",
    "    warnings.simplefilter(\"ignore\")\n",
    "    y = f(x_numeric)"
   ]
  },
  {
   "cell_type": "code",
   "execution_count": 578,
   "metadata": {},
   "outputs": [
    {
     "data": {
      "text/plain": [
       "(-10.0, 10.0)"
      ]
     },
     "execution_count": 578,
     "metadata": {},
     "output_type": "execute_result"
    },
    {
     "data": {
      "image/png": "[encoded data removed]",
      "text/plain": [
       "<Figure size 432x288 with 1 Axes>"
      ]
     },
     "metadata": {
      "needs_background": "light"
     },
     "output_type": "display_data"
    }
   ],
   "source": [
    "plt.plot(x_numeric, y, 'ro-')\n",
    "plt.ylim([-10,10])"
   ]
  },
  {
   "cell_type": "markdown",
   "metadata": {},
   "source": [
    "Next, we calculate the analytical first derivative. Then we turn the function into a numpy function, evalute, and plot. "
   ]
  },
  {
   "cell_type": "code",
   "execution_count": 579,
   "metadata": {},
   "outputs": [],
   "source": [
    "with warnings.catch_warnings():\n",
    "    warnings.simplefilter(\"ignore\")\n",
    "#     dydx = simplify( diff(equation, x))\n",
    "    dydx =  diff(equation, x)"
   ]
  },
  {
   "cell_type": "code",
   "execution_count": 580,
   "metadata": {},
   "outputs": [
    {
     "data": {
      "text/latex": [
       "$\\displaystyle \\frac{1}{x} - \\frac{x - 0.0398709874092558}{x^{2}}$"
      ],
      "text/plain": [
       "1/x - (x - 0.0398709874092558)/x**2"
      ]
     },
     "execution_count": 580,
     "metadata": {},
     "output_type": "execute_result"
    }
   ],
   "source": [
    "dydx"
   ]
  },
  {
   "cell_type": "code",
   "execution_count": null,
   "metadata": {},
   "outputs": [],
   "source": []
  },
  {
   "cell_type": "code",
   "execution_count": 581,
   "metadata": {},
   "outputs": [],
   "source": [
    "with warnings.catch_warnings():\n",
    "    warnings.simplefilter(\"ignore\")\n",
    "    f_dydx = lambdify(x, dydx, \"numpy\")\n",
    "    dydx_values = f_dydx(x_numeric)"
   ]
  },
  {
   "cell_type": "code",
   "execution_count": 582,
   "metadata": {},
   "outputs": [
    {
     "data": {
      "text/plain": [
       "(-10.0, 10.0)"
      ]
     },
     "execution_count": 582,
     "metadata": {},
     "output_type": "execute_result"
    },
    {
     "data": {
      "image/png": "[encoded data removed]",
      "text/plain": [
       "<Figure size 432x288 with 1 Axes>"
      ]
     },
     "metadata": {
      "needs_background": "light"
     },
     "output_type": "display_data"
    }
   ],
   "source": [
    "plt.plot(x_numeric, dydx_values, 'ro-')\n",
    "plt.ylim([-10,10])"
   ]
  },
  {
   "cell_type": "markdown",
   "metadata": {},
   "source": [
    "We do the same thing for hte 2nd derivative. "
   ]
  },
  {
   "cell_type": "code",
   "execution_count": 583,
   "metadata": {},
   "outputs": [],
   "source": [
    "with warnings.catch_warnings():\n",
    "    warnings.simplefilter(\"ignore\")\n",
    "    d2yd2x =  diff(dydx, x)\n",
    "    f_d2yd2x = lambdify(x, d2yd2x, \"numpy\")\n",
    "    d2yd2x_values = f_d2yd2x(x_numeric)"
   ]
  },
  {
   "cell_type": "code",
   "execution_count": 584,
   "metadata": {},
   "outputs": [
    {
     "data": {
      "text/plain": [
       "(-10.0, 10.0)"
      ]
     },
     "execution_count": 584,
     "metadata": {},
     "output_type": "execute_result"
    },
    {
     "data": {
      "image/png": "[encoded data removed]",
      "text/plain": [
       "<Figure size 432x288 with 1 Axes>"
      ]
     },
     "metadata": {
      "needs_background": "light"
     },
     "output_type": "display_data"
    }
   ],
   "source": [
    "plt.plot(x_numeric, d2yd2x_values, 'ro-')\n",
    "plt.ylim([-10,10])"
   ]
  },
  {
   "cell_type": "code",
   "execution_count": 585,
   "metadata": {},
   "outputs": [],
   "source": [
    "# d2yd2x"
   ]
  },
  {
   "cell_type": "markdown",
   "metadata": {},
   "source": [
    "## MLP\n",
    "* make an mlp\n",
    "* fit it to y values \n",
    "* measure the error for y, dydx, and d2yd2x"
   ]
  },
  {
   "cell_type": "code",
   "execution_count": 586,
   "metadata": {},
   "outputs": [],
   "source": [
    "class Normalizer:\n",
    "    def __init__(self, values):\n",
    "        self.mean = values.mean()\n",
    "        self.std = values.std()\n",
    "    \n",
    "    def norm(self, values):\n",
    "        return  (values - self.mean)/self.std\n",
    "    \n",
    "    def denorm(self, values):\n",
    "        return values*self.std+ self.mean"
   ]
  },
  {
   "cell_type": "code",
   "execution_count": 587,
   "metadata": {},
   "outputs": [],
   "source": [
    "# mlp"
   ]
  },
  {
   "cell_type": "markdown",
   "metadata": {},
   "source": [
    "Notes:\n",
    "* convert nan's to 0 and infinity to a large number with `nan_to_num`\n",
    "* convert to tensor\n",
    "* convert to batch format\n",
    "* convert to float32"
   ]
  },
  {
   "cell_type": "code",
   "execution_count": 588,
   "metadata": {},
   "outputs": [],
   "source": [
    "# x_numeric_t, y_t = [torch.tensor(z) for z in  [x_numeric,y]]\n",
    "xb, yb = [make_batch(torch.tensor(np.nan_to_num(z))).to(torch.float32) for z in [x_numeric,y]]\n",
    "yb_normalizer = Normalizer(yb)\n",
    "yb_norm = yb_normalizer.norm(yb)"
   ]
  },
  {
   "cell_type": "code",
   "execution_count": 589,
   "metadata": {},
   "outputs": [],
   "source": [
    "# yb_norm"
   ]
  },
  {
   "cell_type": "markdown",
   "metadata": {},
   "source": [
    "## Train the MLP\n",
    "* a learning rate higher than 1e-2 is generally unstable. "
   ]
  },
  {
   "cell_type": "code",
   "execution_count": 596,
   "metadata": {},
   "outputs": [],
   "source": [
    "loss_fn = F.mse_loss"
   ]
  },
  {
   "cell_type": "code",
   "execution_count": 593,
   "metadata": {},
   "outputs": [],
   "source": [
    "mlp = make_mlp(n = 100, layers_count=3, act = Mish)"
   ]
  },
  {
   "cell_type": "code",
   "execution_count": null,
   "metadata": {},
   "outputs": [],
   "source": []
  },
  {
   "cell_type": "code",
   "execution_count": 594,
   "metadata": {},
   "outputs": [],
   "source": [
    "for i in range(int(5e4)):\n",
    "    yprime_out = do_step(mlp, xb, yb_norm, lr = 5e-3)\n",
    "    loss = loss_fn(yprime_out, yb_norm)"
   ]
  },
  {
   "cell_type": "code",
   "execution_count": 595,
   "metadata": {},
   "outputs": [
    {
     "data": {
      "text/plain": [
       "<matplotlib.legend.Legend at 0x28e37bb0670>"
      ]
     },
     "execution_count": 595,
     "metadata": {},
     "output_type": "execute_result"
    },
    {
     "data": {
      "image/png": "[encoded data removed]",
      "text/plain": [
       "<Figure size 432x288 with 1 Axes>"
      ]
     },
     "metadata": {
      "needs_background": "light"
     },
     "output_type": "display_data"
    }
   ],
   "source": [
    "yprime = mlp(xb)\n",
    "\n",
    "yprime_debatch = yb_normalizer.denorm(   debatch(yprime))\n",
    "# x_debatch = debatch(x)\n",
    "\n",
    "plt.plot(x_numeric,y, \"rd-\", label = \"true\")\n",
    "plt.plot(x_numeric,yprime_debatch, \"gs-\", label = \"MLP\")\n",
    "plt.legend()"
   ]
  },
  {
   "cell_type": "code",
   "execution_count": 533,
   "metadata": {},
   "outputs": [],
   "source": [
    "# yb_norm"
   ]
  },
  {
   "cell_type": "code",
   "execution_count": 390,
   "metadata": {},
   "outputs": [],
   "source": [
    "xb.requires_grad = True\n",
    "yprime = mlp(xb)\n",
    "\n",
    "dydx = torch.autograd.grad(yprime.sum(), xb, create_graph=True)[0]\n",
    "\n",
    "d2yd2x = torch.autograd.grad(dydx.sum(), xb, create_graph=True)[0]"
   ]
  },
  {
   "cell_type": "code",
   "execution_count": 263,
   "metadata": {},
   "outputs": [],
   "source": [
    "# yprime_debatch"
   ]
  },
  {
   "cell_type": "code",
   "execution_count": 264,
   "metadata": {},
   "outputs": [],
   "source": [
    "# yprime"
   ]
  },
  {
   "cell_type": "code",
   "execution_count": null,
   "metadata": {},
   "outputs": [],
   "source": []
  },
  {
   "cell_type": "code",
   "execution_count": null,
   "metadata": {},
   "outputs": [],
   "source": []
  },
  {
   "cell_type": "code",
   "execution_count": 54,
   "metadata": {},
   "outputs": [],
   "source": [
    "for i in range(300):\n",
    "    yprime_out = do_step(mlp, xb, yb, lr = 1e-1)"
   ]
  },
  {
   "cell_type": "code",
   "execution_count": 55,
   "metadata": {},
   "outputs": [
    {
     "data": {
      "text/plain": [
       "<matplotlib.legend.Legend at 0x1a433328670>"
      ]
     },
     "execution_count": 55,
     "metadata": {},
     "output_type": "execute_result"
    },
    {
     "data": {
      "image/png": "[encoded data removed]",
      "text/plain": [
       "<Figure size 432x288 with 1 Axes>"
      ]
     },
     "metadata": {
      "needs_background": "light"
     },
     "output_type": "display_data"
    }
   ],
   "source": [
    "plt.plot(x,y, \"rd-\", label = \"true\")\n",
    "plt.plot(x,yprime_out, \"gs-\", label = \"MLP\")\n",
    "plt.legend()"
   ]
  },
  {
   "cell_type": "code",
   "execution_count": 58,
   "metadata": {},
   "outputs": [],
   "source": [
    "xb.requires_grad = True\n",
    "yprime = mlp(xb)\n",
    "\n",
    "dydx = torch.autograd.grad(yprime.sum(), xb, create_graph=True)[0]\n",
    "\n",
    "d2yd2x = torch.autograd.grad(dydx.sum(), xb, create_graph=True)[0]"
   ]
  },
  {
   "cell_type": "code",
   "execution_count": 59,
   "metadata": {},
   "outputs": [],
   "source": [
    "# y, dydx_analytical, d2yd2x_analytical "
   ]
  },
  {
   "cell_type": "code",
   "execution_count": null,
   "metadata": {},
   "outputs": [],
   "source": []
  },
  {
   "cell_type": "code",
   "execution_count": 60,
   "metadata": {},
   "outputs": [
    {
     "data": {
      "text/plain": [
       "<matplotlib.legend.Legend at 0x1a433726ee0>"
      ]
     },
     "execution_count": 60,
     "metadata": {},
     "output_type": "execute_result"
    },
    {
     "data": {
      "image/png": "[encoded data removed]",
      "text/plain": [
       "<Figure size 432x288 with 1 Axes>"
      ]
     },
     "metadata": {
      "needs_background": "light"
     },
     "output_type": "display_data"
    }
   ],
   "source": [
    "plt.plot(x,dydx_analytical, \"rd-\", label = \"true dy/dx\")\n",
    "plt.plot(x,debatch(dydx), \"gs-\", label = \"MLP dy/dx\")\n",
    "plt.legend()"
   ]
  },
  {
   "cell_type": "code",
   "execution_count": 61,
   "metadata": {},
   "outputs": [
    {
     "data": {
      "text/plain": [
       "<matplotlib.legend.Legend at 0x1a4334b7430>"
      ]
     },
     "execution_count": 61,
     "metadata": {},
     "output_type": "execute_result"
    },
    {
     "data": {
      "image/png": "[encoded data removed]",
      "text/plain": [
       "<Figure size 432x288 with 1 Axes>"
      ]
     },
     "metadata": {
      "needs_background": "light"
     },
     "output_type": "display_data"
    }
   ],
   "source": [
    "plt.plot(x,d2yd2x_analytical, \"rd-\", label = \"true d2y/d2x\")\n",
    "plt.plot(x,debatch(d2yd2x), \"gs-\", label = \"MLP d2y/d2x\")\n",
    "plt.legend()"
   ]
  },
  {
   "cell_type": "code",
   "execution_count": null,
   "metadata": {},
   "outputs": [],
   "source": []
  },
  {
   "cell_type": "code",
   "execution_count": null,
   "metadata": {},
   "outputs": [],
   "source": []
  }
 ],
 "metadata": {
  "kernelspec": {
   "display_name": "tutorial3",
   "language": "python",
   "name": "tutorial3"
  },
  "language_info": {
   "codemirror_mode": {
    "name": "ipython",
    "version": 3
   },
   "file_extension": ".py",
   "mimetype": "text/x-python",
   "name": "python",
   "nbconvert_exporter": "python",
   "pygments_lexer": "ipython3",
   "version": "3.8.12"
  }
 },
 "nbformat": 4,
 "nbformat_minor": 4
}
