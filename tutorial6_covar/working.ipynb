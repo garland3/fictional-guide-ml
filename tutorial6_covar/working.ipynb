{
 "cells": [
  {
   "cell_type": "markdown",
   "metadata": {},
   "source": [
    "Varriance\n",
    "$$var(x) = \\frac{\\sum_{i=1}^{n} (x_i-\\mu)^2}{n}$$\n",
    "\n",
    "where $\\mu$ is the mean of x, and we have $n$ values in our vector\n",
    "\n",
    "Covarriance\n",
    "$$ cov(x,y) = \\frac{\\sum_{i=1}^{n} (x_i-\\mu_x)(y_i - \\mu_y)}{n}$$\n",
    "where $mu_x$ is the mean of x and $mu_y$ is the mean of y\n",
    "\n",
    "Here we are showing population var and cov. For sample of a population divide by $n-1$"
   ]
  },
  {
   "cell_type": "code",
   "execution_count": 1,
   "metadata": {},
   "outputs": [],
   "source": [
    "import numpy as np\n",
    "import matplotlib.pyplot as plt"
   ]
  },
  {
   "cell_type": "code",
   "execution_count": 2,
   "metadata": {},
   "outputs": [],
   "source": [
    "n = 5\n",
    "x = np.random.randint(low = 0, high = 10, size = n)\n",
    "y = np.random.randint(low = 0, high = 10, size = n)"
   ]
  },
  {
   "cell_type": "code",
   "execution_count": 13,
   "metadata": {},
   "outputs": [],
   "source": [
    "nn = 2 # number of data series\n",
    "cov = np.zeros((nn,nn))\n",
    "xm  = np.stack([x,y])\n",
    "# xm\n",
    "for i in range(nn):\n",
    "    for j in range(nn):\n",
    "        x1 = xm[i,:]\n",
    "        x2 = xm[j,:]\n",
    "        x1_mean = x1.mean()\n",
    "        x2_mean = x2.mean()        \n",
    "        for k in range(n):\n",
    "            cov[i,j]+= (x1[k]-x1_mean)*(x2[k]-x2_mean)\n",
    "        cov[i,j]/=n"
   ]
  },
  {
   "cell_type": "code",
   "execution_count": 14,
   "metadata": {},
   "outputs": [],
   "source": [
    "# xm"
   ]
  },
  {
   "cell_type": "code",
   "execution_count": 15,
   "metadata": {},
   "outputs": [
    {
     "data": {
      "text/plain": [
       "array([[3.2, 1. ],\n",
       "       [1. , 1.6]])"
      ]
     },
     "execution_count": 15,
     "metadata": {},
     "output_type": "execute_result"
    }
   ],
   "source": [
    "cov"
   ]
  },
  {
   "cell_type": "code",
   "execution_count": 16,
   "metadata": {},
   "outputs": [
    {
     "data": {
      "text/plain": [
       "1.6"
      ]
     },
     "execution_count": 16,
     "metadata": {},
     "output_type": "execute_result"
    }
   ],
   "source": [
    "np.var(y)"
   ]
  },
  {
   "cell_type": "code",
   "execution_count": 10,
   "metadata": {},
   "outputs": [
    {
     "data": {
      "text/plain": [
       "array([[3.2, 1. ],\n",
       "       [1. , 1.6]])"
      ]
     },
     "execution_count": 10,
     "metadata": {},
     "output_type": "execute_result"
    }
   ],
   "source": [
    "np.cov(xm, ddof = 0)"
   ]
  },
  {
   "cell_type": "code",
   "execution_count": null,
   "metadata": {},
   "outputs": [],
   "source": []
  },
  {
   "cell_type": "code",
   "execution_count": null,
   "metadata": {},
   "outputs": [],
   "source": []
  }
 ],
 "metadata": {
  "kernelspec": {
   "display_name": "Python 3",
   "language": "python",
   "name": "python3"
  },
  "language_info": {
   "codemirror_mode": {
    "name": "ipython",
    "version": 3
   },
   "file_extension": ".py",
   "mimetype": "text/x-python",
   "name": "python",
   "nbconvert_exporter": "python",
   "pygments_lexer": "ipython3",
   "version": "3.8.5"
  }
 },
 "nbformat": 4,
 "nbformat_minor": 4
}
