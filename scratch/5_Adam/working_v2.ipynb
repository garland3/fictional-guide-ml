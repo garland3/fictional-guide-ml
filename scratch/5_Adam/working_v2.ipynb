{
 "cells": [
  {
   "cell_type": "markdown",
   "metadata": {},
   "source": [
    "# Goal\n",
    "* Model data using an MLP\n",
    "* Use the torch optimizer Adam instead of our simple optimizer we used in past videos. "
   ]
  },
  {
   "cell_type": "code",
   "execution_count": 173,
   "metadata": {},
   "outputs": [],
   "source": [
    "import torch\n",
    "import torch.nn as nn\n",
    "import torch.nn.functional as F\n",
    "import matplotlib.pyplot as plt"
   ]
  },
  {
   "cell_type": "code",
   "execution_count": 174,
   "metadata": {},
   "outputs": [],
   "source": [
    "%matplotlib inline"
   ]
  },
  {
   "cell_type": "code",
   "execution_count": 175,
   "metadata": {},
   "outputs": [],
   "source": [
    "def mish(input):\n",
    "    return input * torch.tanh(F.softplus(input))\n",
    "\n",
    "class Mish(nn.Module):\n",
    "    def __init__(self):\n",
    "        super().__init__()\n",
    "        \n",
    "    def forward(self, _input):\n",
    "        return mish(_input)\n",
    "    \n",
    "def make_batch(x): return x[:,None]\n",
    "\n",
    "def debatch(x, detach = True):\n",
    "    x =  x.squeeze()\n",
    "    if detach: x = x.detach()\n",
    "    return x\n",
    "\n",
    "def make_mlp(n = 20, layers_count = 3, act = Mish):\n",
    "    layers = []\n",
    "    layers.append(nn.Linear(1,n))\n",
    "    layers.append(act())\n",
    "    for i in range(layers_count -2):\n",
    "        layers.append(nn.Linear(n,n))\n",
    "        layers.append(act())\n",
    "    layers.append(nn.Linear(n,1))\n",
    "    mlp = nn.Sequential(*layers)\n",
    "    return mlp\n",
    "\n",
    "class Stepper:\n",
    "    clear_grad = True\n",
    "    def __call__(self,my_mlp,xb, yb, lr = 1e-1):\n",
    "        yprime = my_mlp(xb)\n",
    "        loss = F.mse_loss(yb,yprime )\n",
    "        loss.backward()\n",
    "        for name, param in my_mlp.named_parameters():\n",
    "            param.data = param.data - param.grad*lr\n",
    "        if self.clear_grad: my_mlp.zero_grad()\n",
    "        self.yprime = yprime\n",
    "        return yprime.squeeze().detach()"
   ]
  },
  {
   "cell_type": "code",
   "execution_count": 176,
   "metadata": {},
   "outputs": [],
   "source": [
    "do_step = Stepper()"
   ]
  },
  {
   "cell_type": "code",
   "execution_count": 177,
   "metadata": {},
   "outputs": [],
   "source": [
    "x = torch.linspace(-1,1, 50)"
   ]
  },
  {
   "cell_type": "code",
   "execution_count": null,
   "metadata": {},
   "outputs": [],
   "source": [
    "from math import pi\n",
    "\n",
    "# x = torch.linspace(-pi, pi, 100)\n",
    "# yv  = torch.sin(2*pi*x)\n",
    "yv = (x+0.2)*(x-0.9)*torch.sin(math.pi*2*x)\n",
    "plt.plot(x,yv)\n",
    "plt.grid()"
   ]
  },
  {
   "cell_type": "code",
   "execution_count": 178,
   "metadata": {},
   "outputs": [],
   "source": [
    "def my_fun(x):\n",
    "    num = x**2 \n",
    "    den = (x+0.2)*(x-0.9)*torch.sin(6*x)\n",
    "    y = num/den\n",
    "    \n",
    "#     y = x**2\n",
    "#     dydx = 2*x\n",
    "#     d2yd2x = x*0+2\n",
    "    return y"
   ]
  },
  {
   "cell_type": "code",
   "execution_count": 179,
   "metadata": {},
   "outputs": [],
   "source": [
    "y = my_fun(x)"
   ]
  },
  {
   "cell_type": "code",
   "execution_count": 180,
   "metadata": {},
   "outputs": [
    {
     "data": {
      "text/plain": [
       "(-10.0, 10.0)"
      ]
     },
     "execution_count": 180,
     "metadata": {},
     "output_type": "execute_result"
    },
    {
     "data": {
      "image/png": "[encoded data removed]",
      "text/plain": [
       "<Figure size 432x288 with 1 Axes>"
      ]
     },
     "metadata": {
      "needs_background": "light"
     },
     "output_type": "display_data"
    }
   ],
   "source": [
    "plt.plot(x,y, \"rd-\")\n",
    "plt.ylim([-10,10])"
   ]
  },
  {
   "cell_type": "code",
   "execution_count": 181,
   "metadata": {},
   "outputs": [],
   "source": [
    "xb, yb = [make_batch(z) for z in [x,y]]"
   ]
  },
  {
   "cell_type": "code",
   "execution_count": 182,
   "metadata": {},
   "outputs": [],
   "source": [
    "mlp = make_mlp(act = Mish)"
   ]
  },
  {
   "cell_type": "code",
   "execution_count": 183,
   "metadata": {},
   "outputs": [],
   "source": [
    "yprime_mlp = mlp(xb)"
   ]
  },
  {
   "cell_type": "code",
   "execution_count": 184,
   "metadata": {},
   "outputs": [],
   "source": [
    "# yprime_debatch_mlp = debatch(yprime_mlp)\n",
    "\n",
    "# plt.plot(x,y, \"rd-\", label = \"true\")\n",
    "# plt.plot(x,yprime_debatch_mlp, \"gs-\", label = \"MLP\")\n",
    "# plt.ylim([-10,10])"
   ]
  },
  {
   "cell_type": "code",
   "execution_count": 185,
   "metadata": {},
   "outputs": [],
   "source": [
    "for i in range(1000):\n",
    "    yprime_debatch_mlp = do_step(mlp, xb, yb, lr = 3e-2)"
   ]
  },
  {
   "cell_type": "code",
   "execution_count": 186,
   "metadata": {},
   "outputs": [
    {
     "data": {
      "text/plain": [
       "(-30.0, 30.0)"
      ]
     },
     "execution_count": 186,
     "metadata": {},
     "output_type": "execute_result"
    },
    {
     "data": {
      "image/png": "[encoded data removed]",
      "text/plain": [
       "<Figure size 432x288 with 1 Axes>"
      ]
     },
     "metadata": {
      "needs_background": "light"
     },
     "output_type": "display_data"
    }
   ],
   "source": [
    "plt.plot(x,y, \"rd-\", label = \"true\")\n",
    "plt.plot(x,yprime_debatch_mlp, \"gs-\", label = \"MLP\")\n",
    "plt.legend()\n",
    "r = 30\n",
    "plt.ylim([-r,r])"
   ]
  },
  {
   "cell_type": "code",
   "execution_count": 187,
   "metadata": {},
   "outputs": [],
   "source": [
    "# xb.requires_grad = True\n",
    "# yprime = mlp(xb)\n",
    "\n",
    "# dydx = torch.autograd.grad(yprime.sum(), xb, create_graph=True)[0]\n",
    "\n",
    "# d2yd2x = torch.autograd.grad(dydx.sum(), xb, create_graph=True)[0]\n",
    "\n",
    "# # y, dydx_analytical, d2yd2x_analytical \n",
    "\n",
    "\n",
    "\n",
    "# plt.plot(x,dydx_analytical, \"rd-\", label = \"true dy/dx\")\n",
    "# plt.plot(x,debatch(dydx), \"gs-\", label = \"MLP dy/dx\")\n",
    "# plt.legend()\n",
    "\n",
    "# plt.plot(x,d2yd2x_analytical, \"rd-\", label = \"true d2y/d2x\")\n",
    "# plt.plot(x,debatch(d2yd2x), \"gs-\", label = \"MLP d2y/d2x\")\n",
    "# plt.legend()"
   ]
  },
  {
   "cell_type": "code",
   "execution_count": 188,
   "metadata": {},
   "outputs": [],
   "source": [
    "from  fastcore.basics import *\n",
    "from torch.optim import Adam"
   ]
  },
  {
   "cell_type": "code",
   "execution_count": 189,
   "metadata": {},
   "outputs": [],
   "source": [
    "class Stepper_v2:\n",
    "    \"\"\"Uses Adam optimizer rather than just SGD. Adam is much better. \"\"\"\n",
    "    def __init__(self, my_mlp, xb, yb, lr = 0.001):\n",
    "        store_attr(\"my_mlp, xb, yb, lr\")\n",
    "        \n",
    "    def do_epochs(self, epochs, lr = None):\n",
    "        lr = self.lr if lr is None else lr\n",
    "        self.optimizer = Adam(self.my_mlp.parameters(), lr = lr)\n",
    "        self.loss_list = []\n",
    "        for i in range(epochs):\n",
    "            self.optimizer.zero_grad()\n",
    "            self.yprime = self.my_mlp(self.xb)\n",
    "            self.loss = F.mse_loss(self.yb,self.yprime )\n",
    "            self.loss.backward()\n",
    "            self.optimizer.step()\n",
    "            self.loss_list.append(self.loss.detach())\n",
    "            \n",
    "   "
   ]
  },
  {
   "cell_type": "code",
   "execution_count": 190,
   "metadata": {},
   "outputs": [],
   "source": [
    "mlp = make_mlp(act = Mish)"
   ]
  },
  {
   "cell_type": "code",
   "execution_count": 191,
   "metadata": {},
   "outputs": [],
   "source": [
    "stepper = Stepper_v2(mlp, xb, yb, lr = 3e-2)"
   ]
  },
  {
   "cell_type": "code",
   "execution_count": 192,
   "metadata": {},
   "outputs": [],
   "source": [
    "stepper.do_epochs(1000)"
   ]
  },
  {
   "cell_type": "code",
   "execution_count": 193,
   "metadata": {},
   "outputs": [
    {
     "data": {
      "image/png": "[encoded data removed]",
      "text/plain": [
       "<Figure size 576x288 with 2 Axes>"
      ]
     },
     "metadata": {
      "needs_background": "light"
     },
     "output_type": "display_data"
    }
   ],
   "source": [
    "yprime_out = debatch( stepper.yprime.detach())\n",
    "\n",
    "fig, ax  = plt.subplots(1,2, figsize = (8,4))\n",
    "\n",
    "r = 30\n",
    "for i, (y_from_model, title) in enumerate(zip([yprime_out, yprime_debatch_mlp], ['Adam', \"Grad Descent\"])):\n",
    "    ax[i].plot(x,y, \"rd-\", label = \"true\")\n",
    "    ax[i].plot(x,y_from_model, \"gs-\", label = \"MLP\")\n",
    "    ax[i].legend()\n",
    "    ax[i].set_ylim([-r,r])\n",
    "    ax[i].set_title(title)\n",
    "\n",
    "# ax[0].plot(x,y, \"rd-\", label = \"true\")\n",
    "# ax[0].plot(x,yprime_out, \"gs-\", label = \"MLP\")\n",
    "# ax[0].legend()\n",
    "# r = 30\n",
    "# ax[0].set_ylim([-r,r])\n",
    "# ax[0].set_title(\"Adam\")"
   ]
  },
  {
   "cell_type": "code",
   "execution_count": null,
   "metadata": {},
   "outputs": [],
   "source": []
  },
  {
   "cell_type": "code",
   "execution_count": null,
   "metadata": {},
   "outputs": [],
   "source": []
  }
 ],
 "metadata": {
  "kernelspec": {
   "display_name": "tutorial3",
   "language": "python",
   "name": "tutorial3"
  },
  "language_info": {
   "codemirror_mode": {
    "name": "ipython",
    "version": 3
   },
   "file_extension": ".py",
   "mimetype": "text/x-python",
   "name": "python",
   "nbconvert_exporter": "python",
   "pygments_lexer": "ipython3",
   "version": "3.8.12"
  }
 },
 "nbformat": 4,
 "nbformat_minor": 4
}
