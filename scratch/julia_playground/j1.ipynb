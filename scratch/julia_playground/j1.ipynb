{
 "cells": [
  {
   "cell_type": "markdown",
   "metadata": {},
   "source": [
    "# Julia kernel\n",
    "* Reading `Julia 1.0 Programming - Second Edition`"
   ]
  },
  {
   "cell_type": "code",
   "execution_count": 51,
   "metadata": {},
   "outputs": [
    {
     "data": {
      "text/plain": [
       "10"
      ]
     },
     "execution_count": 51,
     "metadata": {},
     "output_type": "execute_result"
    }
   ],
   "source": [
    "x = 10"
   ]
  },
  {
   "cell_type": "code",
   "execution_count": 52,
   "metadata": {},
   "outputs": [
    {
     "data": {
      "text/plain": [
       "10"
      ]
     },
     "execution_count": 52,
     "metadata": {},
     "output_type": "execute_result"
    }
   ],
   "source": [
    "x"
   ]
  },
  {
   "cell_type": "code",
   "execution_count": 53,
   "metadata": {},
   "outputs": [
    {
     "data": {
      "text/plain": [
       "11"
      ]
     },
     "execution_count": 53,
     "metadata": {},
     "output_type": "execute_result"
    }
   ],
   "source": [
    "x+1"
   ]
  },
  {
   "cell_type": "code",
   "execution_count": 54,
   "metadata": {},
   "outputs": [
    {
     "data": {
      "text/plain": [
       "\"my string\""
      ]
     },
     "execution_count": 54,
     "metadata": {},
     "output_type": "execute_result"
    }
   ],
   "source": [
    "x = \"my string\""
   ]
  },
  {
   "cell_type": "code",
   "execution_count": 55,
   "metadata": {},
   "outputs": [
    {
     "data": {
      "text/plain": [
       "\"my string\""
      ]
     },
     "execution_count": 55,
     "metadata": {},
     "output_type": "execute_result"
    }
   ],
   "source": [
    "x"
   ]
  },
  {
   "cell_type": "code",
   "execution_count": 56,
   "metadata": {},
   "outputs": [
    {
     "data": {
      "text/plain": [
       "π = 3.1415926535897..."
      ]
     },
     "execution_count": 56,
     "metadata": {},
     "output_type": "execute_result"
    }
   ],
   "source": [
    "pi"
   ]
  },
  {
   "cell_type": "markdown",
   "metadata": {},
   "source": [
    "Make a function"
   ]
  },
  {
   "cell_type": "code",
   "execution_count": 57,
   "metadata": {},
   "outputs": [
    {
     "data": {
      "text/plain": [
       "f (generic function with 1 method)"
      ]
     },
     "execution_count": 57,
     "metadata": {},
     "output_type": "execute_result"
    }
   ],
   "source": [
    "f(x) = 2x+5"
   ]
  },
  {
   "cell_type": "markdown",
   "metadata": {},
   "source": [
    "Test it"
   ]
  },
  {
   "cell_type": "code",
   "execution_count": 58,
   "metadata": {},
   "outputs": [
    {
     "data": {
      "text/plain": [
       "11"
      ]
     },
     "execution_count": 58,
     "metadata": {},
     "output_type": "execute_result"
    }
   ],
   "source": [
    "f(3)\n"
   ]
  },
  {
   "cell_type": "markdown",
   "metadata": {},
   "source": [
    "See the LLVM code that represents the actual function"
   ]
  },
  {
   "cell_type": "code",
   "execution_count": 59,
   "metadata": {},
   "outputs": [
    {
     "name": "stdout",
     "output_type": "stream",
     "text": [
      "\n",
      "; Function f\n",
      "; Location: In[57]:1\n",
      "; Function Attrs: uwtable\n",
      "define i64 @julia_f_36148(i64) #0 {\n",
      "top:\n",
      "; Function *; {\n",
      "; Location: int.jl:54\n",
      "  %1 = shl i64 %0, 1\n",
      ";}\n",
      "; Function +; {\n",
      "; Location: int.jl:53\n",
      "  %2 = add i64 %1, 5\n",
      ";}\n",
      "  ret i64 %2\n",
      "}\n"
     ]
    }
   ],
   "source": [
    "code_llvm(f, (Int64,)) \n"
   ]
  },
  {
   "cell_type": "markdown",
   "metadata": {},
   "source": [
    "See assembly code for the function"
   ]
  },
  {
   "cell_type": "code",
   "execution_count": 60,
   "metadata": {},
   "outputs": [
    {
     "name": "stdout",
     "output_type": "stream",
     "text": [
      "\t.text\n",
      "; Function f {\n",
      "; Location: In[57]:1\n",
      "\tpushq\t%rbp\n",
      "\tmovq\t%rsp, %rbp\n",
      "; Function +; {\n",
      "; Location: int.jl:53\n",
      "\tleaq\t(%rcx,%rcx), %rax\n",
      "\taddq\t$5, %rax\n",
      ";}\n",
      "\tpopq\t%rbp\n",
      "\tretq\n",
      "\tnop\n",
      ";}\n"
     ]
    }
   ],
   "source": [
    "code_native(f, (Int64,)) "
   ]
  },
  {
   "cell_type": "code",
   "execution_count": 61,
   "metadata": {},
   "outputs": [
    {
     "name": "stdout",
     "output_type": "stream",
     "text": [
      "\t.text\n",
      "; Function f {\n",
      "; Location: In[57]:1\n",
      "\tpushq\t%rbp\n",
      "\tmovq\t%rsp, %rbp\n",
      "; Function *; {\n",
      "; Location: promotion.jl:314\n",
      "; Function *; {\n",
      "; Location: float.jl:399\n",
      "\tvaddsd\t%xmm0, %xmm0, %xmm0\n",
      "\tmovabsq\t$333531064, %rax        # imm = 0x13E147B8\n",
      ";}}\n",
      "; Function +; {\n",
      "; Location: promotion.jl:313\n",
      "; Function +; {\n",
      "; Location: float.jl:395\n",
      "\tvaddsd\t(%rax), %xmm0, %xmm0\n",
      ";}}\n",
      "\tpopq\t%rbp\n",
      "\tretq\n",
      "\tnopl\t(%rax,%rax)\n",
      ";}\n"
     ]
    }
   ],
   "source": [
    "code_native(f, (Float64,))"
   ]
  },
  {
   "cell_type": "code",
   "execution_count": 62,
   "metadata": {},
   "outputs": [
    {
     "data": {
      "text/plain": [
       "66"
      ]
     },
     "execution_count": 62,
     "metadata": {},
     "output_type": "execute_result"
    }
   ],
   "source": [
    "y = 66"
   ]
  },
  {
   "cell_type": "code",
   "execution_count": 63,
   "metadata": {},
   "outputs": [
    {
     "data": {
      "text/plain": [
       "Int64"
      ]
     },
     "execution_count": 63,
     "metadata": {},
     "output_type": "execute_result"
    }
   ],
   "source": [
    "typeof(y)"
   ]
  },
  {
   "cell_type": "markdown",
   "metadata": {},
   "source": [
    "Double quotes = string"
   ]
  },
  {
   "cell_type": "code",
   "execution_count": 64,
   "metadata": {},
   "outputs": [
    {
     "data": {
      "text/plain": [
       "\"h\""
      ]
     },
     "execution_count": 64,
     "metadata": {},
     "output_type": "execute_result"
    }
   ],
   "source": [
    "z = \"h\""
   ]
  },
  {
   "cell_type": "code",
   "execution_count": 65,
   "metadata": {},
   "outputs": [
    {
     "data": {
      "text/plain": [
       "String"
      ]
     },
     "execution_count": 65,
     "metadata": {},
     "output_type": "execute_result"
    }
   ],
   "source": [
    "typeof(z)"
   ]
  },
  {
   "cell_type": "markdown",
   "metadata": {},
   "source": [
    "single quote = char"
   ]
  },
  {
   "cell_type": "code",
   "execution_count": 66,
   "metadata": {},
   "outputs": [
    {
     "data": {
      "text/plain": [
       "'a': ASCII/Unicode U+0061 (category Ll: Letter, lowercase)"
      ]
     },
     "execution_count": 66,
     "metadata": {},
     "output_type": "execute_result"
    }
   ],
   "source": [
    "a = 'a'"
   ]
  },
  {
   "cell_type": "code",
   "execution_count": 67,
   "metadata": {},
   "outputs": [
    {
     "data": {
      "text/plain": [
       "Char"
      ]
     },
     "execution_count": 67,
     "metadata": {},
     "output_type": "execute_result"
    }
   ],
   "source": [
    "typeof(a)"
   ]
  },
  {
   "cell_type": "markdown",
   "metadata": {},
   "source": [
    "Julia tries to guess the type and won't allow some operations if types are mismatched"
   ]
  },
  {
   "cell_type": "code",
   "execution_count": 68,
   "metadata": {},
   "outputs": [],
   "source": [
    "# y+z"
   ]
  },
  {
   "cell_type": "code",
   "execution_count": 69,
   "metadata": {},
   "outputs": [],
   "source": [
    "# this is a comment"
   ]
  },
  {
   "cell_type": "code",
   "execution_count": 70,
   "metadata": {},
   "outputs": [
    {
     "data": {
      "text/plain": [
       "12.3"
      ]
     },
     "execution_count": 70,
     "metadata": {},
     "output_type": "execute_result"
    }
   ],
   "source": [
    "#= multi line\n",
    "comment with amperstan and equals\n",
    "last line =#\n",
    "b = 12.3"
   ]
  },
  {
   "cell_type": "code",
   "execution_count": 71,
   "metadata": {},
   "outputs": [
    {
     "data": {
      "text/plain": [
       "Float64"
      ]
     },
     "execution_count": 71,
     "metadata": {},
     "output_type": "execute_result"
    }
   ],
   "source": [
    "typeof(b)"
   ]
  },
  {
   "cell_type": "code",
   "execution_count": 72,
   "metadata": {},
   "outputs": [
    {
     "name": "stdout",
     "output_type": "stream",
     "text": [
      "12.3"
     ]
    }
   ],
   "source": [
    "print(b)"
   ]
  },
  {
   "cell_type": "markdown",
   "metadata": {},
   "source": [
    "Fancy print "
   ]
  },
  {
   "cell_type": "code",
   "execution_count": 73,
   "metadata": {},
   "outputs": [
    {
     "name": "stdout",
     "output_type": "stream",
     "text": [
      "\u001b[31m12.3\u001b[39m"
     ]
    }
   ],
   "source": [
    "printstyled(b,color=:red)"
   ]
  },
  {
   "cell_type": "code",
   "execution_count": 74,
   "metadata": {},
   "outputs": [
    {
     "data": {
      "text/plain": [
       "calc_dist (generic function with 1 method)"
      ]
     },
     "execution_count": 74,
     "metadata": {},
     "output_type": "execute_result"
    }
   ],
   "source": [
    "function calc_dist(x1::Float64, x2::Float64)\n",
    "    print(\"x1 is $x1 and x2 is $x2\")\n",
    "    return abs(x1 - x2)\n",
    "\n",
    "end"
   ]
  },
  {
   "cell_type": "code",
   "execution_count": 75,
   "metadata": {},
   "outputs": [
    {
     "name": "stdout",
     "output_type": "stream",
     "text": [
      "x1 is 1.0 and x2 is 2.0"
     ]
    },
    {
     "data": {
      "text/plain": [
       "1.0"
      ]
     },
     "execution_count": 75,
     "metadata": {},
     "output_type": "execute_result"
    }
   ],
   "source": [
    "calc_dist(1.,2.)"
   ]
  },
  {
   "cell_type": "markdown",
   "metadata": {},
   "source": [
    "Show a bit string representation"
   ]
  },
  {
   "cell_type": "code",
   "execution_count": 76,
   "metadata": {},
   "outputs": [
    {
     "data": {
      "text/plain": [
       "\"0100000100000001000101110000000000000000000000000000000000000000\""
      ]
     },
     "execution_count": 76,
     "metadata": {},
     "output_type": "execute_result"
    }
   ],
   "source": [
    "bitstring(1.4e5)"
   ]
  },
  {
   "cell_type": "code",
   "execution_count": 77,
   "metadata": {},
   "outputs": [
    {
     "data": {
      "text/plain": [
       "true"
      ]
     },
     "execution_count": 77,
     "metadata": {},
     "output_type": "execute_result"
    }
   ],
   "source": [
    "d = true"
   ]
  },
  {
   "cell_type": "code",
   "execution_count": 78,
   "metadata": {},
   "outputs": [
    {
     "data": {
      "text/plain": [
       "false"
      ]
     },
     "execution_count": 78,
     "metadata": {},
     "output_type": "execute_result"
    }
   ],
   "source": [
    "e = false"
   ]
  },
  {
   "cell_type": "markdown",
   "metadata": {},
   "source": [
    "Boolean AND or OR"
   ]
  },
  {
   "cell_type": "code",
   "execution_count": 79,
   "metadata": {},
   "outputs": [
    {
     "name": "stdout",
     "output_type": "stream",
     "text": [
      "false\n",
      "true"
     ]
    }
   ],
   "source": [
    "println(d && e)\n",
    "print(d || e)"
   ]
  },
  {
   "cell_type": "code",
   "execution_count": 80,
   "metadata": {},
   "outputs": [
    {
     "data": {
      "text/plain": [
       "\"My string\""
      ]
     },
     "execution_count": 80,
     "metadata": {},
     "output_type": "execute_result"
    }
   ],
   "source": [
    "mystring = \"My string\""
   ]
  },
  {
   "cell_type": "markdown",
   "metadata": {},
   "source": [
    "Get the char value at some location in a string"
   ]
  },
  {
   "cell_type": "code",
   "execution_count": 81,
   "metadata": {},
   "outputs": [
    {
     "data": {
      "text/plain": [
       "' ': ASCII/Unicode U+0020 (category Zs: Separator, space)"
      ]
     },
     "execution_count": 81,
     "metadata": {},
     "output_type": "execute_result"
    }
   ],
   "source": [
    "mystring[3]"
   ]
  },
  {
   "cell_type": "code",
   "execution_count": 82,
   "metadata": {},
   "outputs": [
    {
     "name": "stdout",
     "output_type": "stream",
     "text": [
      "-M-y- -s-t-r-i-n-g"
     ]
    }
   ],
   "source": [
    "# loop over a string\n",
    "for c in mystring\n",
    "    print(\"-$c\")\n",
    "end"
   ]
  },
  {
   "cell_type": "code",
   "execution_count": 83,
   "metadata": {},
   "outputs": [
    {
     "name": "stdout",
     "output_type": "stream",
     "text": [
      "My \n"
     ]
    }
   ],
   "source": [
    "start = mystring[1:3] # note: start at 1 for strings. \n",
    "println(start)"
   ]
  },
  {
   "cell_type": "code",
   "execution_count": 85,
   "metadata": {},
   "outputs": [
    {
     "name": "stdout",
     "output_type": "stream",
     "text": [
      "_1_2_3_4_5_6_7_8_9_10_11_12_13_14_15_16_17_18_19_20_21_22_23_24_25_26_27_28_29_30_31_32_33_34_35_36_37_38_39_40_41_42_43_44_45_46_47_48_49_50_51_52_53_54_55_56_57_58_59_60_61_62_63_64_65_66_67_68_69_70_71_72_73_74_75_76_77_78_79_80_81_82_83_84_85_86_87_88_89_90_91_92_93_94_95_96_97_98_99_100"
     ]
    }
   ],
   "source": [
    "for i in 1:100\n",
    "    print(\"_$i\")\n",
    "end"
   ]
  },
  {
   "cell_type": "code",
   "execution_count": 89,
   "metadata": {},
   "outputs": [
    {
     "data": {
      "text/plain": [
       "3-element Array{Int64,1}:\n",
       " 4\n",
       " 5\n",
       " 6"
      ]
     },
     "execution_count": 89,
     "metadata": {},
     "output_type": "execute_result"
    }
   ],
   "source": [
    "vector = [1,2,3]\n",
    "vector2 = [4,5,6]"
   ]
  },
  {
   "cell_type": "code",
   "execution_count": 87,
   "metadata": {},
   "outputs": [
    {
     "data": {
      "text/plain": [
       "Array{Int64,1}"
      ]
     },
     "execution_count": 87,
     "metadata": {},
     "output_type": "execute_result"
    }
   ],
   "source": [
    "typeof(vector)"
   ]
  },
  {
   "cell_type": "code",
   "execution_count": 91,
   "metadata": {},
   "outputs": [
    {
     "data": {
      "text/plain": [
       "3-element Array{Int64,1}:\n",
       " 5\n",
       " 7\n",
       " 9"
      ]
     },
     "execution_count": 91,
     "metadata": {},
     "output_type": "execute_result"
    }
   ],
   "source": [
    "vector3 = vector+vector2"
   ]
  },
  {
   "cell_type": "code",
   "execution_count": 92,
   "metadata": {},
   "outputs": [
    {
     "data": {
      "text/plain": [
       "7-element Array{Int64,1}:\n",
       " 1\n",
       " 2\n",
       " 3\n",
       " 4\n",
       " 5\n",
       " 6\n",
       " 7"
      ]
     },
     "execution_count": 92,
     "metadata": {},
     "output_type": "execute_result"
    }
   ],
   "source": [
    "arr4 = collect(1:7)"
   ]
  },
  {
   "cell_type": "code",
   "execution_count": 94,
   "metadata": {},
   "outputs": [
    {
     "data": {
      "text/plain": [
       "8-element Array{Int64,1}:\n",
       " 1\n",
       " 2\n",
       " 3\n",
       " 4\n",
       " 5\n",
       " 6\n",
       " 7\n",
       " 1"
      ]
     },
     "execution_count": 94,
     "metadata": {},
     "output_type": "execute_result"
    }
   ],
   "source": [
    "push!(arr4,1)"
   ]
  },
  {
   "cell_type": "code",
   "execution_count": 96,
   "metadata": {},
   "outputs": [
    {
     "data": {
      "text/plain": [
       "Int64"
      ]
     },
     "execution_count": 96,
     "metadata": {},
     "output_type": "execute_result"
    }
   ],
   "source": [
    "eltype(arr4)"
   ]
  },
  {
   "cell_type": "code",
   "execution_count": 97,
   "metadata": {},
   "outputs": [
    {
     "data": {
      "text/plain": [
       "8"
      ]
     },
     "execution_count": 97,
     "metadata": {},
     "output_type": "execute_result"
    }
   ],
   "source": [
    "length(arr4)"
   ]
  },
  {
   "cell_type": "code",
   "execution_count": 98,
   "metadata": {},
   "outputs": [
    {
     "data": {
      "text/plain": [
       "1"
      ]
     },
     "execution_count": 98,
     "metadata": {},
     "output_type": "execute_result"
    }
   ],
   "source": [
    "ndims(arr4)"
   ]
  },
  {
   "cell_type": "code",
   "execution_count": 99,
   "metadata": {},
   "outputs": [
    {
     "data": {
      "text/plain": [
       "\"1, 2, 3, 4, 5, 6, 7, 1\""
      ]
     },
     "execution_count": 99,
     "metadata": {},
     "output_type": "execute_result"
    }
   ],
   "source": [
    "join(arr4, \", \")"
   ]
  },
  {
   "cell_type": "code",
   "execution_count": 100,
   "metadata": {},
   "outputs": [
    {
     "data": {
      "text/plain": [
       "3-element Array{Int64,1}:\n",
       " 3\n",
       " 4\n",
       " 5"
      ]
     },
     "execution_count": 100,
     "metadata": {},
     "output_type": "execute_result"
    }
   ],
   "source": [
    "arr4[3:5]"
   ]
  },
  {
   "cell_type": "code",
   "execution_count": 101,
   "metadata": {},
   "outputs": [
    {
     "data": {
      "text/plain": [
       "3×4 Array{Float64,2}:\n",
       " 0.0  0.0  0.0  0.0\n",
       " 0.0  0.0  0.0  0.0\n",
       " 0.0  0.0  0.0  0.0"
      ]
     },
     "execution_count": 101,
     "metadata": {},
     "output_type": "execute_result"
    }
   ],
   "source": [
    "arr5 = zeros(3,4)"
   ]
  },
  {
   "cell_type": "code",
   "execution_count": 103,
   "metadata": {},
   "outputs": [
    {
     "data": {
      "text/plain": [
       "0:2:198"
      ]
     },
     "execution_count": 103,
     "metadata": {},
     "output_type": "execute_result"
    }
   ],
   "source": [
    "vector5 = range(0,step = 2, length=100)"
   ]
  },
  {
   "cell_type": "code",
   "execution_count": 105,
   "metadata": {},
   "outputs": [
    {
     "name": "stdout",
     "output_type": "stream",
     "text": [
      "_0_2_4_6_8_10_12_14_16_18_20_22_24_26_28_30_32_34_36_38_40_42_44_46_48_50_52_54_56_58_60_62_64_66_68_70_72_74_76_78_80_82_84_86_88_90_92_94_96_98_100_102_104_106_108_110_112_114_116_118_120_122_124_126_128_130_132_134_136_138_140_142_144_146_148_150_152_154_156_158_160_162_164_166_168_170_172_174_176_178_180_182_184_186_188_190_192_194_196_198"
     ]
    }
   ],
   "source": [
    "for v in vector5\n",
    "    print(\"_$v\")\n",
    "end"
   ]
  },
  {
   "cell_type": "code",
   "execution_count": 107,
   "metadata": {},
   "outputs": [
    {
     "data": {
      "text/plain": [
       "3×4 Array{Float64,2}:\n",
       " 5.0  5.0  5.0  5.0\n",
       " 5.0  5.0  5.0  5.0\n",
       " 5.0  5.0  5.0  5.0"
      ]
     },
     "execution_count": 107,
     "metadata": {},
     "output_type": "execute_result"
    }
   ],
   "source": [
    "fill!(arr5, 5)"
   ]
  },
  {
   "cell_type": "code",
   "execution_count": 109,
   "metadata": {},
   "outputs": [
    {
     "data": {
      "text/plain": [
       "5-element Array{Float32,1}:\n",
       " 0.97258556\n",
       " 0.16783202\n",
       " 0.42016268\n",
       " 0.60471106\n",
       " 0.15195227"
      ]
     },
     "execution_count": 109,
     "metadata": {},
     "output_type": "execute_result"
    }
   ],
   "source": [
    "vector_r = rand(Float32, 5)"
   ]
  },
  {
   "cell_type": "code",
   "execution_count": 110,
   "metadata": {},
   "outputs": [
    {
     "data": {
      "text/plain": [
       "3-element Array{Int64,1}:\n",
       " 2\n",
       " 3\n",
       " 4"
      ]
     },
     "execution_count": 110,
     "metadata": {},
     "output_type": "execute_result"
    }
   ],
   "source": [
    "a = [1,2,3]\n",
    "b = [2,3,4]\n",
    "# append"
   ]
  },
  {
   "cell_type": "markdown",
   "metadata": {},
   "source": [
    "Add to an vector/array"
   ]
  },
  {
   "cell_type": "code",
   "execution_count": 112,
   "metadata": {},
   "outputs": [
    {
     "data": {
      "text/plain": [
       "6-element Array{Int64,1}:\n",
       " 1\n",
       " 2\n",
       " 3\n",
       " 2\n",
       " 3\n",
       " 4"
      ]
     },
     "execution_count": 112,
     "metadata": {},
     "output_type": "execute_result"
    }
   ],
   "source": [
    "append!(a,b)"
   ]
  },
  {
   "cell_type": "code",
   "execution_count": 113,
   "metadata": {},
   "outputs": [
    {
     "data": {
      "text/plain": [
       "4"
      ]
     },
     "execution_count": 113,
     "metadata": {},
     "output_type": "execute_result"
    }
   ],
   "source": [
    "pop!(a)"
   ]
  },
  {
   "cell_type": "code",
   "execution_count": 114,
   "metadata": {},
   "outputs": [
    {
     "data": {
      "text/plain": [
       "6-element Array{Int64,1}:\n",
       "  1\n",
       "  2\n",
       "  3\n",
       "  2\n",
       "  3\n",
       " 45"
      ]
     },
     "execution_count": 114,
     "metadata": {},
     "output_type": "execute_result"
    }
   ],
   "source": [
    "push!(a,45)"
   ]
  },
  {
   "cell_type": "code",
   "execution_count": 118,
   "metadata": {},
   "outputs": [
    {
     "data": {
      "text/plain": [
       "1"
      ]
     },
     "execution_count": 118,
     "metadata": {},
     "output_type": "execute_result"
    }
   ],
   "source": [
    "popfirst!(a)"
   ]
  },
  {
   "cell_type": "code",
   "execution_count": 119,
   "metadata": {},
   "outputs": [
    {
     "data": {
      "text/plain": [
       "5-element Array{Int64,1}:\n",
       "  2\n",
       "  3\n",
       "  2\n",
       "  3\n",
       " 45"
      ]
     },
     "execution_count": 119,
     "metadata": {},
     "output_type": "execute_result"
    }
   ],
   "source": [
    "a"
   ]
  },
  {
   "cell_type": "code",
   "execution_count": 120,
   "metadata": {},
   "outputs": [
    {
     "data": {
      "text/plain": [
       "6-element Array{Int64,1}:\n",
       " 23\n",
       "  2\n",
       "  3\n",
       "  2\n",
       "  3\n",
       " 45"
      ]
     },
     "execution_count": 120,
     "metadata": {},
     "output_type": "execute_result"
    }
   ],
   "source": [
    "pushfirst!(a,23)"
   ]
  },
  {
   "cell_type": "code",
   "execution_count": 121,
   "metadata": {},
   "outputs": [
    {
     "data": {
      "text/plain": [
       "true"
      ]
     },
     "execution_count": 121,
     "metadata": {},
     "output_type": "execute_result"
    }
   ],
   "source": [
    "in(23, a)"
   ]
  },
  {
   "cell_type": "code",
   "execution_count": 122,
   "metadata": {},
   "outputs": [
    {
     "data": {
      "text/plain": [
       "false"
      ]
     },
     "execution_count": 122,
     "metadata": {},
     "output_type": "execute_result"
    }
   ],
   "source": [
    "in(-1, a)"
   ]
  },
  {
   "cell_type": "code",
   "execution_count": 123,
   "metadata": {},
   "outputs": [
    {
     "data": {
      "text/plain": [
       "6-element Array{Int64,1}:\n",
       "  2\n",
       "  2\n",
       "  3\n",
       "  3\n",
       " 23\n",
       " 45"
      ]
     },
     "execution_count": 123,
     "metadata": {},
     "output_type": "execute_result"
    }
   ],
   "source": [
    "c = sort(a)"
   ]
  },
  {
   "cell_type": "markdown",
   "metadata": {},
   "source": [
    "# operations\n",
    "* put a dot in front of it"
   ]
  },
  {
   "cell_type": "code",
   "execution_count": 125,
   "metadata": {},
   "outputs": [
    {
     "data": {
      "text/plain": [
       "6-element Array{Int64,1}:\n",
       "  3\n",
       "  3\n",
       "  4\n",
       "  4\n",
       " 24\n",
       " 46"
      ]
     },
     "execution_count": 125,
     "metadata": {},
     "output_type": "execute_result"
    }
   ],
   "source": [
    "c .+ 1"
   ]
  },
  {
   "cell_type": "code",
   "execution_count": 126,
   "metadata": {},
   "outputs": [],
   "source": [
    "using LinearAlgebra"
   ]
  },
  {
   "cell_type": "code",
   "execution_count": 127,
   "metadata": {},
   "outputs": [
    {
     "data": {
      "text/plain": [
       "32"
      ]
     },
     "execution_count": 127,
     "metadata": {},
     "output_type": "execute_result"
    }
   ],
   "source": [
    "a = [1,2,3]\n",
    "b = [4,5,6]\n",
    "c = LinearAlgebra.dot(a,b)\n",
    "c"
   ]
  },
  {
   "cell_type": "code",
   "execution_count": 128,
   "metadata": {},
   "outputs": [
    {
     "data": {
      "text/plain": [
       "3-element Array{Int64,1}:\n",
       " 5\n",
       " 7\n",
       " 9"
      ]
     },
     "execution_count": 128,
     "metadata": {},
     "output_type": "execute_result"
    }
   ],
   "source": [
    "d = a .+ b\n",
    "d"
   ]
  },
  {
   "cell_type": "markdown",
   "metadata": {},
   "source": [
    "# Documentation for a type\n",
    "* Use `methodswith`"
   ]
  },
  {
   "cell_type": "code",
   "execution_count": 129,
   "metadata": {},
   "outputs": [
    {
     "data": {
      "text/html": [
       "47-element Array{Method,1}:<ul><li> copyto!<i>{T}</i>(dest::<b>Array{T,N} where N</b>, doffs::<b>Integer</b>, src::<b>Array{T,N} where N</b>, soffs::<b>Integer</b>, n::<b>Integer</b>) in Base at <a href=\"https://github.com/JuliaLang/julia/tree/3af96bcefcb0aec559d4652fd75e1bc3fcfe99da/base/array.jl#L269\" target=\"_blank\">array.jl:269</a><li> copyto!<i>{T}</i>(dest::<b>Array{T,N} where N</b>, src::<b>Array{T,N} where N</b>) in Base at <a href=\"https://github.com/JuliaLang/julia/tree/3af96bcefcb0aec559d4652fd75e1bc3fcfe99da/base/array.jl#L277\" target=\"_blank\">array.jl:277</a><li> copyto!(dest::<b>BitArray</b>, doffs::<b>Integer</b>, src::<b>Array</b>, soffs::<b>Integer</b>, n::<b>Integer</b>) in Base at <a href=\"https://github.com/JuliaLang/julia/tree/3af96bcefcb0aec559d4652fd75e1bc3fcfe99da/base/bitarray.jl#L428\" target=\"_blank\">bitarray.jl:428</a><li> copyto!(dest::<b>BitArray</b>, src::<b>Array</b>) in Base at <a href=\"https://github.com/JuliaLang/julia/tree/3af96bcefcb0aec559d4652fd75e1bc3fcfe99da/base/bitarray.jl#L437\" target=\"_blank\">bitarray.jl:437</a><li> copyto!(S::<b>SharedArrays.SharedArray</b>, A::<b>Array</b>) in SharedArrays at <a href=\"file://C:/cygwin/home/Administrator/buildbot/worker/package_win64/build/usr/share/julia/stdlib/v1.0/SharedArrays/src/SharedArrays.jl\" target=\"_blank\">C:\\cygwin\\home\\Administrator\\buildbot\\worker\\package_win64\\build\\usr\\share\\julia\\stdlib\\v1.0\\SharedArrays\\src\\SharedArrays.jl:577</a><li> +(A::<b>Array</b>, Bs::<b>Array...</b>) in Base at <a href=\"https://github.com/JuliaLang/julia/tree/3af96bcefcb0aec559d4652fd75e1bc3fcfe99da/base/arraymath.jl#L44\" target=\"_blank\">arraymath.jl:44</a><li> +(A::<b>Array</b>, B::<b>SparseArrays.SparseMatrixCSC</b>) in SparseArrays at <a href=\"file://C:/cygwin/home/Administrator/buildbot/worker/package_win64/build/usr/share/julia/stdlib/v1.0/SparseArrays/src/sparsematrix.jl\" target=\"_blank\">C:\\cygwin\\home\\Administrator\\buildbot\\worker\\package_win64\\build\\usr\\share\\julia\\stdlib\\v1.0\\SparseArrays\\src\\sparsematrix.jl:1584</a><li> +(A::<b>SparseArrays.SparseMatrixCSC</b>, B::<b>Array</b>) in SparseArrays at <a href=\"file://C:/cygwin/home/Administrator/buildbot/worker/package_win64/build/usr/share/julia/stdlib/v1.0/SparseArrays/src/sparsematrix.jl\" target=\"_blank\">C:\\cygwin\\home\\Administrator\\buildbot\\worker\\package_win64\\build\\usr\\share\\julia\\stdlib\\v1.0\\SparseArrays\\src\\sparsematrix.jl:1583</a><li> -(A::<b>SparseArrays.SparseMatrixCSC</b>, B::<b>Array</b>) in SparseArrays at <a href=\"file://C:/cygwin/home/Administrator/buildbot/worker/package_win64/build/usr/share/julia/stdlib/v1.0/SparseArrays/src/sparsematrix.jl\" target=\"_blank\">C:\\cygwin\\home\\Administrator\\buildbot\\worker\\package_win64\\build\\usr\\share\\julia\\stdlib\\v1.0\\SparseArrays\\src\\sparsematrix.jl:1585</a><li> -(A::<b>Array</b>, B::<b>SparseArrays.SparseMatrixCSC</b>) in SparseArrays at <a href=\"file://C:/cygwin/home/Administrator/buildbot/worker/package_win64/build/usr/share/julia/stdlib/v1.0/SparseArrays/src/sparsematrix.jl\" target=\"_blank\">C:\\cygwin\\home\\Administrator\\buildbot\\worker\\package_win64\\build\\usr\\share\\julia\\stdlib\\v1.0\\SparseArrays\\src\\sparsematrix.jl:1586</a><li> convert(T::<b>Type{#s546} where #s546<:SharedArrays.SharedArray</b>, a::<b>Array</b>) in SharedArrays at <a href=\"file://C:/cygwin/home/Administrator/buildbot/worker/package_win64/build/usr/share/julia/stdlib/v1.0/SharedArrays/src/SharedArrays.jl\" target=\"_blank\">C:\\cygwin\\home\\Administrator\\buildbot\\worker\\package_win64\\build\\usr\\share\\julia\\stdlib\\v1.0\\SharedArrays\\src\\SharedArrays.jl:359</a><li> copy<i>{T<:Array}</i>(a::<b>T</b>) in Base at <a href=\"https://github.com/JuliaLang/julia/tree/3af96bcefcb0aec559d4652fd75e1bc3fcfe99da/base/array.jl#L299\" target=\"_blank\">array.jl:299</a><li> dump(io::<b>IOContext</b>, x::<b>Array</b>, n::<b>Int64</b>, indent) in Base at <a href=\"https://github.com/JuliaLang/julia/tree/3af96bcefcb0aec559d4652fd75e1bc3fcfe99da/base/show.jl#L1656\" target=\"_blank\">show.jl:1656</a><li> fill!<i>{T}</i>(dest::<b>Array{T,N} where N</b>, x) in Base at <a href=\"https://github.com/JuliaLang/julia/tree/3af96bcefcb0aec559d4652fd75e1bc3fcfe99da/base/array.jl#L282\" target=\"_blank\">array.jl:282</a><li> getindex(A::<b>Array</b>, i1::<b>Int64</b>) in Base at <a href=\"https://github.com/JuliaLang/julia/tree/3af96bcefcb0aec559d4652fd75e1bc3fcfe99da/base/array.jl#L731\" target=\"_blank\">array.jl:731</a><li> getindex(A::<b>Array</b>, i1::<b>Int64</b>, i2::<b>Int64</b>, I::<b>Int64...</b>) in Base at <a href=\"https://github.com/JuliaLang/julia/tree/3af96bcefcb0aec559d4652fd75e1bc3fcfe99da/base/array.jl#L732\" target=\"_blank\">array.jl:732</a><li> getindex(A::<b>Array</b>, I::<b>UnitRange{Int64}</b>) in Base at <a href=\"https://github.com/JuliaLang/julia/tree/3af96bcefcb0aec559d4652fd75e1bc3fcfe99da/base/array.jl#L736\" target=\"_blank\">array.jl:736</a><li> getindex(A::<b>Array</b>, c::<b>Colon</b>) in Base at <a href=\"https://github.com/JuliaLang/julia/tree/3af96bcefcb0aec559d4652fd75e1bc3fcfe99da/base/array.jl#L746\" target=\"_blank\">array.jl:746</a><li> getindex<i>{S}</i>(A::<b>Array{S,N} where N</b>, I::<b>AbstractRange{Int64}</b>) in Base at <a href=\"https://github.com/JuliaLang/julia/tree/3af96bcefcb0aec559d4652fd75e1bc3fcfe99da/base/array.jl#L756\" target=\"_blank\">array.jl:756</a><li> getindex(A::<b>Array</b>, i1::<b>Union{Integer, CartesianIndex}</b>, I::<b>Union{Integer, CartesianIndex}...</b>) in Base at <a href=\"https://github.com/JuliaLang/julia/tree/3af96bcefcb0aec559d4652fd75e1bc3fcfe99da/base/multidimensional.jl#L412\" target=\"_blank\">multidimensional.jl:412</a><li> isassigned(a::<b>Array</b>, i::<b>Int64...</b>) in Base at <a href=\"https://github.com/JuliaLang/julia/tree/3af96bcefcb0aec559d4652fd75e1bc3fcfe99da/base/array.jl#L204\" target=\"_blank\">array.jl:204</a><li> iterate(A::<b>Array</b>) in Base at <a href=\"https://github.com/JuliaLang/julia/tree/3af96bcefcb0aec559d4652fd75e1bc3fcfe99da/base/array.jl#L707\" target=\"_blank\">array.jl:707</a><li> iterate(A::<b>Array</b>, i) in Base at <a href=\"https://github.com/JuliaLang/julia/tree/3af96bcefcb0aec559d4652fd75e1bc3fcfe99da/base/array.jl#L707\" target=\"_blank\">array.jl:707</a><li> length(a::<b>Array</b>) in Base at <a href=\"https://github.com/JuliaLang/julia/tree/3af96bcefcb0aec559d4652fd75e1bc3fcfe99da/base/array.jl#L199\" target=\"_blank\">array.jl:199</a><li> permutedims!<i>{T, N}</i>(P::<b>Array{T,N}</b>, B::<b>Union{DenseArray{T,N}, ReinterpretArray{T,N,S,A} where S where A<:Union{SubArray{T,N,A,I,true} where I<:Tuple{AbstractUnitRange,Vararg{Any,N} where N} where A<:DenseArray where N where T, DenseArray}, ReshapedArray{T,N,A,MI} where MI<:Tuple{Vararg{SignedMultiplicativeInverse{Int64},N} where N} where A<:Union{ReinterpretArray{T,N,S,A} where S where A<:Union{SubArray{T,N,A,I,true} where I<:Tuple{AbstractUnitRange,Vararg{Any,N} where N} where A<:DenseArray where N where T, DenseArray} where N where T, SubArray{T,N,A,I,true} where I<:Tuple{AbstractUnitRange,Vararg{Any,N} where N} where A<:DenseArray where N where T, DenseArray}, SubArray{T,N,A,I,L} where L where I<:Tuple{Vararg{Union{Int64, AbstractRange{Int64}, AbstractCartesianIndex},N} where N} where A<:Union{ReinterpretArray{T,N,S,A} where S where A<:Union{SubArray{T,N,A,I,true} where I<:Tuple{AbstractUnitRange,Vararg{Any,N} where N} where A<:DenseArray where N where T, DenseArray} where N where T, ReshapedArray{T,N,A,MI} where MI<:Tuple{Vararg{SignedMultiplicativeInverse{Int64},N} where N} where A<:Union{ReinterpretArray{T,N,S,A} where S where A<:Union{SubArray{T,N,A,I,true} where I<:Tuple{AbstractUnitRange,Vararg{Any,N} where N} where A<:DenseArray where N where T, DenseArray} where N where T, SubArray{T,N,A,I,true} where I<:Tuple{AbstractUnitRange,Vararg{Any,N} where N} where A<:DenseArray where N where T, DenseArray} where N where T, DenseArray}}</b>, perm) in Base at <a href=\"https://github.com/JuliaLang/julia/tree/3af96bcefcb0aec559d4652fd75e1bc3fcfe99da/base/multidimensional.jl#L1281\" target=\"_blank\">multidimensional.jl:1281</a><li> read!<i>{T}</i>(s::<b>IO</b>, a::<b>Array{T,N} where N</b>) in Base at <a href=\"https://github.com/JuliaLang/julia/tree/3af96bcefcb0aec559d4652fd75e1bc3fcfe99da/base/io.jl#L602\" target=\"_blank\">io.jl:602</a><li> reshape<i>{N, T}</i>(a::<b>Array{T,N}</b>, dims::<b>Tuple{Vararg{Int64,N}}</b>) in Base at <a href=\"https://github.com/JuliaLang/julia/tree/3af96bcefcb0aec559d4652fd75e1bc3fcfe99da/base/array.jl#L303\" target=\"_blank\">array.jl:303</a><li> reshape<i>{N, T}</i>(a::<b>Array{T,N} where N</b>, dims::<b>Tuple{Vararg{Int64,N}}</b>) in Base at <a href=\"https://github.com/JuliaLang/julia/tree/3af96bcefcb0aec559d4652fd75e1bc3fcfe99da/base/array.jl#L314\" target=\"_blank\">array.jl:314</a><li> reverse<i>{T}</i>(A::<b>Array{T,N} where N</b>) in Base at <a href=\"https://github.com/JuliaLang/julia/tree/3af96bcefcb0aec559d4652fd75e1bc3fcfe99da/base/arraymath.jl#L62\" target=\"_blank\">arraymath.jl:62</a><li> setindex!<i>{T}</i>(A::<b>Array{T,N} where N</b>, x, i1::<b>Int64</b>) in Base at <a href=\"https://github.com/JuliaLang/julia/tree/3af96bcefcb0aec559d4652fd75e1bc3fcfe99da/base/array.jl#L769\" target=\"_blank\">array.jl:769</a><li> setindex!<i>{T}</i>(A::<b>Array{T,N} where N</b>, x, i1::<b>Int64</b>, i2::<b>Int64</b>, I::<b>Int64...</b>) in Base at <a href=\"https://github.com/JuliaLang/julia/tree/3af96bcefcb0aec559d4652fd75e1bc3fcfe99da/base/array.jl#L770\" target=\"_blank\">array.jl:770</a><li> setindex!<i>{T}</i>(A::<b>Array{T,N} where N</b>, X::<b>Array{T,N} where N</b>, I::<b>UnitRange{Int64}</b>) in Base at <a href=\"https://github.com/JuliaLang/julia/tree/3af96bcefcb0aec559d4652fd75e1bc3fcfe99da/base/array.jl#L791\" target=\"_blank\">array.jl:791</a><li> setindex!(A::<b>Array</b>, X::<b>AbstractArray</b>, I::<b>AbstractArray{Int64,1}</b>) in Base at <a href=\"https://github.com/JuliaLang/julia/tree/3af96bcefcb0aec559d4652fd75e1bc3fcfe99da/base/array.jl#L775\" target=\"_blank\">array.jl:775</a><li> setindex!<i>{T}</i>(A::<b>Array{T,N} where N</b>, X::<b>Array{T,N} where N</b>, c::<b>Colon</b>) in Base at <a href=\"https://github.com/JuliaLang/julia/tree/3af96bcefcb0aec559d4652fd75e1bc3fcfe99da/base/array.jl#L801\" target=\"_blank\">array.jl:801</a><li> setindex!(A::<b>Array</b>, v, i1::<b>Union{Integer, CartesianIndex}</b>, I::<b>Union{Integer, CartesianIndex}...</b>) in Base at <a href=\"https://github.com/JuliaLang/julia/tree/3af96bcefcb0aec559d4652fd75e1bc3fcfe99da/base/multidimensional.jl#L414\" target=\"_blank\">multidimensional.jl:414</a><li> similar<i>{T}</i>(a::<b>Array{T,N} where N</b>, m::<b>Int64</b>) in Base at <a href=\"https://github.com/JuliaLang/julia/tree/3af96bcefcb0aec559d4652fd75e1bc3fcfe99da/base/array.jl#L331\" target=\"_blank\">array.jl:331</a><li> similar<i>{N}</i>(a::<b>Array</b>, T::<b>Type</b>, dims::<b>Tuple{Vararg{Int64,N}}</b>) in Base at <a href=\"https://github.com/JuliaLang/julia/tree/3af96bcefcb0aec559d4652fd75e1bc3fcfe99da/base/array.jl#L332\" target=\"_blank\">array.jl:332</a><li> similar<i>{T, N}</i>(a::<b>Array{T,N} where N</b>, dims::<b>Tuple{Vararg{Int64,N}}</b>) in Base at <a href=\"https://github.com/JuliaLang/julia/tree/3af96bcefcb0aec559d4652fd75e1bc3fcfe99da/base/array.jl#L333\" target=\"_blank\">array.jl:333</a><li> size<i>{N}</i>(a::<b>Array{#s57,N} where #s57</b>) in Base at <a href=\"https://github.com/JuliaLang/julia/tree/3af96bcefcb0aec559d4652fd75e1bc3fcfe99da/base/array.jl#L157\" target=\"_blank\">array.jl:157</a><li> size(a::<b>Array</b>, d) in Base at <a href=\"https://github.com/JuliaLang/julia/tree/3af96bcefcb0aec559d4652fd75e1bc3fcfe99da/base/array.jl#L154\" target=\"_blank\">array.jl:154</a><li> sizeof(a::<b>Array</b>) in Base at <a href=\"https://github.com/JuliaLang/julia/tree/3af96bcefcb0aec559d4652fd75e1bc3fcfe99da/base/array.jl#L201\" target=\"_blank\">array.jl:201</a><li> unsafe_copyto!<i>{T}</i>(dest::<b>Array{T,N} where N</b>, doffs, src::<b>Array{T,N} where N</b>, soffs, n) in Base at <a href=\"https://github.com/JuliaLang/julia/tree/3af96bcefcb0aec559d4652fd75e1bc3fcfe99da/base/array.jl#L241\" target=\"_blank\">array.jl:241</a><li> write(s::<b>IO</b>, a::<b>Array</b>) in Base at <a href=\"https://github.com/JuliaLang/julia/tree/3af96bcefcb0aec559d4652fd75e1bc3fcfe99da/base/io.jl#L531\" target=\"_blank\">io.jl:531</a><li> rand!(rng::<b>MbedTLS.CtrDrbg</b>, buf::<b>Array</b>) in MbedTLS at <a href=\"file://C:/Users/garla/.julia/packages/MbedTLS/X4xar/src/ctr_drbg.jl\" target=\"_blank\">C:\\Users\\garla\\.julia\\packages\\MbedTLS\\X4xar\\src\\ctr_drbg.jl:38</a><li> serialize(s::<b>Serialization.AbstractSerializer</b>, a::<b>Array</b>) in Serialization at <a href=\"file://C:/cygwin/home/Administrator/buildbot/worker/package_win64/build/usr/share/julia/stdlib/v1.0/Serialization/src/Serialization.jl\" target=\"_blank\">C:\\cygwin\\home\\Administrator\\buildbot\\worker\\package_win64\\build\\usr\\share\\julia\\stdlib\\v1.0\\Serialization\\src\\Serialization.jl:251</a><li> launch(manager::<b>Distributed.SSHManager</b>, params::<b>Dict</b>, launched::<b>Array</b>, launch_ntfy::<b>Condition</b>) in Distributed at <a href=\"file://C:/cygwin/home/Administrator/buildbot/worker/package_win64/build/usr/share/julia/stdlib/v1.0/Distributed/src/managers.jl\" target=\"_blank\">C:\\cygwin\\home\\Administrator\\buildbot\\worker\\package_win64\\build\\usr\\share\\julia\\stdlib\\v1.0\\Distributed\\src\\managers.jl:125</a><li> launch(manager::<b>Distributed.LocalManager</b>, params::<b>Dict</b>, launched::<b>Array</b>, c::<b>Condition</b>) in Distributed at <a href=\"file://C:/cygwin/home/Administrator/buildbot/worker/package_win64/build/usr/share/julia/stdlib/v1.0/Distributed/src/managers.jl\" target=\"_blank\">C:\\cygwin\\home\\Administrator\\buildbot\\worker\\package_win64\\build\\usr\\share\\julia\\stdlib\\v1.0\\Distributed\\src\\managers.jl:322</a></ul>"
      ],
      "text/plain": [
       "[1] copyto!(dest::Array{T,N} where N, doffs::Integer, src::Array{T,N} where N, soffs::Integer, n::Integer) where T in Base at array.jl:269\n",
       "[2] copyto!(dest::Array{T,N} where N, src::Array{T,N} where N) where T in Base at array.jl:277\n",
       "[3] copyto!(dest::BitArray, doffs::Integer, src::Array, soffs::Integer, n::Integer) in Base at bitarray.jl:428\n",
       "[4] copyto!(dest::BitArray, src::Array) in Base at bitarray.jl:437\n",
       "[5] copyto!(S::SharedArrays.SharedArray, A::Array) in SharedArrays at C:\\cygwin\\home\\Administrator\\buildbot\\worker\\package_win64\\build\\usr\\share\\julia\\stdlib\\v1.0\\SharedArrays\\src\\SharedArrays.jl:577\n",
       "[6] +(A::Array, Bs::Array...) in Base at arraymath.jl:44\n",
       "[7] +(A::Array, B::SparseArrays.SparseMatrixCSC) in SparseArrays at C:\\cygwin\\home\\Administrator\\buildbot\\worker\\package_win64\\build\\usr\\share\\julia\\stdlib\\v1.0\\SparseArrays\\src\\sparsematrix.jl:1584\n",
       "[8] +(A::SparseArrays.SparseMatrixCSC, B::Array) in SparseArrays at C:\\cygwin\\home\\Administrator\\buildbot\\worker\\package_win64\\build\\usr\\share\\julia\\stdlib\\v1.0\\SparseArrays\\src\\sparsematrix.jl:1583\n",
       "[9] -(A::SparseArrays.SparseMatrixCSC, B::Array) in SparseArrays at C:\\cygwin\\home\\Administrator\\buildbot\\worker\\package_win64\\build\\usr\\share\\julia\\stdlib\\v1.0\\SparseArrays\\src\\sparsematrix.jl:1585\n",
       "[10] -(A::Array, B::SparseArrays.SparseMatrixCSC) in SparseArrays at C:\\cygwin\\home\\Administrator\\buildbot\\worker\\package_win64\\build\\usr\\share\\julia\\stdlib\\v1.0\\SparseArrays\\src\\sparsematrix.jl:1586\n",
       "[11] convert(T::Type{#s546} where #s546<:SharedArrays.SharedArray, a::Array) in SharedArrays at C:\\cygwin\\home\\Administrator\\buildbot\\worker\\package_win64\\build\\usr\\share\\julia\\stdlib\\v1.0\\SharedArrays\\src\\SharedArrays.jl:359\n",
       "[12] copy(a::T) where T<:Array in Base at array.jl:299\n",
       "[13] dump(io::IOContext, x::Array, n::Int64, indent) in Base at show.jl:1656\n",
       "[14] fill!(dest::Array{T,N} where N, x) where T in Base at array.jl:282\n",
       "[15] getindex(A::Array, i1::Int64) in Base at array.jl:731\n",
       "[16] getindex(A::Array, i1::Int64, i2::Int64, I::Int64...) in Base at array.jl:732\n",
       "[17] getindex(A::Array, I::UnitRange{Int64}) in Base at array.jl:736\n",
       "[18] getindex(A::Array, c::Colon) in Base at array.jl:746\n",
       "[19] getindex(A::Array{S,N} where N, I::AbstractRange{Int64}) where S in Base at array.jl:756\n",
       "[20] getindex(A::Array, i1::Union{Integer, CartesianIndex}, I::Union{Integer, CartesianIndex}...) in Base at multidimensional.jl:412\n",
       "[21] isassigned(a::Array, i::Int64...) in Base at array.jl:204\n",
       "[22] iterate(A::Array) in Base at array.jl:707\n",
       "[23] iterate(A::Array, i) in Base at array.jl:707\n",
       "[24] length(a::Array) in Base at array.jl:199\n",
       "[25] permutedims!(P::Array{T,N}, B::Union{DenseArray{T,N}, ReinterpretArray{T,N,S,A} where S where A<:Union{SubArray{T,N,A,I,true} where I<:Tuple{AbstractUnitRange,Vararg{Any,N} where N} where A<:DenseArray where N where T, DenseArray}, ReshapedArray{T,N,A,MI} where MI<:Tuple{Vararg{SignedMultiplicativeInverse{Int64},N} where N} where A<:Union{ReinterpretArray{T,N,S,A} where S where A<:Union{SubArray{T,N,A,I,true} where I<:Tuple{AbstractUnitRange,Vararg{Any,N} where N} where A<:DenseArray where N where T, DenseArray} where N where T, SubArray{T,N,A,I,true} where I<:Tuple{AbstractUnitRange,Vararg{Any,N} where N} where A<:DenseArray where N where T, DenseArray}, SubArray{T,N,A,I,L} where L where I<:Tuple{Vararg{Union{Int64, AbstractRange{Int64}, AbstractCartesianIndex},N} where N} where A<:Union{ReinterpretArray{T,N,S,A} where S where A<:Union{SubArray{T,N,A,I,true} where I<:Tuple{AbstractUnitRange,Vararg{Any,N} where N} where A<:DenseArray where N where T, DenseArray} where N where T, ReshapedArray{T,N,A,MI} where MI<:Tuple{Vararg{SignedMultiplicativeInverse{Int64},N} where N} where A<:Union{ReinterpretArray{T,N,S,A} where S where A<:Union{SubArray{T,N,A,I,true} where I<:Tuple{AbstractUnitRange,Vararg{Any,N} where N} where A<:DenseArray where N where T, DenseArray} where N where T, SubArray{T,N,A,I,true} where I<:Tuple{AbstractUnitRange,Vararg{Any,N} where N} where A<:DenseArray where N where T, DenseArray} where N where T, DenseArray}}, perm) where {T, N} in Base at multidimensional.jl:1281\n",
       "[26] read!(s::IO, a::Array{T,N} where N) where T in Base at io.jl:602\n",
       "[27] reshape(a::Array{T,N}, dims::Tuple{Vararg{Int64,N}}) where {N, T} in Base at array.jl:303\n",
       "[28] reshape(a::Array{T,N} where N, dims::Tuple{Vararg{Int64,N}}) where {N, T} in Base at array.jl:314\n",
       "[29] reverse(A::Array{T,N} where N) where T in Base at arraymath.jl:62\n",
       "[30] setindex!(A::Array{T,N} where N, x, i1::Int64) where T in Base at array.jl:769\n",
       "[31] setindex!(A::Array{T,N} where N, x, i1::Int64, i2::Int64, I::Int64...) where T in Base at array.jl:770\n",
       "[32] setindex!(A::Array{T,N} where N, X::Array{T,N} where N, I::UnitRange{Int64}) where T in Base at array.jl:791\n",
       "[33] setindex!(A::Array, X::AbstractArray, I::AbstractArray{Int64,1}) in Base at array.jl:775\n",
       "[34] setindex!(A::Array{T,N} where N, X::Array{T,N} where N, c::Colon) where T in Base at array.jl:801\n",
       "[35] setindex!(A::Array, v, i1::Union{Integer, CartesianIndex}, I::Union{Integer, CartesianIndex}...) in Base at multidimensional.jl:414\n",
       "[36] similar(a::Array{T,N} where N, m::Int64) where T in Base at array.jl:331\n",
       "[37] similar(a::Array, T::Type, dims::Tuple{Vararg{Int64,N}}) where N in Base at array.jl:332\n",
       "[38] similar(a::Array{T,N} where N, dims::Tuple{Vararg{Int64,N}}) where {T, N} in Base at array.jl:333\n",
       "[39] size(a::Array{#s57,N} where #s57) where N in Base at array.jl:157\n",
       "[40] size(a::Array, d) in Base at array.jl:154\n",
       "[41] sizeof(a::Array) in Base at array.jl:201\n",
       "[42] unsafe_copyto!(dest::Array{T,N} where N, doffs, src::Array{T,N} where N, soffs, n) where T in Base at array.jl:241\n",
       "[43] write(s::IO, a::Array) in Base at io.jl:531\n",
       "[44] rand!(rng::MbedTLS.CtrDrbg, buf::Array) in MbedTLS at C:\\Users\\garla\\.julia\\packages\\MbedTLS\\X4xar\\src\\ctr_drbg.jl:38\n",
       "[45] serialize(s::Serialization.AbstractSerializer, a::Array) in Serialization at C:\\cygwin\\home\\Administrator\\buildbot\\worker\\package_win64\\build\\usr\\share\\julia\\stdlib\\v1.0\\Serialization\\src\\Serialization.jl:251\n",
       "[46] launch(manager::Distributed.SSHManager, params::Dict, launched::Array, launch_ntfy::Condition) in Distributed at C:\\cygwin\\home\\Administrator\\buildbot\\worker\\package_win64\\build\\usr\\share\\julia\\stdlib\\v1.0\\Distributed\\src\\managers.jl:125\n",
       "[47] launch(manager::Distributed.LocalManager, params::Dict, launched::Array, c::Condition) in Distributed at C:\\cygwin\\home\\Administrator\\buildbot\\worker\\package_win64\\build\\usr\\share\\julia\\stdlib\\v1.0\\Distributed\\src\\managers.jl:322"
      ]
     },
     "execution_count": 129,
     "metadata": {},
     "output_type": "execute_result"
    }
   ],
   "source": [
    "methodswith(Array)"
   ]
  },
  {
   "cell_type": "code",
   "execution_count": null,
   "metadata": {},
   "outputs": [],
   "source": []
  }
 ],
 "metadata": {
  "kernelspec": {
   "display_name": "Julia 1.0.5",
   "language": "julia",
   "name": "julia-1.0"
  },
  "language_info": {
   "file_extension": ".jl",
   "mimetype": "application/julia",
   "name": "julia",
   "version": "1.0.5"
  }
 },
 "nbformat": 4,
 "nbformat_minor": 4
}
