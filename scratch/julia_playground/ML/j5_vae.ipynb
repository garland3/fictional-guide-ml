{
 "cells": [
  {
   "cell_type": "code",
   "execution_count": 83,
   "metadata": {},
   "outputs": [],
   "source": [
    "# https://github.com/FluxML/model-zoo/blob/master/vision/vae_mnist/vae_mnist.jl"
   ]
  },
  {
   "cell_type": "code",
   "execution_count": 84,
   "metadata": {},
   "outputs": [],
   "source": [
    "using MLDatasets, Flux, Plots,  Statistics"
   ]
  },
  {
   "cell_type": "code",
   "execution_count": 85,
   "metadata": {},
   "outputs": [],
   "source": [
    "using Images\n",
    "using Distributions:Normal , Bernoulli, logpdf\n",
    "using Plots"
   ]
  },
  {
   "cell_type": "code",
   "execution_count": 86,
   "metadata": {},
   "outputs": [],
   "source": [
    "struct Config2\n",
    "    batch_size#  = 500\n",
    "    lr # = 1e-3\n",
    "    hidden_layer_dim # = 60\n",
    "    latent_size \n",
    "    \n",
    "end\n",
    "\n"
   ]
  },
  {
   "cell_type": "code",
   "execution_count": 87,
   "metadata": {},
   "outputs": [
    {
     "data": {
      "text/plain": [
       "Config2(500, 0.001, 60, 2)"
      ]
     },
     "execution_count": 87,
     "metadata": {},
     "output_type": "execute_result"
    }
   ],
   "source": [
    "c = Config2(500, 1e-3, 60,2)"
   ]
  },
  {
   "cell_type": "code",
   "execution_count": 88,
   "metadata": {},
   "outputs": [
    {
     "data": {
      "text/plain": [
       "([0.0 0.0 … 0.0 0.0; 0.0 0.0 … 0.0 0.0; … ; 0.0 0.0 … 0.0 0.0; 0.0 0.0 … 0.0 0.0;;; 0.0 0.0 … 0.0 0.0; 0.0 0.0 … 0.0 0.0; … ; 0.0 0.0 … 0.0 0.0; 0.0 0.0 … 0.0 0.0;;; 0.0 0.0 … 0.0 0.0; 0.0 0.0 … 0.0 0.0; … ; 0.0 0.0 … 0.0 0.0; 0.0 0.0 … 0.0 0.0;;; … ;;; 0.0 0.0 … 0.0 0.0; 0.0 0.0 … 0.0 0.0; … ; 0.0 0.0 … 0.0 0.0; 0.0 0.0 … 0.0 0.0;;; 0.0 0.0 … 0.0 0.0; 0.0 0.0 … 0.0 0.0; … ; 0.0 0.0 … 0.0 0.0; 0.0 0.0 … 0.0 0.0;;; 0.0 0.0 … 0.0 0.0; 0.0 0.0 … 0.0 0.0; … ; 0.0 0.0 … 0.0 0.0; 0.0 0.0 … 0.0 0.0], [7, 2, 1, 0, 4, 1, 4, 9, 5, 9  …  7, 8, 9, 0, 1, 2, 3, 4, 5, 6])"
      ]
     },
     "execution_count": 88,
     "metadata": {},
     "output_type": "execute_result"
    }
   ],
   "source": [
    "train_x_2d, train_y = MNIST.traindata(Float32)\n",
    "test_x_2d, test_y = MNIST.testdata(Float32)"
   ]
  },
  {
   "cell_type": "code",
   "execution_count": 89,
   "metadata": {},
   "outputs": [
    {
     "data": {
      "text/plain": [
       "(784, 60000)"
      ]
     },
     "execution_count": 89,
     "metadata": {},
     "output_type": "execute_result"
    }
   ],
   "source": [
    "size(train_x)"
   ]
  },
  {
   "cell_type": "code",
   "execution_count": 90,
   "metadata": {},
   "outputs": [],
   "source": [
    "# ?reshape"
   ]
  },
  {
   "cell_type": "code",
   "execution_count": 91,
   "metadata": {},
   "outputs": [],
   "source": [
    "train_x = reshape(train_x_2d, (28*28, :));\n",
    "test_x = reshape(test_x_2d, (28*28, :));"
   ]
  },
  {
   "cell_type": "code",
   "execution_count": 92,
   "metadata": {},
   "outputs": [
    {
     "name": "stdout",
     "output_type": "stream",
     "text": [
      "6\n"
     ]
    },
    {
     "data": {
      "image/png": "[encoded data removed]",
      "text/plain": [
       "28×28 reinterpret(reshape, Gray{Float32}, adjoint(::Matrix{Float32})) with eltype Gray{Float32}:\n",
       " Gray{Float32}(0.0)  Gray{Float32}(0.0)  …  Gray{Float32}(0.0)\n",
       " Gray{Float32}(0.0)  Gray{Float32}(0.0)     Gray{Float32}(0.0)\n",
       " Gray{Float32}(0.0)  Gray{Float32}(0.0)     Gray{Float32}(0.0)\n",
       " Gray{Float32}(0.0)  Gray{Float32}(0.0)     Gray{Float32}(0.0)\n",
       " Gray{Float32}(0.0)  Gray{Float32}(0.0)     Gray{Float32}(0.0)\n",
       " Gray{Float32}(0.0)  Gray{Float32}(0.0)  …  Gray{Float32}(0.0)\n",
       " Gray{Float32}(0.0)  Gray{Float32}(0.0)     Gray{Float32}(0.0)\n",
       " Gray{Float32}(0.0)  Gray{Float32}(0.0)     Gray{Float32}(0.0)\n",
       " Gray{Float32}(0.0)  Gray{Float32}(0.0)     Gray{Float32}(0.0)\n",
       " Gray{Float32}(0.0)  Gray{Float32}(0.0)     Gray{Float32}(0.0)\n",
       " Gray{Float32}(0.0)  Gray{Float32}(0.0)  …  Gray{Float32}(0.0)\n",
       " Gray{Float32}(0.0)  Gray{Float32}(0.0)     Gray{Float32}(0.0)\n",
       " Gray{Float32}(0.0)  Gray{Float32}(0.0)     Gray{Float32}(0.0)\n",
       " ⋮                                       ⋱  \n",
       " Gray{Float32}(0.0)  Gray{Float32}(0.0)     Gray{Float32}(0.0)\n",
       " Gray{Float32}(0.0)  Gray{Float32}(0.0)     Gray{Float32}(0.0)\n",
       " Gray{Float32}(0.0)  Gray{Float32}(0.0)     Gray{Float32}(0.0)\n",
       " Gray{Float32}(0.0)  Gray{Float32}(0.0)     Gray{Float32}(0.0)\n",
       " Gray{Float32}(0.0)  Gray{Float32}(0.0)  …  Gray{Float32}(0.0)\n",
       " Gray{Float32}(0.0)  Gray{Float32}(0.0)     Gray{Float32}(0.0)\n",
       " Gray{Float32}(0.0)  Gray{Float32}(0.0)     Gray{Float32}(0.0)\n",
       " Gray{Float32}(0.0)  Gray{Float32}(0.0)     Gray{Float32}(0.0)\n",
       " Gray{Float32}(0.0)  Gray{Float32}(0.0)     Gray{Float32}(0.0)\n",
       " Gray{Float32}(0.0)  Gray{Float32}(0.0)  …  Gray{Float32}(0.0)\n",
       " Gray{Float32}(0.0)  Gray{Float32}(0.0)     Gray{Float32}(0.0)\n",
       " Gray{Float32}(0.0)  Gray{Float32}(0.0)     Gray{Float32}(0.0)"
      ]
     },
     "execution_count": 92,
     "metadata": {},
     "output_type": "execute_result"
    }
   ],
   "source": [
    "idx = 14\n",
    "x1 = train_x_2d[:,:,idx];\n",
    "y1 = train_y[idx]\n",
    "println(y1)\n",
    "colorview(Gray, x1', )"
   ]
  },
  {
   "cell_type": "code",
   "execution_count": 93,
   "metadata": {},
   "outputs": [],
   "source": [
    "data_train =Flux.DataLoader((train_x, train_y), batchsize=c.batch_size, shuffle=true);\n",
    "data_test =Flux.DataLoader((test_x, test_y), batchsize=c.batch_size, shuffle=true);"
   ]
  },
  {
   "cell_type": "code",
   "execution_count": 94,
   "metadata": {},
   "outputs": [
    {
     "data": {
      "text/plain": [
       "(784, 60000)"
      ]
     },
     "execution_count": 94,
     "metadata": {},
     "output_type": "execute_result"
    }
   ],
   "source": [
    "in_dims, _ = size(train_x)"
   ]
  },
  {
   "cell_type": "code",
   "execution_count": 95,
   "metadata": {},
   "outputs": [
    {
     "data": {
      "text/plain": [
       "Chain(\n",
       "  Dense(2, 60, relu),                   \u001b[90m# 180 parameters\u001b[39m\n",
       "  Dense(60, 60, relu),                  \u001b[90m# 3_660 parameters\u001b[39m\n",
       "  Dense(60, 784, σ),                    \u001b[90m# 47_824 parameters\u001b[39m\n",
       ")\u001b[90m                   # Total: 6 arrays, \u001b[39m51_664 parameters, 202.188 KiB."
      ]
     },
     "execution_count": 95,
     "metadata": {},
     "output_type": "execute_result"
    }
   ],
   "source": [
    "h = c.hidden_layer_dim\n",
    "latent_size = c.latent_size\n",
    "# middle_dims =  4\n",
    "activation = Flux.relu\n",
    "encoder = Flux.Chain(\n",
    "    Dense(in_dims, h, activation), \n",
    "    Dense(h,h, activation),\n",
    "    Dense(h, latent_size*2,activation)\n",
    "\n",
    ")\n",
    "\n",
    "decoder = Flux.Chain(\n",
    "    Dense(latent_size, h,activation), \n",
    "    Dense(h,h,activation),\n",
    "    Dense(h, in_dims, Flux.σ)\n",
    "\n",
    ")"
   ]
  },
  {
   "cell_type": "code",
   "execution_count": 96,
   "metadata": {},
   "outputs": [
    {
     "data": {
      "text/plain": [
       "split_encoder_result (generic function with 1 method)"
      ]
     },
     "execution_count": 96,
     "metadata": {},
     "output_type": "execute_result"
    }
   ],
   "source": [
    "# https://github.com/adamwespiser/variational-autoencoders/blob/master/src/Model.jl\n",
    "function split_encoder_result(X, n_latent::Int64)\n",
    "  μ = X[1:n_latent, :]\n",
    "  logσ = X[(n_latent + 1):(n_latent * 2), :]\n",
    "  return μ, logσ\n",
    "end"
   ]
  },
  {
   "cell_type": "code",
   "execution_count": 126,
   "metadata": {},
   "outputs": [
    {
     "data": {
      "text/plain": [
       "reparameterize (generic function with 1 method)"
      ]
     },
     "execution_count": 126,
     "metadata": {},
     "output_type": "execute_result"
    }
   ],
   "source": [
    "function reparameterize(μ :: T, logσ :: T) where {T}\n",
    "  \"\"\"\n",
    "  reparameterize the results of 'encoder'\n",
    "  onto a Normal(0,1) distribution,\n",
    "  we could also pass \"Float32\" here instead, which would\n",
    "  provide a uniform Distribution\n",
    "  \"\"\"\n",
    "  return rand(Normal(0,1)) * exp.(logσ * 0.5f0) + μ\n",
    "end"
   ]
  },
  {
   "cell_type": "code",
   "execution_count": 127,
   "metadata": {},
   "outputs": [],
   "source": [
    "\n",
    "# function logp_x_z(x, z, f)\n",
    "#   \"\"\"\n",
    "#   calculates log  P( X = x | Z = z ), reconstruction error\n",
    "#   or: the conditional probability of data(digit image) given latent(z).\n",
    "#   Our output is an image, but we are creating a distribution\n",
    "#   using the sigmoid function to normalize decoder outputs\n",
    "#   then passing it into a Bernoulli distribution.\n",
    "#   logpdf(Distribution from decodor, image pixel) ...\n",
    "#   => logpdf(Bernoulli(0.5f0),{0,1}) -> {-0.693, -0.693}\n",
    "#   => summate over all of these values\n",
    "#  \"\"\"\n",
    "#   return sum(logpdf.(Bernoulli.(sigmoid.(f(z))), x))\n",
    "# end"
   ]
  },
  {
   "cell_type": "code",
   "execution_count": 128,
   "metadata": {},
   "outputs": [
    {
     "data": {
      "text/plain": [
       "kl_q_p (generic function with 1 method)"
      ]
     },
     "execution_count": 128,
     "metadata": {},
     "output_type": "execute_result"
    }
   ],
   "source": [
    "function kl_q_p(μ :: T, logσ :: T) where {T}\n",
    "  \"\"\"\"\n",
    "  KL-divergence divergence, between approximate posterior/prior\n",
    "  This is the KLD between a\n",
    "  1) distribution of with means μ, variance logσ, and importanty, an\n",
    "  identity covariance matrix, and\n",
    "  2) A standard normal distribution Normal(μ = 0,σ = 1)\n",
    "  \"\"\"\n",
    "  return 0.5f0 * sum(exp.(2f0 .* logσ) + μ.^2 .- 1 .- (2 .* logσ))\n",
    "end"
   ]
  },
  {
   "cell_type": "code",
   "execution_count": 129,
   "metadata": {},
   "outputs": [],
   "source": [
    "# ?logpdf"
   ]
  },
  {
   "cell_type": "code",
   "execution_count": 200,
   "metadata": {},
   "outputs": [
    {
     "data": {
      "text/plain": [
       "loss (generic function with 1 method)"
      ]
     },
     "execution_count": 200,
     "metadata": {},
     "output_type": "execute_result"
    }
   ],
   "source": [
    "function reconstruct(x)\n",
    "    μ, log_σ = split_encoder_result(encoder(x),latent_size )\n",
    "#     r1 = size(μ)\n",
    "#     println(\"μ size is $(size(μ))   log_σ size is $(size(log_σ))\")\n",
    "    z = reparameterize(μ, log_σ)\n",
    "    x_prime = decoder(z)\n",
    "    return x_prime,  μ, log_σ \n",
    "end\n",
    "function loss(x)\n",
    "   # pass x through NN\n",
    "   # compare mse of X and X_prime\n",
    "    x_prime,  μ, log_σ  = reconstruct(x)\n",
    "    \n",
    "    len = size(x)[end]\n",
    "    \n",
    "    loss1 = sum((x-x_prime).^2)/len\n",
    "    loss2 = kl_q_p(μ, log_σ)/len\n",
    "    \n",
    "    λ = 1e-4\n",
    "    reg = λ * sum(x->sum(x.^2), Flux.params(decoder))\n",
    "    \n",
    "    return loss1+loss2+reg\n",
    "end"
   ]
  },
  {
   "cell_type": "code",
   "execution_count": 201,
   "metadata": {},
   "outputs": [
    {
     "data": {
      "text/plain": [
       "ADAM(0.001, (0.9, 0.999), 1.0e-8, IdDict{Any, Any}())"
      ]
     },
     "execution_count": 201,
     "metadata": {},
     "output_type": "execute_result"
    }
   ],
   "source": [
    " opt = ADAM(1e-3)"
   ]
  },
  {
   "cell_type": "code",
   "execution_count": 202,
   "metadata": {},
   "outputs": [],
   "source": [
    "ps = Flux.params(encoder, decoder);"
   ]
  },
  {
   "cell_type": "code",
   "execution_count": 203,
   "metadata": {},
   "outputs": [
    {
     "name": "stderr",
     "output_type": "stream",
     "text": [
      "┌ Info: Epoch 1\n",
      "└ @ Main In[203]:3\n",
      "┌ Info: Epoch 2\n",
      "└ @ Main In[203]:3\n",
      "┌ Info: Epoch 3\n",
      "└ @ Main In[203]:3\n",
      "┌ Info: Epoch 4\n",
      "└ @ Main In[203]:3\n",
      "┌ Info: Epoch 5\n",
      "└ @ Main In[203]:3\n",
      "┌ Info: Epoch 6\n",
      "└ @ Main In[203]:3\n",
      "┌ Info: Epoch 7\n",
      "└ @ Main In[203]:3\n",
      "┌ Info: Epoch 8\n",
      "└ @ Main In[203]:3\n",
      "┌ Info: Epoch 9\n",
      "└ @ Main In[203]:3\n",
      "┌ Info: Epoch 10\n",
      "└ @ Main In[203]:3\n"
     ]
    }
   ],
   "source": [
    "epochs = 10\n",
    "for epoch = 1:epochs\n",
    "    @info \"Epoch $(epoch)\"\n",
    "    flush(stdout)\n",
    "    i = 0\n",
    "    for (x,_) in data_train\n",
    "        grads = Flux.gradient(ps) do\n",
    "            l = loss(x)\n",
    "        end\n",
    "    #     Flux.train!(l, ps, data, opt)\n",
    "    Flux.Optimise.update!(opt, ps, grads)\n",
    "#     if i % 10 ==0\n",
    "#         @info \"i= $i\"\n",
    "#         flush(stdout)            \n",
    "#     end\n",
    "        \n",
    "    i+=1\n",
    "    end    \n",
    "end"
   ]
  },
  {
   "cell_type": "code",
   "execution_count": 204,
   "metadata": {},
   "outputs": [],
   "source": [
    "xstart, _ = first(data_train);"
   ]
  },
  {
   "cell_type": "code",
   "execution_count": 205,
   "metadata": {},
   "outputs": [],
   "source": [
    "xstart_2d = reshape(xstart,  (28,28, :));"
   ]
  },
  {
   "cell_type": "code",
   "execution_count": 206,
   "metadata": {},
   "outputs": [
    {
     "data": {
      "text/plain": [
       "2-element Vector{Tuple{Int64, Int64, Vararg{Int64}}}:\n",
       " (784, 500)\n",
       " (28, 28, 500)"
      ]
     },
     "execution_count": 206,
     "metadata": {},
     "output_type": "execute_result"
    }
   ],
   "source": [
    "map(size, [xstart, xstart_2d])"
   ]
  },
  {
   "cell_type": "code",
   "execution_count": 207,
   "metadata": {},
   "outputs": [
    {
     "data": {
      "image/png": "[encoded data removed]",
      "text/plain": [
       "28×28 reinterpret(reshape, Gray{Float32}, adjoint(::Matrix{Float32})) with eltype Gray{Float32}:\n",
       " Gray{Float32}(0.0)  Gray{Float32}(0.0)  …  Gray{Float32}(0.0)\n",
       " Gray{Float32}(0.0)  Gray{Float32}(0.0)     Gray{Float32}(0.0)\n",
       " Gray{Float32}(0.0)  Gray{Float32}(0.0)     Gray{Float32}(0.0)\n",
       " Gray{Float32}(0.0)  Gray{Float32}(0.0)     Gray{Float32}(0.0)\n",
       " Gray{Float32}(0.0)  Gray{Float32}(0.0)     Gray{Float32}(0.0)\n",
       " Gray{Float32}(0.0)  Gray{Float32}(0.0)  …  Gray{Float32}(0.0)\n",
       " Gray{Float32}(0.0)  Gray{Float32}(0.0)     Gray{Float32}(0.0)\n",
       " Gray{Float32}(0.0)  Gray{Float32}(0.0)     Gray{Float32}(0.0)\n",
       " Gray{Float32}(0.0)  Gray{Float32}(0.0)     Gray{Float32}(0.0)\n",
       " Gray{Float32}(0.0)  Gray{Float32}(0.0)     Gray{Float32}(0.0)\n",
       " Gray{Float32}(0.0)  Gray{Float32}(0.0)  …  Gray{Float32}(0.0)\n",
       " Gray{Float32}(0.0)  Gray{Float32}(0.0)     Gray{Float32}(0.0)\n",
       " Gray{Float32}(0.0)  Gray{Float32}(0.0)     Gray{Float32}(0.0)\n",
       " ⋮                                       ⋱  \n",
       " Gray{Float32}(0.0)  Gray{Float32}(0.0)     Gray{Float32}(0.0)\n",
       " Gray{Float32}(0.0)  Gray{Float32}(0.0)     Gray{Float32}(0.0)\n",
       " Gray{Float32}(0.0)  Gray{Float32}(0.0)     Gray{Float32}(0.0)\n",
       " Gray{Float32}(0.0)  Gray{Float32}(0.0)     Gray{Float32}(0.0)\n",
       " Gray{Float32}(0.0)  Gray{Float32}(0.0)  …  Gray{Float32}(0.0)\n",
       " Gray{Float32}(0.0)  Gray{Float32}(0.0)     Gray{Float32}(0.0)\n",
       " Gray{Float32}(0.0)  Gray{Float32}(0.0)     Gray{Float32}(0.0)\n",
       " Gray{Float32}(0.0)  Gray{Float32}(0.0)     Gray{Float32}(0.0)\n",
       " Gray{Float32}(0.0)  Gray{Float32}(0.0)     Gray{Float32}(0.0)\n",
       " Gray{Float32}(0.0)  Gray{Float32}(0.0)  …  Gray{Float32}(0.0)\n",
       " Gray{Float32}(0.0)  Gray{Float32}(0.0)     Gray{Float32}(0.0)\n",
       " Gray{Float32}(0.0)  Gray{Float32}(0.0)     Gray{Float32}(0.0)"
      ]
     },
     "execution_count": 207,
     "metadata": {},
     "output_type": "execute_result"
    }
   ],
   "source": [
    "idx = 22\n",
    "x1 = xstart_2d[:,:,idx];\n",
    "# y1 = train_y[idx]\n",
    "# println(y1)\n",
    "colorview(Gray, x1', )"
   ]
  },
  {
   "cell_type": "code",
   "execution_count": 208,
   "metadata": {},
   "outputs": [],
   "source": [
    "# xstart_1d_idx =\n",
    "x_prime,  μ, log_σ  = reconstruct( xstart[:, idx]);"
   ]
  },
  {
   "cell_type": "code",
   "execution_count": 209,
   "metadata": {},
   "outputs": [
    {
     "data": {
      "image/png": "[encoded data removed]",
      "text/plain": [
       "28×28 reinterpret(reshape, Gray{Float64}, adjoint(::Matrix{Float64})) with eltype Gray{Float64}:\n",
       " Gray{Float64}(0.00316309)  …  Gray{Float64}(0.00316519)\n",
       " Gray{Float64}(0.00315823)     Gray{Float64}(0.00316909)\n",
       " Gray{Float64}(0.00316085)     Gray{Float64}(0.00316761)\n",
       " Gray{Float64}(0.00315919)     Gray{Float64}(0.00315892)\n",
       " Gray{Float64}(0.00316382)     Gray{Float64}(0.00316829)\n",
       " Gray{Float64}(0.00316187)  …  Gray{Float64}(0.00319193)\n",
       " Gray{Float64}(0.00316017)     Gray{Float64}(0.00323216)\n",
       " Gray{Float64}(0.00316844)     Gray{Float64}(0.00319076)\n",
       " Gray{Float64}(0.00317152)     Gray{Float64}(0.00323647)\n",
       " Gray{Float64}(0.00326519)     Gray{Float64}(0.00309163)\n",
       " Gray{Float64}(0.00328558)  …  Gray{Float64}(0.00311867)\n",
       " Gray{Float64}(0.00318548)     Gray{Float64}(0.00319477)\n",
       " Gray{Float64}(0.00317573)     Gray{Float64}(0.0031993)\n",
       " ⋮                          ⋱  \n",
       " Gray{Float64}(0.00315336)     Gray{Float64}(0.00313206)\n",
       " Gray{Float64}(0.00316049)     Gray{Float64}(0.00326191)\n",
       " Gray{Float64}(0.00319144)     Gray{Float64}(0.00333741)\n",
       " Gray{Float64}(0.00316663)     Gray{Float64}(0.00319243)\n",
       " Gray{Float64}(0.00316462)  …  Gray{Float64}(0.00315551)\n",
       " Gray{Float64}(0.0031608)      Gray{Float64}(0.00315599)\n",
       " Gray{Float64}(0.00316136)     Gray{Float64}(0.00316512)\n",
       " Gray{Float64}(0.00315912)     Gray{Float64}(0.00316007)\n",
       " Gray{Float64}(0.00316127)     Gray{Float64}(0.00316648)\n",
       " Gray{Float64}(0.00317028)  …  Gray{Float64}(0.00316442)\n",
       " Gray{Float64}(0.00315887)     Gray{Float64}(0.00315698)\n",
       " Gray{Float64}(0.00316061)     Gray{Float64}(0.00316376)"
      ]
     },
     "execution_count": 209,
     "metadata": {},
     "output_type": "execute_result"
    }
   ],
   "source": [
    "x_prime_2d = reshape(x_prime,  (28,28,));\n",
    "colorview(Gray, x_prime_2d', )"
   ]
  },
  {
   "cell_type": "code",
   "execution_count": 210,
   "metadata": {},
   "outputs": [
    {
     "data": {
      "text/plain": [
       "((28, 28), (28, 28))"
      ]
     },
     "execution_count": 210,
     "metadata": {},
     "output_type": "execute_result"
    }
   ],
   "source": [
    "size(x_prime_2d), size(x1)"
   ]
  },
  {
   "cell_type": "code",
   "execution_count": 233,
   "metadata": {},
   "outputs": [
    {
     "ename": "LoadError",
     "evalue": "DimensionMismatch(\"tried to assign 28×28 array to 28×29 destination\")",
     "output_type": "error",
     "traceback": [
      "DimensionMismatch(\"tried to assign 28×28 array to 28×29 destination\")",
      "",
      "Stacktrace:",
      " [1] throw_setindex_mismatch(X::Matrix{Float32}, I::Tuple{Int64, Int64})",
      "   @ Base .\\indices.jl:193",
      " [2] setindex_shape_check",
      "   @ .\\indices.jl:253 [inlined]",
      " [3] _unsafe_setindex!(::IndexLinear, ::Matrix{Float64}, ::Matrix{Float32}, ::Base.Slice{Base.OneTo{Int64}}, ::UnitRange{Int64})",
      "   @ Base .\\multidimensional.jl:903",
      " [4] _setindex!",
      "   @ .\\multidimensional.jl:894 [inlined]",
      " [5] setindex!(::Matrix{Float64}, ::Matrix{Float32}, ::Function, ::UnitRange{Int64})",
      "   @ Base .\\abstractarray.jl:1315",
      " [6] top-level scope",
      "   @ .\\In[233]:8",
      " [7] eval",
      "   @ .\\boot.jl:373 [inlined]",
      " [8] include_string(mapexpr::typeof(REPL.softscope), mod::Module, code::String, filename::String)",
      "   @ Base .\\loading.jl:1196"
     ]
    }
   ],
   "source": [
    "n = 10\n",
    "idxs = 1:n\n",
    "x1 = [xstart_2d[:,:,i] for i in idxs];\n",
    "x11 = zeros(28,28*n)\n",
    "for i in 1:n\n",
    "size(x1)\n",
    "    j = i-1\n",
    "    idxs2 (j)\n",
    "   x11[:, j*28+1:(j+1)*28+1]  = x1[i]\n",
    "end\n",
    "# x11 = vcat(x1);\n",
    "# size(x1), size(x11)\n",
    "# colorview(Gray, x11', )"
   ]
  },
  {
   "cell_type": "code",
   "execution_count": 227,
   "metadata": {},
   "outputs": [
    {
     "data": {
      "text/plain": [
       "28×28 Matrix{Float32}:\n",
       " 0.0  0.0  0.0  0.0  0.0  0.0  0.0  …  0.0       0.0       0.0       0.0\n",
       " 0.0  0.0  0.0  0.0  0.0  0.0  0.0     0.0       0.0       0.0       0.0\n",
       " 0.0  0.0  0.0  0.0  0.0  0.0  0.0     0.0       0.0       0.0       0.0\n",
       " 0.0  0.0  0.0  0.0  0.0  0.0  0.0     0.0       0.0       0.0       0.0\n",
       " 0.0  0.0  0.0  0.0  0.0  0.0  0.0     0.0       0.0       0.0       0.0\n",
       " 0.0  0.0  0.0  0.0  0.0  0.0  0.0  …  0.0       0.0       0.0       0.0\n",
       " 0.0  0.0  0.0  0.0  0.0  0.0  0.0     0.0       0.0       0.0       0.0\n",
       " 0.0  0.0  0.0  0.0  0.0  0.0  0.0     0.0       0.0       0.0       0.0\n",
       " 0.0  0.0  0.0  0.0  0.0  0.0  0.0     0.0       0.0       0.0       0.0\n",
       " 0.0  0.0  0.0  0.0  0.0  0.0  0.0     0.470588  0.760784  0.172549  0.0\n",
       " 0.0  0.0  0.0  0.0  0.0  0.0  0.0  …  0.992157  0.992157  0.517647  0.0\n",
       " 0.0  0.0  0.0  0.0  0.0  0.0  0.0     0.992157  0.992157  0.745098  0.0\n",
       " 0.0  0.0  0.0  0.0  0.0  0.0  0.0     0.992157  0.807843  0.298039  0.0\n",
       " ⋮                        ⋮         ⋱            ⋮                   \n",
       " 0.0  0.0  0.0  0.0  0.0  0.0  0.0     0.0       0.0       0.0       0.0\n",
       " 0.0  0.0  0.0  0.0  0.0  0.0  0.0     0.0       0.0       0.0       0.0\n",
       " 0.0  0.0  0.0  0.0  0.0  0.0  0.0     0.0       0.0       0.0       0.0\n",
       " 0.0  0.0  0.0  0.0  0.0  0.0  0.0     0.0       0.0       0.0       0.0\n",
       " 0.0  0.0  0.0  0.0  0.0  0.0  0.0  …  0.0       0.0       0.0       0.0\n",
       " 0.0  0.0  0.0  0.0  0.0  0.0  0.0     0.0       0.0       0.0       0.0\n",
       " 0.0  0.0  0.0  0.0  0.0  0.0  0.0     0.0       0.0       0.0       0.0\n",
       " 0.0  0.0  0.0  0.0  0.0  0.0  0.0     0.0       0.0       0.0       0.0\n",
       " 0.0  0.0  0.0  0.0  0.0  0.0  0.0     0.0       0.0       0.0       0.0\n",
       " 0.0  0.0  0.0  0.0  0.0  0.0  0.0  …  0.0       0.0       0.0       0.0\n",
       " 0.0  0.0  0.0  0.0  0.0  0.0  0.0     0.0       0.0       0.0       0.0\n",
       " 0.0  0.0  0.0  0.0  0.0  0.0  0.0     0.0       0.0       0.0       0.0"
      ]
     },
     "execution_count": 227,
     "metadata": {},
     "output_type": "execute_result"
    }
   ],
   "source": [
    "x1[1]"
   ]
  },
  {
   "cell_type": "code",
   "execution_count": 211,
   "metadata": {},
   "outputs": [
    {
     "name": "stdout",
     "output_type": "stream",
     "text": [
      "search: \u001b[0m\u001b[1mh\u001b[22m\u001b[0m\u001b[1mc\u001b[22m\u001b[0m\u001b[1ma\u001b[22m\u001b[0m\u001b[1mt\u001b[22m \u001b[0m\u001b[1mh\u001b[22mv\u001b[0m\u001b[1mc\u001b[22m\u001b[0m\u001b[1ma\u001b[22m\u001b[0m\u001b[1mt\u001b[22m \u001b[0m\u001b[1mh\u001b[22mvn\u001b[0m\u001b[1mc\u001b[22m\u001b[0m\u001b[1ma\u001b[22m\u001b[0m\u001b[1mt\u001b[22m Mat\u001b[0m\u001b[1mh\u001b[22m\u001b[0m\u001b[1mC\u001b[22monst\u001b[0m\u001b[1ma\u001b[22mn\u001b[0m\u001b[1mt\u001b[22ms ∇dept\u001b[0m\u001b[1mh\u001b[22mwise\u001b[0m\u001b[1mc\u001b[22monv_d\u001b[0m\u001b[1ma\u001b[22m\u001b[0m\u001b[1mt\u001b[22ma ∇dept\u001b[0m\u001b[1mh\u001b[22mwise\u001b[0m\u001b[1mc\u001b[22monv_d\u001b[0m\u001b[1ma\u001b[22m\u001b[0m\u001b[1mt\u001b[22ma!\n",
      "\n"
     ]
    },
    {
     "data": {
      "text/latex": [
       "\\begin{verbatim}\n",
       "hcat(A...)\n",
       "\\end{verbatim}\n",
       "Concatenate along dimension 2.\n",
       "\n",
       "\\section{Examples}\n",
       "\\begin{verbatim}\n",
       "julia> a = [1; 2; 3; 4; 5]\n",
       "5-element Vector{Int64}:\n",
       " 1\n",
       " 2\n",
       " 3\n",
       " 4\n",
       " 5\n",
       "\n",
       "julia> b = [6 7; 8 9; 10 11; 12 13; 14 15]\n",
       "5×2 Matrix{Int64}:\n",
       "  6   7\n",
       "  8   9\n",
       " 10  11\n",
       " 12  13\n",
       " 14  15\n",
       "\n",
       "julia> hcat(a,b)\n",
       "5×3 Matrix{Int64}:\n",
       " 1   6   7\n",
       " 2   8   9\n",
       " 3  10  11\n",
       " 4  12  13\n",
       " 5  14  15\n",
       "\n",
       "julia> c = ([1; 2; 3], [4; 5; 6])\n",
       "([1, 2, 3], [4, 5, 6])\n",
       "\n",
       "julia> hcat(c...)\n",
       "3×2 Matrix{Int64}:\n",
       " 1  4\n",
       " 2  5\n",
       " 3  6\n",
       "\n",
       "julia> x = Matrix(undef, 3, 0)  # x = [] would have created an Array{Any, 1}, but need an Array{Any, 2}\n",
       "3×0 Matrix{Any}\n",
       "\n",
       "julia> hcat(x, [1; 2; 3])\n",
       "3×1 Matrix{Any}:\n",
       " 1\n",
       " 2\n",
       " 3\n",
       "\\end{verbatim}\n"
      ],
      "text/markdown": [
       "```\n",
       "hcat(A...)\n",
       "```\n",
       "\n",
       "Concatenate along dimension 2.\n",
       "\n",
       "# Examples\n",
       "\n",
       "```jldoctest\n",
       "julia> a = [1; 2; 3; 4; 5]\n",
       "5-element Vector{Int64}:\n",
       " 1\n",
       " 2\n",
       " 3\n",
       " 4\n",
       " 5\n",
       "\n",
       "julia> b = [6 7; 8 9; 10 11; 12 13; 14 15]\n",
       "5×2 Matrix{Int64}:\n",
       "  6   7\n",
       "  8   9\n",
       " 10  11\n",
       " 12  13\n",
       " 14  15\n",
       "\n",
       "julia> hcat(a,b)\n",
       "5×3 Matrix{Int64}:\n",
       " 1   6   7\n",
       " 2   8   9\n",
       " 3  10  11\n",
       " 4  12  13\n",
       " 5  14  15\n",
       "\n",
       "julia> c = ([1; 2; 3], [4; 5; 6])\n",
       "([1, 2, 3], [4, 5, 6])\n",
       "\n",
       "julia> hcat(c...)\n",
       "3×2 Matrix{Int64}:\n",
       " 1  4\n",
       " 2  5\n",
       " 3  6\n",
       "\n",
       "julia> x = Matrix(undef, 3, 0)  # x = [] would have created an Array{Any, 1}, but need an Array{Any, 2}\n",
       "3×0 Matrix{Any}\n",
       "\n",
       "julia> hcat(x, [1; 2; 3])\n",
       "3×1 Matrix{Any}:\n",
       " 1\n",
       " 2\n",
       " 3\n",
       "```\n"
      ],
      "text/plain": [
       "\u001b[36m  hcat(A...)\u001b[39m\n",
       "\n",
       "  Concatenate along dimension 2.\n",
       "\n",
       "\u001b[1m  Examples\u001b[22m\n",
       "\u001b[1m  ≡≡≡≡≡≡≡≡≡≡\u001b[22m\n",
       "\n",
       "\u001b[36m  julia> a = [1; 2; 3; 4; 5]\u001b[39m\n",
       "\u001b[36m  5-element Vector{Int64}:\u001b[39m\n",
       "\u001b[36m   1\u001b[39m\n",
       "\u001b[36m   2\u001b[39m\n",
       "\u001b[36m   3\u001b[39m\n",
       "\u001b[36m   4\u001b[39m\n",
       "\u001b[36m   5\u001b[39m\n",
       "\u001b[36m  \u001b[39m\n",
       "\u001b[36m  julia> b = [6 7; 8 9; 10 11; 12 13; 14 15]\u001b[39m\n",
       "\u001b[36m  5×2 Matrix{Int64}:\u001b[39m\n",
       "\u001b[36m    6   7\u001b[39m\n",
       "\u001b[36m    8   9\u001b[39m\n",
       "\u001b[36m   10  11\u001b[39m\n",
       "\u001b[36m   12  13\u001b[39m\n",
       "\u001b[36m   14  15\u001b[39m\n",
       "\u001b[36m  \u001b[39m\n",
       "\u001b[36m  julia> hcat(a,b)\u001b[39m\n",
       "\u001b[36m  5×3 Matrix{Int64}:\u001b[39m\n",
       "\u001b[36m   1   6   7\u001b[39m\n",
       "\u001b[36m   2   8   9\u001b[39m\n",
       "\u001b[36m   3  10  11\u001b[39m\n",
       "\u001b[36m   4  12  13\u001b[39m\n",
       "\u001b[36m   5  14  15\u001b[39m\n",
       "\u001b[36m  \u001b[39m\n",
       "\u001b[36m  julia> c = ([1; 2; 3], [4; 5; 6])\u001b[39m\n",
       "\u001b[36m  ([1, 2, 3], [4, 5, 6])\u001b[39m\n",
       "\u001b[36m  \u001b[39m\n",
       "\u001b[36m  julia> hcat(c...)\u001b[39m\n",
       "\u001b[36m  3×2 Matrix{Int64}:\u001b[39m\n",
       "\u001b[36m   1  4\u001b[39m\n",
       "\u001b[36m   2  5\u001b[39m\n",
       "\u001b[36m   3  6\u001b[39m\n",
       "\u001b[36m  \u001b[39m\n",
       "\u001b[36m  julia> x = Matrix(undef, 3, 0)  # x = [] would have created an Array{Any, 1}, but need an Array{Any, 2}\u001b[39m\n",
       "\u001b[36m  3×0 Matrix{Any}\u001b[39m\n",
       "\u001b[36m  \u001b[39m\n",
       "\u001b[36m  julia> hcat(x, [1; 2; 3])\u001b[39m\n",
       "\u001b[36m  3×1 Matrix{Any}:\u001b[39m\n",
       "\u001b[36m   1\u001b[39m\n",
       "\u001b[36m   2\u001b[39m\n",
       "\u001b[36m   3\u001b[39m"
      ]
     },
     "execution_count": 211,
     "metadata": {},
     "output_type": "execute_result"
    }
   ],
   "source": [
    "?hcat"
   ]
  },
  {
   "cell_type": "code",
   "execution_count": 149,
   "metadata": {},
   "outputs": [],
   "source": [
    "# μ = rand(2,500)\n",
    "# logσ= rand(2,500)\n",
    "# # .exp(logσ * 0.5f0) \n",
    "# rand(Normal(0,1)) * exp.(logσ * 0.5f0) + μ\n",
    "\n",
    "\n",
    "# exp.([1,2])\n",
    "\n"
   ]
  },
  {
   "cell_type": "code",
   "execution_count": null,
   "metadata": {},
   "outputs": [],
   "source": []
  }
 ],
 "metadata": {
  "kernelspec": {
   "display_name": "Julia 1.7.2",
   "language": "julia",
   "name": "julia-1.7"
  },
  "language_info": {
   "file_extension": ".jl",
   "mimetype": "application/julia",
   "name": "julia",
   "version": "1.7.2"
  }
 },
 "nbformat": 4,
 "nbformat_minor": 4
}
