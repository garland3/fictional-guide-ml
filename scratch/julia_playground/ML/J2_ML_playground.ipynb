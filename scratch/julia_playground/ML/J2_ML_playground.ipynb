{
 "cells": [
  {
   "cell_type": "code",
   "execution_count": 1,
   "metadata": {},
   "outputs": [],
   "source": [
    "using Flux"
   ]
  },
  {
   "cell_type": "code",
   "execution_count": 2,
   "metadata": {},
   "outputs": [
    {
     "data": {
      "text/plain": [
       "Dense(1, 2)         \u001b[90m# 4 parameters\u001b[39m"
      ]
     },
     "execution_count": 2,
     "metadata": {},
     "output_type": "execute_result"
    }
   ],
   "source": [
    "layer1 = Dense(1,2)"
   ]
  },
  {
   "cell_type": "code",
   "execution_count": 5,
   "metadata": {},
   "outputs": [
    {
     "data": {
      "text/plain": [
       "2×1 Matrix{Float32}:\n",
       "  0.938129\n",
       " -0.76933825"
      ]
     },
     "execution_count": 5,
     "metadata": {},
     "output_type": "execute_result"
    }
   ],
   "source": [
    "layer1.weight"
   ]
  },
  {
   "cell_type": "code",
   "execution_count": 6,
   "metadata": {},
   "outputs": [
    {
     "data": {
      "text/plain": [
       "identity (generic function with 1 method)"
      ]
     },
     "execution_count": 6,
     "metadata": {},
     "output_type": "execute_result"
    }
   ],
   "source": [
    "layer1.σ"
   ]
  },
  {
   "cell_type": "code",
   "execution_count": 7,
   "metadata": {},
   "outputs": [
    {
     "data": {
      "text/plain": [
       "Dense(10, 1)        \u001b[90m# 11 parameters\u001b[39m"
      ]
     },
     "execution_count": 7,
     "metadata": {},
     "output_type": "execute_result"
    }
   ],
   "source": [
    "layer2 = Dense(2,4)\n",
    "layer3 = Dense(4,10)\n",
    "layer4 = Dense(10,1)"
   ]
  },
  {
   "cell_type": "code",
   "execution_count": 8,
   "metadata": {},
   "outputs": [
    {
     "data": {
      "text/plain": [
       "Chain(\n",
       "  Dense(1, 2),                          \u001b[90m# 4 parameters\u001b[39m\n",
       "  Dense(2, 4),                          \u001b[90m# 12 parameters\u001b[39m\n",
       "  Dense(4, 10),                         \u001b[90m# 50 parameters\u001b[39m\n",
       "  Dense(10, 1),                         \u001b[90m# 11 parameters\u001b[39m\n",
       ")\u001b[90m                   # Total: 8 arrays, \u001b[39m77 parameters, 820 bytes."
      ]
     },
     "execution_count": 8,
     "metadata": {},
     "output_type": "execute_result"
    }
   ],
   "source": [
    "model = Chain(layer1, layer2, layer3, layer4)"
   ]
  },
  {
   "cell_type": "code",
   "execution_count": 10,
   "metadata": {},
   "outputs": [],
   "source": [
    "# input  = Array{Bool}(undef,num_nodes)\n",
    "# model(1)"
   ]
  },
  {
   "cell_type": "code",
   "execution_count": 12,
   "metadata": {},
   "outputs": [
    {
     "data": {
      "text/plain": [
       "Conv((5, 5), 3 => 7, relu)  \u001b[90m# 532 parameters\u001b[39m"
      ]
     },
     "execution_count": 12,
     "metadata": {},
     "output_type": "execute_result"
    }
   ],
   "source": [
    "layercnn = Conv((5,5), 3 => 7, relu )"
   ]
  },
  {
   "cell_type": "code",
   "execution_count": 13,
   "metadata": {},
   "outputs": [],
   "source": [
    "# ?Conv"
   ]
  },
  {
   "cell_type": "code",
   "execution_count": 15,
   "metadata": {},
   "outputs": [],
   "source": [
    "xs = rand(Float32, 100,100,3,50); #  50 images 3 channels, 100x100 size"
   ]
  },
  {
   "cell_type": "code",
   "execution_count": 17,
   "metadata": {},
   "outputs": [
    {
     "data": {
      "text/plain": [
       "(96, 96, 7, 50)"
      ]
     },
     "execution_count": 17,
     "metadata": {},
     "output_type": "execute_result"
    }
   ],
   "source": [
    "xs2 = layercnn(xs);\n",
    "size(xs2)"
   ]
  },
  {
   "cell_type": "code",
   "execution_count": 18,
   "metadata": {},
   "outputs": [],
   "source": [
    "# https://fluxml.ai/Flux.jl/stable/training/optimisers/\n"
   ]
  },
  {
   "cell_type": "code",
   "execution_count": 19,
   "metadata": {},
   "outputs": [
    {
     "data": {
      "text/plain": [
       "2-element Vector{Float64}:\n",
       " 0.4898893196766243\n",
       " 0.4695098216589445"
      ]
     },
     "execution_count": 19,
     "metadata": {},
     "output_type": "execute_result"
    }
   ],
   "source": [
    "W = rand(2, 5)\n",
    "b = rand(2)"
   ]
  },
  {
   "cell_type": "code",
   "execution_count": 20,
   "metadata": {},
   "outputs": [
    {
     "data": {
      "text/plain": [
       "2×5 Matrix{Float64}:\n",
       " 0.0365731  0.7301     0.539311   0.0194246  0.867357\n",
       " 0.731728   0.0394094  0.0056404  0.471687   0.627181"
      ]
     },
     "execution_count": 20,
     "metadata": {},
     "output_type": "execute_result"
    }
   ],
   "source": [
    "W"
   ]
  },
  {
   "cell_type": "code",
   "execution_count": 21,
   "metadata": {},
   "outputs": [
    {
     "data": {
      "text/plain": [
       "predict (generic function with 1 method)"
      ]
     },
     "execution_count": 21,
     "metadata": {},
     "output_type": "execute_result"
    }
   ],
   "source": [
    "predict(x) = (W * x) .+ b"
   ]
  },
  {
   "cell_type": "code",
   "execution_count": 23,
   "metadata": {},
   "outputs": [
    {
     "data": {
      "text/plain": [
       "2-element Vector{Float64}:\n",
       " 2.176796732476947\n",
       " 1.8047714135415402"
      ]
     },
     "execution_count": 23,
     "metadata": {},
     "output_type": "execute_result"
    }
   ],
   "source": [
    "xs = rand(5)\n",
    "predict(xs)"
   ]
  },
  {
   "cell_type": "code",
   "execution_count": 24,
   "metadata": {},
   "outputs": [
    {
     "data": {
      "text/plain": [
       "loss (generic function with 1 method)"
      ]
     },
     "execution_count": 24,
     "metadata": {},
     "output_type": "execute_result"
    }
   ],
   "source": [
    "loss(x, y) = sum((predict(x) .- y).^2)"
   ]
  },
  {
   "cell_type": "code",
   "execution_count": 25,
   "metadata": {},
   "outputs": [
    {
     "data": {
      "text/plain": [
       "4.7738948967907495"
      ]
     },
     "execution_count": 25,
     "metadata": {},
     "output_type": "execute_result"
    }
   ],
   "source": [
    "x, y = rand(5), rand(2) # Dummy data\n",
    "l = loss(x, y) # ~ 3"
   ]
  },
  {
   "cell_type": "code",
   "execution_count": 27,
   "metadata": {},
   "outputs": [
    {
     "data": {
      "text/plain": [
       "Params([[0.03657308254590408 0.7300998160631591 … 0.019424575546338918 0.8673573314782226; 0.7317280380500616 0.03940938418179407 … 0.4716869488840266 0.6271813143770605], [0.4898893196766243, 0.4695098216589445]])"
      ]
     },
     "execution_count": 27,
     "metadata": {},
     "output_type": "execute_result"
    }
   ],
   "source": [
    "# ?params\n",
    "θ = params(W, b)\n",
    "# grads = gradient(() -> loss(x, y), θ)"
   ]
  },
  {
   "cell_type": "code",
   "execution_count": 29,
   "metadata": {},
   "outputs": [],
   "source": [
    "# ?gradient"
   ]
  },
  {
   "cell_type": "code",
   "execution_count": 31,
   "metadata": {},
   "outputs": [
    {
     "data": {
      "text/plain": [
       "Grads(...)"
      ]
     },
     "execution_count": 31,
     "metadata": {},
     "output_type": "execute_result"
    }
   ],
   "source": [
    "grads = gradient(() -> loss(x, y), θ)"
   ]
  },
  {
   "cell_type": "code",
   "execution_count": 32,
   "metadata": {},
   "outputs": [],
   "source": [
    "using Flux.Optimise: update!"
   ]
  },
  {
   "cell_type": "code",
   "execution_count": 34,
   "metadata": {},
   "outputs": [
    {
     "name": "stdout",
     "output_type": "stream",
     "text": [
      "search:\n",
      "\n"
     ]
    },
    {
     "data": {
      "text/latex": [
       "\\begin{verbatim}\n",
       "update!(x, x̄)\n",
       "\\end{verbatim}\n",
       "Update the array \\texttt{x} according to \\texttt{x .-= x̄}.\n",
       "\n",
       "\\rule{\\textwidth}{1pt}\n",
       "\\begin{verbatim}\n",
       "update!(opt, p, g)\n",
       "update!(opt, ps::Params, gs)\n",
       "\\end{verbatim}\n",
       "Perform an update step of the parameters \\texttt{ps} (or the single parameter \\texttt{p}) according to optimizer \\texttt{opt}  and the gradients \\texttt{gs} (the gradient \\texttt{g}).\n",
       "\n",
       "As a result, the parameters are mutated and the optimizer's internal state may change. The gradient could be mutated as well.\n",
       "\n"
      ],
      "text/markdown": [
       "```\n",
       "update!(x, x̄)\n",
       "```\n",
       "\n",
       "Update the array `x` according to `x .-= x̄`.\n",
       "\n",
       "---\n",
       "\n",
       "```\n",
       "update!(opt, p, g)\n",
       "update!(opt, ps::Params, gs)\n",
       "```\n",
       "\n",
       "Perform an update step of the parameters `ps` (or the single parameter `p`) according to optimizer `opt`  and the gradients `gs` (the gradient `g`).\n",
       "\n",
       "As a result, the parameters are mutated and the optimizer's internal state may change. The gradient could be mutated as well.\n"
      ],
      "text/plain": [
       "\u001b[36m  update!(x, x̄)\u001b[39m\n",
       "\n",
       "  Update the array \u001b[36mx\u001b[39m according to \u001b[36mx .-= x̄\u001b[39m.\n",
       "\n",
       "  ────────────────────────────────────────────────────────────────────────────\n",
       "\n",
       "\u001b[36m  update!(opt, p, g)\u001b[39m\n",
       "\u001b[36m  update!(opt, ps::Params, gs)\u001b[39m\n",
       "\n",
       "  Perform an update step of the parameters \u001b[36mps\u001b[39m (or the single parameter \u001b[36mp\u001b[39m)\n",
       "  according to optimizer \u001b[36mopt\u001b[39m and the gradients \u001b[36mgs\u001b[39m (the gradient \u001b[36mg\u001b[39m).\n",
       "\n",
       "  As a result, the parameters are mutated and the optimizer's internal state\n",
       "  may change. The gradient could be mutated as well."
      ]
     },
     "execution_count": 34,
     "metadata": {},
     "output_type": "execute_result"
    }
   ],
   "source": [
    "?update!"
   ]
  },
  {
   "cell_type": "code",
   "execution_count": 35,
   "metadata": {},
   "outputs": [],
   "source": [
    "\n",
    "\n",
    "η = 0.1 # Learning Rate\n",
    "for p in (W, b)\n",
    "  update!(p, η * grads[p])\n",
    "end"
   ]
  },
  {
   "cell_type": "code",
   "execution_count": 36,
   "metadata": {},
   "outputs": [],
   "source": [
    "opt = Descent(0.1) # Gradient descent with learning rate 0.1\n",
    "\n",
    "for p in (W, b)\n",
    "  update!(opt, p, grads[p])\n",
    "end"
   ]
  },
  {
   "cell_type": "code",
   "execution_count": 37,
   "metadata": {},
   "outputs": [
    {
     "data": {
      "text/plain": [
       "@mytestmacro (macro with 1 method)"
      ]
     },
     "execution_count": 37,
     "metadata": {},
     "output_type": "execute_result"
    }
   ],
   "source": [
    "macro mytestmacro(n)\n",
    "   s = 0\n",
    "    for i in 1:n\n",
    "        s+=i\n",
    "    end\n",
    "    return s\n",
    "end"
   ]
  },
  {
   "cell_type": "code",
   "execution_count": 40,
   "metadata": {},
   "outputs": [
    {
     "data": {
      "text/plain": [
       "500500"
      ]
     },
     "execution_count": 40,
     "metadata": {},
     "output_type": "execute_result"
    }
   ],
   "source": [
    "@mytestmacro(1000)"
   ]
  },
  {
   "cell_type": "code",
   "execution_count": 43,
   "metadata": {},
   "outputs": [
    {
     "ename": "LoadError",
     "evalue": "LoadError: UndefVarError: @println not defined\nin expression starting at In[43]:1",
     "output_type": "error",
     "traceback": [
      "LoadError: UndefVarError: @println not defined\nin expression starting at In[43]:1",
      "",
      "Stacktrace:",
      " [1] top-level scope",
      "   @ :0",
      " [2] eval",
      "   @ .\\boot.jl:373 [inlined]",
      " [3] include_string(mapexpr::typeof(REPL.softscope), mod::Module, code::String, filename::String)",
      "   @ Base .\\loading.jl:1196"
     ]
    }
   ],
   "source": [
    "sayhello = @println(\"hellow\")"
   ]
  },
  {
   "cell_type": "code",
   "execution_count": null,
   "metadata": {},
   "outputs": [],
   "source": []
  }
 ],
 "metadata": {
  "kernelspec": {
   "display_name": "Julia 1.7.2",
   "language": "julia",
   "name": "julia-1.7"
  },
  "language_info": {
   "file_extension": ".jl",
   "mimetype": "application/julia",
   "name": "julia",
   "version": "1.7.2"
  }
 },
 "nbformat": 4,
 "nbformat_minor": 4
}
