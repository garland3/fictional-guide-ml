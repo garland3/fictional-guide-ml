{
 "cells": [
  {
   "cell_type": "code",
   "execution_count": 1,
   "metadata": {},
   "outputs": [],
   "source": [
    "from t10script import *"
   ]
  },
  {
   "cell_type": "code",
   "execution_count": 2,
   "metadata": {},
   "outputs": [],
   "source": [
    "c = Config"
   ]
  },
  {
   "cell_type": "code",
   "execution_count": 3,
   "metadata": {},
   "outputs": [
    {
     "data": {
      "text/plain": [
       "t10script.Config"
      ]
     },
     "execution_count": 3,
     "metadata": {},
     "output_type": "execute_result"
    }
   ],
   "source": [
    "c"
   ]
  },
  {
   "cell_type": "code",
   "execution_count": 4,
   "metadata": {},
   "outputs": [
    {
     "name": "stdout",
     "output_type": "stream",
     "text": [
      "Equation is (x + 0.262567021225196)*(x + 0.486182818753357)/(x*sin(x))\n",
      "Finished 0. Save name results\\result_8.json with equation (x + 0.262567021225196)*(x + 0.486182818753357)/(x*sin(x))\n",
      "Equation is sin(x)/(x - 0.0841722605309344)\n",
      "Finished 1. Save name results\\result_9.json with equation sin(x)/(x - 0.0841722605309344)\n",
      "Equation is sin(x)/x\n",
      "Finished 2. Save name results\\result_10.json with equation sin(x)/x\n",
      "Equation is x**0.125150042111346/sin(x)\n",
      "Finished 3. Save name results\\result_11.json with equation x**0.125150042111346/sin(x)\n",
      "Equation is cos(x)/(x - 0.398964786659059)\n",
      "Finished 4. Save name results\\result_12.json with equation cos(x)/(x - 0.398964786659059)\n"
     ]
    }
   ],
   "source": [
    "run_loop(c)"
   ]
  },
  {
   "cell_type": "code",
   "execution_count": null,
   "metadata": {},
   "outputs": [],
   "source": []
  }
 ],
 "metadata": {
  "kernelspec": {
   "display_name": "tutorial3",
   "language": "python",
   "name": "tutorial3"
  },
  "language_info": {
   "codemirror_mode": {
    "name": "ipython",
    "version": 3
   },
   "file_extension": ".py",
   "mimetype": "text/x-python",
   "name": "python",
   "nbconvert_exporter": "python",
   "pygments_lexer": "ipython3",
   "version": "3.8.12"
  }
 },
 "nbformat": 4,
 "nbformat_minor": 4
}
