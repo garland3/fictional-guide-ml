{
 "cells": [
  {
   "cell_type": "markdown",
   "metadata": {},
   "source": [
    "# Goal\n",
    "* Generate many functions. \n",
    "    * Model the function with an MLP and fit with n epochs\n",
    "    * Use the MLP to find $dydx$ and $d2y/d2x$ using `torch.autograd.grad`.\n",
    "    * Use the  range of -1 to 1\n",
    "    * Calculate the expected $dydx$ and $d2y/d2x$ for each function using sympy\n",
    "    * Compare the L2 error between the analytical values and the MLP evaluted values for $dydx$ and $d2y/d2x$ \n",
    "    * Record the error values \n",
    "    * Plot the performance of the MLP to model the function and its deriviates\n"
   ]
  },
  {
   "cell_type": "code",
   "execution_count": 455,
   "metadata": {},
   "outputs": [],
   "source": [
    "import torch\n",
    "import torch.nn as nn\n",
    "import torch.nn.functional as F\n",
    "import matplotlib.pyplot as plt\n",
    "from  sympy import *\n",
    "import random\n",
    "import numpy as np\n",
    "import warnings\n",
    "from base import *\n",
    "from dataclasses import dataclass\n",
    "from dataclasses_json import dataclass_json\n",
    "from pathlib import Path"
   ]
  },
  {
   "cell_type": "code",
   "execution_count": 419,
   "metadata": {},
   "outputs": [],
   "source": [
    "%matplotlib inline"
   ]
  },
  {
   "cell_type": "code",
   "execution_count": 420,
   "metadata": {},
   "outputs": [],
   "source": [
    "do_step = Stepper()"
   ]
  },
  {
   "cell_type": "markdown",
   "metadata": {},
   "source": [
    "# Randomly generate an equation"
   ]
  },
  {
   "cell_type": "code",
   "execution_count": 421,
   "metadata": {},
   "outputs": [],
   "source": [
    "x = symbols(\"x\")"
   ]
  },
  {
   "cell_type": "code",
   "execution_count": 422,
   "metadata": {},
   "outputs": [],
   "source": [
    "def add(x1,x2): return x1-x2\n",
    "def minus(x1, x2): return x1-x2\n",
    "def power(x1, x2): return x1**x2\n",
    "def identity(x1): return x1\n",
    "# def sin_with_frequency(x1, x2): return sin(x1*x2)"
   ]
  },
  {
   "cell_type": "markdown",
   "metadata": {},
   "source": [
    "Here we are making a list of operations we might use. We break it up into two types of operations\n",
    "* operations with just a single input\n",
    "* operations with a input and a second number"
   ]
  },
  {
   "cell_type": "code",
   "execution_count": 423,
   "metadata": {},
   "outputs": [],
   "source": [
    "fns = [cos, sin, identity]\n",
    "fns2 = [add, minus, power]"
   ]
  },
  {
   "cell_type": "markdown",
   "metadata": {},
   "source": [
    "Make an expression will combine together `number_of_num_fncs` of operations together. For each operation it will first randomly pick an operation in the list `fns` or `fns2` with the only difference being that for `fns2` operations, it will need to generate another random value as an additional argument to the operation.  "
   ]
  },
  {
   "cell_type": "code",
   "execution_count": 424,
   "metadata": {},
   "outputs": [],
   "source": [
    "def make_equation(number_of_num_fncs):\n",
    "    y  = 1\n",
    "    for i in range(number_of_num_fncs):\n",
    "        if random.randint(0,1)==0:\n",
    "            # only requires 1 input. \n",
    "            fn = random.choice(fns)\n",
    "            y = y*fn(x)\n",
    "        else:\n",
    "            # requires 2 inputs. \n",
    "            fn = random.choice(fns2)\n",
    "            value = random.random()-0.5\n",
    "            # now choose if x is the input\n",
    "            if type(y)!=int and  y.has(x): # first, make sure y already has an x in its expression\n",
    "                if random.randint(0,1)==0:\n",
    "                    y = y*fn(x,value) # just use x as the input\n",
    "                else:\n",
    "                    print(f\"making composite, fn is {str(fn)} and  y = {y}\")\n",
    "                    y = fn(y,value) # do a composite function\n",
    "                    \n",
    "            else:\n",
    "                # if missing x in the express, then we need to use X for sure as the 1st input. \n",
    "                y = y*fn(x,value)\n",
    "#         print(i, y)\n",
    "\n",
    "    # catch the special case where everything cancels out. Just make the identity function\n",
    "    if type(y)==int or  y.has(x)== False:\n",
    "        print(f\"catching function with nothing {y}\")\n",
    "        y = x\n",
    "    return y\n",
    "    "
   ]
  },
  {
   "cell_type": "markdown",
   "metadata": {},
   "source": [
    "We call `make_equation` twice for the numerator and operator, then combine the results to make a whole equation. "
   ]
  },
  {
   "cell_type": "code",
   "execution_count": 425,
   "metadata": {},
   "outputs": [],
   "source": [
    "def make_whole_equation(possible_operations = 3, min_operations = 1):\n",
    "    number_of_num_fncs_numerator = random.randint(min_operations,possible_operations)\n",
    "    number_of_num_fncs_denominator = random.randint(min_operations,possible_operations)\n",
    "#     print(number_of_num_fncs_numerator,number_of_num_fncs_denominator )\n",
    "    numerator = make_equation(number_of_num_fncs_numerator)\n",
    "    denominator = make_equation(number_of_num_fncs_numerator)\n",
    "    equation = numerator/denominator\n",
    "    if type(equation)==int or  equation.has(x)== False:\n",
    "        print(f\"catching function with nothing {equation} within make_whole_equation\")\n",
    "        equation = x\n",
    "    return equation"
   ]
  },
  {
   "cell_type": "code",
   "execution_count": 426,
   "metadata": {},
   "outputs": [
    {
     "name": "stdout",
     "output_type": "stream",
     "text": [
      "making composite, fn is <function add at 0x000001C3ACEC4EE0> and  y = x**1.42488621167199\n",
      "making composite, fn is <function minus at 0x000001C3ACEC4B80> and  y = (x + 0.387811371643577)*(x + 0.475682368513832)\n"
     ]
    },
    {
     "data": {
      "text/latex": [
       "$\\displaystyle \\frac{x^{1.42488621167199} - 0.0625852585048804}{\\left(x + 0.387811371643577\\right) \\left(x + 0.475682368513832\\right) - 0.2415706263371}$"
      ],
      "text/plain": [
       "(x**1.42488621167199 - 0.0625852585048804)/((x + 0.387811371643577)*(x + 0.475682368513832) - 0.2415706263371)"
      ]
     },
     "execution_count": 426,
     "metadata": {},
     "output_type": "execute_result"
    }
   ],
   "source": [
    "equation = make_whole_equation()\n",
    "equation"
   ]
  },
  {
   "cell_type": "code",
   "execution_count": 427,
   "metadata": {},
   "outputs": [
    {
     "data": {
      "text/latex": [
       "$\\displaystyle \\frac{x^{1.42488621167199} - 0.0625852585048804}{\\left(x + 0.387811371643577\\right) \\left(x + 0.475682368513832\\right) - 0.2415706263371}$"
      ],
      "text/plain": [
       "(x**1.42488621167199 - 0.0625852585048804)/((x + 0.387811371643577)*(x + 0.475682368513832) - 0.2415706263371)"
      ]
     },
     "execution_count": 427,
     "metadata": {},
     "output_type": "execute_result"
    }
   ],
   "source": [
    "equation"
   ]
  },
  {
   "cell_type": "markdown",
   "metadata": {},
   "source": [
    "We take the symbolic equation and convert it to a numpy function using `lambdify`. Then we evalute the function at the points in `x_numeric` and then plot to see if everything is working. "
   ]
  },
  {
   "cell_type": "code",
   "execution_count": 428,
   "metadata": {},
   "outputs": [],
   "source": [
    "f = lambdify(x, equation, \"numpy\")"
   ]
  },
  {
   "cell_type": "code",
   "execution_count": 429,
   "metadata": {},
   "outputs": [],
   "source": [
    "x_numeric = np.linspace(-1,1, 40)"
   ]
  },
  {
   "cell_type": "code",
   "execution_count": 430,
   "metadata": {},
   "outputs": [],
   "source": [
    "with warnings.catch_warnings():\n",
    "    warnings.simplefilter(\"ignore\")\n",
    "    y = f(x_numeric)\n",
    "    y = np.nan_to_num(y)"
   ]
  },
  {
   "cell_type": "code",
   "execution_count": 431,
   "metadata": {},
   "outputs": [
    {
     "data": {
      "text/plain": [
       "Text(0.5, 1.0, 'function')"
      ]
     },
     "execution_count": 431,
     "metadata": {},
     "output_type": "execute_result"
    },
    {
     "data": {
      "image/png": "[encoded data removed]",
      "text/plain": [
       "<Figure size 432x288 with 1 Axes>"
      ]
     },
     "metadata": {
      "needs_background": "light"
     },
     "output_type": "display_data"
    }
   ],
   "source": [
    "plt.plot(x_numeric, y, 'ro-')\n",
    "plt.ylim([-10,10])\n",
    "plt.xlim([-1,1])\n",
    "plt.title(\"function\")"
   ]
  },
  {
   "cell_type": "markdown",
   "metadata": {},
   "source": [
    "Next, we calculate the analytical first derivative. Then we turn the function into a numpy function, evalute, and plot. "
   ]
  },
  {
   "cell_type": "code",
   "execution_count": 432,
   "metadata": {},
   "outputs": [],
   "source": [
    "with warnings.catch_warnings():\n",
    "    warnings.simplefilter(\"ignore\")\n",
    "#     dydx = simplify( diff(equation, x))\n",
    "    dydx =  diff(equation, x)"
   ]
  },
  {
   "cell_type": "code",
   "execution_count": 433,
   "metadata": {},
   "outputs": [
    {
     "data": {
      "text/latex": [
       "$\\displaystyle \\frac{1.42488621167199 x^{0.424886211671994}}{\\left(x + 0.387811371643577\\right) \\left(x + 0.475682368513832\\right) - 0.2415706263371} + \\frac{\\left(- 2 x - 0.86349374015741\\right) \\left(x^{1.42488621167199} - 0.0625852585048804\\right)}{\\left(\\left(x + 0.387811371643577\\right) \\left(x + 0.475682368513832\\right) - 0.2415706263371\\right)^{2}}$"
      ],
      "text/plain": [
       "1.42488621167199*x**0.424886211671994/((x + 0.387811371643577)*(x + 0.475682368513832) - 0.2415706263371) + (-2*x - 0.86349374015741)*(x**1.42488621167199 - 0.0625852585048804)/((x + 0.387811371643577)*(x + 0.475682368513832) - 0.2415706263371)**2"
      ]
     },
     "execution_count": 433,
     "metadata": {},
     "output_type": "execute_result"
    }
   ],
   "source": [
    "dydx"
   ]
  },
  {
   "cell_type": "code",
   "execution_count": 434,
   "metadata": {},
   "outputs": [],
   "source": [
    "with warnings.catch_warnings():\n",
    "    warnings.simplefilter(\"ignore\")\n",
    "    f_dydx = lambdify(x, dydx, \"numpy\")\n",
    "    dydx_values = f_dydx(x_numeric)\n",
    "    dydx_values = np.nan_to_num(dydx_values)"
   ]
  },
  {
   "cell_type": "code",
   "execution_count": 435,
   "metadata": {},
   "outputs": [
    {
     "data": {
      "text/plain": [
       "Text(0.5, 1.0, 'dydx')"
      ]
     },
     "execution_count": 435,
     "metadata": {},
     "output_type": "execute_result"
    },
    {
     "data": {
      "image/png": "[encoded data removed]",
      "text/plain": [
       "<Figure size 432x288 with 1 Axes>"
      ]
     },
     "metadata": {
      "needs_background": "light"
     },
     "output_type": "display_data"
    }
   ],
   "source": [
    "plt.plot(x_numeric, dydx_values, 'ro-')\n",
    "plt.ylim([-10,10])\n",
    "plt.xlim([-1,1])\n",
    "plt.title(\"dydx\")"
   ]
  },
  {
   "cell_type": "markdown",
   "metadata": {},
   "source": [
    "We do the same thing for hte 2nd derivative. "
   ]
  },
  {
   "cell_type": "code",
   "execution_count": 436,
   "metadata": {},
   "outputs": [],
   "source": [
    "with warnings.catch_warnings():\n",
    "    warnings.simplefilter(\"ignore\")\n",
    "    d2yd2x =  diff(dydx, x)\n",
    "    f_d2yd2x = lambdify(x, d2yd2x, \"numpy\")\n",
    "    d2yd2x_values = f_d2yd2x(x_numeric)\n",
    "    d2yd2x_values = np.nan_to_num(d2yd2x_values)"
   ]
  },
  {
   "cell_type": "code",
   "execution_count": 437,
   "metadata": {},
   "outputs": [
    {
     "data": {
      "text/plain": [
       "Text(0.5, 1.0, 'd2yd2x')"
      ]
     },
     "execution_count": 437,
     "metadata": {},
     "output_type": "execute_result"
    },
    {
     "data": {
      "image/png": "[encoded data removed]",
      "text/plain": [
       "<Figure size 432x288 with 1 Axes>"
      ]
     },
     "metadata": {
      "needs_background": "light"
     },
     "output_type": "display_data"
    }
   ],
   "source": [
    "plt.plot(x_numeric, d2yd2x_values, 'ro-')\n",
    "plt.ylim([-10,10])\n",
    "plt.xlim([-1,1])\n",
    "plt.title(\"d2yd2x\")"
   ]
  },
  {
   "cell_type": "markdown",
   "metadata": {},
   "source": [
    "## MLP\n",
    "* make an mlp\n",
    "* fit it to y values \n",
    "* measure the error for y, dydx, and d2yd2x"
   ]
  },
  {
   "cell_type": "markdown",
   "metadata": {},
   "source": [
    "Notes:\n",
    "* convert nan's to 0 and infinity to a large number with `nan_to_num`\n",
    "* convert to tensor\n",
    "* convert to batch format\n",
    "* convert to float32"
   ]
  },
  {
   "cell_type": "code",
   "execution_count": 438,
   "metadata": {},
   "outputs": [],
   "source": [
    "# clip eerything to be in the range of -nn to nn\n",
    "nn = 30\n",
    "\n",
    "# make a torch version of the symbolically found dydx\n",
    "dydx_values_true_t = torch.Tensor(dydx_values)\n",
    "d2yd2x_values_true_t  = torch.Tensor(d2yd2x_values)\n",
    "y = torch.Tensor(y)\n",
    "my_tensors  = [ dydx_values_true_t,d2yd2x_values_true_t, y]\n",
    "dydx_values_true_t,d2yd2x_values_true_t, y = [torch.clamp(v,-nn,nn) for v in my_tensors]"
   ]
  },
  {
   "cell_type": "code",
   "execution_count": 439,
   "metadata": {},
   "outputs": [],
   "source": [
    "# x_numeric_t, y_t = [torch.tensor(z) for z in  [x_numeric,y]]\n",
    "xb, yb = [make_batch(torch.tensor(np.nan_to_num(z))).to(torch.float32) for z in [x_numeric,y]]\n",
    "yb_normalizer = Normalizer(yb)\n",
    "yb_norm = yb_normalizer.norm(yb)"
   ]
  },
  {
   "cell_type": "markdown",
   "metadata": {},
   "source": [
    "## Train the MLP\n",
    "* a learning rate higher than 1e-2 is generally unstable. "
   ]
  },
  {
   "cell_type": "code",
   "execution_count": 440,
   "metadata": {},
   "outputs": [],
   "source": [
    "mlp = make_mlp(n = 100, layers_count=3, act = Mish)"
   ]
  },
  {
   "cell_type": "code",
   "execution_count": 454,
   "metadata": {},
   "outputs": [
    {
     "data": {
      "text/plain": [
       "torch.Size([40, 1])"
      ]
     },
     "execution_count": 454,
     "metadata": {},
     "output_type": "execute_result"
    }
   ],
   "source": [
    "xb.shape"
   ]
  },
  {
   "cell_type": "code",
   "execution_count": 441,
   "metadata": {},
   "outputs": [],
   "source": [
    "do_step2 = Stepper_v2(mlp, xb, yb_norm)"
   ]
  },
  {
   "cell_type": "code",
   "execution_count": 442,
   "metadata": {},
   "outputs": [],
   "source": [
    "do_step2.do_epochs(int(1e4), lr = 1e-4)"
   ]
  },
  {
   "cell_type": "code",
   "execution_count": 443,
   "metadata": {},
   "outputs": [
    {
     "data": {
      "text/plain": [
       "Text(0.5, 1.0, 'loss per epoch')"
      ]
     },
     "execution_count": 443,
     "metadata": {},
     "output_type": "execute_result"
    },
    {
     "data": {
      "image/png": "[encoded data removed]",
      "text/plain": [
       "<Figure size 432x288 with 1 Axes>"
      ]
     },
     "metadata": {
      "needs_background": "light"
     },
     "output_type": "display_data"
    }
   ],
   "source": [
    "plt.plot(do_step2.loss_list)\n",
    "plt.title(\"loss per epoch\")"
   ]
  },
  {
   "cell_type": "code",
   "execution_count": 444,
   "metadata": {},
   "outputs": [
    {
     "data": {
      "text/plain": [
       "Text(0.5, 1.0, 'function')"
      ]
     },
     "execution_count": 444,
     "metadata": {},
     "output_type": "execute_result"
    },
    {
     "data": {
      "image/png": "[encoded data removed]",
      "text/plain": [
       "<Figure size 432x288 with 1 Axes>"
      ]
     },
     "metadata": {
      "needs_background": "light"
     },
     "output_type": "display_data"
    }
   ],
   "source": [
    "yprime = mlp(xb)\n",
    "\n",
    "yprime_debatch = yb_normalizer.denorm(   debatch(yprime))\n",
    "# x_debatch = debatch(x)\n",
    "\n",
    "plt.plot(x_numeric,y, \"rd-\", label = \"true\")\n",
    "plt.plot(x_numeric,yprime_debatch, \"gs-\", label = \"MLP\")\n",
    "plt.legend()\n",
    "plt.ylim([-10,10])\n",
    "plt.xlim([-1,1])\n",
    "plt.title(\"function\")"
   ]
  },
  {
   "cell_type": "markdown",
   "metadata": {},
   "source": [
    "## calculate dydx and compare to dydx found symbolically"
   ]
  },
  {
   "cell_type": "code",
   "execution_count": 445,
   "metadata": {},
   "outputs": [],
   "source": [
    "xb.requires_grad = True\n",
    "yprime_pre = mlp(xb)\n",
    "yprime_pre.retain_grad()\n",
    "# yprime_pre.requires_grad = True\n",
    "yprime = yb_normalizer.denorm(   yprime_pre)\n",
    "\n",
    "dydx = torch.autograd.grad(yprime.sum(), xb, create_graph=True)[0]\n",
    "\n",
    "d2yd2x = torch.autograd.grad(dydx.sum(), xb, create_graph=True)[0]\n",
    "\n",
    "dydx, d2yd2x = [debatch(v) for v in [dydx, d2yd2x ]]\n",
    "\n",
    "my_tensors  = [dydx, d2yd2x]\n",
    "dydx, d2yd2x= [torch.clamp(v,-nn,nn) for v in my_tensors]"
   ]
  },
  {
   "cell_type": "code",
   "execution_count": 446,
   "metadata": {},
   "outputs": [
    {
     "data": {
      "text/plain": [
       "Text(0.5, 1.0, 'dydx')"
      ]
     },
     "execution_count": 446,
     "metadata": {},
     "output_type": "execute_result"
    },
    {
     "data": {
      "image/png": "[encoded data removed]",
      "text/plain": [
       "<Figure size 432x288 with 1 Axes>"
      ]
     },
     "metadata": {
      "needs_background": "light"
     },
     "output_type": "display_data"
    }
   ],
   "source": [
    "plt.plot(x_numeric,dydx_values_true_t, \"rd-\", label = \"true dy/dx\")\n",
    "plt.plot(x_numeric,dydx, \"gs-\", label = \"MLP dy/dx\")\n",
    "plt.legend()\n",
    "\n",
    "# plt.plot(x_numeric, dydx_values, 'ro-')\n",
    "plt.ylim([-nn,nn])\n",
    "plt.xlim([-1,1])\n",
    "plt.title(\"dydx\")"
   ]
  },
  {
   "cell_type": "code",
   "execution_count": 447,
   "metadata": {},
   "outputs": [
    {
     "data": {
      "text/plain": [
       "tensor(154.6720)"
      ]
     },
     "execution_count": 447,
     "metadata": {},
     "output_type": "execute_result"
    }
   ],
   "source": [
    "\n",
    "dydx_error = F.mse_loss(dydx_values_true_t,debatch(dydx))\n",
    "dydx_error"
   ]
  },
  {
   "cell_type": "code",
   "execution_count": 448,
   "metadata": {},
   "outputs": [
    {
     "data": {
      "text/plain": [
       "((40,), torch.Size([40]))"
      ]
     },
     "execution_count": 448,
     "metadata": {},
     "output_type": "execute_result"
    }
   ],
   "source": [
    "dydx_values.shape, d2yd2x_values_true_t.shape"
   ]
  },
  {
   "cell_type": "code",
   "execution_count": 449,
   "metadata": {},
   "outputs": [
    {
     "data": {
      "text/plain": [
       "Text(0.5, 1.0, 'd2yd2x')"
      ]
     },
     "execution_count": 449,
     "metadata": {},
     "output_type": "execute_result"
    },
    {
     "data": {
      "image/png": "[encoded data removed]",
      "text/plain": [
       "<Figure size 432x288 with 1 Axes>"
      ]
     },
     "metadata": {
      "needs_background": "light"
     },
     "output_type": "display_data"
    }
   ],
   "source": [
    "plt.plot(x_numeric,d2yd2x_values_true_t, \"rd-\", label = \"true d2y/d2x\")\n",
    "plt.plot(x_numeric,debatch(d2yd2x), \"gs-\", label = \"MLP d2y/d2x\")\n",
    "plt.legend()\n",
    "plt.ylim([-nn,nn])\n",
    "plt.title(\"d2yd2x\")"
   ]
  },
  {
   "cell_type": "code",
   "execution_count": 450,
   "metadata": {},
   "outputs": [
    {
     "data": {
      "text/plain": [
       "tensor(320.7491)"
      ]
     },
     "execution_count": 450,
     "metadata": {},
     "output_type": "execute_result"
    }
   ],
   "source": [
    "d2yd2x_error = F.mse_loss(d2yd2x_values_true_t, d2yd2x)\n",
    "d2yd2x_error"
   ]
  },
  {
   "cell_type": "markdown",
   "metadata": {},
   "source": [
    "dydx_error = F.mse_loss(dydx_values_true_t,debatch(dydx))\n",
    "dydx_error# Put it all together now in a loop\n",
    "* "
   ]
  },
  {
   "cell_type": "code",
   "execution_count": 466,
   "metadata": {},
   "outputs": [],
   "source": []
  },
  {
   "cell_type": "code",
   "execution_count": 461,
   "metadata": {},
   "outputs": [],
   "source": [
    "@dataclass_json\n",
    "@dataclass\n",
    "class Results:\n",
    "    fn_loss:float\n",
    "    dydx_loss:float\n",
    "    d2yd2x_loss:float\n",
    "    fn:str"
   ]
  },
  {
   "cell_type": "code",
   "execution_count": 464,
   "metadata": {},
   "outputs": [
    {
     "data": {
      "text/plain": [
       "Results(fn_loss=0.00507177272811532, dydx_loss=154.6720428466797, d2yd2x_loss=320.7490539550781, fn='(x**1.42488621167199 - 0.0625852585048804)/((x + 0.387811371643577)*(x + 0.475682368513832) - 0.2415706263371)')"
      ]
     },
     "execution_count": 464,
     "metadata": {},
     "output_type": "execute_result"
    }
   ],
   "source": [
    "r = Results(do_step2.loss_list[-1].item(), dydx_error.item(), d2yd2x_error.item(), str(equation))\n",
    "r"
   ]
  },
  {
   "cell_type": "code",
   "execution_count": 492,
   "metadata": {},
   "outputs": [],
   "source": [
    "def make_file_name(idx, p):\n",
    "    return p / f\"result_{idx}.json\"\n",
    "\n",
    "def parse_file_name(fname):\n",
    "    i = fname.stem.find(\"_\")\n",
    "    return int(fname.stem[i+1:])\n",
    "\n",
    "def get_next_idx(folder):\n",
    "    files = list(folder.rglob(\"*.json\"))\n",
    "    idxs = [parse_file_name(f) for f in files]\n",
    "    new_idx = max(idxs)+1\n",
    "    return new_idx\n",
    "\n",
    "p = Path(\"results\")\n",
    "p.mkdir(exist_ok=True)"
   ]
  },
  {
   "cell_type": "code",
   "execution_count": 495,
   "metadata": {},
   "outputs": [
    {
     "data": {
      "text/plain": [
       "1"
      ]
     },
     "execution_count": 495,
     "metadata": {},
     "output_type": "execute_result"
    }
   ],
   "source": [
    "new_idx = get_next_idx(p)\n",
    "new_idx"
   ]
  },
  {
   "cell_type": "code",
   "execution_count": 480,
   "metadata": {},
   "outputs": [],
   "source": [
    "j = r.to_json()\n",
    "fname = make_file_name(new_idx,p)\n",
    "with open(fname, 'w') as f:\n",
    "    f.write(j)\n",
    "    "
   ]
  },
  {
   "cell_type": "code",
   "execution_count": 481,
   "metadata": {},
   "outputs": [
    {
     "data": {
      "text/plain": [
       "WindowsPath('C:/Users/garla/git/torch_tutorials_to_shared/scratch/9_working_toward_evaluting_with_sympy/results/result_0.json')"
      ]
     },
     "execution_count": 481,
     "metadata": {},
     "output_type": "execute_result"
    }
   ],
   "source": [
    "fname.absolute()"
   ]
  },
  {
   "cell_type": "code",
   "execution_count": 487,
   "metadata": {},
   "outputs": [
    {
     "data": {
      "text/plain": [
       "0"
      ]
     },
     "execution_count": 487,
     "metadata": {},
     "output_type": "execute_result"
    }
   ],
   "source": []
  },
  {
   "cell_type": "code",
   "execution_count": 474,
   "metadata": {},
   "outputs": [],
   "source": [
    "# print(dataconf.string(r, Results))\n",
    "# # Example(hello"
   ]
  },
  {
   "cell_type": "code",
   "execution_count": 451,
   "metadata": {},
   "outputs": [],
   "source": [
    "# # yprime_debatch\n",
    "\n",
    "# # yprime\n",
    "\n",
    "\n",
    "\n",
    "\n",
    "\n",
    "# for i in range(300):\n",
    "#     yprime_out = do_step(mlp, xb, yb, lr = 1e-1)\n",
    "\n",
    "# plt.plot(x,y, \"rd-\", label = \"true\")\n",
    "# plt.plot(x,yprime_out, \"gs-\", label = \"MLP\")\n",
    "# plt.legend()\n",
    "\n",
    "# xb.requires_grad = True\n",
    "# yprime = mlp(xb)\n",
    "\n",
    "# dydx = torch.autograd.grad(yprime.sum(), xb, create_graph=True)[0]\n",
    "\n",
    "# d2yd2x = torch.autograd.grad(dydx.sum(), xb, create_graph=True)[0]\n",
    "\n",
    "# # y, dydx_analytical, d2yd2x_analytical \n",
    "\n"
   ]
  },
  {
   "cell_type": "code",
   "execution_count": 452,
   "metadata": {},
   "outputs": [],
   "source": [
    "# plt.plot(x,dydx_analytical, \"rd-\", label = \"true dy/dx\")\n",
    "# plt.plot(x,debatch(dydx), \"gs-\", label = \"MLP dy/dx\")\n",
    "# plt.legend()"
   ]
  },
  {
   "cell_type": "code",
   "execution_count": 453,
   "metadata": {},
   "outputs": [],
   "source": [
    "# plt.plot(x,d2yd2x_analytical, \"rd-\", label = \"true d2y/d2x\")\n",
    "# plt.plot(x,debatch(d2yd2x), \"gs-\", label = \"MLP d2y/d2x\")\n",
    "# plt.legend()"
   ]
  },
  {
   "cell_type": "code",
   "execution_count": null,
   "metadata": {},
   "outputs": [],
   "source": []
  },
  {
   "cell_type": "code",
   "execution_count": null,
   "metadata": {},
   "outputs": [],
   "source": []
  }
 ],
 "metadata": {
  "kernelspec": {
   "display_name": "tutorial3",
   "language": "python",
   "name": "tutorial3"
  },
  "language_info": {
   "codemirror_mode": {
    "name": "ipython",
    "version": 3
   },
   "file_extension": ".py",
   "mimetype": "text/x-python",
   "name": "python",
   "nbconvert_exporter": "python",
   "pygments_lexer": "ipython3",
   "version": "3.8.12"
  }
 },
 "nbformat": 4,
 "nbformat_minor": 4
}
