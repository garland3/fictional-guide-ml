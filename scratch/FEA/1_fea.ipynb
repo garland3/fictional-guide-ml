{
 "cells": [
  {
   "cell_type": "markdown",
   "metadata": {},
   "source": [
    "# fea try\n",
    "* do the hw1 from the fea course I took a while ago\n",
    "* but try it in julia"
   ]
  },
  {
   "cell_type": "code",
   "execution_count": 300,
   "metadata": {},
   "outputs": [],
   "source": [
    "using Plots\n"
   ]
  },
  {
   "cell_type": "code",
   "execution_count": 301,
   "metadata": {},
   "outputs": [],
   "source": [
    "\n",
    "g1 = 0\n",
    "g2 = 0.001\n",
    "\n",
    "u_0 = g1\n",
    "u_l = g2\n",
    "\n",
    "f_bar =10e11\n",
    "\n",
    "function f(x)\n",
    "   return x*f_bar \n",
    "end\n",
    "num_elm = 100\n",
    "num_nodes = num_elm+1\n",
    "h = 10e6\n",
    "L = 0.1\n",
    "dofs_per_elem = 2\n",
    "# dofs_per_elem_values = collect(1:dofs_per_elem)\n",
    "quad_rule = 2\n",
    "quad_rule_values = collect(1:quad_rule)\n",
    "basisFunctionOrder  = 1\n",
    "area = 10e-4\n",
    "modulus = 10e11\n",
    "\n",
    "struct  Quad\n",
    "   quad_points # = [-sqrt(1/3), sqrt(1/3)],\n",
    "   quad_weights# = [1, 1]\n",
    "    \n",
    "end\n",
    "\n"
   ]
  },
  {
   "cell_type": "code",
   "execution_count": 302,
   "metadata": {},
   "outputs": [
    {
     "data": {
      "text/plain": [
       "2-element Array{Int64,1}:\n",
       " 1\n",
       " 2"
      ]
     },
     "execution_count": 302,
     "metadata": {},
     "output_type": "execute_result"
    }
   ],
   "source": [
    "quad_rule_values"
   ]
  },
  {
   "cell_type": "code",
   "execution_count": 303,
   "metadata": {},
   "outputs": [
    {
     "data": {
      "text/plain": [
       "Quad([-0.57735, 0.57735], [1, 1])"
      ]
     },
     "execution_count": 303,
     "metadata": {},
     "output_type": "execute_result"
    }
   ],
   "source": [
    "points = [-sqrt(1/3), sqrt(1/3)]\n",
    "weights = [1,1]\n",
    "myquad =  Quad(points, weights)"
   ]
  },
  {
   "cell_type": "code",
   "execution_count": 304,
   "metadata": {},
   "outputs": [
    {
     "data": {
      "text/plain": [
       "101-element Array{Float64,1}:\n",
       " 0.0  \n",
       " 0.001\n",
       " 0.002\n",
       " 0.003\n",
       " 0.004\n",
       " 0.005\n",
       " 0.006\n",
       " 0.007\n",
       " 0.008\n",
       " 0.009\n",
       " 0.01 \n",
       " 0.011\n",
       " 0.012\n",
       " ⋮    \n",
       " 0.089\n",
       " 0.09 \n",
       " 0.091\n",
       " 0.092\n",
       " 0.093\n",
       " 0.094\n",
       " 0.095\n",
       " 0.096\n",
       " 0.097\n",
       " 0.098\n",
       " 0.099\n",
       " 0.1  "
      ]
     },
     "execution_count": 304,
     "metadata": {},
     "output_type": "execute_result"
    }
   ],
   "source": [
    "\n",
    "# step = L/num_elm\n",
    "node_loc =  collect(range(0, length=num_nodes, stop=L))"
   ]
  },
  {
   "cell_type": "code",
   "execution_count": 305,
   "metadata": {},
   "outputs": [],
   "source": [
    "elem_node_map  = zeros(Int8,num_elm,2); # Array{Float64, 2}(undef, 2, 3)\n"
   ]
  },
  {
   "cell_type": "code",
   "execution_count": 306,
   "metadata": {},
   "outputs": [],
   "source": [
    "# elem_node_map  = zeros(Int8,num_elm,2); # Array{Float64, 2}(undef, 2, 3)\n",
    "for i in collect(1:num_elm)\n",
    "   elem_node_map[i,:]=[i,i+1] \n",
    "#     println(i)\n",
    "#      setindex!(elem_node_map,\n",
    "end"
   ]
  },
  {
   "cell_type": "code",
   "execution_count": 307,
   "metadata": {},
   "outputs": [],
   "source": [
    "# elem_node_map"
   ]
  },
  {
   "cell_type": "code",
   "execution_count": 308,
   "metadata": {},
   "outputs": [
    {
     "data": {
      "text/plain": [
       "get_dofs_for_elem (generic function with 1 method)"
      ]
     },
     "execution_count": 308,
     "metadata": {},
     "output_type": "execute_result"
    }
   ],
   "source": [
    "function get_dofs_for_elem(elm_num)\n",
    "   # get th`ze  global dofs for this element\n",
    "    return elem_node_map[elm_num,:]\n",
    "    \n",
    "end"
   ]
  },
  {
   "cell_type": "code",
   "execution_count": 309,
   "metadata": {},
   "outputs": [
    {
     "data": {
      "text/plain": [
       "2-element Array{Int8,1}:\n",
       " 5\n",
       " 6"
      ]
     },
     "execution_count": 309,
     "metadata": {},
     "output_type": "execute_result"
    }
   ],
   "source": [
    "get_dofs_for_elem(5)"
   ]
  },
  {
   "cell_type": "code",
   "execution_count": 310,
   "metadata": {},
   "outputs": [
    {
     "data": {
      "text/plain": [
       "basis_gradient (generic function with 1 method)"
      ]
     },
     "execution_count": 310,
     "metadata": {},
     "output_type": "execute_result"
    }
   ],
   "source": [
    "function basis_function(node, xi)\n",
    "#      // Try the linear first. Just hard code the basis functions\n",
    "#       double z = xi;\n",
    "    value = 0\n",
    "    if basisFunctionOrder ==1\n",
    "      if node ==1\n",
    "            value = (1 - xi)/2;\n",
    "      elseif node ==2\n",
    "            value = (1 + xi)/2;\n",
    "       else\n",
    "            println(\"Error: Your linear basis function should only have 2 nodes \")\n",
    "        end\n",
    "    else\n",
    "       println(\"Only linear basis function defined right now\") \n",
    "    end\n",
    "    return value    \n",
    "end\n",
    "\n",
    "function basis_gradient(node, xi)\n",
    "#      // Try the linear first. Just hard code the basis functions\n",
    "#       double z = xi;\n",
    "    value = 0\n",
    "    if basisFunctionOrder ==1\n",
    "      if node ==1\n",
    "        value =-1/2\n",
    "      elseif node ==2\n",
    "          value =1/2\n",
    "       else\n",
    "        println(\"Error: Your linear basis function should only have 2 nodes \")\n",
    "            end\n",
    "    else\n",
    "       println(\"Only linear basis function defined right now\") \n",
    "    end\n",
    "    return value    \n",
    "end"
   ]
  },
  {
   "cell_type": "code",
   "execution_count": 311,
   "metadata": {},
   "outputs": [],
   "source": [
    "# setup a vector representing the Dirichlet Boundary Conditions (the fixed BCs)\n",
    "# boundary_values =  Dict()# zeros(Float32,num_nodes );\n",
    "disp = zeros(Float32, num_nodes)\n",
    "free_nodes = Array{Bool}(undef,num_nodes)\n",
    "fill!(free_nodes, true)\n",
    "# println(free_nodes)\n",
    "for node_idx  in 1:num_nodes\n",
    "    if node_loc[node_idx] ==0\n",
    "        disp[node_idx] = u_0\n",
    "        free_nodes[node_idx] = false\n",
    "    elseif node_loc[node_idx] ==L\n",
    "         disp[node_idx] = u_l\n",
    "        free_nodes[node_idx] = false        \n",
    "    end\n",
    "end\n",
    "# all_nodes;"
   ]
  },
  {
   "cell_type": "code",
   "execution_count": 312,
   "metadata": {},
   "outputs": [],
   "source": [
    "# I'm sure there is a better way to do this, but not sure of it right now. \n",
    "# all_nodes = collect(1:num_nodes)\n",
    "# fixed_nodes = keys(boundary_values)\n",
    "# free_nodes = [i for i in all_nodes if !(i in fixed_nodes)];\n",
    "# free_nodes_bool = [!(i in fixed_nodes) for i in all_nodes  ];\n",
    "fixed_nodes = .!free_nodes;"
   ]
  },
  {
   "cell_type": "code",
   "execution_count": 313,
   "metadata": {},
   "outputs": [],
   "source": [
    "Fglobal = zeros(Float32,num_nodes );\n",
    "Kglobal = zeros(Float32, num_nodes, num_nodes);"
   ]
  },
  {
   "cell_type": "code",
   "execution_count": 314,
   "metadata": {},
   "outputs": [],
   "source": [
    "Flocal = zeros(Float32, dofs_per_elem)\n",
    "Klocal = zeros(Float32,dofs_per_elem,dofs_per_elem)\n",
    "for i in collect(1:num_elm)\n",
    "    # zero out previous values. \n",
    "    fill!(Flocal, 0)\n",
    "    fill!(Klocal,0)\n",
    "    \n",
    "    # loop over the elements    \n",
    "    elem_dofs = get_dofs_for_elem(i)\n",
    "    h_e  = node_loc[elem_dofs[2]] - node_loc[elem_dofs[1]]\n",
    "    # ---------------------------    \n",
    "    # calculate the local  forcing vector\n",
    "    # ---------------------------\n",
    "    temp_f_constants = area*h_e/2       \n",
    "    for A in 1:dofs_per_elem\n",
    "#         F_value_at_quad_point=0;\n",
    "        for q in quad_rule_values\n",
    "            x = 0\n",
    "           for B in 1:dofs_per_elem\n",
    "                x += node_loc[elem_dofs[B]]*basis_function(B,myquad.quad_points[q])\n",
    "#                 println(\"generating local f. A = $A, q = $q, B = $B, x_position = $x\")                \n",
    "            end\n",
    "            F_value_at_quad_point = f(x);\n",
    "            n_at_quad_point = basis_function(A,q);\n",
    "            Flocal[A] += F_value_at_quad_point*n_at_quad_point*temp_f_constants*myquad.quad_weights[q];  \n",
    "        end\n",
    "    end    \n",
    "    \n",
    "    # ---------------------------\n",
    "    # Generate K local\n",
    "    # ---------------------------\n",
    "    temp3 = 2 *modulus*area/h_e;  \n",
    "     for A in 1:dofs_per_elem\n",
    "       for B in 1:dofs_per_elem\n",
    "           for q in quad_rule_values\n",
    "#              //EDIT - Define Klocal.\n",
    "             temp =  basis_gradient(A,myquad.quad_points[q]);\n",
    "             temp2 =  basis_gradient(B,myquad.quad_points[q])*myquad.quad_weights[q];\n",
    "#               // std::cout << \"   temp:       \"  << temp <<std::endl;\n",
    "             Klocal[A,B] += temp*temp2* temp3;\n",
    "            end            \n",
    "        end\n",
    "    end\n",
    "\n",
    "    # ---------------------------\n",
    "    #\n",
    "    #      //Assemble local K and F into global K and F\n",
    "    #     //You will need to used local_dof_indices[A]\n",
    "    # \n",
    "    # ---------------------------\n",
    "     for A in 1:dofs_per_elem   \n",
    "        # add the locally generated Flocal to the F global. use the elem_dofs to provide the mapping. \n",
    "        Fglobal[elem_dofs[A]]+=Flocal[A];        \n",
    "        for B in 1:dofs_per_elem # for(unsigned int B=0; B<dofs_per_elem; B++){\n",
    "            #           //EDIT - add component A,B of Klocal to the correct location in K (using local_dof_indices)\n",
    "            # K.add(i,j,C);*/\n",
    "            Kglobal[elem_dofs[A], elem_dofs[B]]+= Klocal[A,B];\n",
    "        end # }\n",
    "    end#     }\n",
    "    \n",
    "#     println(\"Element $i, K = $Klocal, F = $Flocal. With dofs $elem_dofs\")\n",
    "    \n",
    "end"
   ]
  },
  {
   "cell_type": "markdown",
   "metadata": {},
   "source": [
    "# repartition the F and K matrix"
   ]
  },
  {
   "cell_type": "code",
   "execution_count": 315,
   "metadata": {},
   "outputs": [],
   "source": [
    "K_fixedfixed_colum = Kglobal[:, fixed_nodes];\n",
    "# F_fixedfixed = Fglobal[fixed_nodes];\n",
    "disp_fixedfixed = disp[fixed_nodes];\n",
    "F_fixed = K_fixedfixed_colum*disp_fixedfixed;\n",
    "Fglobal -=F_fixed;"
   ]
  },
  {
   "cell_type": "code",
   "execution_count": 316,
   "metadata": {},
   "outputs": [],
   "source": [
    "# size(K_fixedfixed_colum), size(disp_fixedfixed)"
   ]
  },
  {
   "cell_type": "code",
   "execution_count": 317,
   "metadata": {},
   "outputs": [],
   "source": [
    "K_freefree = Kglobal[free_nodes, free_nodes];\n",
    "F_freefree = Fglobal[free_nodes];\n",
    "\n"
   ]
  },
  {
   "cell_type": "markdown",
   "metadata": {},
   "source": [
    "# calculate the solution"
   ]
  },
  {
   "cell_type": "code",
   "execution_count": 318,
   "metadata": {},
   "outputs": [],
   "source": [
    "disp_freefree = inv(K_freefree)*F_freefree;\n"
   ]
  },
  {
   "cell_type": "code",
   "execution_count": 319,
   "metadata": {},
   "outputs": [],
   "source": [
    "# disp = zeros(Float32,num_nodes );\n",
    "disp[free_nodes] += disp_freefree;\n",
    "# disp[fixed_nodes]="
   ]
  },
  {
   "cell_type": "code",
   "execution_count": null,
   "metadata": {},
   "outputs": [],
   "source": [
    "\n",
    "\n"
   ]
  },
  {
   "cell_type": "code",
   "execution_count": 320,
   "metadata": {},
   "outputs": [],
   "source": [
    "# disp_freefree"
   ]
  },
  {
   "cell_type": "code",
   "execution_count": 321,
   "metadata": {},
   "outputs": [],
   "source": [
    "# Fglobal"
   ]
  },
  {
   "cell_type": "code",
   "execution_count": 322,
   "metadata": {},
   "outputs": [],
   "source": [
    "# Kglobal"
   ]
  },
  {
   "cell_type": "code",
   "execution_count": 323,
   "metadata": {},
   "outputs": [],
   "source": [
    "# plot(node_loc,Fglobal)\n"
   ]
  },
  {
   "cell_type": "code",
   "execution_count": 324,
   "metadata": {},
   "outputs": [],
   "source": [
    "# Klocal"
   ]
  },
  {
   "cell_type": "code",
   "execution_count": 325,
   "metadata": {},
   "outputs": [],
   "source": [
    "# Flocal"
   ]
  },
  {
   "cell_type": "code",
   "execution_count": 326,
   "metadata": {},
   "outputs": [],
   "source": [
    "# ? collect"
   ]
  },
  {
   "cell_type": "code",
   "execution_count": 327,
   "metadata": {},
   "outputs": [
    {
     "data": {
      "text/plain": [
       "exact (generic function with 1 method)"
      ]
     },
     "execution_count": 327,
     "metadata": {},
     "output_type": "execute_result"
    }
   ],
   "source": [
    "function exact(x)\n",
    "   c1 = (modulus.*g2 .+f_bar .* L.^3 ./6 .- modulus .*g1) ./L;\n",
    "    u =(-f_bar .* x.^3 ./6 .+c1 .*x .+modulus .*g1) ./modulus;\n",
    "    return u\n",
    "end"
   ]
  },
  {
   "cell_type": "code",
   "execution_count": 328,
   "metadata": {},
   "outputs": [],
   "source": [
    "y = exact(node_loc);"
   ]
  },
  {
   "cell_type": "code",
   "execution_count": 329,
   "metadata": {},
   "outputs": [
    {
     "data": {
      "image/svg+xml": [
       "<?xml version=\"1.0\" encoding=\"utf-8\"?>\n",
       "<svg xmlns=\"http://www.w3.org/2000/svg\" xmlns:xlink=\"http://www.w3.org/1999/xlink\" width=\"600\" height=\"400\" viewBox=\"0 0 2400 1600\">\n",
       "<defs>\n",
       "  <clipPath id=\"clip720\">\n",
       "    <rect x=\"0\" y=\"0\" width=\"2400\" height=\"1600\"/>\n",
       "  </clipPath>\n",
       "</defs>\n",
       "<path clip-path=\"url(#clip720)\" d=\"\n",
       "M0 1600 L2400 1600 L2400 0 L0 0  Z\n",
       "  \" fill=\"#ffffff\" fill-rule=\"evenodd\" fill-opacity=\"1\"/>\n",
       "<defs>\n",
       "  <clipPath id=\"clip721\">\n",
       "    <rect x=\"480\" y=\"0\" width=\"1681\" height=\"1600\"/>\n",
       "  </clipPath>\n",
       "</defs>\n",
       "<path clip-path=\"url(#clip720)\" d=\"\n",
       "M255.903 1486.45 L2352.76 1486.45 L2352.76 47.2441 L255.903 47.2441  Z\n",
       "  \" fill=\"#ffffff\" fill-rule=\"evenodd\" fill-opacity=\"1\"/>\n",
       "<defs>\n",
       "  <clipPath id=\"clip722\">\n",
       "    <rect x=\"255\" y=\"47\" width=\"2098\" height=\"1440\"/>\n",
       "  </clipPath>\n",
       "</defs>\n",
       "<polyline clip-path=\"url(#clip722)\" style=\"stroke:#000000; stroke-width:2; stroke-opacity:0.1; fill:none\" points=\"\n",
       "  315.248,1486.45 315.248,47.2441 \n",
       "  \"/>\n",
       "<polyline clip-path=\"url(#clip722)\" style=\"stroke:#000000; stroke-width:2; stroke-opacity:0.1; fill:none\" points=\"\n",
       "  809.789,1486.45 809.789,47.2441 \n",
       "  \"/>\n",
       "<polyline clip-path=\"url(#clip722)\" style=\"stroke:#000000; stroke-width:2; stroke-opacity:0.1; fill:none\" points=\"\n",
       "  1304.33,1486.45 1304.33,47.2441 \n",
       "  \"/>\n",
       "<polyline clip-path=\"url(#clip722)\" style=\"stroke:#000000; stroke-width:2; stroke-opacity:0.1; fill:none\" points=\"\n",
       "  1798.87,1486.45 1798.87,47.2441 \n",
       "  \"/>\n",
       "<polyline clip-path=\"url(#clip722)\" style=\"stroke:#000000; stroke-width:2; stroke-opacity:0.1; fill:none\" points=\"\n",
       "  2293.41,1486.45 2293.41,47.2441 \n",
       "  \"/>\n",
       "<polyline clip-path=\"url(#clip722)\" style=\"stroke:#000000; stroke-width:2; stroke-opacity:0.1; fill:none\" points=\"\n",
       "  255.903,1445.72 2352.76,1445.72 \n",
       "  \"/>\n",
       "<polyline clip-path=\"url(#clip722)\" style=\"stroke:#000000; stroke-width:2; stroke-opacity:0.1; fill:none\" points=\"\n",
       "  255.903,1106.28 2352.76,1106.28 \n",
       "  \"/>\n",
       "<polyline clip-path=\"url(#clip722)\" style=\"stroke:#000000; stroke-width:2; stroke-opacity:0.1; fill:none\" points=\"\n",
       "  255.903,766.846 2352.76,766.846 \n",
       "  \"/>\n",
       "<polyline clip-path=\"url(#clip722)\" style=\"stroke:#000000; stroke-width:2; stroke-opacity:0.1; fill:none\" points=\"\n",
       "  255.903,427.411 2352.76,427.411 \n",
       "  \"/>\n",
       "<polyline clip-path=\"url(#clip722)\" style=\"stroke:#000000; stroke-width:2; stroke-opacity:0.1; fill:none\" points=\"\n",
       "  255.903,87.9763 2352.76,87.9763 \n",
       "  \"/>\n",
       "<polyline clip-path=\"url(#clip720)\" style=\"stroke:#000000; stroke-width:4; stroke-opacity:1; fill:none\" points=\"\n",
       "  255.903,1486.45 2352.76,1486.45 \n",
       "  \"/>\n",
       "<polyline clip-path=\"url(#clip720)\" style=\"stroke:#000000; stroke-width:4; stroke-opacity:1; fill:none\" points=\"\n",
       "  255.903,1486.45 255.903,47.2441 \n",
       "  \"/>\n",
       "<polyline clip-path=\"url(#clip720)\" style=\"stroke:#000000; stroke-width:4; stroke-opacity:1; fill:none\" points=\"\n",
       "  315.248,1486.45 315.248,1469.18 \n",
       "  \"/>\n",
       "<polyline clip-path=\"url(#clip720)\" style=\"stroke:#000000; stroke-width:4; stroke-opacity:1; fill:none\" points=\"\n",
       "  809.789,1486.45 809.789,1469.18 \n",
       "  \"/>\n",
       "<polyline clip-path=\"url(#clip720)\" style=\"stroke:#000000; stroke-width:4; stroke-opacity:1; fill:none\" points=\"\n",
       "  1304.33,1486.45 1304.33,1469.18 \n",
       "  \"/>\n",
       "<polyline clip-path=\"url(#clip720)\" style=\"stroke:#000000; stroke-width:4; stroke-opacity:1; fill:none\" points=\"\n",
       "  1798.87,1486.45 1798.87,1469.18 \n",
       "  \"/>\n",
       "<polyline clip-path=\"url(#clip720)\" style=\"stroke:#000000; stroke-width:4; stroke-opacity:1; fill:none\" points=\"\n",
       "  2293.41,1486.45 2293.41,1469.18 \n",
       "  \"/>\n",
       "<polyline clip-path=\"url(#clip720)\" style=\"stroke:#000000; stroke-width:4; stroke-opacity:1; fill:none\" points=\"\n",
       "  255.903,1445.72 281.065,1445.72 \n",
       "  \"/>\n",
       "<polyline clip-path=\"url(#clip720)\" style=\"stroke:#000000; stroke-width:4; stroke-opacity:1; fill:none\" points=\"\n",
       "  255.903,1106.28 281.065,1106.28 \n",
       "  \"/>\n",
       "<polyline clip-path=\"url(#clip720)\" style=\"stroke:#000000; stroke-width:4; stroke-opacity:1; fill:none\" points=\"\n",
       "  255.903,766.846 281.065,766.846 \n",
       "  \"/>\n",
       "<polyline clip-path=\"url(#clip720)\" style=\"stroke:#000000; stroke-width:4; stroke-opacity:1; fill:none\" points=\"\n",
       "  255.903,427.411 281.065,427.411 \n",
       "  \"/>\n",
       "<polyline clip-path=\"url(#clip720)\" style=\"stroke:#000000; stroke-width:4; stroke-opacity:1; fill:none\" points=\"\n",
       "  255.903,87.9763 281.065,87.9763 \n",
       "  \"/>\n",
       "<path clip-path=\"url(#clip720)\" d=\"M 0 0 M269.751 1508.44 Q266.14 1508.44 264.311 1512 Q262.505 1515.55 262.505 1522.67 Q262.505 1529.78 264.311 1533.35 Q266.14 1536.89 269.751 1536.89 Q273.385 1536.89 275.19 1533.35 Q277.019 1529.78 277.019 1522.67 Q277.019 1515.55 275.19 1512 Q273.385 1508.44 269.751 1508.44 M269.751 1504.73 Q275.561 1504.73 278.616 1509.34 Q281.695 1513.92 281.695 1522.67 Q281.695 1531.4 278.616 1536.01 Q275.561 1540.59 269.751 1540.59 Q263.941 1540.59 260.862 1536.01 Q257.806 1531.4 257.806 1522.67 Q257.806 1513.92 260.862 1509.34 Q263.941 1504.73 269.751 1504.73 Z\" fill=\"#000000\" fill-rule=\"evenodd\" fill-opacity=\"1\" /><path clip-path=\"url(#clip720)\" d=\"M 0 0 M286.765 1534.04 L291.649 1534.04 L291.649 1539.92 L286.765 1539.92 L286.765 1534.04 Z\" fill=\"#000000\" fill-rule=\"evenodd\" fill-opacity=\"1\" /><path clip-path=\"url(#clip720)\" d=\"M 0 0 M306.718 1508.44 Q303.107 1508.44 301.278 1512 Q299.473 1515.55 299.473 1522.67 Q299.473 1529.78 301.278 1533.35 Q303.107 1536.89 306.718 1536.89 Q310.352 1536.89 312.158 1533.35 Q313.987 1529.78 313.987 1522.67 Q313.987 1515.55 312.158 1512 Q310.352 1508.44 306.718 1508.44 M306.718 1504.73 Q312.528 1504.73 315.584 1509.34 Q318.662 1513.92 318.662 1522.67 Q318.662 1531.4 315.584 1536.01 Q312.528 1540.59 306.718 1540.59 Q300.908 1540.59 297.829 1536.01 Q294.774 1531.4 294.774 1522.67 Q294.774 1513.92 297.829 1509.34 Q300.908 1504.73 306.718 1504.73 Z\" fill=\"#000000\" fill-rule=\"evenodd\" fill-opacity=\"1\" /><path clip-path=\"url(#clip720)\" d=\"M 0 0 M333.732 1508.44 Q330.121 1508.44 328.292 1512 Q326.487 1515.55 326.487 1522.67 Q326.487 1529.78 328.292 1533.35 Q330.121 1536.89 333.732 1536.89 Q337.366 1536.89 339.172 1533.35 Q341 1529.78 341 1522.67 Q341 1515.55 339.172 1512 Q337.366 1508.44 333.732 1508.44 M333.732 1504.73 Q339.542 1504.73 342.598 1509.34 Q345.676 1513.92 345.676 1522.67 Q345.676 1531.4 342.598 1536.01 Q339.542 1540.59 333.732 1540.59 Q327.922 1540.59 324.843 1536.01 Q321.787 1531.4 321.787 1522.67 Q321.787 1513.92 324.843 1509.34 Q327.922 1504.73 333.732 1504.73 Z\" fill=\"#000000\" fill-rule=\"evenodd\" fill-opacity=\"1\" /><path clip-path=\"url(#clip720)\" d=\"M 0 0 M360.746 1508.44 Q357.134 1508.44 355.306 1512 Q353.5 1515.55 353.5 1522.67 Q353.5 1529.78 355.306 1533.35 Q357.134 1536.89 360.746 1536.89 Q364.38 1536.89 366.185 1533.35 Q368.014 1529.78 368.014 1522.67 Q368.014 1515.55 366.185 1512 Q364.38 1508.44 360.746 1508.44 M360.746 1504.73 Q366.556 1504.73 369.611 1509.34 Q372.69 1513.92 372.69 1522.67 Q372.69 1531.4 369.611 1536.01 Q366.556 1540.59 360.746 1540.59 Q354.935 1540.59 351.857 1536.01 Q348.801 1531.4 348.801 1522.67 Q348.801 1513.92 351.857 1509.34 Q354.935 1504.73 360.746 1504.73 Z\" fill=\"#000000\" fill-rule=\"evenodd\" fill-opacity=\"1\" /><path clip-path=\"url(#clip720)\" d=\"M 0 0 M765.588 1508.44 Q761.977 1508.44 760.148 1512 Q758.342 1515.55 758.342 1522.67 Q758.342 1529.78 760.148 1533.35 Q761.977 1536.89 765.588 1536.89 Q769.222 1536.89 771.027 1533.35 Q772.856 1529.78 772.856 1522.67 Q772.856 1515.55 771.027 1512 Q769.222 1508.44 765.588 1508.44 M765.588 1504.73 Q771.398 1504.73 774.453 1509.34 Q777.532 1513.92 777.532 1522.67 Q777.532 1531.4 774.453 1536.01 Q771.398 1540.59 765.588 1540.59 Q759.778 1540.59 756.699 1536.01 Q753.643 1531.4 753.643 1522.67 Q753.643 1513.92 756.699 1509.34 Q759.778 1504.73 765.588 1504.73 Z\" fill=\"#000000\" fill-rule=\"evenodd\" fill-opacity=\"1\" /><path clip-path=\"url(#clip720)\" d=\"M 0 0 M782.602 1534.04 L787.486 1534.04 L787.486 1539.92 L782.602 1539.92 L782.602 1534.04 Z\" fill=\"#000000\" fill-rule=\"evenodd\" fill-opacity=\"1\" /><path clip-path=\"url(#clip720)\" d=\"M 0 0 M802.555 1508.44 Q798.944 1508.44 797.115 1512 Q795.31 1515.55 795.31 1522.67 Q795.31 1529.78 797.115 1533.35 Q798.944 1536.89 802.555 1536.89 Q806.189 1536.89 807.995 1533.35 Q809.824 1529.78 809.824 1522.67 Q809.824 1515.55 807.995 1512 Q806.189 1508.44 802.555 1508.44 M802.555 1504.73 Q808.365 1504.73 811.421 1509.34 Q814.499 1513.92 814.499 1522.67 Q814.499 1531.4 811.421 1536.01 Q808.365 1540.59 802.555 1540.59 Q796.745 1540.59 793.666 1536.01 Q790.611 1531.4 790.611 1522.67 Q790.611 1513.92 793.666 1509.34 Q796.745 1504.73 802.555 1504.73 Z\" fill=\"#000000\" fill-rule=\"evenodd\" fill-opacity=\"1\" /><path clip-path=\"url(#clip720)\" d=\"M 0 0 M823.597 1535.98 L839.916 1535.98 L839.916 1539.92 L817.972 1539.92 L817.972 1535.98 Q820.634 1533.23 825.217 1528.6 Q829.823 1523.95 831.004 1522.61 Q833.249 1520.08 834.129 1518.35 Q835.032 1516.59 835.032 1514.9 Q835.032 1512.14 833.087 1510.41 Q831.166 1508.67 828.064 1508.67 Q825.865 1508.67 823.411 1509.43 Q820.981 1510.2 818.203 1511.75 L818.203 1507.03 Q821.027 1505.89 823.481 1505.31 Q825.935 1504.73 827.972 1504.73 Q833.342 1504.73 836.536 1507.42 Q839.731 1510.11 839.731 1514.6 Q839.731 1516.73 838.921 1518.65 Q838.134 1520.54 836.027 1523.14 Q835.448 1523.81 832.347 1527.03 Q829.245 1530.22 823.597 1535.98 Z\" fill=\"#000000\" fill-rule=\"evenodd\" fill-opacity=\"1\" /><path clip-path=\"url(#clip720)\" d=\"M 0 0 M845.032 1505.36 L863.388 1505.36 L863.388 1509.3 L849.314 1509.3 L849.314 1517.77 Q850.333 1517.42 851.351 1517.26 Q852.37 1517.07 853.388 1517.07 Q859.175 1517.07 862.555 1520.24 Q865.934 1523.42 865.934 1528.83 Q865.934 1534.41 862.462 1537.51 Q858.99 1540.59 852.671 1540.59 Q850.495 1540.59 848.226 1540.22 Q845.981 1539.85 843.573 1539.11 L843.573 1534.41 Q845.657 1535.54 847.879 1536.1 Q850.101 1536.66 852.578 1536.66 Q856.583 1536.66 858.921 1534.55 Q861.258 1532.44 861.258 1528.83 Q861.258 1525.22 858.921 1523.11 Q856.583 1521.01 852.578 1521.01 Q850.703 1521.01 848.828 1521.42 Q846.976 1521.84 845.032 1522.72 L845.032 1505.36 Z\" fill=\"#000000\" fill-rule=\"evenodd\" fill-opacity=\"1\" /><path clip-path=\"url(#clip720)\" d=\"M 0 0 M1259.33 1508.44 Q1255.72 1508.44 1253.89 1512 Q1252.08 1515.55 1252.08 1522.67 Q1252.08 1529.78 1253.89 1533.35 Q1255.72 1536.89 1259.33 1536.89 Q1262.96 1536.89 1264.77 1533.35 Q1266.6 1529.78 1266.6 1522.67 Q1266.6 1515.55 1264.77 1512 Q1262.96 1508.44 1259.33 1508.44 M1259.33 1504.73 Q1265.14 1504.73 1268.2 1509.34 Q1271.27 1513.92 1271.27 1522.67 Q1271.27 1531.4 1268.2 1536.01 Q1265.14 1540.59 1259.33 1540.59 Q1253.52 1540.59 1250.44 1536.01 Q1247.39 1531.4 1247.39 1522.67 Q1247.39 1513.92 1250.44 1509.34 Q1253.52 1504.73 1259.33 1504.73 Z\" fill=\"#000000\" fill-rule=\"evenodd\" fill-opacity=\"1\" /><path clip-path=\"url(#clip720)\" d=\"M 0 0 M1276.34 1534.04 L1281.23 1534.04 L1281.23 1539.92 L1276.34 1539.92 L1276.34 1534.04 Z\" fill=\"#000000\" fill-rule=\"evenodd\" fill-opacity=\"1\" /><path clip-path=\"url(#clip720)\" d=\"M 0 0 M1296.3 1508.44 Q1292.69 1508.44 1290.86 1512 Q1289.05 1515.55 1289.05 1522.67 Q1289.05 1529.78 1290.86 1533.35 Q1292.69 1536.89 1296.3 1536.89 Q1299.93 1536.89 1301.74 1533.35 Q1303.57 1529.78 1303.57 1522.67 Q1303.57 1515.55 1301.74 1512 Q1299.93 1508.44 1296.3 1508.44 M1296.3 1504.73 Q1302.11 1504.73 1305.16 1509.34 Q1308.24 1513.92 1308.24 1522.67 Q1308.24 1531.4 1305.16 1536.01 Q1302.11 1540.59 1296.3 1540.59 Q1290.49 1540.59 1287.41 1536.01 Q1284.35 1531.4 1284.35 1522.67 Q1284.35 1513.92 1287.41 1509.34 Q1290.49 1504.73 1296.3 1504.73 Z\" fill=\"#000000\" fill-rule=\"evenodd\" fill-opacity=\"1\" /><path clip-path=\"url(#clip720)\" d=\"M 0 0 M1313.36 1505.36 L1331.71 1505.36 L1331.71 1509.3 L1317.64 1509.3 L1317.64 1517.77 Q1318.66 1517.42 1319.68 1517.26 Q1320.7 1517.07 1321.71 1517.07 Q1327.5 1517.07 1330.88 1520.24 Q1334.26 1523.42 1334.26 1528.83 Q1334.26 1534.41 1330.79 1537.51 Q1327.32 1540.59 1321 1540.59 Q1318.82 1540.59 1316.55 1540.22 Q1314.31 1539.85 1311.9 1539.11 L1311.9 1534.41 Q1313.98 1535.54 1316.2 1536.1 Q1318.43 1536.66 1320.9 1536.66 Q1324.91 1536.66 1327.25 1534.55 Q1329.58 1532.44 1329.58 1528.83 Q1329.58 1525.22 1327.25 1523.11 Q1324.91 1521.01 1320.9 1521.01 Q1319.03 1521.01 1317.15 1521.42 Q1315.3 1521.84 1313.36 1522.72 L1313.36 1505.36 Z\" fill=\"#000000\" fill-rule=\"evenodd\" fill-opacity=\"1\" /><path clip-path=\"url(#clip720)\" d=\"M 0 0 M1349.33 1508.44 Q1345.72 1508.44 1343.89 1512 Q1342.08 1515.55 1342.08 1522.67 Q1342.08 1529.78 1343.89 1533.35 Q1345.72 1536.89 1349.33 1536.89 Q1352.96 1536.89 1354.77 1533.35 Q1356.6 1529.78 1356.6 1522.67 Q1356.6 1515.55 1354.77 1512 Q1352.96 1508.44 1349.33 1508.44 M1349.33 1504.73 Q1355.14 1504.73 1358.2 1509.34 Q1361.27 1513.92 1361.27 1522.67 Q1361.27 1531.4 1358.2 1536.01 Q1355.14 1540.59 1349.33 1540.59 Q1343.52 1540.59 1340.44 1536.01 Q1337.38 1531.4 1337.38 1522.67 Q1337.38 1513.92 1340.44 1509.34 Q1343.52 1504.73 1349.33 1504.73 Z\" fill=\"#000000\" fill-rule=\"evenodd\" fill-opacity=\"1\" /><path clip-path=\"url(#clip720)\" d=\"M 0 0 M1754.32 1508.44 Q1750.71 1508.44 1748.88 1512 Q1747.08 1515.55 1747.08 1522.67 Q1747.08 1529.78 1748.88 1533.35 Q1750.71 1536.89 1754.32 1536.89 Q1757.96 1536.89 1759.76 1533.35 Q1761.59 1529.78 1761.59 1522.67 Q1761.59 1515.55 1759.76 1512 Q1757.96 1508.44 1754.32 1508.44 M1754.32 1504.73 Q1760.13 1504.73 1763.19 1509.34 Q1766.27 1513.92 1766.27 1522.67 Q1766.27 1531.4 1763.19 1536.01 Q1760.13 1540.59 1754.32 1540.59 Q1748.51 1540.59 1745.43 1536.01 Q1742.38 1531.4 1742.38 1522.67 Q1742.38 1513.92 1745.43 1509.34 Q1748.51 1504.73 1754.32 1504.73 Z\" fill=\"#000000\" fill-rule=\"evenodd\" fill-opacity=\"1\" /><path clip-path=\"url(#clip720)\" d=\"M 0 0 M1771.34 1534.04 L1776.22 1534.04 L1776.22 1539.92 L1771.34 1539.92 L1771.34 1534.04 Z\" fill=\"#000000\" fill-rule=\"evenodd\" fill-opacity=\"1\" /><path clip-path=\"url(#clip720)\" d=\"M 0 0 M1791.29 1508.44 Q1787.68 1508.44 1785.85 1512 Q1784.04 1515.55 1784.04 1522.67 Q1784.04 1529.78 1785.85 1533.35 Q1787.68 1536.89 1791.29 1536.89 Q1794.92 1536.89 1796.73 1533.35 Q1798.56 1529.78 1798.56 1522.67 Q1798.56 1515.55 1796.73 1512 Q1794.92 1508.44 1791.29 1508.44 M1791.29 1504.73 Q1797.1 1504.73 1800.16 1509.34 Q1803.23 1513.92 1803.23 1522.67 Q1803.23 1531.4 1800.16 1536.01 Q1797.1 1540.59 1791.29 1540.59 Q1785.48 1540.59 1782.4 1536.01 Q1779.34 1531.4 1779.34 1522.67 Q1779.34 1513.92 1782.4 1509.34 Q1785.48 1504.73 1791.29 1504.73 Z\" fill=\"#000000\" fill-rule=\"evenodd\" fill-opacity=\"1\" /><path clip-path=\"url(#clip720)\" d=\"M 0 0 M1807.12 1505.36 L1829.34 1505.36 L1829.34 1507.35 L1816.8 1539.92 L1811.91 1539.92 L1823.72 1509.3 L1807.12 1509.3 L1807.12 1505.36 Z\" fill=\"#000000\" fill-rule=\"evenodd\" fill-opacity=\"1\" /><path clip-path=\"url(#clip720)\" d=\"M 0 0 M1834.46 1505.36 L1852.82 1505.36 L1852.82 1509.3 L1838.74 1509.3 L1838.74 1517.77 Q1839.76 1517.42 1840.78 1517.26 Q1841.8 1517.07 1842.82 1517.07 Q1848.6 1517.07 1851.98 1520.24 Q1855.36 1523.42 1855.36 1528.83 Q1855.36 1534.41 1851.89 1537.51 Q1848.42 1540.59 1842.1 1540.59 Q1839.92 1540.59 1837.65 1540.22 Q1835.41 1539.85 1833 1539.11 L1833 1534.41 Q1835.09 1535.54 1837.31 1536.1 Q1839.53 1536.66 1842.01 1536.66 Q1846.01 1536.66 1848.35 1534.55 Q1850.69 1532.44 1850.69 1528.83 Q1850.69 1525.22 1848.35 1523.11 Q1846.01 1521.01 1842.01 1521.01 Q1840.13 1521.01 1838.26 1521.42 Q1836.4 1521.84 1834.46 1522.72 L1834.46 1505.36 Z\" fill=\"#000000\" fill-rule=\"evenodd\" fill-opacity=\"1\" /><path clip-path=\"url(#clip720)\" d=\"M 0 0 M2248.53 1508.44 Q2244.92 1508.44 2243.09 1512 Q2241.28 1515.55 2241.28 1522.67 Q2241.28 1529.78 2243.09 1533.35 Q2244.92 1536.89 2248.53 1536.89 Q2252.16 1536.89 2253.97 1533.35 Q2255.8 1529.78 2255.8 1522.67 Q2255.8 1515.55 2253.97 1512 Q2252.16 1508.44 2248.53 1508.44 M2248.53 1504.73 Q2254.34 1504.73 2257.39 1509.34 Q2260.47 1513.92 2260.47 1522.67 Q2260.47 1531.4 2257.39 1536.01 Q2254.34 1540.59 2248.53 1540.59 Q2242.72 1540.59 2239.64 1536.01 Q2236.58 1531.4 2236.58 1522.67 Q2236.58 1513.92 2239.64 1509.34 Q2242.72 1504.73 2248.53 1504.73 Z\" fill=\"#000000\" fill-rule=\"evenodd\" fill-opacity=\"1\" /><path clip-path=\"url(#clip720)\" d=\"M 0 0 M2265.54 1534.04 L2270.43 1534.04 L2270.43 1539.92 L2265.54 1539.92 L2265.54 1534.04 Z\" fill=\"#000000\" fill-rule=\"evenodd\" fill-opacity=\"1\" /><path clip-path=\"url(#clip720)\" d=\"M 0 0 M2276.3 1535.98 L2283.94 1535.98 L2283.94 1509.62 L2275.63 1511.29 L2275.63 1507.03 L2283.9 1505.36 L2288.57 1505.36 L2288.57 1535.98 L2296.21 1535.98 L2296.21 1539.92 L2276.3 1539.92 L2276.3 1535.98 Z\" fill=\"#000000\" fill-rule=\"evenodd\" fill-opacity=\"1\" /><path clip-path=\"url(#clip720)\" d=\"M 0 0 M2311.28 1508.44 Q2307.67 1508.44 2305.84 1512 Q2304.04 1515.55 2304.04 1522.67 Q2304.04 1529.78 2305.84 1533.35 Q2307.67 1536.89 2311.28 1536.89 Q2314.92 1536.89 2316.72 1533.35 Q2318.55 1529.78 2318.55 1522.67 Q2318.55 1515.55 2316.72 1512 Q2314.92 1508.44 2311.28 1508.44 M2311.28 1504.73 Q2317.09 1504.73 2320.15 1509.34 Q2323.23 1513.92 2323.23 1522.67 Q2323.23 1531.4 2320.15 1536.01 Q2317.09 1540.59 2311.28 1540.59 Q2305.47 1540.59 2302.39 1536.01 Q2299.34 1531.4 2299.34 1522.67 Q2299.34 1513.92 2302.39 1509.34 Q2305.47 1504.73 2311.28 1504.73 Z\" fill=\"#000000\" fill-rule=\"evenodd\" fill-opacity=\"1\" /><path clip-path=\"url(#clip720)\" d=\"M 0 0 M2338.3 1508.44 Q2334.68 1508.44 2332.86 1512 Q2331.05 1515.55 2331.05 1522.67 Q2331.05 1529.78 2332.86 1533.35 Q2334.68 1536.89 2338.3 1536.89 Q2341.93 1536.89 2343.73 1533.35 Q2345.56 1529.78 2345.56 1522.67 Q2345.56 1515.55 2343.73 1512 Q2341.93 1508.44 2338.3 1508.44 M2338.3 1504.73 Q2344.11 1504.73 2347.16 1509.34 Q2350.24 1513.92 2350.24 1522.67 Q2350.24 1531.4 2347.16 1536.01 Q2344.11 1540.59 2338.3 1540.59 Q2332.48 1540.59 2329.41 1536.01 Q2326.35 1531.4 2326.35 1522.67 Q2326.35 1513.92 2329.41 1509.34 Q2332.48 1504.73 2338.3 1504.73 Z\" fill=\"#000000\" fill-rule=\"evenodd\" fill-opacity=\"1\" /><path clip-path=\"url(#clip720)\" d=\"M 0 0 M74.9365 1431.51 Q71.3254 1431.51 69.4967 1435.08 Q67.6912 1438.62 67.6912 1445.75 Q67.6912 1452.86 69.4967 1456.42 Q71.3254 1459.96 74.9365 1459.96 Q78.5707 1459.96 80.3763 1456.42 Q82.205 1452.86 82.205 1445.75 Q82.205 1438.62 80.3763 1435.08 Q78.5707 1431.51 74.9365 1431.51 M74.9365 1427.81 Q80.7467 1427.81 83.8022 1432.42 Q86.8809 1437 86.8809 1445.75 Q86.8809 1454.48 83.8022 1459.08 Q80.7467 1463.67 74.9365 1463.67 Q69.1264 1463.67 66.0477 1459.08 Q62.9921 1454.48 62.9921 1445.75 Q62.9921 1437 66.0477 1432.42 Q69.1264 1427.81 74.9365 1427.81 Z\" fill=\"#000000\" fill-rule=\"evenodd\" fill-opacity=\"1\" /><path clip-path=\"url(#clip720)\" d=\"M 0 0 M91.9503 1457.12 L96.8345 1457.12 L96.8345 1463 L91.9503 1463 L91.9503 1457.12 Z\" fill=\"#000000\" fill-rule=\"evenodd\" fill-opacity=\"1\" /><path clip-path=\"url(#clip720)\" d=\"M 0 0 M111.904 1431.51 Q108.293 1431.51 106.464 1435.08 Q104.659 1438.62 104.659 1445.75 Q104.659 1452.86 106.464 1456.42 Q108.293 1459.96 111.904 1459.96 Q115.538 1459.96 117.344 1456.42 Q119.172 1452.86 119.172 1445.75 Q119.172 1438.62 117.344 1435.08 Q115.538 1431.51 111.904 1431.51 M111.904 1427.81 Q117.714 1427.81 120.77 1432.42 Q123.848 1437 123.848 1445.75 Q123.848 1454.48 120.77 1459.08 Q117.714 1463.67 111.904 1463.67 Q106.094 1463.67 103.015 1459.08 Q99.9595 1454.48 99.9595 1445.75 Q99.9595 1437 103.015 1432.42 Q106.094 1427.81 111.904 1427.81 Z\" fill=\"#000000\" fill-rule=\"evenodd\" fill-opacity=\"1\" /><path clip-path=\"url(#clip720)\" d=\"M 0 0 M138.918 1431.51 Q135.307 1431.51 133.478 1435.08 Q131.672 1438.62 131.672 1445.75 Q131.672 1452.86 133.478 1456.42 Q135.307 1459.96 138.918 1459.96 Q142.552 1459.96 144.357 1456.42 Q146.186 1452.86 146.186 1445.75 Q146.186 1438.62 144.357 1435.08 Q142.552 1431.51 138.918 1431.51 M138.918 1427.81 Q144.728 1427.81 147.783 1432.42 Q150.862 1437 150.862 1445.75 Q150.862 1454.48 147.783 1459.08 Q144.728 1463.67 138.918 1463.67 Q133.107 1463.67 130.029 1459.08 Q126.973 1454.48 126.973 1445.75 Q126.973 1437 130.029 1432.42 Q133.107 1427.81 138.918 1427.81 Z\" fill=\"#000000\" fill-rule=\"evenodd\" fill-opacity=\"1\" /><path clip-path=\"url(#clip720)\" d=\"M 0 0 M165.931 1431.51 Q162.32 1431.51 160.492 1435.08 Q158.686 1438.62 158.686 1445.75 Q158.686 1452.86 160.492 1456.42 Q162.32 1459.96 165.931 1459.96 Q169.566 1459.96 171.371 1456.42 Q173.2 1452.86 173.2 1445.75 Q173.2 1438.62 171.371 1435.08 Q169.566 1431.51 165.931 1431.51 M165.931 1427.81 Q171.742 1427.81 174.797 1432.42 Q177.876 1437 177.876 1445.75 Q177.876 1454.48 174.797 1459.08 Q171.742 1463.67 165.931 1463.67 Q160.121 1463.67 157.043 1459.08 Q153.987 1454.48 153.987 1445.75 Q153.987 1437 157.043 1432.42 Q160.121 1427.81 165.931 1427.81 Z\" fill=\"#000000\" fill-rule=\"evenodd\" fill-opacity=\"1\" /><path clip-path=\"url(#clip720)\" d=\"M 0 0 M192.945 1431.51 Q189.334 1431.51 187.505 1435.08 Q185.7 1438.62 185.7 1445.75 Q185.7 1452.86 187.505 1456.42 Q189.334 1459.96 192.945 1459.96 Q196.579 1459.96 198.385 1456.42 Q200.214 1452.86 200.214 1445.75 Q200.214 1438.62 198.385 1435.08 Q196.579 1431.51 192.945 1431.51 M192.945 1427.81 Q198.755 1427.81 201.811 1432.42 Q204.89 1437 204.89 1445.75 Q204.89 1454.48 201.811 1459.08 Q198.755 1463.67 192.945 1463.67 Q187.135 1463.67 184.056 1459.08 Q181.001 1454.48 181.001 1445.75 Q181.001 1437 184.056 1432.42 Q187.135 1427.81 192.945 1427.81 Z\" fill=\"#000000\" fill-rule=\"evenodd\" fill-opacity=\"1\" /><path clip-path=\"url(#clip720)\" d=\"M 0 0 M219.959 1431.51 Q216.348 1431.51 214.519 1435.08 Q212.714 1438.62 212.714 1445.75 Q212.714 1452.86 214.519 1456.42 Q216.348 1459.96 219.959 1459.96 Q223.593 1459.96 225.399 1456.42 Q227.227 1452.86 227.227 1445.75 Q227.227 1438.62 225.399 1435.08 Q223.593 1431.51 219.959 1431.51 M219.959 1427.81 Q225.769 1427.81 228.825 1432.42 Q231.903 1437 231.903 1445.75 Q231.903 1454.48 228.825 1459.08 Q225.769 1463.67 219.959 1463.67 Q214.149 1463.67 211.07 1459.08 Q208.014 1454.48 208.014 1445.75 Q208.014 1437 211.07 1432.42 Q214.149 1427.81 219.959 1427.81 Z\" fill=\"#000000\" fill-rule=\"evenodd\" fill-opacity=\"1\" /><path clip-path=\"url(#clip720)\" d=\"M 0 0 M77.5291 1092.08 Q73.918 1092.08 72.0893 1095.64 Q70.2838 1099.19 70.2838 1106.32 Q70.2838 1113.42 72.0893 1116.99 Q73.918 1120.53 77.5291 1120.53 Q81.1633 1120.53 82.9689 1116.99 Q84.7976 1113.42 84.7976 1106.32 Q84.7976 1099.19 82.9689 1095.64 Q81.1633 1092.08 77.5291 1092.08 M77.5291 1088.38 Q83.3392 1088.38 86.3948 1092.98 Q89.4735 1097.57 89.4735 1106.32 Q89.4735 1115.04 86.3948 1119.65 Q83.3392 1124.23 77.5291 1124.23 Q71.7189 1124.23 68.6402 1119.65 Q65.5847 1115.04 65.5847 1106.32 Q65.5847 1097.57 68.6402 1092.98 Q71.7189 1088.38 77.5291 1088.38 Z\" fill=\"#000000\" fill-rule=\"evenodd\" fill-opacity=\"1\" /><path clip-path=\"url(#clip720)\" d=\"M 0 0 M94.5429 1117.68 L99.4271 1117.68 L99.4271 1123.56 L94.5429 1123.56 L94.5429 1117.68 Z\" fill=\"#000000\" fill-rule=\"evenodd\" fill-opacity=\"1\" /><path clip-path=\"url(#clip720)\" d=\"M 0 0 M114.496 1092.08 Q110.885 1092.08 109.057 1095.64 Q107.251 1099.19 107.251 1106.32 Q107.251 1113.42 109.057 1116.99 Q110.885 1120.53 114.496 1120.53 Q118.131 1120.53 119.936 1116.99 Q121.765 1113.42 121.765 1106.32 Q121.765 1099.19 119.936 1095.64 Q118.131 1092.08 114.496 1092.08 M114.496 1088.38 Q120.307 1088.38 123.362 1092.98 Q126.441 1097.57 126.441 1106.32 Q126.441 1115.04 123.362 1119.65 Q120.307 1124.23 114.496 1124.23 Q108.686 1124.23 105.608 1119.65 Q102.552 1115.04 102.552 1106.32 Q102.552 1097.57 105.608 1092.98 Q108.686 1088.38 114.496 1088.38 Z\" fill=\"#000000\" fill-rule=\"evenodd\" fill-opacity=\"1\" /><path clip-path=\"url(#clip720)\" d=\"M 0 0 M141.51 1092.08 Q137.899 1092.08 136.07 1095.64 Q134.265 1099.19 134.265 1106.32 Q134.265 1113.42 136.07 1116.99 Q137.899 1120.53 141.51 1120.53 Q145.144 1120.53 146.95 1116.99 Q148.779 1113.42 148.779 1106.32 Q148.779 1099.19 146.95 1095.64 Q145.144 1092.08 141.51 1092.08 M141.51 1088.38 Q147.32 1088.38 150.376 1092.98 Q153.455 1097.57 153.455 1106.32 Q153.455 1115.04 150.376 1119.65 Q147.32 1124.23 141.51 1124.23 Q135.7 1124.23 132.621 1119.65 Q129.566 1115.04 129.566 1106.32 Q129.566 1097.57 132.621 1092.98 Q135.7 1088.38 141.51 1088.38 Z\" fill=\"#000000\" fill-rule=\"evenodd\" fill-opacity=\"1\" /><path clip-path=\"url(#clip720)\" d=\"M 0 0 M168.524 1092.08 Q164.913 1092.08 163.084 1095.64 Q161.279 1099.19 161.279 1106.32 Q161.279 1113.42 163.084 1116.99 Q164.913 1120.53 168.524 1120.53 Q172.158 1120.53 173.964 1116.99 Q175.792 1113.42 175.792 1106.32 Q175.792 1099.19 173.964 1095.64 Q172.158 1092.08 168.524 1092.08 M168.524 1088.38 Q174.334 1088.38 177.39 1092.98 Q180.468 1097.57 180.468 1106.32 Q180.468 1115.04 177.39 1119.65 Q174.334 1124.23 168.524 1124.23 Q162.714 1124.23 159.635 1119.65 Q156.58 1115.04 156.58 1106.32 Q156.58 1097.57 159.635 1092.98 Q162.714 1088.38 168.524 1088.38 Z\" fill=\"#000000\" fill-rule=\"evenodd\" fill-opacity=\"1\" /><path clip-path=\"url(#clip720)\" d=\"M 0 0 M189.566 1119.63 L205.885 1119.63 L205.885 1123.56 L183.941 1123.56 L183.941 1119.63 Q186.603 1116.87 191.186 1112.24 Q195.792 1107.59 196.973 1106.25 Q199.218 1103.72 200.098 1101.99 Q201.001 1100.23 201.001 1098.54 Q201.001 1095.78 199.056 1094.05 Q197.135 1092.31 194.033 1092.31 Q191.834 1092.31 189.38 1093.07 Q186.95 1093.84 184.172 1095.39 L184.172 1090.67 Q186.996 1089.53 189.45 1088.95 Q191.903 1088.38 193.94 1088.38 Q199.311 1088.38 202.505 1091.06 Q205.7 1093.75 205.7 1098.24 Q205.7 1100.37 204.89 1102.29 Q204.102 1104.19 201.996 1106.78 Q201.417 1107.45 198.315 1110.67 Q195.214 1113.86 189.566 1119.63 Z\" fill=\"#000000\" fill-rule=\"evenodd\" fill-opacity=\"1\" /><path clip-path=\"url(#clip720)\" d=\"M 0 0 M211.001 1089 L229.357 1089 L229.357 1092.94 L215.283 1092.94 L215.283 1101.41 Q216.301 1101.06 217.32 1100.9 Q218.339 1100.71 219.357 1100.71 Q225.144 1100.71 228.524 1103.89 Q231.903 1107.06 231.903 1112.47 Q231.903 1118.05 228.431 1121.15 Q224.959 1124.23 218.639 1124.23 Q216.464 1124.23 214.195 1123.86 Q211.95 1123.49 209.542 1122.75 L209.542 1118.05 Q211.626 1119.19 213.848 1119.74 Q216.07 1120.3 218.547 1120.3 Q222.551 1120.3 224.889 1118.19 Q227.227 1116.08 227.227 1112.47 Q227.227 1108.86 224.889 1106.76 Q222.551 1104.65 218.547 1104.65 Q216.672 1104.65 214.797 1105.07 Q212.945 1105.48 211.001 1106.36 L211.001 1089 Z\" fill=\"#000000\" fill-rule=\"evenodd\" fill-opacity=\"1\" /><path clip-path=\"url(#clip720)\" d=\"M 0 0 M75.9319 752.645 Q72.3208 752.645 70.4921 756.209 Q68.6865 759.751 68.6865 766.881 Q68.6865 773.987 70.4921 777.552 Q72.3208 781.094 75.9319 781.094 Q79.5661 781.094 81.3717 777.552 Q83.2004 773.987 83.2004 766.881 Q83.2004 759.751 81.3717 756.209 Q79.5661 752.645 75.9319 752.645 M75.9319 748.941 Q81.742 748.941 84.7976 753.547 Q87.8763 758.131 87.8763 766.881 Q87.8763 775.608 84.7976 780.214 Q81.742 784.797 75.9319 784.797 Q70.1217 784.797 67.043 780.214 Q63.9875 775.608 63.9875 766.881 Q63.9875 758.131 67.043 753.547 Q70.1217 748.941 75.9319 748.941 Z\" fill=\"#000000\" fill-rule=\"evenodd\" fill-opacity=\"1\" /><path clip-path=\"url(#clip720)\" d=\"M 0 0 M92.9457 778.246 L97.8299 778.246 L97.8299 784.126 L92.9457 784.126 L92.9457 778.246 Z\" fill=\"#000000\" fill-rule=\"evenodd\" fill-opacity=\"1\" /><path clip-path=\"url(#clip720)\" d=\"M 0 0 M112.899 752.645 Q109.288 752.645 107.459 756.209 Q105.654 759.751 105.654 766.881 Q105.654 773.987 107.459 777.552 Q109.288 781.094 112.899 781.094 Q116.534 781.094 118.339 777.552 Q120.168 773.987 120.168 766.881 Q120.168 759.751 118.339 756.209 Q116.534 752.645 112.899 752.645 M112.899 748.941 Q118.709 748.941 121.765 753.547 Q124.844 758.131 124.844 766.881 Q124.844 775.608 121.765 780.214 Q118.709 784.797 112.899 784.797 Q107.089 784.797 104.01 780.214 Q100.955 775.608 100.955 766.881 Q100.955 758.131 104.01 753.547 Q107.089 748.941 112.899 748.941 Z\" fill=\"#000000\" fill-rule=\"evenodd\" fill-opacity=\"1\" /><path clip-path=\"url(#clip720)\" d=\"M 0 0 M139.913 752.645 Q136.302 752.645 134.473 756.209 Q132.668 759.751 132.668 766.881 Q132.668 773.987 134.473 777.552 Q136.302 781.094 139.913 781.094 Q143.547 781.094 145.353 777.552 Q147.181 773.987 147.181 766.881 Q147.181 759.751 145.353 756.209 Q143.547 752.645 139.913 752.645 M139.913 748.941 Q145.723 748.941 148.779 753.547 Q151.857 758.131 151.857 766.881 Q151.857 775.608 148.779 780.214 Q145.723 784.797 139.913 784.797 Q134.103 784.797 131.024 780.214 Q127.969 775.608 127.969 766.881 Q127.969 758.131 131.024 753.547 Q134.103 748.941 139.913 748.941 Z\" fill=\"#000000\" fill-rule=\"evenodd\" fill-opacity=\"1\" /><path clip-path=\"url(#clip720)\" d=\"M 0 0 M166.927 752.645 Q163.316 752.645 161.487 756.209 Q159.681 759.751 159.681 766.881 Q159.681 773.987 161.487 777.552 Q163.316 781.094 166.927 781.094 Q170.561 781.094 172.367 777.552 Q174.195 773.987 174.195 766.881 Q174.195 759.751 172.367 756.209 Q170.561 752.645 166.927 752.645 M166.927 748.941 Q172.737 748.941 175.792 753.547 Q178.871 758.131 178.871 766.881 Q178.871 775.608 175.792 780.214 Q172.737 784.797 166.927 784.797 Q161.117 784.797 158.038 780.214 Q154.982 775.608 154.982 766.881 Q154.982 758.131 158.038 753.547 Q161.117 748.941 166.927 748.941 Z\" fill=\"#000000\" fill-rule=\"evenodd\" fill-opacity=\"1\" /><path clip-path=\"url(#clip720)\" d=\"M 0 0 M183.987 749.566 L202.343 749.566 L202.343 753.501 L188.269 753.501 L188.269 761.973 Q189.288 761.626 190.306 761.464 Q191.325 761.279 192.343 761.279 Q198.13 761.279 201.51 764.45 Q204.89 767.621 204.89 773.038 Q204.89 778.617 201.417 781.719 Q197.945 784.797 191.626 784.797 Q189.45 784.797 187.181 784.427 Q184.936 784.057 182.529 783.316 L182.529 778.617 Q184.612 779.751 186.834 780.307 Q189.056 780.862 191.533 780.862 Q195.538 780.862 197.876 778.756 Q200.214 776.649 200.214 773.038 Q200.214 769.427 197.876 767.321 Q195.538 765.214 191.533 765.214 Q189.658 765.214 187.783 765.631 Q185.931 766.047 183.987 766.927 L183.987 749.566 Z\" fill=\"#000000\" fill-rule=\"evenodd\" fill-opacity=\"1\" /><path clip-path=\"url(#clip720)\" d=\"M 0 0 M219.959 752.645 Q216.348 752.645 214.519 756.209 Q212.714 759.751 212.714 766.881 Q212.714 773.987 214.519 777.552 Q216.348 781.094 219.959 781.094 Q223.593 781.094 225.399 777.552 Q227.227 773.987 227.227 766.881 Q227.227 759.751 225.399 756.209 Q223.593 752.645 219.959 752.645 M219.959 748.941 Q225.769 748.941 228.825 753.547 Q231.903 758.131 231.903 766.881 Q231.903 775.608 228.825 780.214 Q225.769 784.797 219.959 784.797 Q214.149 784.797 211.07 780.214 Q208.014 775.608 208.014 766.881 Q208.014 758.131 211.07 753.547 Q214.149 748.941 219.959 748.941 Z\" fill=\"#000000\" fill-rule=\"evenodd\" fill-opacity=\"1\" /><path clip-path=\"url(#clip720)\" d=\"M 0 0 M76.8346 413.21 Q73.2236 413.21 71.3949 416.775 Q69.5893 420.316 69.5893 427.446 Q69.5893 434.552 71.3949 438.117 Q73.2236 441.659 76.8346 441.659 Q80.4689 441.659 82.2744 438.117 Q84.1031 434.552 84.1031 427.446 Q84.1031 420.316 82.2744 416.775 Q80.4689 413.21 76.8346 413.21 M76.8346 409.506 Q82.6448 409.506 85.7003 414.113 Q88.779 418.696 88.779 427.446 Q88.779 436.173 85.7003 440.779 Q82.6448 445.362 76.8346 445.362 Q71.0245 445.362 67.9458 440.779 Q64.8903 436.173 64.8903 427.446 Q64.8903 418.696 67.9458 414.113 Q71.0245 409.506 76.8346 409.506 Z\" fill=\"#000000\" fill-rule=\"evenodd\" fill-opacity=\"1\" /><path clip-path=\"url(#clip720)\" d=\"M 0 0 M93.8484 438.812 L98.7327 438.812 L98.7327 444.691 L93.8484 444.691 L93.8484 438.812 Z\" fill=\"#000000\" fill-rule=\"evenodd\" fill-opacity=\"1\" /><path clip-path=\"url(#clip720)\" d=\"M 0 0 M113.802 413.21 Q110.191 413.21 108.362 416.775 Q106.557 420.316 106.557 427.446 Q106.557 434.552 108.362 438.117 Q110.191 441.659 113.802 441.659 Q117.436 441.659 119.242 438.117 Q121.071 434.552 121.071 427.446 Q121.071 420.316 119.242 416.775 Q117.436 413.21 113.802 413.21 M113.802 409.506 Q119.612 409.506 122.668 414.113 Q125.746 418.696 125.746 427.446 Q125.746 436.173 122.668 440.779 Q119.612 445.362 113.802 445.362 Q107.992 445.362 104.913 440.779 Q101.858 436.173 101.858 427.446 Q101.858 418.696 104.913 414.113 Q107.992 409.506 113.802 409.506 Z\" fill=\"#000000\" fill-rule=\"evenodd\" fill-opacity=\"1\" /><path clip-path=\"url(#clip720)\" d=\"M 0 0 M140.816 413.21 Q137.205 413.21 135.376 416.775 Q133.57 420.316 133.57 427.446 Q133.57 434.552 135.376 438.117 Q137.205 441.659 140.816 441.659 Q144.45 441.659 146.256 438.117 Q148.084 434.552 148.084 427.446 Q148.084 420.316 146.256 416.775 Q144.45 413.21 140.816 413.21 M140.816 409.506 Q146.626 409.506 149.681 414.113 Q152.76 418.696 152.76 427.446 Q152.76 436.173 149.681 440.779 Q146.626 445.362 140.816 445.362 Q135.006 445.362 131.927 440.779 Q128.871 436.173 128.871 427.446 Q128.871 418.696 131.927 414.113 Q135.006 409.506 140.816 409.506 Z\" fill=\"#000000\" fill-rule=\"evenodd\" fill-opacity=\"1\" /><path clip-path=\"url(#clip720)\" d=\"M 0 0 M167.83 413.21 Q164.218 413.21 162.39 416.775 Q160.584 420.316 160.584 427.446 Q160.584 434.552 162.39 438.117 Q164.218 441.659 167.83 441.659 Q171.464 441.659 173.269 438.117 Q175.098 434.552 175.098 427.446 Q175.098 420.316 173.269 416.775 Q171.464 413.21 167.83 413.21 M167.83 409.506 Q173.64 409.506 176.695 414.113 Q179.774 418.696 179.774 427.446 Q179.774 436.173 176.695 440.779 Q173.64 445.362 167.83 445.362 Q162.019 445.362 158.941 440.779 Q155.885 436.173 155.885 427.446 Q155.885 418.696 158.941 414.113 Q162.019 409.506 167.83 409.506 Z\" fill=\"#000000\" fill-rule=\"evenodd\" fill-opacity=\"1\" /><path clip-path=\"url(#clip720)\" d=\"M 0 0 M183.663 410.131 L205.885 410.131 L205.885 412.122 L193.339 444.691 L188.454 444.691 L200.26 414.066 L183.663 414.066 L183.663 410.131 Z\" fill=\"#000000\" fill-rule=\"evenodd\" fill-opacity=\"1\" /><path clip-path=\"url(#clip720)\" d=\"M 0 0 M211.001 410.131 L229.357 410.131 L229.357 414.066 L215.283 414.066 L215.283 422.539 Q216.301 422.191 217.32 422.029 Q218.339 421.844 219.357 421.844 Q225.144 421.844 228.524 425.015 Q231.903 428.187 231.903 433.603 Q231.903 439.182 228.431 442.284 Q224.959 445.362 218.639 445.362 Q216.464 445.362 214.195 444.992 Q211.95 444.622 209.542 443.881 L209.542 439.182 Q211.626 440.316 213.848 440.872 Q216.07 441.427 218.547 441.427 Q222.551 441.427 224.889 439.321 Q227.227 437.214 227.227 433.603 Q227.227 429.992 224.889 427.886 Q222.551 425.779 218.547 425.779 Q216.672 425.779 214.797 426.196 Q212.945 426.613 211.001 427.492 L211.001 410.131 Z\" fill=\"#000000\" fill-rule=\"evenodd\" fill-opacity=\"1\" /><path clip-path=\"url(#clip720)\" d=\"M 0 0 M76.1634 73.775 Q72.5523 73.775 70.7236 77.3398 Q68.918 80.8815 68.918 88.0111 Q68.918 95.1175 70.7236 98.6823 Q72.5523 102.224 76.1634 102.224 Q79.7976 102.224 81.6031 98.6823 Q83.4318 95.1175 83.4318 88.0111 Q83.4318 80.8815 81.6031 77.3398 Q79.7976 73.775 76.1634 73.775 M76.1634 70.0713 Q81.9735 70.0713 85.029 74.6778 Q88.1077 79.2611 88.1077 88.0111 Q88.1077 96.7379 85.029 101.344 Q81.9735 105.928 76.1634 105.928 Q70.3532 105.928 67.2745 101.344 Q64.219 96.7379 64.219 88.0111 Q64.219 79.2611 67.2745 74.6778 Q70.3532 70.0713 76.1634 70.0713 Z\" fill=\"#000000\" fill-rule=\"evenodd\" fill-opacity=\"1\" /><path clip-path=\"url(#clip720)\" d=\"M 0 0 M93.1771 99.3767 L98.0614 99.3767 L98.0614 105.256 L93.1771 105.256 L93.1771 99.3767 Z\" fill=\"#000000\" fill-rule=\"evenodd\" fill-opacity=\"1\" /><path clip-path=\"url(#clip720)\" d=\"M 0 0 M113.131 73.775 Q109.52 73.775 107.691 77.3398 Q105.885 80.8815 105.885 88.0111 Q105.885 95.1175 107.691 98.6823 Q109.52 102.224 113.131 102.224 Q116.765 102.224 118.571 98.6823 Q120.399 95.1175 120.399 88.0111 Q120.399 80.8815 118.571 77.3398 Q116.765 73.775 113.131 73.775 M113.131 70.0713 Q118.941 70.0713 121.996 74.6778 Q125.075 79.2611 125.075 88.0111 Q125.075 96.7379 121.996 101.344 Q118.941 105.928 113.131 105.928 Q107.321 105.928 104.242 101.344 Q101.186 96.7379 101.186 88.0111 Q101.186 79.2611 104.242 74.6778 Q107.321 70.0713 113.131 70.0713 Z\" fill=\"#000000\" fill-rule=\"evenodd\" fill-opacity=\"1\" /><path clip-path=\"url(#clip720)\" d=\"M 0 0 M140.144 73.775 Q136.533 73.775 134.705 77.3398 Q132.899 80.8815 132.899 88.0111 Q132.899 95.1175 134.705 98.6823 Q136.533 102.224 140.144 102.224 Q143.779 102.224 145.584 98.6823 Q147.413 95.1175 147.413 88.0111 Q147.413 80.8815 145.584 77.3398 Q143.779 73.775 140.144 73.775 M140.144 70.0713 Q145.955 70.0713 149.01 74.6778 Q152.089 79.2611 152.089 88.0111 Q152.089 96.7379 149.01 101.344 Q145.955 105.928 140.144 105.928 Q134.334 105.928 131.256 101.344 Q128.2 96.7379 128.2 88.0111 Q128.2 79.2611 131.256 74.6778 Q134.334 70.0713 140.144 70.0713 Z\" fill=\"#000000\" fill-rule=\"evenodd\" fill-opacity=\"1\" /><path clip-path=\"url(#clip720)\" d=\"M 0 0 M157.968 101.321 L165.607 101.321 L165.607 74.9556 L157.297 76.6222 L157.297 72.363 L165.561 70.6963 L170.237 70.6963 L170.237 101.321 L177.876 101.321 L177.876 105.256 L157.968 105.256 L157.968 101.321 Z\" fill=\"#000000\" fill-rule=\"evenodd\" fill-opacity=\"1\" /><path clip-path=\"url(#clip720)\" d=\"M 0 0 M192.945 73.775 Q189.334 73.775 187.505 77.3398 Q185.7 80.8815 185.7 88.0111 Q185.7 95.1175 187.505 98.6823 Q189.334 102.224 192.945 102.224 Q196.579 102.224 198.385 98.6823 Q200.214 95.1175 200.214 88.0111 Q200.214 80.8815 198.385 77.3398 Q196.579 73.775 192.945 73.775 M192.945 70.0713 Q198.755 70.0713 201.811 74.6778 Q204.89 79.2611 204.89 88.0111 Q204.89 96.7379 201.811 101.344 Q198.755 105.928 192.945 105.928 Q187.135 105.928 184.056 101.344 Q181.001 96.7379 181.001 88.0111 Q181.001 79.2611 184.056 74.6778 Q187.135 70.0713 192.945 70.0713 Z\" fill=\"#000000\" fill-rule=\"evenodd\" fill-opacity=\"1\" /><path clip-path=\"url(#clip720)\" d=\"M 0 0 M219.959 73.775 Q216.348 73.775 214.519 77.3398 Q212.714 80.8815 212.714 88.0111 Q212.714 95.1175 214.519 98.6823 Q216.348 102.224 219.959 102.224 Q223.593 102.224 225.399 98.6823 Q227.227 95.1175 227.227 88.0111 Q227.227 80.8815 225.399 77.3398 Q223.593 73.775 219.959 73.775 M219.959 70.0713 Q225.769 70.0713 228.825 74.6778 Q231.903 79.2611 231.903 88.0111 Q231.903 96.7379 228.825 101.344 Q225.769 105.928 219.959 105.928 Q214.149 105.928 211.07 101.344 Q208.014 96.7379 208.014 88.0111 Q208.014 79.2611 211.07 74.6778 Q214.149 70.0713 219.959 70.0713 Z\" fill=\"#000000\" fill-rule=\"evenodd\" fill-opacity=\"1\" /><polyline clip-path=\"url(#clip722)\" style=\"stroke:#009af9; stroke-width:4; stroke-opacity:1; fill:none\" points=\"\n",
       "  315.248,1445.72 335.03,1429.88 354.811,1414.04 374.593,1398.2 394.375,1382.37 414.156,1366.54 433.938,1350.72 453.72,1334.91 473.501,1319.11 493.283,1303.32 \n",
       "  513.064,1287.54 532.846,1271.77 552.628,1256.02 572.409,1240.29 592.191,1224.57 611.973,1208.88 631.754,1193.2 651.536,1177.54 671.317,1161.91 691.099,1146.3 \n",
       "  710.881,1130.72 730.662,1115.17 750.444,1099.64 770.226,1084.14 790.007,1068.68 809.789,1053.24 829.57,1037.85 849.352,1022.48 869.134,1007.16 888.915,991.866 \n",
       "  908.697,976.617 928.479,961.408 948.26,946.241 968.042,931.118 987.824,916.04 1007.61,901.008 1027.39,886.023 1047.17,871.087 1066.95,856.202 1086.73,841.368 \n",
       "  1106.51,826.587 1126.29,811.86 1146.08,797.189 1165.86,782.575 1185.64,768.019 1205.42,753.523 1225.2,739.088 1244.98,724.716 1264.77,710.408 1284.55,696.164 \n",
       "  1304.33,681.987 1324.11,667.878 1343.89,653.839 1363.67,639.87 1383.46,625.972 1403.24,612.149 1423.02,598.399 1442.8,584.726 1462.58,571.131 1482.36,557.614 \n",
       "  1502.15,544.177 1521.93,530.821 1541.71,517.549 1561.49,504.36 1581.27,491.258 1601.05,478.242 1620.84,465.314 1640.62,452.476 1660.4,439.729 1680.18,427.074 \n",
       "  1699.96,414.513 1719.74,402.047 1739.53,389.677 1759.31,377.405 1779.09,365.232 1798.87,353.16 1818.65,341.189 1838.43,329.322 1858.22,317.559 1878,305.902 \n",
       "  1897.78,294.353 1917.56,282.912 1937.34,271.581 1957.12,260.361 1976.9,249.254 1996.69,238.261 2016.47,227.384 2036.25,216.623 2056.03,205.98 2075.81,195.457 \n",
       "  2095.59,185.055 2115.38,174.775 2135.16,164.618 2154.94,154.586 2174.72,144.681 2194.5,134.903 2214.28,125.254 2234.07,115.736 2253.85,106.349 2273.63,97.0956 \n",
       "  2293.41,87.9763 \n",
       "  \"/>\n",
       "<polyline clip-path=\"url(#clip722)\" style=\"stroke:#e26f46; stroke-width:4; stroke-opacity:1; fill:none\" points=\"\n",
       "  315.248,1445.72 335.03,1429.93 354.811,1414.14 374.593,1398.35 394.375,1382.56 414.156,1366.78 433.938,1351.01 453.72,1335.24 473.501,1319.48 493.283,1303.73 \n",
       "  513.064,1288 532.846,1272.27 552.628,1256.56 572.409,1240.86 592.191,1225.18 611.973,1209.52 631.754,1193.88 651.536,1178.26 671.317,1162.66 691.099,1147.08 \n",
       "  710.881,1131.53 730.662,1116.01 750.444,1100.51 770.226,1085.04 790.007,1069.6 809.789,1054.19 829.57,1038.82 849.352,1023.48 869.134,1008.18 888.915,992.91 \n",
       "  908.697,977.682 928.479,962.492 948.26,947.345 968.042,932.239 987.824,917.178 1007.61,902.161 1027.39,887.191 1047.17,872.269 1066.95,857.396 1086.73,842.573 \n",
       "  1106.51,827.803 1126.29,813.085 1146.08,798.423 1165.86,783.817 1185.64,769.268 1205.42,754.777 1225.2,740.347 1244.98,725.978 1264.77,711.672 1284.55,697.43 \n",
       "  1304.33,683.253 1324.11,669.144 1343.89,655.103 1363.67,641.131 1383.46,627.23 1403.24,613.402 1423.02,599.647 1442.8,585.967 1462.58,572.364 1482.36,558.838 \n",
       "  1502.15,545.391 1521.93,532.026 1541.71,518.741 1561.49,505.54 1581.27,492.424 1601.05,479.393 1620.84,466.45 1640.62,453.595 1660.4,440.83 1680.18,428.156 \n",
       "  1699.96,415.575 1719.74,403.088 1739.53,390.697 1759.31,378.402 1779.09,366.206 1798.87,354.109 1818.65,342.112 1838.43,330.218 1858.22,318.427 1878,306.741 \n",
       "  1897.78,295.162 1917.56,283.69 1937.34,272.327 1957.12,261.074 1976.9,249.933 1996.69,238.905 2016.47,227.991 2036.25,217.193 2056.03,206.513 2075.81,195.951 \n",
       "  2095.59,185.509 2115.38,175.188 2135.16,164.989 2154.94,154.915 2174.72,144.965 2194.5,135.143 2214.28,125.448 2234.07,115.883 2253.85,106.448 2273.63,97.1454 \n",
       "  2293.41,87.9763 \n",
       "  \"/>\n",
       "<path clip-path=\"url(#clip720)\" d=\"\n",
       "M1925.73 312.204 L2280.76 312.204 L2280.76 130.764 L1925.73 130.764  Z\n",
       "  \" fill=\"#ffffff\" fill-rule=\"evenodd\" fill-opacity=\"1\"/>\n",
       "<polyline clip-path=\"url(#clip720)\" style=\"stroke:#000000; stroke-width:4; stroke-opacity:1; fill:none\" points=\"\n",
       "  1925.73,312.204 2280.76,312.204 2280.76,130.764 1925.73,130.764 1925.73,312.204 \n",
       "  \"/>\n",
       "<polyline clip-path=\"url(#clip720)\" style=\"stroke:#009af9; stroke-width:4; stroke-opacity:1; fill:none\" points=\"\n",
       "  1949.73,191.244 2093.73,191.244 \n",
       "  \"/>\n",
       "<path clip-path=\"url(#clip720)\" d=\"M 0 0 M2141.76 194.496 L2141.76 196.58 L2122.18 196.58 Q2122.46 200.978 2124.82 203.293 Q2127.2 205.584 2131.44 205.584 Q2133.89 205.584 2136.18 204.982 Q2138.5 204.381 2140.77 203.177 L2140.77 207.205 Q2138.47 208.177 2136.07 208.686 Q2133.66 209.195 2131.18 209.195 Q2124.98 209.195 2121.34 205.584 Q2117.73 201.973 2117.73 195.816 Q2117.73 189.45 2121.16 185.723 Q2124.61 181.973 2130.44 181.973 Q2135.67 181.973 2138.71 185.353 Q2141.76 188.709 2141.76 194.496 M2137.5 193.246 Q2137.46 189.751 2135.53 187.668 Q2133.64 185.584 2130.49 185.584 Q2126.92 185.584 2124.77 187.598 Q2122.64 189.612 2122.32 193.27 L2137.5 193.246 Z\" fill=\"#000000\" fill-rule=\"evenodd\" fill-opacity=\"1\" /><path clip-path=\"url(#clip720)\" d=\"M 0 0 M2166.95 182.598 L2157.57 195.214 L2167.43 208.524 L2162.41 208.524 L2154.86 198.339 L2147.32 208.524 L2142.29 208.524 L2152.36 194.959 L2143.15 182.598 L2148.17 182.598 L2155.05 191.834 L2161.92 182.598 L2166.95 182.598 Z\" fill=\"#000000\" fill-rule=\"evenodd\" fill-opacity=\"1\" /><path clip-path=\"url(#clip720)\" d=\"M 0 0 M2183.68 195.492 Q2178.52 195.492 2176.53 196.672 Q2174.54 197.853 2174.54 200.7 Q2174.54 202.969 2176.02 204.311 Q2177.52 205.631 2180.09 205.631 Q2183.64 205.631 2185.77 203.131 Q2187.92 200.607 2187.92 196.441 L2187.92 195.492 L2183.68 195.492 M2192.18 193.733 L2192.18 208.524 L2187.92 208.524 L2187.92 204.589 Q2186.46 206.95 2184.28 208.084 Q2182.11 209.195 2178.96 209.195 Q2174.98 209.195 2172.62 206.973 Q2170.28 204.728 2170.28 200.978 Q2170.28 196.603 2173.2 194.381 Q2176.14 192.158 2181.95 192.158 L2187.92 192.158 L2187.92 191.742 Q2187.92 188.802 2185.97 187.205 Q2184.05 185.584 2180.56 185.584 Q2178.33 185.584 2176.23 186.117 Q2174.12 186.649 2172.18 187.714 L2172.18 183.779 Q2174.52 182.876 2176.71 182.436 Q2178.91 181.973 2181 181.973 Q2186.62 181.973 2189.4 184.89 Q2192.18 187.807 2192.18 193.733 Z\" fill=\"#000000\" fill-rule=\"evenodd\" fill-opacity=\"1\" /><path clip-path=\"url(#clip720)\" d=\"M 0 0 M2215.3 183.594 L2215.3 187.575 Q2213.5 186.58 2211.67 186.094 Q2209.86 185.584 2208.01 185.584 Q2203.87 185.584 2201.58 188.223 Q2199.28 190.839 2199.28 195.584 Q2199.28 200.33 2201.58 202.969 Q2203.87 205.584 2208.01 205.584 Q2209.86 205.584 2211.67 205.098 Q2213.5 204.589 2215.3 203.594 L2215.3 207.529 Q2213.52 208.362 2211.6 208.779 Q2209.7 209.195 2207.55 209.195 Q2201.69 209.195 2198.24 205.515 Q2194.79 201.834 2194.79 195.584 Q2194.79 189.242 2198.27 185.608 Q2201.76 181.973 2207.83 181.973 Q2209.79 181.973 2211.67 182.39 Q2213.54 182.783 2215.3 183.594 Z\" fill=\"#000000\" fill-rule=\"evenodd\" fill-opacity=\"1\" /><path clip-path=\"url(#clip720)\" d=\"M 0 0 M2223.98 175.237 L2223.98 182.598 L2232.76 182.598 L2232.76 185.908 L2223.98 185.908 L2223.98 199.982 Q2223.98 203.154 2224.84 204.057 Q2225.72 204.959 2228.38 204.959 L2232.76 204.959 L2232.76 208.524 L2228.38 208.524 Q2223.45 208.524 2221.58 206.695 Q2219.7 204.844 2219.7 199.982 L2219.7 185.908 L2216.58 185.908 L2216.58 182.598 L2219.7 182.598 L2219.7 175.237 L2223.98 175.237 Z\" fill=\"#000000\" fill-rule=\"evenodd\" fill-opacity=\"1\" /><polyline clip-path=\"url(#clip720)\" style=\"stroke:#e26f46; stroke-width:4; stroke-opacity:1; fill:none\" points=\"\n",
       "  1949.73,251.724 2093.73,251.724 \n",
       "  \"/>\n",
       "<path clip-path=\"url(#clip720)\" d=\"M 0 0 M2117.73 234.444 L2137.59 234.444 L2137.59 238.379 L2122.41 238.379 L2122.41 248.564 L2136.11 248.564 L2136.11 252.5 L2122.41 252.5 L2122.41 269.004 L2117.73 269.004 L2117.73 234.444 Z\" fill=\"#000000\" fill-rule=\"evenodd\" fill-opacity=\"1\" /><path clip-path=\"url(#clip720)\" d=\"M 0 0 M2142.25 234.444 L2164.1 234.444 L2164.1 238.379 L2146.92 238.379 L2146.92 248.611 L2163.38 248.611 L2163.38 252.546 L2146.92 252.546 L2146.92 265.069 L2164.52 265.069 L2164.52 269.004 L2142.25 269.004 L2142.25 234.444 Z\" fill=\"#000000\" fill-rule=\"evenodd\" fill-opacity=\"1\" /><path clip-path=\"url(#clip720)\" d=\"M 0 0 M2180.72 239.051 L2174.38 256.25 L2187.08 256.25 L2180.72 239.051 M2178.08 234.444 L2183.38 234.444 L2196.55 269.004 L2191.69 269.004 L2188.54 260.138 L2172.96 260.138 L2169.82 269.004 L2164.89 269.004 L2178.08 234.444 Z\" fill=\"#000000\" fill-rule=\"evenodd\" fill-opacity=\"1\" /></svg>\n"
      ]
     },
     "execution_count": 329,
     "metadata": {},
     "output_type": "execute_result"
    }
   ],
   "source": [
    "plot(node_loc, y, label = \"exact\")\n",
    "plot!(node_loc,disp, label = \"FEA\")"
   ]
  },
  {
   "cell_type": "code",
   "execution_count": null,
   "metadata": {},
   "outputs": [],
   "source": []
  }
 ],
 "metadata": {
  "kernelspec": {
   "display_name": "Julia 1.0.5",
   "language": "julia",
   "name": "julia-1.0"
  },
  "language_info": {
   "file_extension": ".jl",
   "mimetype": "application/julia",
   "name": "julia",
   "version": "1.0.5"
  }
 },
 "nbformat": 4,
 "nbformat_minor": 4
}
