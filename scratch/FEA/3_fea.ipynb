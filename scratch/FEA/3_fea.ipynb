{
 "cells": [
  {
   "cell_type": "markdown",
   "metadata": {},
   "source": [
    "# fea try\n",
    "* do the hw3from the fea course I took a while ago\n",
    "* but try it in julia"
   ]
  },
  {
   "cell_type": "code",
   "execution_count": 1,
   "metadata": {},
   "outputs": [],
   "source": [
    "# import Pkg; Pkg.add(\"StaticArrays\")"
   ]
  },
  {
   "cell_type": "code",
   "execution_count": 2,
   "metadata": {},
   "outputs": [
    {
     "data": {
      "text/plain": [
       "basis_gradient (generic function with 1 method)"
      ]
     },
     "execution_count": 2,
     "metadata": {},
     "output_type": "execute_result"
    }
   ],
   "source": [
    "using Plots\n",
    "using StaticArrays\n",
    "include(\"3_fea_helper.jl\")"
   ]
  },
  {
   "cell_type": "code",
   "execution_count": 42,
   "metadata": {},
   "outputs": [],
   "source": [
    "Emod = 2e11\n",
    "nu = 0.3\n",
    "h3 = 1e9\n",
    "L = 0.1\n",
    "\n",
    "basisFunctionOrder=1;"
   ]
  },
  {
   "cell_type": "code",
   "execution_count": 39,
   "metadata": {},
   "outputs": [
    {
     "data": {
      "text/plain": [
       "28"
      ]
     },
     "execution_count": 39,
     "metadata": {},
     "output_type": "execute_result"
    }
   ],
   "source": [
    "# each row is x,y,z\n",
    "# column 1 is the min, column 2 is the max\n",
    "domain_size = Array{Float32}(undef,3,2)\n",
    "domain_size[1,:] = [0,1]; # x dimensions\n",
    "domain_size[2,:] = [0,1]; # y dimensions\n",
    "domain_size[3,:] = [0,1]; # z dimensions\n",
    "\n",
    "elm_per_dim=3  # elements per dimension\n",
    "nodes_per_dim = elm_per_dim+1\n",
    "\n",
    "\n",
    "num_elm = elm_per_dim^3\n",
    "num_nodes = num_elm+1"
   ]
  },
  {
   "cell_type": "markdown",
   "metadata": {},
   "source": [
    "# define the node locations"
   ]
  },
  {
   "cell_type": "code",
   "execution_count": 5,
   "metadata": {},
   "outputs": [],
   "source": [
    "struct Node\n",
    "    id::Int\n",
    "    x::Float32\n",
    "    y::Float32\n",
    "    z::Float32\n",
    "end"
   ]
  },
  {
   "cell_type": "code",
   "execution_count": 6,
   "metadata": {},
   "outputs": [],
   "source": [
    "nodes = Array{Node}(undef, nodes_per_dim^3);\n",
    "temp_locs = collect(range(0,stop=1,length = nodes_per_dim))\n",
    "id = 1\n",
    "for z in temp_locs\n",
    "   for y in temp_locs\n",
    "       for x in temp_locs\n",
    "#             println(\"$id $x $y $z\")\n",
    "            mynode = Node(id,x,y,z)\n",
    "            nodes[id] = mynode\n",
    "            id+=1\n",
    "        end        \n",
    "    end\n",
    "end"
   ]
  },
  {
   "cell_type": "markdown",
   "metadata": {},
   "source": [
    "# Define the elements"
   ]
  },
  {
   "cell_type": "code",
   "execution_count": 7,
   "metadata": {},
   "outputs": [],
   "source": [
    "# https://discourse.julialang.org/t/how-to-place-an-array-as-one-of-the-fields-of-a-mutable-struct/16939/3\n",
    "struct Elem\n",
    "   id::Int32\n",
    "   node_ids::MVector{8, Int32}\n",
    "    \n",
    "end\n",
    "\n"
   ]
  },
  {
   "cell_type": "code",
   "execution_count": 8,
   "metadata": {},
   "outputs": [],
   "source": [
    "elements = Array{Elem}(undef, elm_per_dim^3);\n",
    "temp_locs = collect(range(0,stop=elm_per_dim-1))\n",
    "nd = nodes_per_dim # abrieviate to nd\n",
    "id = 1\n",
    "for z in temp_locs\n",
    "   for y in temp_locs\n",
    "       for x in temp_locs\n",
    "#             println(\"$id $x $y $z\")\n",
    "#             x,y,z is the position of the bottom front left corner\n",
    "            s = x+y*nd+z*nd^2 # s = start\n",
    "            # follow the abaqus node numbering for a hex\n",
    "            node_ids = [s,s+1,s+nd^2+1, s+nd^2, s+nd,s+nd+1, s+nd^2+nd+1, s+nd^2+nd]\n",
    "            node_ids.+=1\n",
    "            myelem = Elem(id,node_ids)\n",
    "            elements[id] = myelem\n",
    "            id+=1\n",
    "        end        \n",
    "    end\n",
    "end"
   ]
  },
  {
   "cell_type": "markdown",
   "metadata": {},
   "source": [
    "# Define a quad rule"
   ]
  },
  {
   "cell_type": "code",
   "execution_count": 9,
   "metadata": {},
   "outputs": [],
   "source": [
    "struct  Quad\n",
    "   quad_points # = [-sqrt(1/3), sqrt(1/3)],\n",
    "   quad_weights# = [1, 1]    \n",
    "end"
   ]
  },
  {
   "cell_type": "code",
   "execution_count": 10,
   "metadata": {},
   "outputs": [
    {
     "data": {
      "text/plain": [
       "Quad([-0.5773502691896257, 0.5773502691896257], [1, 1])"
      ]
     },
     "execution_count": 10,
     "metadata": {},
     "output_type": "execute_result"
    }
   ],
   "source": [
    "points = [-sqrt(1/3), sqrt(1/3)]\n",
    "weights = [1,1]\n",
    "myquad =  Quad(points, weights)"
   ]
  },
  {
   "cell_type": "markdown",
   "metadata": {},
   "source": [
    "# Define elasticity tensor"
   ]
  },
  {
   "cell_type": "code",
   "execution_count": 11,
   "metadata": {},
   "outputs": [
    {
     "data": {
      "text/plain": [
       "C (generic function with 1 method)"
      ]
     },
     "execution_count": 11,
     "metadata": {},
     "output_type": "execute_result"
    }
   ],
   "source": [
    "function C(i::Int,j::Int, k::Int,l::Int)\n",
    "    #   //Define the material parameters of Young's modulus and Poisson's ratio\n",
    "    E = Emod\n",
    "    lambda = (E * nu) / ((1 + nu) * (1 - 2 * nu));\n",
    "     mu = E / (2. * (1. + nu));\n",
    "\n",
    "  return lambda * (i == j) * (k == l) + mu * ((i == k) * (j == l) + (i == l) * (j == k));\n",
    "end"
   ]
  },
  {
   "cell_type": "code",
   "execution_count": 12,
   "metadata": {},
   "outputs": [
    {
     "data": {
      "text/plain": [
       "2.6923076923076923e11"
      ]
     },
     "execution_count": 12,
     "metadata": {},
     "output_type": "execute_result"
    }
   ],
   "source": [
    "C(1,1,1,1)"
   ]
  },
  {
   "cell_type": "code",
   "execution_count": 13,
   "metadata": {},
   "outputs": [],
   "source": [
    "# elements"
   ]
  },
  {
   "cell_type": "code",
   "execution_count": 14,
   "metadata": {},
   "outputs": [
    {
     "data": {
      "text/plain": [
       "64"
      ]
     },
     "execution_count": 14,
     "metadata": {},
     "output_type": "execute_result"
    }
   ],
   "source": [
    "4^3"
   ]
  },
  {
   "cell_type": "code",
   "execution_count": 15,
   "metadata": {},
   "outputs": [],
   "source": [
    "# ?range"
   ]
  },
  {
   "cell_type": "code",
   "execution_count": 16,
   "metadata": {},
   "outputs": [],
   "source": [
    "\n",
    "# g1 = 0\n",
    "# g2 = 0.001\n",
    "\n",
    "# u_0 = g1\n",
    "# u_l = g2\n",
    "\n",
    "# f_bar =10e11\n",
    "\n",
    "# function f(x)\n",
    "#    return x*f_bar \n",
    "# end\n",
    "# num_elm = 100\n",
    "\n",
    "# h = 10e6\n",
    "# dofs_per_elem = 2\n",
    "# # dofs_per_elem_values = collect(1:dofs_per_elem)\n",
    "# quad_rule = 2\n",
    "# quad_rule_values = collect(1:quad_rule)\n",
    "# basisFunctionOrder  = 1\n",
    "# area = 10e-4\n",
    "# modulus = 10e11\n",
    "\n",
    "struct  Quad\n",
    "   quad_points # = [-sqrt(1/3), sqrt(1/3)],\n",
    "   quad_weights# = [1, 1]\n",
    "    \n",
    "end\n",
    "\n"
   ]
  },
  {
   "cell_type": "code",
   "execution_count": 17,
   "metadata": {},
   "outputs": [],
   "source": [
    "# quad_rule_values"
   ]
  },
  {
   "cell_type": "code",
   "execution_count": 18,
   "metadata": {},
   "outputs": [
    {
     "data": {
      "text/plain": [
       "Quad([-0.5773502691896257, 0.5773502691896257], [1, 1])"
      ]
     },
     "execution_count": 18,
     "metadata": {},
     "output_type": "execute_result"
    }
   ],
   "source": [
    "points = [-sqrt(1/3), sqrt(1/3)]\n",
    "weights = [1,1]\n",
    "myquad =  Quad(points, weights)"
   ]
  },
  {
   "cell_type": "code",
   "execution_count": 43,
   "metadata": {},
   "outputs": [],
   "source": [
    "\n",
    "step = L/num_elm\n",
    "node_loc =  collect(range(0, length=num_nodes, stop=L))\n",
    "\n",
    "# elem_node_map  = zeros(Int8,num_elm,2); # Array{Float64, 2}(undef, 2, 3)\n",
    "\n",
    "\n",
    "# # elem_node_map  = zeros(Int8,num_elm,2); # Array{Float64, 2}(undef, 2, 3)\n",
    "# for i in collect(1:num_elm)\n",
    "#    elem_node_map[i,:]=[i,i+1] \n",
    "# #     println(i)\n",
    "# #      setindex!(elem_node_map,\n",
    "# end\n",
    "\n",
    "# # elem_node_map\n",
    "\n",
    "# function get_dofs_for_elem(elm_num)\n",
    "#    # get th`ze  global dofs for this element\n",
    "#     return elem_node_map[elm_num,:]\n",
    "    \n",
    "# end\n",
    "\n",
    "# get_dofs_for_elem(5)"
   ]
  },
  {
   "cell_type": "markdown",
   "metadata": {},
   "source": [
    "# Boundary conditions"
   ]
  },
  {
   "cell_type": "code",
   "execution_count": 44,
   "metadata": {},
   "outputs": [
    {
     "ename": "LoadError",
     "evalue": "UndefVarError: u_0 not defined",
     "output_type": "error",
     "traceback": [
      "UndefVarError: u_0 not defined",
      "",
      "Stacktrace:",
      " [1] top-level scope",
      "   @ .\\In[44]:9",
      " [2] eval",
      "   @ .\\boot.jl:373 [inlined]",
      " [3] include_string(mapexpr::typeof(REPL.softscope), mod::Module, code::String, filename::String)",
      "   @ Base .\\loading.jl:1196"
     ]
    }
   ],
   "source": [
    "# setup a vector representing the Dirichlet Boundary Conditions (the fixed BCs)\n",
    "# boundary_values =  Dict()# zeros(Float32,num_nodes );\n",
    "disp = zeros(Float32, num_nodes)\n",
    "free_nodes = Array{Bool}(undef,num_nodes)\n",
    "fill!(free_nodes, true)\n",
    "# println(free_nodes)\n",
    "for node_idx  in 1:num_nodes\n",
    "    if node_loc[node_idx] ==0\n",
    "        disp[node_idx] = u_0\n",
    "        free_nodes[node_idx] = false\n",
    "    elseif node_loc[node_idx] ==L\n",
    "         disp[node_idx] = u_l\n",
    "        free_nodes[node_idx] = false        \n",
    "    end\n",
    "end\n",
    "# all_nodes;"
   ]
  },
  {
   "cell_type": "code",
   "execution_count": 21,
   "metadata": {},
   "outputs": [
    {
     "ename": "LoadError",
     "evalue": "UndefVarError: free_nodes not defined",
     "output_type": "error",
     "traceback": [
      "UndefVarError: free_nodes not defined",
      "",
      "Stacktrace:",
      " [1] top-level scope",
      "   @ In[21]:6",
      " [2] eval",
      "   @ .\\boot.jl:373 [inlined]",
      " [3] include_string(mapexpr::typeof(REPL.softscope), mod::Module, code::String, filename::String)",
      "   @ Base .\\loading.jl:1196"
     ]
    }
   ],
   "source": [
    "# I'm sure there is a better way to do this, but not sure of it right now. \n",
    "# all_nodes = collect(1:num_nodes)\n",
    "# fixed_nodes = keys(boundary_values)\n",
    "# free_nodes = [i for i in all_nodes if !(i in fixed_nodes)];\n",
    "# free_nodes_bool = [!(i in fixed_nodes) for i in all_nodes  ];\n",
    "fixed_nodes = .!free_nodes;"
   ]
  },
  {
   "cell_type": "code",
   "execution_count": 22,
   "metadata": {},
   "outputs": [
    {
     "ename": "LoadError",
     "evalue": "UndefVarError: num_nodes not defined",
     "output_type": "error",
     "traceback": [
      "UndefVarError: num_nodes not defined",
      "",
      "Stacktrace:",
      " [1] top-level scope",
      "   @ In[22]:1",
      " [2] eval",
      "   @ .\\boot.jl:373 [inlined]",
      " [3] include_string(mapexpr::typeof(REPL.softscope), mod::Module, code::String, filename::String)",
      "   @ Base .\\loading.jl:1196"
     ]
    }
   ],
   "source": [
    "Fglobal = zeros(Float32,num_nodes );\n",
    "Kglobal = zeros(Float32, num_nodes, num_nodes);"
   ]
  },
  {
   "cell_type": "code",
   "execution_count": 23,
   "metadata": {},
   "outputs": [
    {
     "ename": "LoadError",
     "evalue": "UndefVarError: dofs_per_elem not defined",
     "output_type": "error",
     "traceback": [
      "UndefVarError: dofs_per_elem not defined",
      "",
      "Stacktrace:",
      " [1] top-level scope",
      "   @ In[23]:1",
      " [2] eval",
      "   @ .\\boot.jl:373 [inlined]",
      " [3] include_string(mapexpr::typeof(REPL.softscope), mod::Module, code::String, filename::String)",
      "   @ Base .\\loading.jl:1196"
     ]
    }
   ],
   "source": [
    "Flocal = zeros(Float32, dofs_per_elem)\n",
    "Klocal = zeros(Float32,dofs_per_elem,dofs_per_elem)\n",
    "for i in collect(1:num_elm)\n",
    "    # zero out previous values. \n",
    "    fill!(Flocal, 0)\n",
    "    fill!(Klocal,0)\n",
    "    \n",
    "    # loop over the elements    \n",
    "    elem_dofs = get_dofs_for_elem(i)\n",
    "    h_e  = node_loc[elem_dofs[2]] - node_loc[elem_dofs[1]]\n",
    "    # ---------------------------    \n",
    "    # calculate the local  forcing vector\n",
    "    # ---------------------------\n",
    "    temp_f_constants = area*h_e/2       \n",
    "    for A in 1:dofs_per_elem\n",
    "#         F_value_at_quad_point=0;\n",
    "        for q in quad_rule_values\n",
    "            x = 0\n",
    "           for B in 1:dofs_per_elem\n",
    "                x += node_loc[elem_dofs[B]]*basis_function(B,myquad.quad_points[q])\n",
    "#                 println(\"generating local f. A = $A, q = $q, B = $B, x_position = $x\")                \n",
    "            end\n",
    "            F_value_at_quad_point = f(x);\n",
    "            n_at_quad_point = basis_function(A,q);\n",
    "            Flocal[A] += F_value_at_quad_point*n_at_quad_point*temp_f_constants*myquad.quad_weights[q];  \n",
    "        end\n",
    "    end    \n",
    "    \n",
    "    # ---------------------------\n",
    "    # Generate K local\n",
    "    # ---------------------------\n",
    "    temp3 = 2 *modulus*area/h_e;  \n",
    "     for A in 1:dofs_per_elem\n",
    "       for B in 1:dofs_per_elem\n",
    "           for q in quad_rule_values\n",
    "#              //EDIT - Define Klocal.\n",
    "             temp =  basis_gradient(A,myquad.quad_points[q]);\n",
    "             temp2 =  basis_gradient(B,myquad.quad_points[q])*myquad.quad_weights[q];\n",
    "#               // std::cout << \"   temp:       \"  << temp <<std::endl;\n",
    "             Klocal[A,B] += temp*temp2* temp3;\n",
    "            end            \n",
    "        end\n",
    "    end\n",
    "\n",
    "    # ---------------------------\n",
    "    #\n",
    "    #      //Assemble local K and F into global K and F\n",
    "    #     //You will need to used local_dof_indices[A]\n",
    "    # \n",
    "    # ---------------------------\n",
    "     for A in 1:dofs_per_elem   \n",
    "        # add the locally generated Flocal to the F global. use the elem_dofs to provide the mapping. \n",
    "        Fglobal[elem_dofs[A]]+=Flocal[A];        \n",
    "        for B in 1:dofs_per_elem # for(unsigned int B=0; B<dofs_per_elem; B++){\n",
    "            #           //EDIT - add component A,B of Klocal to the correct location in K (using local_dof_indices)\n",
    "            # K.add(i,j,C);*/\n",
    "            Kglobal[elem_dofs[A], elem_dofs[B]]+= Klocal[A,B];\n",
    "        end # }\n",
    "    end#     }\n",
    "    \n",
    "#     println(\"Element $i, K = $Klocal, F = $Flocal. With dofs $elem_dofs\")\n",
    "    \n",
    "end"
   ]
  },
  {
   "cell_type": "markdown",
   "metadata": {},
   "source": [
    "# repartition the F and K matrix"
   ]
  },
  {
   "cell_type": "code",
   "execution_count": 24,
   "metadata": {},
   "outputs": [
    {
     "ename": "LoadError",
     "evalue": "UndefVarError: Kglobal not defined",
     "output_type": "error",
     "traceback": [
      "UndefVarError: Kglobal not defined",
      "",
      "Stacktrace:",
      " [1] top-level scope",
      "   @ In[24]:1",
      " [2] eval",
      "   @ .\\boot.jl:373 [inlined]",
      " [3] include_string(mapexpr::typeof(REPL.softscope), mod::Module, code::String, filename::String)",
      "   @ Base .\\loading.jl:1196"
     ]
    }
   ],
   "source": [
    "K_fixedfixed_colum = Kglobal[:, fixed_nodes];\n",
    "# F_fixedfixed = Fglobal[fixed_nodes];\n",
    "disp_fixedfixed = disp[fixed_nodes];\n",
    "F_fixed = K_fixedfixed_colum*disp_fixedfixed;\n",
    "Fglobal -=F_fixed;"
   ]
  },
  {
   "cell_type": "code",
   "execution_count": 25,
   "metadata": {},
   "outputs": [],
   "source": [
    "# size(K_fixedfixed_colum), size(disp_fixedfixed)"
   ]
  },
  {
   "cell_type": "code",
   "execution_count": 26,
   "metadata": {},
   "outputs": [
    {
     "ename": "LoadError",
     "evalue": "UndefVarError: Kglobal not defined",
     "output_type": "error",
     "traceback": [
      "UndefVarError: Kglobal not defined",
      "",
      "Stacktrace:",
      " [1] top-level scope",
      "   @ In[26]:1",
      " [2] eval",
      "   @ .\\boot.jl:373 [inlined]",
      " [3] include_string(mapexpr::typeof(REPL.softscope), mod::Module, code::String, filename::String)",
      "   @ Base .\\loading.jl:1196"
     ]
    }
   ],
   "source": [
    "K_freefree = Kglobal[free_nodes, free_nodes];\n",
    "F_freefree = Fglobal[free_nodes];\n",
    "\n"
   ]
  },
  {
   "cell_type": "markdown",
   "metadata": {},
   "source": [
    "# calculate the solution"
   ]
  },
  {
   "cell_type": "code",
   "execution_count": 27,
   "metadata": {},
   "outputs": [
    {
     "ename": "LoadError",
     "evalue": "UndefVarError: K_freefree not defined",
     "output_type": "error",
     "traceback": [
      "UndefVarError: K_freefree not defined",
      "",
      "Stacktrace:",
      " [1] top-level scope",
      "   @ In[27]:1",
      " [2] eval",
      "   @ .\\boot.jl:373 [inlined]",
      " [3] include_string(mapexpr::typeof(REPL.softscope), mod::Module, code::String, filename::String)",
      "   @ Base .\\loading.jl:1196"
     ]
    }
   ],
   "source": [
    "disp_freefree = inv(K_freefree)*F_freefree;\n"
   ]
  },
  {
   "cell_type": "code",
   "execution_count": 28,
   "metadata": {},
   "outputs": [
    {
     "ename": "LoadError",
     "evalue": "UndefVarError: disp not defined",
     "output_type": "error",
     "traceback": [
      "UndefVarError: disp not defined",
      "",
      "Stacktrace:",
      " [1] top-level scope",
      "   @ In[28]:2",
      " [2] eval",
      "   @ .\\boot.jl:373 [inlined]",
      " [3] include_string(mapexpr::typeof(REPL.softscope), mod::Module, code::String, filename::String)",
      "   @ Base .\\loading.jl:1196"
     ]
    }
   ],
   "source": [
    "# disp = zeros(Float32,num_nodes );\n",
    "disp[free_nodes] += disp_freefree;\n",
    "# disp[fixed_nodes]="
   ]
  },
  {
   "cell_type": "code",
   "execution_count": null,
   "metadata": {},
   "outputs": [],
   "source": [
    "\n",
    "\n"
   ]
  },
  {
   "cell_type": "code",
   "execution_count": 29,
   "metadata": {},
   "outputs": [],
   "source": [
    "# disp_freefree"
   ]
  },
  {
   "cell_type": "code",
   "execution_count": 30,
   "metadata": {},
   "outputs": [],
   "source": [
    "# Fglobal"
   ]
  },
  {
   "cell_type": "code",
   "execution_count": 31,
   "metadata": {},
   "outputs": [],
   "source": [
    "# Kglobal"
   ]
  },
  {
   "cell_type": "code",
   "execution_count": 32,
   "metadata": {},
   "outputs": [],
   "source": [
    "# plot(node_loc,Fglobal)\n"
   ]
  },
  {
   "cell_type": "code",
   "execution_count": 33,
   "metadata": {},
   "outputs": [],
   "source": [
    "# Klocal"
   ]
  },
  {
   "cell_type": "code",
   "execution_count": 34,
   "metadata": {},
   "outputs": [],
   "source": [
    "# Flocal"
   ]
  },
  {
   "cell_type": "code",
   "execution_count": 35,
   "metadata": {},
   "outputs": [],
   "source": [
    "# ? collect"
   ]
  },
  {
   "cell_type": "code",
   "execution_count": 36,
   "metadata": {},
   "outputs": [
    {
     "data": {
      "text/plain": [
       "exact (generic function with 1 method)"
      ]
     },
     "execution_count": 36,
     "metadata": {},
     "output_type": "execute_result"
    }
   ],
   "source": [
    "function exact(x)\n",
    "   c1 = (modulus.*g2 .+f_bar .* L.^3 ./6 .- modulus .*g1) ./L;\n",
    "    u =(-f_bar .* x.^3 ./6 .+c1 .*x .+modulus .*g1) ./modulus;\n",
    "    return u\n",
    "end"
   ]
  },
  {
   "cell_type": "code",
   "execution_count": 37,
   "metadata": {},
   "outputs": [
    {
     "ename": "LoadError",
     "evalue": "UndefVarError: node_loc not defined",
     "output_type": "error",
     "traceback": [
      "UndefVarError: node_loc not defined",
      "",
      "Stacktrace:",
      " [1] top-level scope",
      "   @ In[37]:1",
      " [2] eval",
      "   @ .\\boot.jl:373 [inlined]",
      " [3] include_string(mapexpr::typeof(REPL.softscope), mod::Module, code::String, filename::String)",
      "   @ Base .\\loading.jl:1196"
     ]
    }
   ],
   "source": [
    "y = exact(node_loc);"
   ]
  },
  {
   "cell_type": "code",
   "execution_count": 38,
   "metadata": {},
   "outputs": [
    {
     "ename": "LoadError",
     "evalue": "UndefVarError: node_loc not defined",
     "output_type": "error",
     "traceback": [
      "UndefVarError: node_loc not defined",
      "",
      "Stacktrace:",
      " [1] top-level scope",
      "   @ In[38]:1",
      " [2] eval",
      "   @ .\\boot.jl:373 [inlined]",
      " [3] include_string(mapexpr::typeof(REPL.softscope), mod::Module, code::String, filename::String)",
      "   @ Base .\\loading.jl:1196"
     ]
    }
   ],
   "source": [
    "plot(node_loc, y, label = \"exact\")\n",
    "plot!(node_loc,disp, label = \"FEA\")"
   ]
  },
  {
   "cell_type": "code",
   "execution_count": null,
   "metadata": {},
   "outputs": [],
   "source": []
  }
 ],
 "metadata": {
  "kernelspec": {
   "display_name": "Julia 1.7.2",
   "language": "julia",
   "name": "julia-1.7"
  },
  "language_info": {
   "file_extension": ".jl",
   "mimetype": "application/julia",
   "name": "julia",
   "version": "1.7.2"
  }
 },
 "nbformat": 4,
 "nbformat_minor": 4
}
