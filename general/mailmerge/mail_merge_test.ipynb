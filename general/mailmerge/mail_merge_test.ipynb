{
 "cells": [
  {
   "cell_type": "code",
   "execution_count": 255,
   "metadata": {},
   "outputs": [],
   "source": [
    "from fpdf import FPDF  # fpdf class\n",
    "import pandas as pd\n",
    "from dataclasses import dataclass\n",
    "import itertools"
   ]
  },
  {
   "cell_type": "code",
   "execution_count": 297,
   "metadata": {},
   "outputs": [],
   "source": [
    "@dataclass\n",
    "class Box:\n",
    "    \"\"\"x1,y1 is top left corner. x2,y2 is the bottom right corner\"\"\"\n",
    "    x1:float\n",
    "    y1:float\n",
    "    x2:float\n",
    "    y2:float\n",
    "    txt:str = \"\"\n",
    "        \n",
    "    @property\n",
    "    def center(self):\n",
    "        return (self.x1+self.x2)/2, (self.y1+self.y2)/2\n",
    "\n",
    "class PDF(FPDF):\n",
    "#      pass # nothing happens when it is executed.\n",
    "\n",
    "\n",
    "    def quick_save(self,filename = 'test.pdf'):\n",
    "        self.output(filename, 'F')\n",
    "        \n",
    "    def add_outer_lines(self):\n",
    "        self.set_line_width(0.0)\n",
    "        self.line(0, self.h/2, self.w, self.h/2)\n",
    "        \n",
    "    def make_box(self, box:Box):\n",
    "        self._make_box(box.x1,box.y1, box.x2, box.y2)\n",
    "        if box.txt != \"\":\n",
    "            c = box.center\n",
    "#             print(f\"c is {c}\")\n",
    "            self.add_center_txt(box.txt, c[0], c[1])\n",
    "    \n",
    "    def _make_box(self, x1,y1, x2,y2):\n",
    "        \"\"\"x1,y1 is the top left corner. \n",
    "           x2,y2 is the bottom right corner\"\"\"\n",
    "        self.set_xy(0,0)\n",
    "        self.set_line_width(0.0)       \n",
    "        self.line(x1, y1, x2, y1)\n",
    "        self.line(x2, y1, x2, y2)\n",
    "        self.line(x2, y2, x1, y2)\n",
    "        self.line(x1, y2, x1, y1)       \n",
    "        \n",
    "    def add_center_txt(self, txt, x, y, width = 100, height = 10):\n",
    "        # I had problems with y1 being negative if y is small.\n",
    "        x1  =  max(x - width/2,0)\n",
    "        y1 =   max(y - height/2,0)\n",
    "        self.set_xy(x1,y1) \n",
    "        self.set_font(\"Arial\",size = 50)\n",
    "        self.set_text_color(0)\n",
    "#         print(txt, x,y, x1, y1)\n",
    "        self.cell(w = width, h= height,  align = 'C', txt = txt, border = 0)\n",
    "        "
   ]
  },
  {
   "cell_type": "code",
   "execution_count": 300,
   "metadata": {},
   "outputs": [],
   "source": [
    "# df = pd.read_excel(r\"C:\\Users\\garla\\OneDrive\\aubri\\sight_works.xlsx\")"
   ]
  },
  {
   "cell_type": "code",
   "execution_count": 301,
   "metadata": {},
   "outputs": [
    {
     "data": {
      "text/plain": [
       "array(['a', 'am', 'an', 'as', 'at', 'be', 'by', 'do', 'got', 'he', 'if',\n",
       "       'in', 'is', 'it', 'me', 'my', 'no', 'of', 'on', 'or', 'so', 'to',\n",
       "       'up', 'us', 'we', 'all', 'and', 'any', 'are', 'big', 'box', 'boy',\n",
       "       'but', 'can', 'day', 'did', 'ear', 'eat', 'end', 'far', 'for',\n",
       "       'get', 'got', 'had', 'has', 'her', 'him', 'his', 'how', 'let',\n",
       "       'many', 'may', 'men', 'new', 'not', 'old', 'one', 'our', 'out',\n",
       "       'own', 'put', 'ran', 'red', 'run', 'saw', 'say', 'see', 'she',\n",
       "       'the', 'too', 'two', 'use', 'was', 'way', 'who', 'why', 'you',\n",
       "       'also', 'away', 'back', 'ball', 'been', 'best', 'book', 'both',\n",
       "       'call', 'came', 'come', 'dear', 'down', 'each', 'find', 'five',\n",
       "       'four', 'from', 'girl', 'give', 'good', 'hand', 'have', 'here',\n",
       "       'high', 'home', 'into', 'just', 'kind', 'know', 'left', 'like',\n",
       "       'live', 'last', 'long', 'look', 'made', 'make', 'many', 'more',\n",
       "       'much', 'must', 'name', 'near', 'next', 'only', 'open', 'over',\n",
       "       'play', 'read', 'said', 'seem', 'some', 'soon', 'such', 'sure',\n",
       "       'take', 'tell', 'than', 'that', 'them', 'then', 'they', 'this',\n",
       "       'tree', 'upon', 'very', 'want', 'were', 'what', 'when', 'will',\n",
       "       'wish', 'witth', 'work', 'year', 'your', 'about', 'after', 'again',\n",
       "       'blaock', 'bring', 'color', 'could', 'first', 'found', 'house',\n",
       "       'leave', 'never', 'night', 'other', 'right', 'shall', 'stand',\n",
       "       'their', 'there', 'these', 'thing', 'think', 'three', 'under',\n",
       "       'until', 'where', 'which', 'while', 'white', 'would', 'before',\n",
       "       'better', 'friend', 'little', 'mother', 'people', 'please',\n",
       "       'pretty', 'school', 'should', 'another', 'because', 'morning',\n",
       "       'present'], dtype=object)"
      ]
     },
     "execution_count": 301,
     "metadata": {},
     "output_type": "execute_result"
    }
   ],
   "source": [
    "words = df.iloc[:,0].values\n",
    "words"
   ]
  },
  {
   "cell_type": "code",
   "execution_count": 302,
   "metadata": {},
   "outputs": [],
   "source": [
    "words = ['turtle', 'penguin', 'New Mexico', \"America\", 'hike', 'tent', 'book','super', 'power', 'computer']"
   ]
  },
  {
   "cell_type": "code",
   "execution_count": 303,
   "metadata": {},
   "outputs": [],
   "source": [
    "# pdf.add_page()\n",
    "\n",
    "# pdf.add_outer_lines()\n",
    "# pdf.make_box(10,100, 50, 200)\n",
    "# pdf.quick_save()"
   ]
  },
  {
   "cell_type": "code",
   "execution_count": 304,
   "metadata": {},
   "outputs": [],
   "source": [
    "ss = \"abcdefghijklmnop\""
   ]
  },
  {
   "cell_type": "code",
   "execution_count": 305,
   "metadata": {},
   "outputs": [],
   "source": [
    "def create_boxes_for_page(pdf,n_rows = 5, n_columns = 2, **kwargs ):\n",
    "\n",
    "    margin = 20 if 'margin' not in kwargs.keys() else kwargs['margin']\n",
    "    hspace = 10 if 'hspace' not in kwargs.keys() else kwargs['hspace']\n",
    "    wspace = 10 if 'wspace' not in kwargs.keys() else kwargs['wspace']\n",
    "    useable_height = pdf.h - margin*2 - (n_rows-1)*hspace\n",
    "    usable_width = pdf.w - margin*2 - (n_columns-1)*wspace\n",
    "\n",
    "    box_h = useable_height/n_rows\n",
    "    box_w = usable_width/n_columns\n",
    "\n",
    "    h_offset_between_boxes = box_h + hspace\n",
    "    w_offset_between_boxes = box_w + wspace\n",
    "\n",
    "    boxes = []\n",
    "    for row in range(n_rows):\n",
    "        for col in range(n_columns):\n",
    "            box_start_h = margin+ row*h_offset_between_boxes\n",
    "            box_start_w = margin+ col*w_offset_between_boxes\n",
    "\n",
    "            my_cool_box = Box(box_start_w, \n",
    "                              box_start_h, \n",
    "                              box_start_w+box_w, \n",
    "                              box_start_h+box_h)\n",
    "            boxes.append(my_cool_box)\n",
    "    return boxes\n",
    "#     pdf.make_box(margin, box_start_h, pdf.w - margin, box_start_h+box_h)"
   ]
  },
  {
   "cell_type": "code",
   "execution_count": 306,
   "metadata": {},
   "outputs": [],
   "source": [
    "pdf = PDF(format='A4')\n",
    "pdf.l_margin = 0\n",
    "pdf.t_margin = 0"
   ]
  },
  {
   "cell_type": "code",
   "execution_count": 307,
   "metadata": {},
   "outputs": [],
   "source": [
    "boxes = create_boxes_for_page(pdf, hspace = 1)"
   ]
  },
  {
   "cell_type": "code",
   "execution_count": 308,
   "metadata": {},
   "outputs": [],
   "source": [
    "box_iter = itertools.cycle(boxes)"
   ]
  },
  {
   "cell_type": "code",
   "execution_count": 309,
   "metadata": {},
   "outputs": [
    {
     "name": "stdout",
     "output_type": "stream",
     "text": [
      "new page 0, word = turtle\n"
     ]
    },
    {
     "ename": "AttributeError",
     "evalue": "'int' object has no attribute 'upper'",
     "output_type": "error",
     "traceback": [
      "\u001b[1;31m---------------------------------------------------------------------------\u001b[0m",
      "\u001b[1;31mAttributeError\u001b[0m                            Traceback (most recent call last)",
      "\u001b[1;32m<ipython-input-309-9d71518f20b8>\u001b[0m in \u001b[0;36m<module>\u001b[1;34m\u001b[0m\n\u001b[0;32m      9\u001b[0m \u001b[1;31m#     for b in boxes:\u001b[0m\u001b[1;33m\u001b[0m\u001b[1;33m\u001b[0m\u001b[1;33m\u001b[0m\u001b[0m\n\u001b[0;32m     10\u001b[0m     \u001b[0mb\u001b[0m\u001b[1;33m.\u001b[0m\u001b[0mtxt\u001b[0m \u001b[1;33m=\u001b[0m \u001b[0mword\u001b[0m\u001b[1;33m\u001b[0m\u001b[1;33m\u001b[0m\u001b[0m\n\u001b[1;32m---> 11\u001b[1;33m     \u001b[0mpdf\u001b[0m\u001b[1;33m.\u001b[0m\u001b[0mmake_box\u001b[0m\u001b[1;33m(\u001b[0m\u001b[0mb\u001b[0m\u001b[1;33m)\u001b[0m\u001b[1;33m\u001b[0m\u001b[1;33m\u001b[0m\u001b[0m\n\u001b[0m\u001b[0;32m     12\u001b[0m \u001b[1;33m\u001b[0m\u001b[0m\n",
      "\u001b[1;32m<ipython-input-297-f8e1da114b03>\u001b[0m in \u001b[0;36mmake_box\u001b[1;34m(self, box)\u001b[0m\n\u001b[0;32m     29\u001b[0m             \u001b[0mc\u001b[0m \u001b[1;33m=\u001b[0m \u001b[0mbox\u001b[0m\u001b[1;33m.\u001b[0m\u001b[0mcenter\u001b[0m\u001b[1;33m\u001b[0m\u001b[1;33m\u001b[0m\u001b[0m\n\u001b[0;32m     30\u001b[0m \u001b[1;31m#             print(f\"c is {c}\")\u001b[0m\u001b[1;33m\u001b[0m\u001b[1;33m\u001b[0m\u001b[1;33m\u001b[0m\u001b[0m\n\u001b[1;32m---> 31\u001b[1;33m             \u001b[0mself\u001b[0m\u001b[1;33m.\u001b[0m\u001b[0madd_center_txt\u001b[0m\u001b[1;33m(\u001b[0m\u001b[0mbox\u001b[0m\u001b[1;33m.\u001b[0m\u001b[0mtxt\u001b[0m\u001b[1;33m,\u001b[0m \u001b[0mc\u001b[0m\u001b[1;33m[\u001b[0m\u001b[1;36m0\u001b[0m\u001b[1;33m]\u001b[0m\u001b[1;33m,\u001b[0m \u001b[0mc\u001b[0m\u001b[1;33m[\u001b[0m\u001b[1;36m1\u001b[0m\u001b[1;33m]\u001b[0m\u001b[1;33m)\u001b[0m\u001b[1;33m\u001b[0m\u001b[1;33m\u001b[0m\u001b[0m\n\u001b[0m\u001b[0;32m     32\u001b[0m \u001b[1;33m\u001b[0m\u001b[0m\n\u001b[0;32m     33\u001b[0m     \u001b[1;32mdef\u001b[0m \u001b[0m_make_box\u001b[0m\u001b[1;33m(\u001b[0m\u001b[0mself\u001b[0m\u001b[1;33m,\u001b[0m \u001b[0mx1\u001b[0m\u001b[1;33m,\u001b[0m\u001b[0my1\u001b[0m\u001b[1;33m,\u001b[0m \u001b[0mx2\u001b[0m\u001b[1;33m,\u001b[0m\u001b[0my2\u001b[0m\u001b[1;33m)\u001b[0m\u001b[1;33m:\u001b[0m\u001b[1;33m\u001b[0m\u001b[1;33m\u001b[0m\u001b[0m\n",
      "\u001b[1;32m<ipython-input-297-f8e1da114b03>\u001b[0m in \u001b[0;36madd_center_txt\u001b[1;34m(self, txt, x, y, width, height)\u001b[0m\n\u001b[0;32m     46\u001b[0m         \u001b[0my1\u001b[0m \u001b[1;33m=\u001b[0m   \u001b[0mmax\u001b[0m\u001b[1;33m(\u001b[0m\u001b[0my\u001b[0m \u001b[1;33m-\u001b[0m \u001b[0mheight\u001b[0m\u001b[1;33m/\u001b[0m\u001b[1;36m2\u001b[0m\u001b[1;33m,\u001b[0m\u001b[1;36m0\u001b[0m\u001b[1;33m)\u001b[0m\u001b[1;33m\u001b[0m\u001b[1;33m\u001b[0m\u001b[0m\n\u001b[0;32m     47\u001b[0m         \u001b[0mself\u001b[0m\u001b[1;33m.\u001b[0m\u001b[0mset_xy\u001b[0m\u001b[1;33m(\u001b[0m\u001b[0mx1\u001b[0m\u001b[1;33m,\u001b[0m\u001b[0my1\u001b[0m\u001b[1;33m)\u001b[0m\u001b[1;33m\u001b[0m\u001b[1;33m\u001b[0m\u001b[0m\n\u001b[1;32m---> 48\u001b[1;33m         \u001b[0mself\u001b[0m\u001b[1;33m.\u001b[0m\u001b[0mset_font\u001b[0m\u001b[1;33m(\u001b[0m\u001b[0mself\u001b[0m\u001b[1;33m.\u001b[0m\u001b[0mdefault_font\u001b[0m\u001b[1;33m,\u001b[0m\u001b[0mself\u001b[0m\u001b[1;33m.\u001b[0m\u001b[0mdefault_fontsize\u001b[0m\u001b[1;33m)\u001b[0m\u001b[1;33m\u001b[0m\u001b[1;33m\u001b[0m\u001b[0m\n\u001b[0m\u001b[0;32m     49\u001b[0m         \u001b[0mself\u001b[0m\u001b[1;33m.\u001b[0m\u001b[0mset_text_color\u001b[0m\u001b[1;33m(\u001b[0m\u001b[1;36m0\u001b[0m\u001b[1;33m)\u001b[0m\u001b[1;33m\u001b[0m\u001b[1;33m\u001b[0m\u001b[0m\n\u001b[0;32m     50\u001b[0m \u001b[1;31m#         print(txt, x,y, x1, y1)\u001b[0m\u001b[1;33m\u001b[0m\u001b[1;33m\u001b[0m\u001b[1;33m\u001b[0m\u001b[0m\n",
      "\u001b[1;32m~\\anaconda3\\lib\\site-packages\\fpdf\\fpdf.py\u001b[0m in \u001b[0;36mset_font\u001b[1;34m(self, family, style, size)\u001b[0m\n\u001b[0;32m    572\u001b[0m         \u001b[1;32melif\u001b[0m\u001b[1;33m(\u001b[0m\u001b[0mfamily\u001b[0m\u001b[1;33m==\u001b[0m\u001b[1;34m'symbol'\u001b[0m \u001b[1;32mor\u001b[0m \u001b[0mfamily\u001b[0m\u001b[1;33m==\u001b[0m\u001b[1;34m'zapfdingbats'\u001b[0m\u001b[1;33m)\u001b[0m\u001b[1;33m:\u001b[0m\u001b[1;33m\u001b[0m\u001b[1;33m\u001b[0m\u001b[0m\n\u001b[0;32m    573\u001b[0m             \u001b[0mstyle\u001b[0m\u001b[1;33m=\u001b[0m\u001b[1;34m''\u001b[0m\u001b[1;33m\u001b[0m\u001b[1;33m\u001b[0m\u001b[0m\n\u001b[1;32m--> 574\u001b[1;33m         \u001b[0mstyle\u001b[0m\u001b[1;33m=\u001b[0m\u001b[0mstyle\u001b[0m\u001b[1;33m.\u001b[0m\u001b[0mupper\u001b[0m\u001b[1;33m(\u001b[0m\u001b[1;33m)\u001b[0m\u001b[1;33m\u001b[0m\u001b[1;33m\u001b[0m\u001b[0m\n\u001b[0m\u001b[0;32m    575\u001b[0m         \u001b[1;32mif\u001b[0m\u001b[1;33m(\u001b[0m\u001b[1;34m'U'\u001b[0m \u001b[1;32min\u001b[0m \u001b[0mstyle\u001b[0m\u001b[1;33m)\u001b[0m\u001b[1;33m:\u001b[0m\u001b[1;33m\u001b[0m\u001b[1;33m\u001b[0m\u001b[0m\n\u001b[0;32m    576\u001b[0m             \u001b[0mself\u001b[0m\u001b[1;33m.\u001b[0m\u001b[0munderline\u001b[0m\u001b[1;33m=\u001b[0m\u001b[1;36m1\u001b[0m\u001b[1;33m\u001b[0m\u001b[1;33m\u001b[0m\u001b[0m\n",
      "\u001b[1;31mAttributeError\u001b[0m: 'int' object has no attribute 'upper'"
     ]
    }
   ],
   "source": [
    "pdf.page_break_trigger= 1000\n",
    "pdf.auto_page_break = False\n",
    "boxes_per_page = 10\n",
    "for i, word in enumerate(words):\n",
    "    if i % boxes_per_page==0:\n",
    "        print(f\"new page {i}, word = {word}\")\n",
    "        pdf.add_page()\n",
    "    b = next(box_iter)\n",
    "#     for b in boxes:\n",
    "    b.txt = word\n",
    "    pdf.make_box(b)\n",
    "    "
   ]
  },
  {
   "cell_type": "code",
   "execution_count": 294,
   "metadata": {},
   "outputs": [],
   "source": [
    "pdf.quick_save()"
   ]
  },
  {
   "cell_type": "code",
   "execution_count": 295,
   "metadata": {},
   "outputs": [],
   "source": [
    "# vars(pdf)"
   ]
  },
  {
   "cell_type": "code",
   "execution_count": null,
   "metadata": {},
   "outputs": [],
   "source": []
  },
  {
   "cell_type": "code",
   "execution_count": 240,
   "metadata": {},
   "outputs": [],
   "source": [
    "# pdf.set_text_color??\n"
   ]
  },
  {
   "cell_type": "code",
   "execution_count": 225,
   "metadata": {},
   "outputs": [],
   "source": [
    "# pdf.set_font??"
   ]
  },
  {
   "cell_type": "code",
   "execution_count": 241,
   "metadata": {},
   "outputs": [],
   "source": [
    "# pdf.accept_page_break??"
   ]
  },
  {
   "cell_type": "code",
   "execution_count": 242,
   "metadata": {},
   "outputs": [],
   "source": [
    "# pdf.cell??"
   ]
  },
  {
   "cell_type": "code",
   "execution_count": 228,
   "metadata": {},
   "outputs": [],
   "source": [
    "# pdf = add_outer_lines(pdf)"
   ]
  },
  {
   "cell_type": "code",
   "execution_count": 229,
   "metadata": {},
   "outputs": [],
   "source": [
    "# pdf.quick_save()"
   ]
  },
  {
   "cell_type": "code",
   "execution_count": 230,
   "metadata": {},
   "outputs": [],
   "source": [
    "# pdf.line()"
   ]
  },
  {
   "cell_type": "code",
   "execution_count": null,
   "metadata": {},
   "outputs": [],
   "source": []
  }
 ],
 "metadata": {
  "kernelspec": {
   "display_name": "Python 3",
   "language": "python",
   "name": "python3"
  },
  "language_info": {
   "codemirror_mode": {
    "name": "ipython",
    "version": 3
   },
   "file_extension": ".py",
   "mimetype": "text/x-python",
   "name": "python",
   "nbconvert_exporter": "python",
   "pygments_lexer": "ipython3",
   "version": "3.8.5"
  }
 },
 "nbformat": 4,
 "nbformat_minor": 4
}
