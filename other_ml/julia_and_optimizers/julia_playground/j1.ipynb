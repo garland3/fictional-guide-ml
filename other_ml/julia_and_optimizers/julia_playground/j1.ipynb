{
 "cells": [
  {
   "cell_type": "code",
   "execution_count": null,
   "metadata": {},
   "outputs": [],
   "source": []
  },
  {
   "cell_type": "markdown",
   "metadata": {},
   "source": [
    "# Julia kernel\n",
    "* Reading `Julia 1.0 Programming - Second Edition`"
   ]
  },
  {
   "cell_type": "code",
   "execution_count": 1,
   "metadata": {},
   "outputs": [
    {
     "data": {
      "text/plain": [
       "10"
      ]
     },
     "execution_count": 1,
     "metadata": {},
     "output_type": "execute_result"
    }
   ],
   "source": [
    "x = 10"
   ]
  },
  {
   "cell_type": "code",
   "execution_count": 2,
   "metadata": {},
   "outputs": [
    {
     "data": {
      "text/plain": [
       "10"
      ]
     },
     "execution_count": 2,
     "metadata": {},
     "output_type": "execute_result"
    }
   ],
   "source": [
    "x"
   ]
  },
  {
   "cell_type": "code",
   "execution_count": 3,
   "metadata": {},
   "outputs": [
    {
     "data": {
      "text/plain": [
       "11"
      ]
     },
     "execution_count": 3,
     "metadata": {},
     "output_type": "execute_result"
    }
   ],
   "source": [
    "x+1"
   ]
  },
  {
   "cell_type": "code",
   "execution_count": 4,
   "metadata": {},
   "outputs": [
    {
     "data": {
      "text/plain": [
       "\"my string\""
      ]
     },
     "execution_count": 4,
     "metadata": {},
     "output_type": "execute_result"
    }
   ],
   "source": [
    "x = \"my string\""
   ]
  },
  {
   "cell_type": "code",
   "execution_count": 5,
   "metadata": {},
   "outputs": [
    {
     "data": {
      "text/plain": [
       "\"my string\""
      ]
     },
     "execution_count": 5,
     "metadata": {},
     "output_type": "execute_result"
    }
   ],
   "source": [
    "x"
   ]
  },
  {
   "cell_type": "code",
   "execution_count": 6,
   "metadata": {},
   "outputs": [
    {
     "data": {
      "text/plain": [
       "π = 3.1415926535897..."
      ]
     },
     "execution_count": 6,
     "metadata": {},
     "output_type": "execute_result"
    }
   ],
   "source": [
    "pi"
   ]
  },
  {
   "cell_type": "markdown",
   "metadata": {},
   "source": [
    "Make a function"
   ]
  },
  {
   "cell_type": "code",
   "execution_count": 7,
   "metadata": {},
   "outputs": [
    {
     "data": {
      "text/plain": [
       "f (generic function with 1 method)"
      ]
     },
     "execution_count": 7,
     "metadata": {},
     "output_type": "execute_result"
    }
   ],
   "source": [
    "f(x) = 2x+5"
   ]
  },
  {
   "cell_type": "markdown",
   "metadata": {},
   "source": [
    "Test it"
   ]
  },
  {
   "cell_type": "code",
   "execution_count": 8,
   "metadata": {},
   "outputs": [
    {
     "data": {
      "text/plain": [
       "11"
      ]
     },
     "execution_count": 8,
     "metadata": {},
     "output_type": "execute_result"
    }
   ],
   "source": [
    "f(3)\n"
   ]
  },
  {
   "cell_type": "markdown",
   "metadata": {},
   "source": [
    "See the LLVM code that represents the actual function"
   ]
  },
  {
   "cell_type": "code",
   "execution_count": 9,
   "metadata": {},
   "outputs": [
    {
     "name": "stdout",
     "output_type": "stream",
     "text": [
      "\n",
      "; Function f\n",
      "; Location: In[7]:1\n",
      "; Function Attrs: uwtable\n",
      "define i64 @julia_f_35843(i64) #0 {\n",
      "top:\n",
      "; Function *; {\n",
      "; Location: int.jl:54\n",
      "  %1 = shl i64 %0, 1\n",
      ";}\n",
      "; Function +; {\n",
      "; Location: int.jl:53\n",
      "  %2 = add i64 %1, 5\n",
      ";}\n",
      "  ret i64 %2\n",
      "}\n"
     ]
    }
   ],
   "source": [
    "code_llvm(f, (Int64,)) \n"
   ]
  },
  {
   "cell_type": "markdown",
   "metadata": {},
   "source": [
    "See assembly code for the function"
   ]
  },
  {
   "cell_type": "code",
   "execution_count": 10,
   "metadata": {},
   "outputs": [
    {
     "name": "stdout",
     "output_type": "stream",
     "text": [
      "\t.text\n",
      "; Function f {\n",
      "; Location: In[7]:1\n",
      "\tpushq\t%rbp\n",
      "\tmovq\t%rsp, %rbp\n",
      "; Function +; {\n",
      "; Location: int.jl:53\n",
      "\tleaq\t(%rcx,%rcx), %rax\n",
      "\taddq\t$5, %rax\n",
      ";}\n",
      "\tpopq\t%rbp\n",
      "\tretq\n",
      "\tnop\n",
      ";}\n"
     ]
    }
   ],
   "source": [
    "code_native(f, (Int64,)) "
   ]
  },
  {
   "cell_type": "code",
   "execution_count": 11,
   "metadata": {},
   "outputs": [
    {
     "name": "stdout",
     "output_type": "stream",
     "text": [
      "\t.text\n",
      "; Function f {\n",
      "; Location: In[7]:1\n",
      "\tpushq\t%rbp\n",
      "\tmovq\t%rsp, %rbp\n",
      "; Function *; {\n",
      "; Location: promotion.jl:314\n",
      "; Function *; {\n",
      "; Location: float.jl:399\n",
      "\tvaddsd\t%xmm0, %xmm0, %xmm0\n",
      "\tmovabsq\t$333895064, %rax        # imm = 0x13E6D598\n",
      ";}}\n",
      "; Function +; {\n",
      "; Location: promotion.jl:313\n",
      "; Function +; {\n",
      "; Location: float.jl:395\n",
      "\tvaddsd\t(%rax), %xmm0, %xmm0\n",
      ";}}\n",
      "\tpopq\t%rbp\n",
      "\tretq\n",
      "\tnopl\t(%rax,%rax)\n",
      ";}\n"
     ]
    }
   ],
   "source": [
    "code_native(f, (Float64,))"
   ]
  },
  {
   "cell_type": "code",
   "execution_count": 12,
   "metadata": {},
   "outputs": [
    {
     "data": {
      "text/plain": [
       "66"
      ]
     },
     "execution_count": 12,
     "metadata": {},
     "output_type": "execute_result"
    }
   ],
   "source": [
    "y = 66"
   ]
  },
  {
   "cell_type": "code",
   "execution_count": 13,
   "metadata": {},
   "outputs": [
    {
     "data": {
      "text/plain": [
       "Int64"
      ]
     },
     "execution_count": 13,
     "metadata": {},
     "output_type": "execute_result"
    }
   ],
   "source": [
    "typeof(y)"
   ]
  },
  {
   "cell_type": "markdown",
   "metadata": {},
   "source": [
    "Double quotes = string"
   ]
  },
  {
   "cell_type": "code",
   "execution_count": 14,
   "metadata": {},
   "outputs": [
    {
     "data": {
      "text/plain": [
       "\"h\""
      ]
     },
     "execution_count": 14,
     "metadata": {},
     "output_type": "execute_result"
    }
   ],
   "source": [
    "z = \"h\""
   ]
  },
  {
   "cell_type": "code",
   "execution_count": 15,
   "metadata": {},
   "outputs": [
    {
     "data": {
      "text/plain": [
       "String"
      ]
     },
     "execution_count": 15,
     "metadata": {},
     "output_type": "execute_result"
    }
   ],
   "source": [
    "typeof(z)"
   ]
  },
  {
   "cell_type": "markdown",
   "metadata": {},
   "source": [
    "single quote = char"
   ]
  },
  {
   "cell_type": "code",
   "execution_count": 16,
   "metadata": {},
   "outputs": [
    {
     "data": {
      "text/plain": [
       "'a': ASCII/Unicode U+0061 (category Ll: Letter, lowercase)"
      ]
     },
     "execution_count": 16,
     "metadata": {},
     "output_type": "execute_result"
    }
   ],
   "source": [
    "a = 'a'"
   ]
  },
  {
   "cell_type": "code",
   "execution_count": 17,
   "metadata": {},
   "outputs": [
    {
     "data": {
      "text/plain": [
       "Char"
      ]
     },
     "execution_count": 17,
     "metadata": {},
     "output_type": "execute_result"
    }
   ],
   "source": [
    "typeof(a)"
   ]
  },
  {
   "cell_type": "markdown",
   "metadata": {},
   "source": [
    "Julia tries to guess the type and won't allow some operations if types are mismatched"
   ]
  },
  {
   "cell_type": "code",
   "execution_count": 18,
   "metadata": {},
   "outputs": [],
   "source": [
    "# y+z"
   ]
  },
  {
   "cell_type": "code",
   "execution_count": 19,
   "metadata": {},
   "outputs": [],
   "source": [
    "# this is a comment"
   ]
  },
  {
   "cell_type": "code",
   "execution_count": 20,
   "metadata": {},
   "outputs": [
    {
     "data": {
      "text/plain": [
       "12.3"
      ]
     },
     "execution_count": 20,
     "metadata": {},
     "output_type": "execute_result"
    }
   ],
   "source": [
    "#= multi line\n",
    "comment with amperstan and equals\n",
    "last line =#\n",
    "b = 12.3"
   ]
  },
  {
   "cell_type": "code",
   "execution_count": 21,
   "metadata": {},
   "outputs": [
    {
     "data": {
      "text/plain": [
       "Float64"
      ]
     },
     "execution_count": 21,
     "metadata": {},
     "output_type": "execute_result"
    }
   ],
   "source": [
    "typeof(b)"
   ]
  },
  {
   "cell_type": "code",
   "execution_count": 22,
   "metadata": {},
   "outputs": [
    {
     "name": "stdout",
     "output_type": "stream",
     "text": [
      "12.3"
     ]
    }
   ],
   "source": [
    "print(b)"
   ]
  },
  {
   "cell_type": "markdown",
   "metadata": {},
   "source": [
    "Fancy print "
   ]
  },
  {
   "cell_type": "code",
   "execution_count": 23,
   "metadata": {},
   "outputs": [
    {
     "name": "stdout",
     "output_type": "stream",
     "text": [
      "\u001b[31m12.3\u001b[39m"
     ]
    }
   ],
   "source": [
    "printstyled(b,color=:red)"
   ]
  },
  {
   "cell_type": "code",
   "execution_count": 24,
   "metadata": {},
   "outputs": [
    {
     "data": {
      "text/plain": [
       "calc_dist (generic function with 1 method)"
      ]
     },
     "execution_count": 24,
     "metadata": {},
     "output_type": "execute_result"
    }
   ],
   "source": [
    "function calc_dist(x1::Float64, x2::Float64)\n",
    "    print(\"x1 is $x1 and x2 is $x2\")\n",
    "    return abs(x1 - x2)\n",
    "\n",
    "end"
   ]
  },
  {
   "cell_type": "code",
   "execution_count": 25,
   "metadata": {},
   "outputs": [
    {
     "name": "stdout",
     "output_type": "stream",
     "text": [
      "x1 is 1.0 and x2 is 2.0"
     ]
    },
    {
     "data": {
      "text/plain": [
       "1.0"
      ]
     },
     "execution_count": 25,
     "metadata": {},
     "output_type": "execute_result"
    }
   ],
   "source": [
    "calc_dist(1.,2.)"
   ]
  },
  {
   "cell_type": "markdown",
   "metadata": {},
   "source": [
    "Show a bit string representation"
   ]
  },
  {
   "cell_type": "code",
   "execution_count": 26,
   "metadata": {},
   "outputs": [
    {
     "data": {
      "text/plain": [
       "\"0100000100000001000101110000000000000000000000000000000000000000\""
      ]
     },
     "execution_count": 26,
     "metadata": {},
     "output_type": "execute_result"
    }
   ],
   "source": [
    "bitstring(1.4e5)"
   ]
  },
  {
   "cell_type": "code",
   "execution_count": 27,
   "metadata": {},
   "outputs": [
    {
     "data": {
      "text/plain": [
       "true"
      ]
     },
     "execution_count": 27,
     "metadata": {},
     "output_type": "execute_result"
    }
   ],
   "source": [
    "d = true"
   ]
  },
  {
   "cell_type": "code",
   "execution_count": 28,
   "metadata": {},
   "outputs": [
    {
     "data": {
      "text/plain": [
       "false"
      ]
     },
     "execution_count": 28,
     "metadata": {},
     "output_type": "execute_result"
    }
   ],
   "source": [
    "e = false"
   ]
  },
  {
   "cell_type": "markdown",
   "metadata": {},
   "source": [
    "Boolean AND or OR"
   ]
  },
  {
   "cell_type": "code",
   "execution_count": 29,
   "metadata": {},
   "outputs": [
    {
     "name": "stdout",
     "output_type": "stream",
     "text": [
      "false\n",
      "true"
     ]
    }
   ],
   "source": [
    "println(d && e)\n",
    "print(d || e)"
   ]
  },
  {
   "cell_type": "code",
   "execution_count": 30,
   "metadata": {},
   "outputs": [
    {
     "data": {
      "text/plain": [
       "\"My string\""
      ]
     },
     "execution_count": 30,
     "metadata": {},
     "output_type": "execute_result"
    }
   ],
   "source": [
    "mystring = \"My string\""
   ]
  },
  {
   "cell_type": "markdown",
   "metadata": {},
   "source": [
    "Get the char value at some location in a string"
   ]
  },
  {
   "cell_type": "code",
   "execution_count": 31,
   "metadata": {},
   "outputs": [
    {
     "data": {
      "text/plain": [
       "' ': ASCII/Unicode U+0020 (category Zs: Separator, space)"
      ]
     },
     "execution_count": 31,
     "metadata": {},
     "output_type": "execute_result"
    }
   ],
   "source": [
    "mystring[3]"
   ]
  },
  {
   "cell_type": "code",
   "execution_count": 32,
   "metadata": {},
   "outputs": [
    {
     "name": "stdout",
     "output_type": "stream",
     "text": [
      "-M-y- -s-t-r-i-n-g"
     ]
    }
   ],
   "source": [
    "# loop over a string\n",
    "for c in mystring\n",
    "    print(\"-$c\")\n",
    "end"
   ]
  },
  {
   "cell_type": "code",
   "execution_count": 33,
   "metadata": {},
   "outputs": [
    {
     "name": "stdout",
     "output_type": "stream",
     "text": [
      "My \n"
     ]
    }
   ],
   "source": [
    "start = mystring[1:3] # note: start at 1 for strings. \n",
    "println(start)"
   ]
  },
  {
   "cell_type": "code",
   "execution_count": 34,
   "metadata": {},
   "outputs": [
    {
     "name": "stdout",
     "output_type": "stream",
     "text": [
      "_1_2_3_4_5_6_7_8_9_10_11_12_13_14_15_16_17_18_19_20_21_22_23_24_25_26_27_28_29_30_31_32_33_34_35_36_37_38_39_40_41_42_43_44_45_46_47_48_49_50_51_52_53_54_55_56_57_58_59_60_61_62_63_64_65_66_67_68_69_70_71_72_73_74_75_76_77_78_79_80_81_82_83_84_85_86_87_88_89_90_91_92_93_94_95_96_97_98_99_100"
     ]
    }
   ],
   "source": [
    "for i in 1:100\n",
    "    print(\"_$i\")\n",
    "end"
   ]
  },
  {
   "cell_type": "code",
   "execution_count": 35,
   "metadata": {},
   "outputs": [
    {
     "data": {
      "text/plain": [
       "3-element Array{Int64,1}:\n",
       " 4\n",
       " 5\n",
       " 6"
      ]
     },
     "execution_count": 35,
     "metadata": {},
     "output_type": "execute_result"
    }
   ],
   "source": [
    "vector = [1,2,3]\n",
    "vector2 = [4,5,6]"
   ]
  },
  {
   "cell_type": "code",
   "execution_count": 36,
   "metadata": {},
   "outputs": [
    {
     "data": {
      "text/plain": [
       "Array{Int64,1}"
      ]
     },
     "execution_count": 36,
     "metadata": {},
     "output_type": "execute_result"
    }
   ],
   "source": [
    "typeof(vector)"
   ]
  },
  {
   "cell_type": "code",
   "execution_count": 37,
   "metadata": {},
   "outputs": [
    {
     "data": {
      "text/plain": [
       "3-element Array{Int64,1}:\n",
       " 5\n",
       " 7\n",
       " 9"
      ]
     },
     "execution_count": 37,
     "metadata": {},
     "output_type": "execute_result"
    }
   ],
   "source": [
    "vector3 = vector+vector2"
   ]
  },
  {
   "cell_type": "code",
   "execution_count": 38,
   "metadata": {},
   "outputs": [
    {
     "data": {
      "text/plain": [
       "7-element Array{Int64,1}:\n",
       " 1\n",
       " 2\n",
       " 3\n",
       " 4\n",
       " 5\n",
       " 6\n",
       " 7"
      ]
     },
     "execution_count": 38,
     "metadata": {},
     "output_type": "execute_result"
    }
   ],
   "source": [
    "arr4 = collect(1:7)"
   ]
  },
  {
   "cell_type": "code",
   "execution_count": 39,
   "metadata": {},
   "outputs": [
    {
     "data": {
      "text/plain": [
       "8-element Array{Int64,1}:\n",
       " 1\n",
       " 2\n",
       " 3\n",
       " 4\n",
       " 5\n",
       " 6\n",
       " 7\n",
       " 1"
      ]
     },
     "execution_count": 39,
     "metadata": {},
     "output_type": "execute_result"
    }
   ],
   "source": [
    "push!(arr4,1)"
   ]
  },
  {
   "cell_type": "code",
   "execution_count": 40,
   "metadata": {},
   "outputs": [
    {
     "data": {
      "text/plain": [
       "Int64"
      ]
     },
     "execution_count": 40,
     "metadata": {},
     "output_type": "execute_result"
    }
   ],
   "source": [
    "eltype(arr4)"
   ]
  },
  {
   "cell_type": "code",
   "execution_count": 41,
   "metadata": {},
   "outputs": [
    {
     "data": {
      "text/plain": [
       "8"
      ]
     },
     "execution_count": 41,
     "metadata": {},
     "output_type": "execute_result"
    }
   ],
   "source": [
    "length(arr4)"
   ]
  },
  {
   "cell_type": "code",
   "execution_count": 42,
   "metadata": {},
   "outputs": [
    {
     "data": {
      "text/plain": [
       "1"
      ]
     },
     "execution_count": 42,
     "metadata": {},
     "output_type": "execute_result"
    }
   ],
   "source": [
    "ndims(arr4)"
   ]
  },
  {
   "cell_type": "code",
   "execution_count": 43,
   "metadata": {},
   "outputs": [
    {
     "data": {
      "text/plain": [
       "\"1, 2, 3, 4, 5, 6, 7, 1\""
      ]
     },
     "execution_count": 43,
     "metadata": {},
     "output_type": "execute_result"
    }
   ],
   "source": [
    "join(arr4, \", \")"
   ]
  },
  {
   "cell_type": "code",
   "execution_count": 44,
   "metadata": {},
   "outputs": [
    {
     "data": {
      "text/plain": [
       "3-element Array{Int64,1}:\n",
       " 3\n",
       " 4\n",
       " 5"
      ]
     },
     "execution_count": 44,
     "metadata": {},
     "output_type": "execute_result"
    }
   ],
   "source": [
    "arr4[3:5]"
   ]
  },
  {
   "cell_type": "code",
   "execution_count": 45,
   "metadata": {},
   "outputs": [
    {
     "data": {
      "text/plain": [
       "3×4 Array{Float64,2}:\n",
       " 0.0  0.0  0.0  0.0\n",
       " 0.0  0.0  0.0  0.0\n",
       " 0.0  0.0  0.0  0.0"
      ]
     },
     "execution_count": 45,
     "metadata": {},
     "output_type": "execute_result"
    }
   ],
   "source": [
    "arr5 = zeros(3,4)"
   ]
  },
  {
   "cell_type": "code",
   "execution_count": 46,
   "metadata": {},
   "outputs": [
    {
     "data": {
      "text/plain": [
       "0:2:198"
      ]
     },
     "execution_count": 46,
     "metadata": {},
     "output_type": "execute_result"
    }
   ],
   "source": [
    "vector5 = range(0,step = 2, length=100)"
   ]
  },
  {
   "cell_type": "code",
   "execution_count": 47,
   "metadata": {},
   "outputs": [
    {
     "name": "stdout",
     "output_type": "stream",
     "text": [
      "_0_2_4_6_8_10_12_14_16_18_20_22_24_26_28_30_32_34_36_38_40_42_44_46_48_50_52_54_56_58_60_62_64_66_68_70_72_74_76_78_80_82_84_86_88_90_92_94_96_98_100_102_104_106_108_110_112_114_116_118_120_122_124_126_128_130_132_134_136_138_140_142_144_146_148_150_152_154_156_158_160_162_164_166_168_170_172_174_176_178_180_182_184_186_188_190_192_194_196_198"
     ]
    }
   ],
   "source": [
    "for v in vector5\n",
    "    print(\"_$v\")\n",
    "end"
   ]
  },
  {
   "cell_type": "code",
   "execution_count": 48,
   "metadata": {},
   "outputs": [
    {
     "data": {
      "text/plain": [
       "3×4 Array{Float64,2}:\n",
       " 5.0  5.0  5.0  5.0\n",
       " 5.0  5.0  5.0  5.0\n",
       " 5.0  5.0  5.0  5.0"
      ]
     },
     "execution_count": 48,
     "metadata": {},
     "output_type": "execute_result"
    }
   ],
   "source": [
    "fill!(arr5, 5)"
   ]
  },
  {
   "cell_type": "code",
   "execution_count": 49,
   "metadata": {},
   "outputs": [
    {
     "data": {
      "text/plain": [
       "5-element Array{Float32,1}:\n",
       " 0.036063433\n",
       " 0.44514203 \n",
       " 0.48036408 \n",
       " 0.46275818 \n",
       " 0.89671683 "
      ]
     },
     "execution_count": 49,
     "metadata": {},
     "output_type": "execute_result"
    }
   ],
   "source": [
    "vector_r = rand(Float32, 5)"
   ]
  },
  {
   "cell_type": "code",
   "execution_count": 50,
   "metadata": {},
   "outputs": [
    {
     "data": {
      "text/plain": [
       "3-element Array{Int64,1}:\n",
       " 2\n",
       " 3\n",
       " 4"
      ]
     },
     "execution_count": 50,
     "metadata": {},
     "output_type": "execute_result"
    }
   ],
   "source": [
    "a = [1,2,3]\n",
    "b = [2,3,4]\n",
    "# append"
   ]
  },
  {
   "cell_type": "markdown",
   "metadata": {},
   "source": [
    "Add to an vector/array"
   ]
  },
  {
   "cell_type": "code",
   "execution_count": 51,
   "metadata": {},
   "outputs": [
    {
     "data": {
      "text/plain": [
       "6-element Array{Int64,1}:\n",
       " 1\n",
       " 2\n",
       " 3\n",
       " 2\n",
       " 3\n",
       " 4"
      ]
     },
     "execution_count": 51,
     "metadata": {},
     "output_type": "execute_result"
    }
   ],
   "source": [
    "append!(a,b)"
   ]
  },
  {
   "cell_type": "code",
   "execution_count": 52,
   "metadata": {},
   "outputs": [
    {
     "data": {
      "text/plain": [
       "4"
      ]
     },
     "execution_count": 52,
     "metadata": {},
     "output_type": "execute_result"
    }
   ],
   "source": [
    "pop!(a)"
   ]
  },
  {
   "cell_type": "code",
   "execution_count": 53,
   "metadata": {},
   "outputs": [
    {
     "data": {
      "text/plain": [
       "6-element Array{Int64,1}:\n",
       "  1\n",
       "  2\n",
       "  3\n",
       "  2\n",
       "  3\n",
       " 45"
      ]
     },
     "execution_count": 53,
     "metadata": {},
     "output_type": "execute_result"
    }
   ],
   "source": [
    "push!(a,45)"
   ]
  },
  {
   "cell_type": "code",
   "execution_count": 54,
   "metadata": {},
   "outputs": [
    {
     "data": {
      "text/plain": [
       "1"
      ]
     },
     "execution_count": 54,
     "metadata": {},
     "output_type": "execute_result"
    }
   ],
   "source": [
    "popfirst!(a)"
   ]
  },
  {
   "cell_type": "code",
   "execution_count": 55,
   "metadata": {},
   "outputs": [
    {
     "data": {
      "text/plain": [
       "5-element Array{Int64,1}:\n",
       "  2\n",
       "  3\n",
       "  2\n",
       "  3\n",
       " 45"
      ]
     },
     "execution_count": 55,
     "metadata": {},
     "output_type": "execute_result"
    }
   ],
   "source": [
    "a"
   ]
  },
  {
   "cell_type": "code",
   "execution_count": 56,
   "metadata": {},
   "outputs": [
    {
     "data": {
      "text/plain": [
       "6-element Array{Int64,1}:\n",
       " 23\n",
       "  2\n",
       "  3\n",
       "  2\n",
       "  3\n",
       " 45"
      ]
     },
     "execution_count": 56,
     "metadata": {},
     "output_type": "execute_result"
    }
   ],
   "source": [
    "pushfirst!(a,23)"
   ]
  },
  {
   "cell_type": "code",
   "execution_count": 57,
   "metadata": {},
   "outputs": [
    {
     "data": {
      "text/plain": [
       "true"
      ]
     },
     "execution_count": 57,
     "metadata": {},
     "output_type": "execute_result"
    }
   ],
   "source": [
    "in(23, a)"
   ]
  },
  {
   "cell_type": "code",
   "execution_count": 58,
   "metadata": {},
   "outputs": [
    {
     "data": {
      "text/plain": [
       "false"
      ]
     },
     "execution_count": 58,
     "metadata": {},
     "output_type": "execute_result"
    }
   ],
   "source": [
    "in(-1, a)"
   ]
  },
  {
   "cell_type": "code",
   "execution_count": 59,
   "metadata": {},
   "outputs": [
    {
     "data": {
      "text/plain": [
       "6-element Array{Int64,1}:\n",
       "  2\n",
       "  2\n",
       "  3\n",
       "  3\n",
       " 23\n",
       " 45"
      ]
     },
     "execution_count": 59,
     "metadata": {},
     "output_type": "execute_result"
    }
   ],
   "source": [
    "c = sort(a)"
   ]
  },
  {
   "cell_type": "markdown",
   "metadata": {},
   "source": [
    "# operations\n",
    "* put a dot in front of it"
   ]
  },
  {
   "cell_type": "code",
   "execution_count": 60,
   "metadata": {},
   "outputs": [
    {
     "data": {
      "text/plain": [
       "6-element Array{Int64,1}:\n",
       "  3\n",
       "  3\n",
       "  4\n",
       "  4\n",
       " 24\n",
       " 46"
      ]
     },
     "execution_count": 60,
     "metadata": {},
     "output_type": "execute_result"
    }
   ],
   "source": [
    "c .+ 1"
   ]
  },
  {
   "cell_type": "code",
   "execution_count": 61,
   "metadata": {},
   "outputs": [],
   "source": [
    "using LinearAlgebra"
   ]
  },
  {
   "cell_type": "code",
   "execution_count": 62,
   "metadata": {},
   "outputs": [
    {
     "data": {
      "text/plain": [
       "32"
      ]
     },
     "execution_count": 62,
     "metadata": {},
     "output_type": "execute_result"
    }
   ],
   "source": [
    "a = [1,2,3]\n",
    "b = [4,5,6]\n",
    "c = LinearAlgebra.dot(a,b)\n",
    "c"
   ]
  },
  {
   "cell_type": "code",
   "execution_count": 63,
   "metadata": {},
   "outputs": [
    {
     "data": {
      "text/plain": [
       "3-element Array{Int64,1}:\n",
       " 5\n",
       " 7\n",
       " 9"
      ]
     },
     "execution_count": 63,
     "metadata": {},
     "output_type": "execute_result"
    }
   ],
   "source": [
    "d = a .+ b\n",
    "d"
   ]
  },
  {
   "cell_type": "markdown",
   "metadata": {},
   "source": [
    "# Documentation for a type\n",
    "* Use `methodswith`"
   ]
  },
  {
   "cell_type": "code",
   "execution_count": 64,
   "metadata": {},
   "outputs": [
    {
     "data": {
      "text/html": [
       "47-element Array{Method,1}:<ul><li> copyto!<i>{T}</i>(dest::<b>Array{T,N} where N</b>, doffs::<b>Integer</b>, src::<b>Array{T,N} where N</b>, soffs::<b>Integer</b>, n::<b>Integer</b>) in Base at <a href=\"https://github.com/JuliaLang/julia/tree/3af96bcefcb0aec559d4652fd75e1bc3fcfe99da/base/array.jl#L269\" target=\"_blank\">array.jl:269</a><li> copyto!<i>{T}</i>(dest::<b>Array{T,N} where N</b>, src::<b>Array{T,N} where N</b>) in Base at <a href=\"https://github.com/JuliaLang/julia/tree/3af96bcefcb0aec559d4652fd75e1bc3fcfe99da/base/array.jl#L277\" target=\"_blank\">array.jl:277</a><li> copyto!(dest::<b>BitArray</b>, doffs::<b>Integer</b>, src::<b>Array</b>, soffs::<b>Integer</b>, n::<b>Integer</b>) in Base at <a href=\"https://github.com/JuliaLang/julia/tree/3af96bcefcb0aec559d4652fd75e1bc3fcfe99da/base/bitarray.jl#L428\" target=\"_blank\">bitarray.jl:428</a><li> copyto!(dest::<b>BitArray</b>, src::<b>Array</b>) in Base at <a href=\"https://github.com/JuliaLang/julia/tree/3af96bcefcb0aec559d4652fd75e1bc3fcfe99da/base/bitarray.jl#L437\" target=\"_blank\">bitarray.jl:437</a><li> copyto!(S::<b>SharedArrays.SharedArray</b>, A::<b>Array</b>) in SharedArrays at <a href=\"file://C:/cygwin/home/Administrator/buildbot/worker/package_win64/build/usr/share/julia/stdlib/v1.0/SharedArrays/src/SharedArrays.jl\" target=\"_blank\">C:\\cygwin\\home\\Administrator\\buildbot\\worker\\package_win64\\build\\usr\\share\\julia\\stdlib\\v1.0\\SharedArrays\\src\\SharedArrays.jl:577</a><li> +(A::<b>Array</b>, Bs::<b>Array...</b>) in Base at <a href=\"https://github.com/JuliaLang/julia/tree/3af96bcefcb0aec559d4652fd75e1bc3fcfe99da/base/arraymath.jl#L44\" target=\"_blank\">arraymath.jl:44</a><li> +(A::<b>Array</b>, B::<b>SparseArrays.SparseMatrixCSC</b>) in SparseArrays at <a href=\"file://C:/cygwin/home/Administrator/buildbot/worker/package_win64/build/usr/share/julia/stdlib/v1.0/SparseArrays/src/sparsematrix.jl\" target=\"_blank\">C:\\cygwin\\home\\Administrator\\buildbot\\worker\\package_win64\\build\\usr\\share\\julia\\stdlib\\v1.0\\SparseArrays\\src\\sparsematrix.jl:1584</a><li> +(A::<b>SparseArrays.SparseMatrixCSC</b>, B::<b>Array</b>) in SparseArrays at <a href=\"file://C:/cygwin/home/Administrator/buildbot/worker/package_win64/build/usr/share/julia/stdlib/v1.0/SparseArrays/src/sparsematrix.jl\" target=\"_blank\">C:\\cygwin\\home\\Administrator\\buildbot\\worker\\package_win64\\build\\usr\\share\\julia\\stdlib\\v1.0\\SparseArrays\\src\\sparsematrix.jl:1583</a><li> -(A::<b>SparseArrays.SparseMatrixCSC</b>, B::<b>Array</b>) in SparseArrays at <a href=\"file://C:/cygwin/home/Administrator/buildbot/worker/package_win64/build/usr/share/julia/stdlib/v1.0/SparseArrays/src/sparsematrix.jl\" target=\"_blank\">C:\\cygwin\\home\\Administrator\\buildbot\\worker\\package_win64\\build\\usr\\share\\julia\\stdlib\\v1.0\\SparseArrays\\src\\sparsematrix.jl:1585</a><li> -(A::<b>Array</b>, B::<b>SparseArrays.SparseMatrixCSC</b>) in SparseArrays at <a href=\"file://C:/cygwin/home/Administrator/buildbot/worker/package_win64/build/usr/share/julia/stdlib/v1.0/SparseArrays/src/sparsematrix.jl\" target=\"_blank\">C:\\cygwin\\home\\Administrator\\buildbot\\worker\\package_win64\\build\\usr\\share\\julia\\stdlib\\v1.0\\SparseArrays\\src\\sparsematrix.jl:1586</a><li> convert(T::<b>Type{#s546} where #s546<:SharedArrays.SharedArray</b>, a::<b>Array</b>) in SharedArrays at <a href=\"file://C:/cygwin/home/Administrator/buildbot/worker/package_win64/build/usr/share/julia/stdlib/v1.0/SharedArrays/src/SharedArrays.jl\" target=\"_blank\">C:\\cygwin\\home\\Administrator\\buildbot\\worker\\package_win64\\build\\usr\\share\\julia\\stdlib\\v1.0\\SharedArrays\\src\\SharedArrays.jl:359</a><li> copy<i>{T<:Array}</i>(a::<b>T</b>) in Base at <a href=\"https://github.com/JuliaLang/julia/tree/3af96bcefcb0aec559d4652fd75e1bc3fcfe99da/base/array.jl#L299\" target=\"_blank\">array.jl:299</a><li> dump(io::<b>IOContext</b>, x::<b>Array</b>, n::<b>Int64</b>, indent) in Base at <a href=\"https://github.com/JuliaLang/julia/tree/3af96bcefcb0aec559d4652fd75e1bc3fcfe99da/base/show.jl#L1656\" target=\"_blank\">show.jl:1656</a><li> fill!<i>{T}</i>(dest::<b>Array{T,N} where N</b>, x) in Base at <a href=\"https://github.com/JuliaLang/julia/tree/3af96bcefcb0aec559d4652fd75e1bc3fcfe99da/base/array.jl#L282\" target=\"_blank\">array.jl:282</a><li> getindex(A::<b>Array</b>, i1::<b>Int64</b>) in Base at <a href=\"https://github.com/JuliaLang/julia/tree/3af96bcefcb0aec559d4652fd75e1bc3fcfe99da/base/array.jl#L731\" target=\"_blank\">array.jl:731</a><li> getindex(A::<b>Array</b>, i1::<b>Int64</b>, i2::<b>Int64</b>, I::<b>Int64...</b>) in Base at <a href=\"https://github.com/JuliaLang/julia/tree/3af96bcefcb0aec559d4652fd75e1bc3fcfe99da/base/array.jl#L732\" target=\"_blank\">array.jl:732</a><li> getindex(A::<b>Array</b>, I::<b>UnitRange{Int64}</b>) in Base at <a href=\"https://github.com/JuliaLang/julia/tree/3af96bcefcb0aec559d4652fd75e1bc3fcfe99da/base/array.jl#L736\" target=\"_blank\">array.jl:736</a><li> getindex(A::<b>Array</b>, c::<b>Colon</b>) in Base at <a href=\"https://github.com/JuliaLang/julia/tree/3af96bcefcb0aec559d4652fd75e1bc3fcfe99da/base/array.jl#L746\" target=\"_blank\">array.jl:746</a><li> getindex<i>{S}</i>(A::<b>Array{S,N} where N</b>, I::<b>AbstractRange{Int64}</b>) in Base at <a href=\"https://github.com/JuliaLang/julia/tree/3af96bcefcb0aec559d4652fd75e1bc3fcfe99da/base/array.jl#L756\" target=\"_blank\">array.jl:756</a><li> getindex(A::<b>Array</b>, i1::<b>Union{Integer, CartesianIndex}</b>, I::<b>Union{Integer, CartesianIndex}...</b>) in Base at <a href=\"https://github.com/JuliaLang/julia/tree/3af96bcefcb0aec559d4652fd75e1bc3fcfe99da/base/multidimensional.jl#L412\" target=\"_blank\">multidimensional.jl:412</a><li> isassigned(a::<b>Array</b>, i::<b>Int64...</b>) in Base at <a href=\"https://github.com/JuliaLang/julia/tree/3af96bcefcb0aec559d4652fd75e1bc3fcfe99da/base/array.jl#L204\" target=\"_blank\">array.jl:204</a><li> iterate(A::<b>Array</b>) in Base at <a href=\"https://github.com/JuliaLang/julia/tree/3af96bcefcb0aec559d4652fd75e1bc3fcfe99da/base/array.jl#L707\" target=\"_blank\">array.jl:707</a><li> iterate(A::<b>Array</b>, i) in Base at <a href=\"https://github.com/JuliaLang/julia/tree/3af96bcefcb0aec559d4652fd75e1bc3fcfe99da/base/array.jl#L707\" target=\"_blank\">array.jl:707</a><li> length(a::<b>Array</b>) in Base at <a href=\"https://github.com/JuliaLang/julia/tree/3af96bcefcb0aec559d4652fd75e1bc3fcfe99da/base/array.jl#L199\" target=\"_blank\">array.jl:199</a><li> permutedims!<i>{T, N}</i>(P::<b>Array{T,N}</b>, B::<b>Union{DenseArray{T,N}, ReinterpretArray{T,N,S,A} where S where A<:Union{SubArray{T,N,A,I,true} where I<:Tuple{AbstractUnitRange,Vararg{Any,N} where N} where A<:DenseArray where N where T, DenseArray}, ReshapedArray{T,N,A,MI} where MI<:Tuple{Vararg{SignedMultiplicativeInverse{Int64},N} where N} where A<:Union{ReinterpretArray{T,N,S,A} where S where A<:Union{SubArray{T,N,A,I,true} where I<:Tuple{AbstractUnitRange,Vararg{Any,N} where N} where A<:DenseArray where N where T, DenseArray} where N where T, SubArray{T,N,A,I,true} where I<:Tuple{AbstractUnitRange,Vararg{Any,N} where N} where A<:DenseArray where N where T, DenseArray}, SubArray{T,N,A,I,L} where L where I<:Tuple{Vararg{Union{Int64, AbstractRange{Int64}, AbstractCartesianIndex},N} where N} where A<:Union{ReinterpretArray{T,N,S,A} where S where A<:Union{SubArray{T,N,A,I,true} where I<:Tuple{AbstractUnitRange,Vararg{Any,N} where N} where A<:DenseArray where N where T, DenseArray} where N where T, ReshapedArray{T,N,A,MI} where MI<:Tuple{Vararg{SignedMultiplicativeInverse{Int64},N} where N} where A<:Union{ReinterpretArray{T,N,S,A} where S where A<:Union{SubArray{T,N,A,I,true} where I<:Tuple{AbstractUnitRange,Vararg{Any,N} where N} where A<:DenseArray where N where T, DenseArray} where N where T, SubArray{T,N,A,I,true} where I<:Tuple{AbstractUnitRange,Vararg{Any,N} where N} where A<:DenseArray where N where T, DenseArray} where N where T, DenseArray}}</b>, perm) in Base at <a href=\"https://github.com/JuliaLang/julia/tree/3af96bcefcb0aec559d4652fd75e1bc3fcfe99da/base/multidimensional.jl#L1281\" target=\"_blank\">multidimensional.jl:1281</a><li> read!<i>{T}</i>(s::<b>IO</b>, a::<b>Array{T,N} where N</b>) in Base at <a href=\"https://github.com/JuliaLang/julia/tree/3af96bcefcb0aec559d4652fd75e1bc3fcfe99da/base/io.jl#L602\" target=\"_blank\">io.jl:602</a><li> reshape<i>{N, T}</i>(a::<b>Array{T,N}</b>, dims::<b>Tuple{Vararg{Int64,N}}</b>) in Base at <a href=\"https://github.com/JuliaLang/julia/tree/3af96bcefcb0aec559d4652fd75e1bc3fcfe99da/base/array.jl#L303\" target=\"_blank\">array.jl:303</a><li> reshape<i>{N, T}</i>(a::<b>Array{T,N} where N</b>, dims::<b>Tuple{Vararg{Int64,N}}</b>) in Base at <a href=\"https://github.com/JuliaLang/julia/tree/3af96bcefcb0aec559d4652fd75e1bc3fcfe99da/base/array.jl#L314\" target=\"_blank\">array.jl:314</a><li> reverse<i>{T}</i>(A::<b>Array{T,N} where N</b>) in Base at <a href=\"https://github.com/JuliaLang/julia/tree/3af96bcefcb0aec559d4652fd75e1bc3fcfe99da/base/arraymath.jl#L62\" target=\"_blank\">arraymath.jl:62</a><li> setindex!<i>{T}</i>(A::<b>Array{T,N} where N</b>, x, i1::<b>Int64</b>) in Base at <a href=\"https://github.com/JuliaLang/julia/tree/3af96bcefcb0aec559d4652fd75e1bc3fcfe99da/base/array.jl#L769\" target=\"_blank\">array.jl:769</a><li> setindex!<i>{T}</i>(A::<b>Array{T,N} where N</b>, x, i1::<b>Int64</b>, i2::<b>Int64</b>, I::<b>Int64...</b>) in Base at <a href=\"https://github.com/JuliaLang/julia/tree/3af96bcefcb0aec559d4652fd75e1bc3fcfe99da/base/array.jl#L770\" target=\"_blank\">array.jl:770</a><li> setindex!<i>{T}</i>(A::<b>Array{T,N} where N</b>, X::<b>Array{T,N} where N</b>, I::<b>UnitRange{Int64}</b>) in Base at <a href=\"https://github.com/JuliaLang/julia/tree/3af96bcefcb0aec559d4652fd75e1bc3fcfe99da/base/array.jl#L791\" target=\"_blank\">array.jl:791</a><li> setindex!(A::<b>Array</b>, X::<b>AbstractArray</b>, I::<b>AbstractArray{Int64,1}</b>) in Base at <a href=\"https://github.com/JuliaLang/julia/tree/3af96bcefcb0aec559d4652fd75e1bc3fcfe99da/base/array.jl#L775\" target=\"_blank\">array.jl:775</a><li> setindex!<i>{T}</i>(A::<b>Array{T,N} where N</b>, X::<b>Array{T,N} where N</b>, c::<b>Colon</b>) in Base at <a href=\"https://github.com/JuliaLang/julia/tree/3af96bcefcb0aec559d4652fd75e1bc3fcfe99da/base/array.jl#L801\" target=\"_blank\">array.jl:801</a><li> setindex!(A::<b>Array</b>, v, i1::<b>Union{Integer, CartesianIndex}</b>, I::<b>Union{Integer, CartesianIndex}...</b>) in Base at <a href=\"https://github.com/JuliaLang/julia/tree/3af96bcefcb0aec559d4652fd75e1bc3fcfe99da/base/multidimensional.jl#L414\" target=\"_blank\">multidimensional.jl:414</a><li> similar<i>{T}</i>(a::<b>Array{T,N} where N</b>, m::<b>Int64</b>) in Base at <a href=\"https://github.com/JuliaLang/julia/tree/3af96bcefcb0aec559d4652fd75e1bc3fcfe99da/base/array.jl#L331\" target=\"_blank\">array.jl:331</a><li> similar<i>{N}</i>(a::<b>Array</b>, T::<b>Type</b>, dims::<b>Tuple{Vararg{Int64,N}}</b>) in Base at <a href=\"https://github.com/JuliaLang/julia/tree/3af96bcefcb0aec559d4652fd75e1bc3fcfe99da/base/array.jl#L332\" target=\"_blank\">array.jl:332</a><li> similar<i>{T, N}</i>(a::<b>Array{T,N} where N</b>, dims::<b>Tuple{Vararg{Int64,N}}</b>) in Base at <a href=\"https://github.com/JuliaLang/julia/tree/3af96bcefcb0aec559d4652fd75e1bc3fcfe99da/base/array.jl#L333\" target=\"_blank\">array.jl:333</a><li> size<i>{N}</i>(a::<b>Array{#s57,N} where #s57</b>) in Base at <a href=\"https://github.com/JuliaLang/julia/tree/3af96bcefcb0aec559d4652fd75e1bc3fcfe99da/base/array.jl#L157\" target=\"_blank\">array.jl:157</a><li> size(a::<b>Array</b>, d) in Base at <a href=\"https://github.com/JuliaLang/julia/tree/3af96bcefcb0aec559d4652fd75e1bc3fcfe99da/base/array.jl#L154\" target=\"_blank\">array.jl:154</a><li> sizeof(a::<b>Array</b>) in Base at <a href=\"https://github.com/JuliaLang/julia/tree/3af96bcefcb0aec559d4652fd75e1bc3fcfe99da/base/array.jl#L201\" target=\"_blank\">array.jl:201</a><li> unsafe_copyto!<i>{T}</i>(dest::<b>Array{T,N} where N</b>, doffs, src::<b>Array{T,N} where N</b>, soffs, n) in Base at <a href=\"https://github.com/JuliaLang/julia/tree/3af96bcefcb0aec559d4652fd75e1bc3fcfe99da/base/array.jl#L241\" target=\"_blank\">array.jl:241</a><li> write(s::<b>IO</b>, a::<b>Array</b>) in Base at <a href=\"https://github.com/JuliaLang/julia/tree/3af96bcefcb0aec559d4652fd75e1bc3fcfe99da/base/io.jl#L531\" target=\"_blank\">io.jl:531</a><li> rand!(rng::<b>MbedTLS.CtrDrbg</b>, buf::<b>Array</b>) in MbedTLS at <a href=\"file://C:/Users/garla/.julia/packages/MbedTLS/X4xar/src/ctr_drbg.jl\" target=\"_blank\">C:\\Users\\garla\\.julia\\packages\\MbedTLS\\X4xar\\src\\ctr_drbg.jl:38</a><li> serialize(s::<b>Serialization.AbstractSerializer</b>, a::<b>Array</b>) in Serialization at <a href=\"file://C:/cygwin/home/Administrator/buildbot/worker/package_win64/build/usr/share/julia/stdlib/v1.0/Serialization/src/Serialization.jl\" target=\"_blank\">C:\\cygwin\\home\\Administrator\\buildbot\\worker\\package_win64\\build\\usr\\share\\julia\\stdlib\\v1.0\\Serialization\\src\\Serialization.jl:251</a><li> launch(manager::<b>Distributed.SSHManager</b>, params::<b>Dict</b>, launched::<b>Array</b>, launch_ntfy::<b>Condition</b>) in Distributed at <a href=\"file://C:/cygwin/home/Administrator/buildbot/worker/package_win64/build/usr/share/julia/stdlib/v1.0/Distributed/src/managers.jl\" target=\"_blank\">C:\\cygwin\\home\\Administrator\\buildbot\\worker\\package_win64\\build\\usr\\share\\julia\\stdlib\\v1.0\\Distributed\\src\\managers.jl:125</a><li> launch(manager::<b>Distributed.LocalManager</b>, params::<b>Dict</b>, launched::<b>Array</b>, c::<b>Condition</b>) in Distributed at <a href=\"file://C:/cygwin/home/Administrator/buildbot/worker/package_win64/build/usr/share/julia/stdlib/v1.0/Distributed/src/managers.jl\" target=\"_blank\">C:\\cygwin\\home\\Administrator\\buildbot\\worker\\package_win64\\build\\usr\\share\\julia\\stdlib\\v1.0\\Distributed\\src\\managers.jl:322</a></ul>"
      ],
      "text/plain": [
       "[1] copyto!(dest::Array{T,N} where N, doffs::Integer, src::Array{T,N} where N, soffs::Integer, n::Integer) where T in Base at array.jl:269\n",
       "[2] copyto!(dest::Array{T,N} where N, src::Array{T,N} where N) where T in Base at array.jl:277\n",
       "[3] copyto!(dest::BitArray, doffs::Integer, src::Array, soffs::Integer, n::Integer) in Base at bitarray.jl:428\n",
       "[4] copyto!(dest::BitArray, src::Array) in Base at bitarray.jl:437\n",
       "[5] copyto!(S::SharedArrays.SharedArray, A::Array) in SharedArrays at C:\\cygwin\\home\\Administrator\\buildbot\\worker\\package_win64\\build\\usr\\share\\julia\\stdlib\\v1.0\\SharedArrays\\src\\SharedArrays.jl:577\n",
       "[6] +(A::Array, Bs::Array...) in Base at arraymath.jl:44\n",
       "[7] +(A::Array, B::SparseArrays.SparseMatrixCSC) in SparseArrays at C:\\cygwin\\home\\Administrator\\buildbot\\worker\\package_win64\\build\\usr\\share\\julia\\stdlib\\v1.0\\SparseArrays\\src\\sparsematrix.jl:1584\n",
       "[8] +(A::SparseArrays.SparseMatrixCSC, B::Array) in SparseArrays at C:\\cygwin\\home\\Administrator\\buildbot\\worker\\package_win64\\build\\usr\\share\\julia\\stdlib\\v1.0\\SparseArrays\\src\\sparsematrix.jl:1583\n",
       "[9] -(A::SparseArrays.SparseMatrixCSC, B::Array) in SparseArrays at C:\\cygwin\\home\\Administrator\\buildbot\\worker\\package_win64\\build\\usr\\share\\julia\\stdlib\\v1.0\\SparseArrays\\src\\sparsematrix.jl:1585\n",
       "[10] -(A::Array, B::SparseArrays.SparseMatrixCSC) in SparseArrays at C:\\cygwin\\home\\Administrator\\buildbot\\worker\\package_win64\\build\\usr\\share\\julia\\stdlib\\v1.0\\SparseArrays\\src\\sparsematrix.jl:1586\n",
       "[11] convert(T::Type{#s546} where #s546<:SharedArrays.SharedArray, a::Array) in SharedArrays at C:\\cygwin\\home\\Administrator\\buildbot\\worker\\package_win64\\build\\usr\\share\\julia\\stdlib\\v1.0\\SharedArrays\\src\\SharedArrays.jl:359\n",
       "[12] copy(a::T) where T<:Array in Base at array.jl:299\n",
       "[13] dump(io::IOContext, x::Array, n::Int64, indent) in Base at show.jl:1656\n",
       "[14] fill!(dest::Array{T,N} where N, x) where T in Base at array.jl:282\n",
       "[15] getindex(A::Array, i1::Int64) in Base at array.jl:731\n",
       "[16] getindex(A::Array, i1::Int64, i2::Int64, I::Int64...) in Base at array.jl:732\n",
       "[17] getindex(A::Array, I::UnitRange{Int64}) in Base at array.jl:736\n",
       "[18] getindex(A::Array, c::Colon) in Base at array.jl:746\n",
       "[19] getindex(A::Array{S,N} where N, I::AbstractRange{Int64}) where S in Base at array.jl:756\n",
       "[20] getindex(A::Array, i1::Union{Integer, CartesianIndex}, I::Union{Integer, CartesianIndex}...) in Base at multidimensional.jl:412\n",
       "[21] isassigned(a::Array, i::Int64...) in Base at array.jl:204\n",
       "[22] iterate(A::Array) in Base at array.jl:707\n",
       "[23] iterate(A::Array, i) in Base at array.jl:707\n",
       "[24] length(a::Array) in Base at array.jl:199\n",
       "[25] permutedims!(P::Array{T,N}, B::Union{DenseArray{T,N}, ReinterpretArray{T,N,S,A} where S where A<:Union{SubArray{T,N,A,I,true} where I<:Tuple{AbstractUnitRange,Vararg{Any,N} where N} where A<:DenseArray where N where T, DenseArray}, ReshapedArray{T,N,A,MI} where MI<:Tuple{Vararg{SignedMultiplicativeInverse{Int64},N} where N} where A<:Union{ReinterpretArray{T,N,S,A} where S where A<:Union{SubArray{T,N,A,I,true} where I<:Tuple{AbstractUnitRange,Vararg{Any,N} where N} where A<:DenseArray where N where T, DenseArray} where N where T, SubArray{T,N,A,I,true} where I<:Tuple{AbstractUnitRange,Vararg{Any,N} where N} where A<:DenseArray where N where T, DenseArray}, SubArray{T,N,A,I,L} where L where I<:Tuple{Vararg{Union{Int64, AbstractRange{Int64}, AbstractCartesianIndex},N} where N} where A<:Union{ReinterpretArray{T,N,S,A} where S where A<:Union{SubArray{T,N,A,I,true} where I<:Tuple{AbstractUnitRange,Vararg{Any,N} where N} where A<:DenseArray where N where T, DenseArray} where N where T, ReshapedArray{T,N,A,MI} where MI<:Tuple{Vararg{SignedMultiplicativeInverse{Int64},N} where N} where A<:Union{ReinterpretArray{T,N,S,A} where S where A<:Union{SubArray{T,N,A,I,true} where I<:Tuple{AbstractUnitRange,Vararg{Any,N} where N} where A<:DenseArray where N where T, DenseArray} where N where T, SubArray{T,N,A,I,true} where I<:Tuple{AbstractUnitRange,Vararg{Any,N} where N} where A<:DenseArray where N where T, DenseArray} where N where T, DenseArray}}, perm) where {T, N} in Base at multidimensional.jl:1281\n",
       "[26] read!(s::IO, a::Array{T,N} where N) where T in Base at io.jl:602\n",
       "[27] reshape(a::Array{T,N}, dims::Tuple{Vararg{Int64,N}}) where {N, T} in Base at array.jl:303\n",
       "[28] reshape(a::Array{T,N} where N, dims::Tuple{Vararg{Int64,N}}) where {N, T} in Base at array.jl:314\n",
       "[29] reverse(A::Array{T,N} where N) where T in Base at arraymath.jl:62\n",
       "[30] setindex!(A::Array{T,N} where N, x, i1::Int64) where T in Base at array.jl:769\n",
       "[31] setindex!(A::Array{T,N} where N, x, i1::Int64, i2::Int64, I::Int64...) where T in Base at array.jl:770\n",
       "[32] setindex!(A::Array{T,N} where N, X::Array{T,N} where N, I::UnitRange{Int64}) where T in Base at array.jl:791\n",
       "[33] setindex!(A::Array, X::AbstractArray, I::AbstractArray{Int64,1}) in Base at array.jl:775\n",
       "[34] setindex!(A::Array{T,N} where N, X::Array{T,N} where N, c::Colon) where T in Base at array.jl:801\n",
       "[35] setindex!(A::Array, v, i1::Union{Integer, CartesianIndex}, I::Union{Integer, CartesianIndex}...) in Base at multidimensional.jl:414\n",
       "[36] similar(a::Array{T,N} where N, m::Int64) where T in Base at array.jl:331\n",
       "[37] similar(a::Array, T::Type, dims::Tuple{Vararg{Int64,N}}) where N in Base at array.jl:332\n",
       "[38] similar(a::Array{T,N} where N, dims::Tuple{Vararg{Int64,N}}) where {T, N} in Base at array.jl:333\n",
       "[39] size(a::Array{#s57,N} where #s57) where N in Base at array.jl:157\n",
       "[40] size(a::Array, d) in Base at array.jl:154\n",
       "[41] sizeof(a::Array) in Base at array.jl:201\n",
       "[42] unsafe_copyto!(dest::Array{T,N} where N, doffs, src::Array{T,N} where N, soffs, n) where T in Base at array.jl:241\n",
       "[43] write(s::IO, a::Array) in Base at io.jl:531\n",
       "[44] rand!(rng::MbedTLS.CtrDrbg, buf::Array) in MbedTLS at C:\\Users\\garla\\.julia\\packages\\MbedTLS\\X4xar\\src\\ctr_drbg.jl:38\n",
       "[45] serialize(s::Serialization.AbstractSerializer, a::Array) in Serialization at C:\\cygwin\\home\\Administrator\\buildbot\\worker\\package_win64\\build\\usr\\share\\julia\\stdlib\\v1.0\\Serialization\\src\\Serialization.jl:251\n",
       "[46] launch(manager::Distributed.SSHManager, params::Dict, launched::Array, launch_ntfy::Condition) in Distributed at C:\\cygwin\\home\\Administrator\\buildbot\\worker\\package_win64\\build\\usr\\share\\julia\\stdlib\\v1.0\\Distributed\\src\\managers.jl:125\n",
       "[47] launch(manager::Distributed.LocalManager, params::Dict, launched::Array, c::Condition) in Distributed at C:\\cygwin\\home\\Administrator\\buildbot\\worker\\package_win64\\build\\usr\\share\\julia\\stdlib\\v1.0\\Distributed\\src\\managers.jl:322"
      ]
     },
     "execution_count": 64,
     "metadata": {},
     "output_type": "execute_result"
    }
   ],
   "source": [
    "methodswith(Array)"
   ]
  },
  {
   "cell_type": "markdown",
   "metadata": {},
   "source": [
    "# Chapter 3, functions"
   ]
  },
  {
   "cell_type": "markdown",
   "metadata": {},
   "source": []
  },
  {
   "cell_type": "code",
   "execution_count": 67,
   "metadata": {},
   "outputs": [
    {
     "data": {
      "text/plain": [
       "mult (generic function with 1 method)"
      ]
     },
     "execution_count": 67,
     "metadata": {},
     "output_type": "execute_result"
    }
   ],
   "source": [
    "function mult(x,y)\n",
    "    println(\"$x * $y\")\n",
    "    return x*y\n",
    "end"
   ]
  },
  {
   "cell_type": "code",
   "execution_count": 68,
   "metadata": {},
   "outputs": [
    {
     "name": "stdout",
     "output_type": "stream",
     "text": [
      "1 * 2\n"
     ]
    },
    {
     "data": {
      "text/plain": [
       "2"
      ]
     },
     "execution_count": 68,
     "metadata": {},
     "output_type": "execute_result"
    }
   ],
   "source": [
    "mult(1,2)"
   ]
  },
  {
   "cell_type": "code",
   "execution_count": 69,
   "metadata": {},
   "outputs": [
    {
     "data": {
      "text/plain": [
       "mult_out (generic function with 1 method)"
      ]
     },
     "execution_count": 69,
     "metadata": {},
     "output_type": "execute_result"
    }
   ],
   "source": [
    "function mult_out(x,y)\n",
    "    return x*y, x+y, x/y\n",
    "end"
   ]
  },
  {
   "cell_type": "code",
   "execution_count": 71,
   "metadata": {},
   "outputs": [
    {
     "data": {
      "text/plain": [
       "(24, 11, 0.375)"
      ]
     },
     "execution_count": 71,
     "metadata": {},
     "output_type": "execute_result"
    }
   ],
   "source": [
    "mult_out(3,8)"
   ]
  },
  {
   "cell_type": "code",
   "execution_count": 73,
   "metadata": {},
   "outputs": [
    {
     "data": {
      "text/plain": [
       "mult_many (generic function with 1 method)"
      ]
     },
     "execution_count": 73,
     "metadata": {},
     "output_type": "execute_result"
    }
   ],
   "source": [
    "function mult_many(args ...)\n",
    "    r = 1\n",
    "    for a in args\n",
    "        r  = r*a\n",
    "    end\n",
    "    return r\n",
    "end"
   ]
  },
  {
   "cell_type": "code",
   "execution_count": 74,
   "metadata": {},
   "outputs": [
    {
     "data": {
      "text/plain": [
       "120"
      ]
     },
     "execution_count": 74,
     "metadata": {},
     "output_type": "execute_result"
    }
   ],
   "source": [
    "mult_many(1,2,3,4,5)"
   ]
  },
  {
   "cell_type": "code",
   "execution_count": 75,
   "metadata": {},
   "outputs": [
    {
     "data": {
      "text/plain": [
       "mult_short (generic function with 1 method)"
      ]
     },
     "execution_count": 75,
     "metadata": {},
     "output_type": "execute_result"
    }
   ],
   "source": [
    "# Short syntax for function\n",
    "mult_short(x,y) = x*y"
   ]
  },
  {
   "cell_type": "code",
   "execution_count": 76,
   "metadata": {},
   "outputs": [
    {
     "data": {
      "text/plain": [
       "20"
      ]
     },
     "execution_count": 76,
     "metadata": {},
     "output_type": "execute_result"
    }
   ],
   "source": [
    "mult_short(4,5)"
   ]
  },
  {
   "cell_type": "code",
   "execution_count": 77,
   "metadata": {},
   "outputs": [
    {
     "data": {
      "text/plain": [
       "f_with_optional (generic function with 2 methods)"
      ]
     },
     "execution_count": 77,
     "metadata": {},
     "output_type": "execute_result"
    }
   ],
   "source": [
    "f_with_optional(x,y = 5)= x*y"
   ]
  },
  {
   "cell_type": "code",
   "execution_count": 78,
   "metadata": {},
   "outputs": [
    {
     "data": {
      "text/plain": [
       "20"
      ]
     },
     "execution_count": 78,
     "metadata": {},
     "output_type": "execute_result"
    }
   ],
   "source": [
    "f_with_optional(4)"
   ]
  },
  {
   "cell_type": "code",
   "execution_count": 79,
   "metadata": {},
   "outputs": [
    {
     "data": {
      "text/plain": [
       "12"
      ]
     },
     "execution_count": 79,
     "metadata": {},
     "output_type": "execute_result"
    }
   ],
   "source": [
    "f_with_optional(4,3)"
   ]
  },
  {
   "cell_type": "markdown",
   "metadata": {},
   "source": [
    "# Named positional args after the semi-colon"
   ]
  },
  {
   "cell_type": "code",
   "execution_count": 81,
   "metadata": {},
   "outputs": [
    {
     "data": {
      "text/plain": [
       "k (generic function with 1 method)"
      ]
     },
     "execution_count": 81,
     "metadata": {},
     "output_type": "execute_result"
    }
   ],
   "source": [
    "k(x; a1 = 1, a2 = 2) = x * (a1 + a2) "
   ]
  },
  {
   "cell_type": "code",
   "execution_count": 85,
   "metadata": {},
   "outputs": [
    {
     "data": {
      "text/plain": [
       "4"
      ]
     },
     "execution_count": 85,
     "metadata": {},
     "output_type": "execute_result"
    }
   ],
   "source": [
    "k(1, a1 = 2)\n",
    "# k(1,  2) # this would fail"
   ]
  },
  {
   "cell_type": "code",
   "execution_count": 86,
   "metadata": {},
   "outputs": [
    {
     "data": {
      "text/plain": [
       "#5 (generic function with 1 method)"
      ]
     },
     "execution_count": 86,
     "metadata": {},
     "output_type": "execute_result"
    }
   ],
   "source": [
    "plustwo = function (x) x + 2  end"
   ]
  },
  {
   "cell_type": "code",
   "execution_count": 87,
   "metadata": {},
   "outputs": [
    {
     "data": {
      "text/plain": [
       "6"
      ]
     },
     "execution_count": 87,
     "metadata": {},
     "output_type": "execute_result"
    }
   ],
   "source": [
    "plustwo(4)"
   ]
  },
  {
   "cell_type": "code",
   "execution_count": 88,
   "metadata": {},
   "outputs": [
    {
     "data": {
      "text/plain": [
       "#7 (generic function with 1 method)"
      ]
     },
     "execution_count": 88,
     "metadata": {},
     "output_type": "execute_result"
    }
   ],
   "source": [
    "plustwo = (x)-> x+2"
   ]
  },
  {
   "cell_type": "code",
   "execution_count": 89,
   "metadata": {},
   "outputs": [
    {
     "data": {
      "text/plain": [
       "12"
      ]
     },
     "execution_count": 89,
     "metadata": {},
     "output_type": "execute_result"
    }
   ],
   "source": [
    "plustwo(10)"
   ]
  },
  {
   "cell_type": "markdown",
   "metadata": {},
   "source": [
    "We can pass functions to functions"
   ]
  },
  {
   "cell_type": "code",
   "execution_count": 94,
   "metadata": {},
   "outputs": [
    {
     "data": {
      "text/plain": [
       "numerical_derivative (generic function with 2 methods)"
      ]
     },
     "execution_count": 94,
     "metadata": {},
     "output_type": "execute_result"
    }
   ],
   "source": [
    "function numerical_derivative(f, x, dx=0.01) \n",
    "    derivative = (f(x+dx) - f(x-dx))/(2*dx) \n",
    "    return derivative \n",
    "end "
   ]
  },
  {
   "cell_type": "code",
   "execution_count": 95,
   "metadata": {},
   "outputs": [
    {
     "data": {
      "text/plain": [
       "#11 (generic function with 1 method)"
      ]
     },
     "execution_count": 95,
     "metadata": {},
     "output_type": "execute_result"
    }
   ],
   "source": [
    "parabola = (x) -> x^2"
   ]
  },
  {
   "cell_type": "code",
   "execution_count": 96,
   "metadata": {},
   "outputs": [
    {
     "data": {
      "text/plain": [
       "16"
      ]
     },
     "execution_count": 96,
     "metadata": {},
     "output_type": "execute_result"
    }
   ],
   "source": [
    "parabola(4)"
   ]
  },
  {
   "cell_type": "code",
   "execution_count": 97,
   "metadata": {},
   "outputs": [
    {
     "data": {
      "text/plain": [
       "2.0000000000000018"
      ]
     },
     "execution_count": 97,
     "metadata": {},
     "output_type": "execute_result"
    }
   ],
   "source": [
    "numerical_derivative(parabola, 1)"
   ]
  },
  {
   "cell_type": "markdown",
   "metadata": {},
   "source": [
    "Functions can return functions"
   ]
  },
  {
   "cell_type": "code",
   "execution_count": 98,
   "metadata": {},
   "outputs": [
    {
     "data": {
      "text/plain": [
       "derivative (generic function with 1 method)"
      ]
     },
     "execution_count": 98,
     "metadata": {},
     "output_type": "execute_result"
    }
   ],
   "source": [
    "function derivative(f) \n",
    "    return function(x)   \n",
    "  # pick a small value for h \n",
    "        h = x == 0 ? sqrt(eps(Float64)) : sqrt(eps(Float64)) * x \n",
    "        xph = x + h \n",
    "        dx = xph - x \n",
    "        f1 = f(xph) # evaluate f at x + h \n",
    "        f0 = f(x) # evaluate f at x \n",
    "        return (f1 - f0) / dx  # divide by h \n",
    "    end \n",
    "end "
   ]
  },
  {
   "cell_type": "code",
   "execution_count": 99,
   "metadata": {},
   "outputs": [
    {
     "data": {
      "text/plain": [
       "#13 (generic function with 1 method)"
      ]
     },
     "execution_count": 99,
     "metadata": {},
     "output_type": "execute_result"
    }
   ],
   "source": [
    "parabola_deriv = derivative(parabola)"
   ]
  },
  {
   "cell_type": "code",
   "execution_count": 100,
   "metadata": {},
   "outputs": [
    {
     "data": {
      "text/plain": [
       "-2.000000014901161"
      ]
     },
     "execution_count": 100,
     "metadata": {},
     "output_type": "execute_result"
    }
   ],
   "source": [
    "parabola_deriv(-1)"
   ]
  },
  {
   "cell_type": "markdown",
   "metadata": {},
   "source": [
    "# documentation for a function\n",
    "* Put a question mark in front `? function`\n",
    "* Also `@doc function` \n",
    "* `dir(obj)` can be helpful\n",
    "* `fieldnames(obj)` is also helpful"
   ]
  },
  {
   "cell_type": "code",
   "execution_count": 105,
   "metadata": {},
   "outputs": [],
   "source": [
    "# ? eps"
   ]
  },
  {
   "cell_type": "code",
   "execution_count": 110,
   "metadata": {},
   "outputs": [],
   "source": [
    "# @doc eps"
   ]
  },
  {
   "cell_type": "markdown",
   "metadata": {},
   "source": [
    "Define a function only inside of a function to protect it"
   ]
  },
  {
   "cell_type": "code",
   "execution_count": 111,
   "metadata": {},
   "outputs": [
    {
     "data": {
      "text/plain": [
       "counter (generic function with 1 method)"
      ]
     },
     "execution_count": 111,
     "metadata": {},
     "output_type": "execute_result"
    }
   ],
   "source": [
    "function counter() \n",
    "    n = 0 \n",
    "    () -> n += 1, () -> n = 0 \n",
    "end "
   ]
  },
  {
   "cell_type": "code",
   "execution_count": 112,
   "metadata": {},
   "outputs": [
    {
     "data": {
      "text/plain": [
       "(getfield(Main, Symbol(\"##15#17\"))(Core.Box(0)), getfield(Main, Symbol(\"##16#18\"))(Core.Box(0)))"
      ]
     },
     "execution_count": 112,
     "metadata": {},
     "output_type": "execute_result"
    }
   ],
   "source": [
    "(addOne, reset) = counter()"
   ]
  },
  {
   "cell_type": "code",
   "execution_count": 113,
   "metadata": {},
   "outputs": [
    {
     "data": {
      "text/plain": [
       "2"
      ]
     },
     "execution_count": 113,
     "metadata": {},
     "output_type": "execute_result"
    }
   ],
   "source": [
    "addOne()\n",
    "addOne()"
   ]
  },
  {
   "cell_type": "code",
   "execution_count": 114,
   "metadata": {},
   "outputs": [
    {
     "data": {
      "text/plain": [
       "3"
      ]
     },
     "execution_count": 114,
     "metadata": {},
     "output_type": "execute_result"
    }
   ],
   "source": [
    "addOne()\n"
   ]
  },
  {
   "cell_type": "code",
   "execution_count": 115,
   "metadata": {},
   "outputs": [
    {
     "data": {
      "text/plain": [
       "0"
      ]
     },
     "execution_count": 115,
     "metadata": {},
     "output_type": "execute_result"
    }
   ],
   "source": [
    "reset()"
   ]
  },
  {
   "cell_type": "code",
   "execution_count": 116,
   "metadata": {},
   "outputs": [
    {
     "data": {
      "text/plain": [
       "1"
      ]
     },
     "execution_count": 116,
     "metadata": {},
     "output_type": "execute_result"
    }
   ],
   "source": [
    "addOne()"
   ]
  },
  {
   "cell_type": "markdown",
   "metadata": {},
   "source": [
    "Currying"
   ]
  },
  {
   "cell_type": "code",
   "execution_count": 117,
   "metadata": {},
   "outputs": [
    {
     "data": {
      "text/plain": [
       "add (generic function with 1 method)"
      ]
     },
     "execution_count": 117,
     "metadata": {},
     "output_type": "execute_result"
    }
   ],
   "source": [
    "function add(x) \n",
    "    return function f(y) \n",
    "        return x + y \n",
    "    end \n",
    "end "
   ]
  },
  {
   "cell_type": "code",
   "execution_count": 118,
   "metadata": {},
   "outputs": [
    {
     "data": {
      "text/plain": [
       "9"
      ]
     },
     "execution_count": 118,
     "metadata": {},
     "output_type": "execute_result"
    }
   ],
   "source": [
    "add(4)(5)"
   ]
  },
  {
   "cell_type": "markdown",
   "metadata": {},
   "source": [
    "# broad cast a function over an array of elements"
   ]
  },
  {
   "cell_type": "code",
   "execution_count": 119,
   "metadata": {},
   "outputs": [
    {
     "data": {
      "text/plain": [
       "3-element Array{Float64,1}:\n",
       " 3.141592653589793 \n",
       " 1.5707963267948966\n",
       " 0.0               "
      ]
     },
     "execution_count": 119,
     "metadata": {},
     "output_type": "execute_result"
    }
   ],
   "source": [
    "arr = [ pi, pi/2,0]"
   ]
  },
  {
   "cell_type": "code",
   "execution_count": 122,
   "metadata": {},
   "outputs": [
    {
     "data": {
      "text/plain": [
       "3-element Array{Float64,1}:\n",
       " 1.2246467991473532e-16\n",
       " 1.0                   \n",
       " 0.0                   "
      ]
     },
     "execution_count": 122,
     "metadata": {},
     "output_type": "execute_result"
    }
   ],
   "source": [
    "# calculate sin for each element\n",
    "sin.(arr)"
   ]
  },
  {
   "cell_type": "code",
   "execution_count": 123,
   "metadata": {},
   "outputs": [
    {
     "data": {
      "text/plain": [
       "#20 (generic function with 1 method)"
      ]
     },
     "execution_count": 123,
     "metadata": {},
     "output_type": "execute_result"
    }
   ],
   "source": [
    "square = (x)-> x^2"
   ]
  },
  {
   "cell_type": "markdown",
   "metadata": {},
   "source": [
    "# map a function to an arry"
   ]
  },
  {
   "cell_type": "code",
   "execution_count": 124,
   "metadata": {},
   "outputs": [
    {
     "data": {
      "text/plain": [
       "3-element Array{Int64,1}:\n",
       " 1\n",
       " 0\n",
       " 1"
      ]
     },
     "execution_count": 124,
     "metadata": {},
     "output_type": "execute_result"
    }
   ],
   "source": [
    "map(square, [-1,0,1])"
   ]
  },
  {
   "cell_type": "code",
   "execution_count": 125,
   "metadata": {},
   "outputs": [
    {
     "data": {
      "text/plain": [
       "#22 (generic function with 1 method)"
      ]
     },
     "execution_count": 125,
     "metadata": {},
     "output_type": "execute_result"
    }
   ],
   "source": [
    "is_zero = (x) -> x==0"
   ]
  },
  {
   "cell_type": "code",
   "execution_count": 126,
   "metadata": {},
   "outputs": [
    {
     "data": {
      "text/plain": [
       "(true, false)"
      ]
     },
     "execution_count": 126,
     "metadata": {},
     "output_type": "execute_result"
    }
   ],
   "source": [
    "is_zero(0), is_zero(1)"
   ]
  },
  {
   "cell_type": "code",
   "execution_count": 127,
   "metadata": {},
   "outputs": [
    {
     "data": {
      "text/plain": [
       "1-element Array{Int64,1}:\n",
       " 0"
      ]
     },
     "execution_count": 127,
     "metadata": {},
     "output_type": "execute_result"
    }
   ],
   "source": [
    "filter(is_zero, collect(-3:3))"
   ]
  },
  {
   "cell_type": "markdown",
   "metadata": {},
   "source": [
    "# List comprehension"
   ]
  },
  {
   "cell_type": "code",
   "execution_count": 130,
   "metadata": {},
   "outputs": [
    {
     "data": {
      "text/plain": [
       "6-element Array{Int64,1}:\n",
       "  1\n",
       "  4\n",
       "  9\n",
       " 16\n",
       " 25\n",
       " 36"
      ]
     },
     "execution_count": 130,
     "metadata": {},
     "output_type": "execute_result"
    }
   ],
   "source": [
    "vector = [x^2 for x in 1:6]"
   ]
  },
  {
   "cell_type": "markdown",
   "metadata": {},
   "source": [
    "Double comprehension\n",
    "* although the location of the index isn't clear"
   ]
  },
  {
   "cell_type": "code",
   "execution_count": 133,
   "metadata": {},
   "outputs": [
    {
     "data": {
      "text/plain": [
       "5×6 Array{Float32,2}:\n",
       " 1.0   2.0   3.0   4.0   5.0   6.0\n",
       " 2.0   4.0   6.0   8.0  10.0  12.0\n",
       " 3.0   6.0   9.0  12.0  15.0  18.0\n",
       " 4.0   8.0  12.0  16.0  20.0  24.0\n",
       " 5.0  10.0  15.0  20.0  25.0  30.0"
      ]
     },
     "execution_count": 133,
     "metadata": {},
     "output_type": "execute_result"
    }
   ],
   "source": [
    "array1 = Float32[x*y for x in 1:5, y in 1:6]"
   ]
  },
  {
   "cell_type": "markdown",
   "metadata": {},
   "source": [
    "Multi-dispatch\n",
    "* different args give different behaviors but with the same name\n",
    "* so they arg types are important\n",
    "* same in C#"
   ]
  },
  {
   "cell_type": "code",
   "execution_count": 134,
   "metadata": {},
   "outputs": [
    {
     "data": {
      "text/plain": [
       "f (generic function with 6 methods)"
      ]
     },
     "execution_count": 134,
     "metadata": {},
     "output_type": "execute_result"
    }
   ],
   "source": [
    "f(n, m) = \"base case\" \n",
    "f(n::Number, m::Number) = \"n and m are both numbers\" \n",
    "f(n::Number, m) = \"n is a number\" \n",
    "f(n, m::Number) = \"m is a number\" \n",
    "f(n::Integer, m::Integer) = \"n and m are both integers\""
   ]
  },
  {
   "cell_type": "code",
   "execution_count": 135,
   "metadata": {},
   "outputs": [
    {
     "data": {
      "text/plain": [
       "\"n and m are both integers\""
      ]
     },
     "execution_count": 135,
     "metadata": {},
     "output_type": "execute_result"
    }
   ],
   "source": [
    "f(1,2)"
   ]
  },
  {
   "cell_type": "code",
   "execution_count": 136,
   "metadata": {},
   "outputs": [
    {
     "data": {
      "text/plain": [
       "\"base case\""
      ]
     },
     "execution_count": 136,
     "metadata": {},
     "output_type": "execute_result"
    }
   ],
   "source": [
    "f(\"hi\", \"yes\")"
   ]
  },
  {
   "cell_type": "markdown",
   "metadata": {},
   "source": [
    "## see the overloaded function\n",
    "* type `methods(fuction)`"
   ]
  },
  {
   "cell_type": "code",
   "execution_count": 137,
   "metadata": {},
   "outputs": [
    {
     "data": {
      "text/html": [
       "6 methods for generic function <b>f</b>:<ul><li> f(n::<b>Integer</b>, m::<b>Integer</b>) in Main at In[134]:5</li> <li> f(n::<b>Number</b>, m::<b>Number</b>) in Main at In[134]:2</li> <li> f(n::<b>Number</b>, m) in Main at In[134]:3</li> <li> f(x) in Main at In[7]:1</li> <li> f(n, m::<b>Number</b>) in Main at In[134]:4</li> <li> f(n, m) in Main at In[134]:1</li> </ul>"
      ],
      "text/plain": [
       "# 6 methods for generic function \"f\":\n",
       "[1] f(n::Integer, m::Integer) in Main at In[134]:5\n",
       "[2] f(n::Number, m::Number) in Main at In[134]:2\n",
       "[3] f(n::Number, m) in Main at In[134]:3\n",
       "[4] f(x) in Main at In[7]:1\n",
       "[5] f(n, m::Number) in Main at In[134]:4\n",
       "[6] f(n, m) in Main at In[134]:1"
      ]
     },
     "execution_count": 137,
     "metadata": {},
     "output_type": "execute_result"
    }
   ],
   "source": [
    "methods(f)"
   ]
  },
  {
   "cell_type": "code",
   "execution_count": 138,
   "metadata": {},
   "outputs": [
    {
     "data": {
      "text/html": [
       "5 methods for generic function <b>sort</b>:<ul><li> sort(r::<b>AbstractUnitRange</b>) in Base at <a href=\"https://github.com/JuliaLang/julia/tree/3af96bcefcb0aec559d4652fd75e1bc3fcfe99da/base/range.jl#L936\" target=\"_blank\">range.jl:936</a></li> <li> sort(r::<b>AbstractRange</b>) in Base at <a href=\"https://github.com/JuliaLang/julia/tree/3af96bcefcb0aec559d4652fd75e1bc3fcfe99da/base/range.jl#L939\" target=\"_blank\">range.jl:939</a></li> <li> sort<i>{Tv, Ti}</i>(x::<b>SparseArrays.SparseVector{Tv,Ti}</b>; <i>kws...</i>) in SparseArrays at <a href=\"file://C:/cygwin/home/Administrator/buildbot/worker/package_win64/build/usr/share/julia/stdlib/v1.0/SparseArrays/src/sparsevector.jl\" target=\"_blank\">C:\\cygwin\\home\\Administrator\\buildbot\\worker\\package_win64\\build\\usr\\share\\julia\\stdlib\\v1.0\\SparseArrays\\src\\sparsevector.jl:1859</a></li> <li> sort(v::<b>AbstractArray{T,1} where T</b>; <i>kws...</i>) in Base.Sort at <a href=\"https://github.com/JuliaLang/julia/tree/3af96bcefcb0aec559d4652fd75e1bc3fcfe99da/base/sort.jl#L747\" target=\"_blank\">sort.jl:747</a></li> <li> sort(A::<b>AbstractArray</b>; <i>dims, alg, lt, by, rev, order</i>) in Base.Sort at <a href=\"https://github.com/JuliaLang/julia/tree/3af96bcefcb0aec559d4652fd75e1bc3fcfe99da/base/sort.jl#L966\" target=\"_blank\">sort.jl:966</a></li> </ul>"
      ],
      "text/plain": [
       "# 5 methods for generic function \"sort\":\n",
       "[1] sort(r::AbstractUnitRange) in Base at range.jl:936\n",
       "[2] sort(r::AbstractRange) in Base at range.jl:939\n",
       "[3] sort(x::SparseArrays.SparseVector{Tv,Ti}; kws...) where {Tv, Ti} in SparseArrays at C:\\cygwin\\home\\Administrator\\buildbot\\worker\\package_win64\\build\\usr\\share\\julia\\stdlib\\v1.0\\SparseArrays\\src\\sparsevector.jl:1859\n",
       "[4] sort(v::AbstractArray{T,1} where T; kws...) in Base.Sort at sort.jl:747\n",
       "[5] sort(A::AbstractArray; dims, alg, lt, by, rev, order) in Base.Sort at sort.jl:966"
      ]
     },
     "execution_count": 138,
     "metadata": {},
     "output_type": "execute_result"
    }
   ],
   "source": [
    "methods(sort)"
   ]
  },
  {
   "cell_type": "code",
   "execution_count": 253,
   "metadata": {},
   "outputs": [],
   "source": [
    "using Plots"
   ]
  },
  {
   "cell_type": "code",
   "execution_count": 272,
   "metadata": {},
   "outputs": [
    {
     "data": {
      "text/plain": [
       "#132 (generic function with 1 method)"
      ]
     },
     "execution_count": 272,
     "metadata": {},
     "output_type": "execute_result"
    }
   ],
   "source": [
    "my_function = (x)-> x^2+x\n",
    "my_function_r = (x)-> (x+2.5)^2-2 .+ rand(1)[1]*0.1"
   ]
  },
  {
   "cell_type": "code",
   "execution_count": 358,
   "metadata": {},
   "outputs": [
    {
     "data": {
      "text/plain": [
       "my_function2 (generic function with 1 method)"
      ]
     },
     "execution_count": 358,
     "metadata": {},
     "output_type": "execute_result"
    }
   ],
   "source": [
    "function my_function2(x)\n",
    "    y = (x+0.5)^2\n",
    "    if abs(x-0.2)<0.3\n",
    "        y+= (x+0.2)^2\n",
    "    end\n",
    "    return y\n",
    "end"
   ]
  },
  {
   "cell_type": "code",
   "execution_count": 359,
   "metadata": {},
   "outputs": [],
   "source": [
    "x = range(-1,stop=1,length=50)\n",
    "y = my_function2.(x);"
   ]
  },
  {
   "cell_type": "code",
   "execution_count": 360,
   "metadata": {},
   "outputs": [
    {
     "data": {
      "image/svg+xml": "<?xml version=\"1.0\" encoding=\"utf-8\"?>\n<svg xmlns=\"http://www.w3.org/2000/svg\" xmlns:xlink=\"http://www.w3.org/1999/xlink\" width=\"600\" height=\"400\" viewBox=\"0 0 2400 1600\">\n<defs>\n  <clipPath id=\"clip200\">\n    <rect x=\"0\" y=\"0\" width=\"2400\" height=\"1600\"/>\n  </clipPath>\n</defs>\n<path clip-path=\"url(#clip200)\" d=\"\nM0 1600 L2400 1600 L2400 0 L0 0  Z\n  \" fill=\"#ffffff\" fill-rule=\"evenodd\" fill-opacity=\"1\"/>\n<defs>\n  <clipPath id=\"clip201\">\n    <rect x=\"480\" y=\"0\" width=\"1681\" height=\"1600\"/>\n  </clipPath>\n</defs>\n<path clip-path=\"url(#clip200)\" d=\"\nM147.848 1486.45 L2352.76 1486.45 L2352.76 47.2441 L147.848 47.2441  Z\n  \" fill=\"#ffffff\" fill-rule=\"evenodd\" fill-opacity=\"1\"/>\n<defs>\n  <clipPath id=\"clip202\">\n    <rect x=\"147\" y=\"47\" width=\"2206\" height=\"1440\"/>\n  </clipPath>\n</defs>\n<polyline clip-path=\"url(#clip202)\" style=\"stroke:#000000; stroke-width:2; stroke-opacity:0.1; fill:none\" points=\"\n  210.251,1486.45 210.251,47.2441 \n  \"/>\n<polyline clip-path=\"url(#clip202)\" style=\"stroke:#000000; stroke-width:2; stroke-opacity:0.1; fill:none\" points=\"\n  730.277,1486.45 730.277,47.2441 \n  \"/>\n<polyline clip-path=\"url(#clip202)\" style=\"stroke:#000000; stroke-width:2; stroke-opacity:0.1; fill:none\" points=\"\n  1250.3,1486.45 1250.3,47.2441 \n  \"/>\n<polyline clip-path=\"url(#clip202)\" style=\"stroke:#000000; stroke-width:2; stroke-opacity:0.1; fill:none\" points=\"\n  1770.33,1486.45 1770.33,47.2441 \n  \"/>\n<polyline clip-path=\"url(#clip202)\" style=\"stroke:#000000; stroke-width:2; stroke-opacity:0.1; fill:none\" points=\"\n  2290.35,1486.45 2290.35,47.2441 \n  \"/>\n<polyline clip-path=\"url(#clip202)\" style=\"stroke:#000000; stroke-width:2; stroke-opacity:0.1; fill:none\" points=\"\n  147.848,1445.78 2352.76,1445.78 \n  \"/>\n<polyline clip-path=\"url(#clip202)\" style=\"stroke:#000000; stroke-width:2; stroke-opacity:0.1; fill:none\" points=\"\n  147.848,1144.04 2352.76,1144.04 \n  \"/>\n<polyline clip-path=\"url(#clip202)\" style=\"stroke:#000000; stroke-width:2; stroke-opacity:0.1; fill:none\" points=\"\n  147.848,842.311 2352.76,842.311 \n  \"/>\n<polyline clip-path=\"url(#clip202)\" style=\"stroke:#000000; stroke-width:2; stroke-opacity:0.1; fill:none\" points=\"\n  147.848,540.577 2352.76,540.577 \n  \"/>\n<polyline clip-path=\"url(#clip202)\" style=\"stroke:#000000; stroke-width:2; stroke-opacity:0.1; fill:none\" points=\"\n  147.848,238.843 2352.76,238.843 \n  \"/>\n<polyline clip-path=\"url(#clip200)\" style=\"stroke:#000000; stroke-width:4; stroke-opacity:1; fill:none\" points=\"\n  147.848,1486.45 2352.76,1486.45 \n  \"/>\n<polyline clip-path=\"url(#clip200)\" style=\"stroke:#000000; stroke-width:4; stroke-opacity:1; fill:none\" points=\"\n  147.848,1486.45 147.848,47.2441 \n  \"/>\n<polyline clip-path=\"url(#clip200)\" style=\"stroke:#000000; stroke-width:4; stroke-opacity:1; fill:none\" points=\"\n  210.251,1486.45 210.251,1469.18 \n  \"/>\n<polyline clip-path=\"url(#clip200)\" style=\"stroke:#000000; stroke-width:4; stroke-opacity:1; fill:none\" points=\"\n  730.277,1486.45 730.277,1469.18 \n  \"/>\n<polyline clip-path=\"url(#clip200)\" style=\"stroke:#000000; stroke-width:4; stroke-opacity:1; fill:none\" points=\"\n  1250.3,1486.45 1250.3,1469.18 \n  \"/>\n<polyline clip-path=\"url(#clip200)\" style=\"stroke:#000000; stroke-width:4; stroke-opacity:1; fill:none\" points=\"\n  1770.33,1486.45 1770.33,1469.18 \n  \"/>\n<polyline clip-path=\"url(#clip200)\" style=\"stroke:#000000; stroke-width:4; stroke-opacity:1; fill:none\" points=\"\n  2290.35,1486.45 2290.35,1469.18 \n  \"/>\n<polyline clip-path=\"url(#clip200)\" style=\"stroke:#000000; stroke-width:4; stroke-opacity:1; fill:none\" points=\"\n  147.848,1445.78 174.307,1445.78 \n  \"/>\n<polyline clip-path=\"url(#clip200)\" style=\"stroke:#000000; stroke-width:4; stroke-opacity:1; fill:none\" points=\"\n  147.848,1144.04 174.307,1144.04 \n  \"/>\n<polyline clip-path=\"url(#clip200)\" style=\"stroke:#000000; stroke-width:4; stroke-opacity:1; fill:none\" points=\"\n  147.848,842.311 174.307,842.311 \n  \"/>\n<polyline clip-path=\"url(#clip200)\" style=\"stroke:#000000; stroke-width:4; stroke-opacity:1; fill:none\" points=\"\n  147.848,540.577 174.307,540.577 \n  \"/>\n<polyline clip-path=\"url(#clip200)\" style=\"stroke:#000000; stroke-width:4; stroke-opacity:1; fill:none\" points=\"\n  147.848,238.843 174.307,238.843 \n  \"/>\n<path clip-path=\"url(#clip200)\" d=\"M 0 0 M172.636 1525.04 L185.113 1525.04 L185.113 1528.83 L172.636 1528.83 L172.636 1525.04 Z\" fill=\"#000000\" fill-rule=\"evenodd\" fill-opacity=\"1\" /><path clip-path=\"url(#clip200)\" d=\"M 0 0 M190.992 1535.98 L198.631 1535.98 L198.631 1509.62 L190.321 1511.29 L190.321 1507.03 L198.585 1505.36 L203.261 1505.36 L203.261 1535.98 L210.899 1535.98 L210.899 1539.92 L190.992 1539.92 L190.992 1535.98 Z\" fill=\"#000000\" fill-rule=\"evenodd\" fill-opacity=\"1\" /><path clip-path=\"url(#clip200)\" d=\"M 0 0 M215.969 1534.04 L220.853 1534.04 L220.853 1539.92 L215.969 1539.92 L215.969 1534.04 Z\" fill=\"#000000\" fill-rule=\"evenodd\" fill-opacity=\"1\" /><path clip-path=\"url(#clip200)\" d=\"M 0 0 M235.922 1508.44 Q232.311 1508.44 230.483 1512 Q228.677 1515.55 228.677 1522.67 Q228.677 1529.78 230.483 1533.35 Q232.311 1536.89 235.922 1536.89 Q239.557 1536.89 241.362 1533.35 Q243.191 1529.78 243.191 1522.67 Q243.191 1515.55 241.362 1512 Q239.557 1508.44 235.922 1508.44 M235.922 1504.73 Q241.733 1504.73 244.788 1509.34 Q247.867 1513.92 247.867 1522.67 Q247.867 1531.4 244.788 1536.01 Q241.733 1540.59 235.922 1540.59 Q230.112 1540.59 227.034 1536.01 Q223.978 1531.4 223.978 1522.67 Q223.978 1513.92 227.034 1509.34 Q230.112 1504.73 235.922 1504.73 Z\" fill=\"#000000\" fill-rule=\"evenodd\" fill-opacity=\"1\" /><path clip-path=\"url(#clip200)\" d=\"M 0 0 M692.545 1525.04 L705.022 1525.04 L705.022 1528.83 L692.545 1528.83 L692.545 1525.04 Z\" fill=\"#000000\" fill-rule=\"evenodd\" fill-opacity=\"1\" /><path clip-path=\"url(#clip200)\" d=\"M 0 0 M720.092 1508.44 Q716.48 1508.44 714.652 1512 Q712.846 1515.55 712.846 1522.67 Q712.846 1529.78 714.652 1533.35 Q716.48 1536.89 720.092 1536.89 Q723.726 1536.89 725.531 1533.35 Q727.36 1529.78 727.36 1522.67 Q727.36 1515.55 725.531 1512 Q723.726 1508.44 720.092 1508.44 M720.092 1504.73 Q725.902 1504.73 728.957 1509.34 Q732.036 1513.92 732.036 1522.67 Q732.036 1531.4 728.957 1536.01 Q725.902 1540.59 720.092 1540.59 Q714.281 1540.59 711.203 1536.01 Q708.147 1531.4 708.147 1522.67 Q708.147 1513.92 711.203 1509.34 Q714.281 1504.73 720.092 1504.73 Z\" fill=\"#000000\" fill-rule=\"evenodd\" fill-opacity=\"1\" /><path clip-path=\"url(#clip200)\" d=\"M 0 0 M737.105 1534.04 L741.99 1534.04 L741.99 1539.92 L737.105 1539.92 L737.105 1534.04 Z\" fill=\"#000000\" fill-rule=\"evenodd\" fill-opacity=\"1\" /><path clip-path=\"url(#clip200)\" d=\"M 0 0 M747.105 1505.36 L765.462 1505.36 L765.462 1509.3 L751.388 1509.3 L751.388 1517.77 Q752.406 1517.42 753.425 1517.26 Q754.443 1517.07 755.462 1517.07 Q761.249 1517.07 764.628 1520.24 Q768.008 1523.42 768.008 1528.83 Q768.008 1534.41 764.536 1537.51 Q761.064 1540.59 754.744 1540.59 Q752.568 1540.59 750.3 1540.22 Q748.054 1539.85 745.647 1539.11 L745.647 1534.41 Q747.73 1535.54 749.953 1536.1 Q752.175 1536.66 754.652 1536.66 Q758.656 1536.66 760.994 1534.55 Q763.332 1532.44 763.332 1528.83 Q763.332 1525.22 760.994 1523.11 Q758.656 1521.01 754.652 1521.01 Q752.777 1521.01 750.902 1521.42 Q749.05 1521.84 747.105 1522.72 L747.105 1505.36 Z\" fill=\"#000000\" fill-rule=\"evenodd\" fill-opacity=\"1\" /><path clip-path=\"url(#clip200)\" d=\"M 0 0 M1231.82 1508.44 Q1228.21 1508.44 1226.38 1512 Q1224.57 1515.55 1224.57 1522.67 Q1224.57 1529.78 1226.38 1533.35 Q1228.21 1536.89 1231.82 1536.89 Q1235.45 1536.89 1237.26 1533.35 Q1239.09 1529.78 1239.09 1522.67 Q1239.09 1515.55 1237.26 1512 Q1235.45 1508.44 1231.82 1508.44 M1231.82 1504.73 Q1237.63 1504.73 1240.68 1509.34 Q1243.76 1513.92 1243.76 1522.67 Q1243.76 1531.4 1240.68 1536.01 Q1237.63 1540.59 1231.82 1540.59 Q1226.01 1540.59 1222.93 1536.01 Q1219.87 1531.4 1219.87 1522.67 Q1219.87 1513.92 1222.93 1509.34 Q1226.01 1504.73 1231.82 1504.73 Z\" fill=\"#000000\" fill-rule=\"evenodd\" fill-opacity=\"1\" /><path clip-path=\"url(#clip200)\" d=\"M 0 0 M1248.83 1534.04 L1253.72 1534.04 L1253.72 1539.92 L1248.83 1539.92 L1248.83 1534.04 Z\" fill=\"#000000\" fill-rule=\"evenodd\" fill-opacity=\"1\" /><path clip-path=\"url(#clip200)\" d=\"M 0 0 M1268.79 1508.44 Q1265.17 1508.44 1263.35 1512 Q1261.54 1515.55 1261.54 1522.67 Q1261.54 1529.78 1263.35 1533.35 Q1265.17 1536.89 1268.79 1536.89 Q1272.42 1536.89 1274.23 1533.35 Q1276.05 1529.78 1276.05 1522.67 Q1276.05 1515.55 1274.23 1512 Q1272.42 1508.44 1268.79 1508.44 M1268.79 1504.73 Q1274.6 1504.73 1277.65 1509.34 Q1280.73 1513.92 1280.73 1522.67 Q1280.73 1531.4 1277.65 1536.01 Q1274.6 1540.59 1268.79 1540.59 Q1262.98 1540.59 1259.9 1536.01 Q1256.84 1531.4 1256.84 1522.67 Q1256.84 1513.92 1259.9 1509.34 Q1262.98 1504.73 1268.79 1504.73 Z\" fill=\"#000000\" fill-rule=\"evenodd\" fill-opacity=\"1\" /><path clip-path=\"url(#clip200)\" d=\"M 0 0 M1752.34 1508.44 Q1748.73 1508.44 1746.9 1512 Q1745.1 1515.55 1745.1 1522.67 Q1745.1 1529.78 1746.9 1533.35 Q1748.73 1536.89 1752.34 1536.89 Q1755.98 1536.89 1757.78 1533.35 Q1759.61 1529.78 1759.61 1522.67 Q1759.61 1515.55 1757.78 1512 Q1755.98 1508.44 1752.34 1508.44 M1752.34 1504.73 Q1758.15 1504.73 1761.21 1509.34 Q1764.29 1513.92 1764.29 1522.67 Q1764.29 1531.4 1761.21 1536.01 Q1758.15 1540.59 1752.34 1540.59 Q1746.53 1540.59 1743.45 1536.01 Q1740.4 1531.4 1740.4 1522.67 Q1740.4 1513.92 1743.45 1509.34 Q1746.53 1504.73 1752.34 1504.73 Z\" fill=\"#000000\" fill-rule=\"evenodd\" fill-opacity=\"1\" /><path clip-path=\"url(#clip200)\" d=\"M 0 0 M1769.36 1534.04 L1774.24 1534.04 L1774.24 1539.92 L1769.36 1539.92 L1769.36 1534.04 Z\" fill=\"#000000\" fill-rule=\"evenodd\" fill-opacity=\"1\" /><path clip-path=\"url(#clip200)\" d=\"M 0 0 M1779.36 1505.36 L1797.71 1505.36 L1797.71 1509.3 L1783.64 1509.3 L1783.64 1517.77 Q1784.66 1517.42 1785.67 1517.26 Q1786.69 1517.07 1787.71 1517.07 Q1793.5 1517.07 1796.88 1520.24 Q1800.26 1523.42 1800.26 1528.83 Q1800.26 1534.41 1796.79 1537.51 Q1793.31 1540.59 1786.99 1540.59 Q1784.82 1540.59 1782.55 1540.22 Q1780.3 1539.85 1777.9 1539.11 L1777.9 1534.41 Q1779.98 1535.54 1782.2 1536.1 Q1784.42 1536.66 1786.9 1536.66 Q1790.91 1536.66 1793.24 1534.55 Q1795.58 1532.44 1795.58 1528.83 Q1795.58 1525.22 1793.24 1523.11 Q1790.91 1521.01 1786.9 1521.01 Q1785.03 1521.01 1783.15 1521.42 Q1781.3 1521.84 1779.36 1522.72 L1779.36 1505.36 Z\" fill=\"#000000\" fill-rule=\"evenodd\" fill-opacity=\"1\" /><path clip-path=\"url(#clip200)\" d=\"M 0 0 M2262.25 1535.98 L2269.89 1535.98 L2269.89 1509.62 L2261.58 1511.29 L2261.58 1507.03 L2269.84 1505.36 L2274.52 1505.36 L2274.52 1535.98 L2282.16 1535.98 L2282.16 1539.92 L2262.25 1539.92 L2262.25 1535.98 Z\" fill=\"#000000\" fill-rule=\"evenodd\" fill-opacity=\"1\" /><path clip-path=\"url(#clip200)\" d=\"M 0 0 M2287.23 1534.04 L2292.11 1534.04 L2292.11 1539.92 L2287.23 1539.92 L2287.23 1534.04 Z\" fill=\"#000000\" fill-rule=\"evenodd\" fill-opacity=\"1\" /><path clip-path=\"url(#clip200)\" d=\"M 0 0 M2307.18 1508.44 Q2303.57 1508.44 2301.74 1512 Q2299.94 1515.55 2299.94 1522.67 Q2299.94 1529.78 2301.74 1533.35 Q2303.57 1536.89 2307.18 1536.89 Q2310.82 1536.89 2312.62 1533.35 Q2314.45 1529.78 2314.45 1522.67 Q2314.45 1515.55 2312.62 1512 Q2310.82 1508.44 2307.18 1508.44 M2307.18 1504.73 Q2312.99 1504.73 2316.05 1509.34 Q2319.13 1513.92 2319.13 1522.67 Q2319.13 1531.4 2316.05 1536.01 Q2312.99 1540.59 2307.18 1540.59 Q2301.37 1540.59 2298.29 1536.01 Q2295.24 1531.4 2295.24 1522.67 Q2295.24 1513.92 2298.29 1509.34 Q2301.37 1504.73 2307.18 1504.73 Z\" fill=\"#000000\" fill-rule=\"evenodd\" fill-opacity=\"1\" /><path clip-path=\"url(#clip200)\" d=\"M 0 0 M74.9365 1431.58 Q71.3254 1431.58 69.4967 1435.14 Q67.6912 1438.68 67.6912 1445.81 Q67.6912 1452.92 69.4967 1456.48 Q71.3254 1460.03 74.9365 1460.03 Q78.5707 1460.03 80.3763 1456.48 Q82.205 1452.92 82.205 1445.81 Q82.205 1438.68 80.3763 1435.14 Q78.5707 1431.58 74.9365 1431.58 M74.9365 1427.87 Q80.7467 1427.87 83.8022 1432.48 Q86.8809 1437.06 86.8809 1445.81 Q86.8809 1454.54 83.8022 1459.15 Q80.7467 1463.73 74.9365 1463.73 Q69.1264 1463.73 66.0477 1459.15 Q62.9921 1454.54 62.9921 1445.81 Q62.9921 1437.06 66.0477 1432.48 Q69.1264 1427.87 74.9365 1427.87 Z\" fill=\"#000000\" fill-rule=\"evenodd\" fill-opacity=\"1\" /><path clip-path=\"url(#clip200)\" d=\"M 0 0 M91.9503 1457.18 L96.8345 1457.18 L96.8345 1463.06 L91.9503 1463.06 L91.9503 1457.18 Z\" fill=\"#000000\" fill-rule=\"evenodd\" fill-opacity=\"1\" /><path clip-path=\"url(#clip200)\" d=\"M 0 0 M111.904 1431.58 Q108.293 1431.58 106.464 1435.14 Q104.659 1438.68 104.659 1445.81 Q104.659 1452.92 106.464 1456.48 Q108.293 1460.03 111.904 1460.03 Q115.538 1460.03 117.344 1456.48 Q119.172 1452.92 119.172 1445.81 Q119.172 1438.68 117.344 1435.14 Q115.538 1431.58 111.904 1431.58 M111.904 1427.87 Q117.714 1427.87 120.77 1432.48 Q123.848 1437.06 123.848 1445.81 Q123.848 1454.54 120.77 1459.15 Q117.714 1463.73 111.904 1463.73 Q106.094 1463.73 103.015 1459.15 Q99.9595 1454.54 99.9595 1445.81 Q99.9595 1437.06 103.015 1432.48 Q106.094 1427.87 111.904 1427.87 Z\" fill=\"#000000\" fill-rule=\"evenodd\" fill-opacity=\"1\" /><path clip-path=\"url(#clip200)\" d=\"M 0 0 M75.9319 1129.84 Q72.3208 1129.84 70.4921 1133.41 Q68.6865 1136.95 68.6865 1144.08 Q68.6865 1151.19 70.4921 1154.75 Q72.3208 1158.29 75.9319 1158.29 Q79.5661 1158.29 81.3717 1154.75 Q83.2004 1151.19 83.2004 1144.08 Q83.2004 1136.95 81.3717 1133.41 Q79.5661 1129.84 75.9319 1129.84 M75.9319 1126.14 Q81.742 1126.14 84.7976 1130.75 Q87.8763 1135.33 87.8763 1144.08 Q87.8763 1152.81 84.7976 1157.41 Q81.742 1162 75.9319 1162 Q70.1217 1162 67.043 1157.41 Q63.9875 1152.81 63.9875 1144.08 Q63.9875 1135.33 67.043 1130.75 Q70.1217 1126.14 75.9319 1126.14 Z\" fill=\"#000000\" fill-rule=\"evenodd\" fill-opacity=\"1\" /><path clip-path=\"url(#clip200)\" d=\"M 0 0 M92.9457 1155.45 L97.8299 1155.45 L97.8299 1161.32 L92.9457 1161.32 L92.9457 1155.45 Z\" fill=\"#000000\" fill-rule=\"evenodd\" fill-opacity=\"1\" /><path clip-path=\"url(#clip200)\" d=\"M 0 0 M102.946 1126.76 L121.302 1126.76 L121.302 1130.7 L107.228 1130.7 L107.228 1139.17 Q108.247 1138.82 109.265 1138.66 Q110.284 1138.48 111.302 1138.48 Q117.089 1138.48 120.469 1141.65 Q123.848 1144.82 123.848 1150.24 Q123.848 1155.82 120.376 1158.92 Q116.904 1162 110.584 1162 Q108.409 1162 106.14 1161.63 Q103.895 1161.26 101.487 1160.51 L101.487 1155.82 Q103.571 1156.95 105.793 1157.51 Q108.015 1158.06 110.492 1158.06 Q114.496 1158.06 116.834 1155.95 Q119.172 1153.85 119.172 1150.24 Q119.172 1146.63 116.834 1144.52 Q114.496 1142.41 110.492 1142.41 Q108.617 1142.41 106.742 1142.83 Q104.89 1143.25 102.946 1144.13 L102.946 1126.76 Z\" fill=\"#000000\" fill-rule=\"evenodd\" fill-opacity=\"1\" /><path clip-path=\"url(#clip200)\" d=\"M 0 0 M66.9736 855.656 L74.6124 855.656 L74.6124 829.29 L66.3023 830.957 L66.3023 826.698 L74.5661 825.031 L79.242 825.031 L79.242 855.656 L86.8809 855.656 L86.8809 859.591 L66.9736 859.591 L66.9736 855.656 Z\" fill=\"#000000\" fill-rule=\"evenodd\" fill-opacity=\"1\" /><path clip-path=\"url(#clip200)\" d=\"M 0 0 M91.9503 853.711 L96.8345 853.711 L96.8345 859.591 L91.9503 859.591 L91.9503 853.711 Z\" fill=\"#000000\" fill-rule=\"evenodd\" fill-opacity=\"1\" /><path clip-path=\"url(#clip200)\" d=\"M 0 0 M111.904 828.11 Q108.293 828.11 106.464 831.674 Q104.659 835.216 104.659 842.346 Q104.659 849.452 106.464 853.017 Q108.293 856.558 111.904 856.558 Q115.538 856.558 117.344 853.017 Q119.172 849.452 119.172 842.346 Q119.172 835.216 117.344 831.674 Q115.538 828.11 111.904 828.11 M111.904 824.406 Q117.714 824.406 120.77 829.012 Q123.848 833.596 123.848 842.346 Q123.848 851.072 120.77 855.679 Q117.714 860.262 111.904 860.262 Q106.094 860.262 103.015 855.679 Q99.9595 851.072 99.9595 842.346 Q99.9595 833.596 103.015 829.012 Q106.094 824.406 111.904 824.406 Z\" fill=\"#000000\" fill-rule=\"evenodd\" fill-opacity=\"1\" /><path clip-path=\"url(#clip200)\" d=\"M 0 0 M67.969 553.922 L75.6078 553.922 L75.6078 527.556 L67.2977 529.223 L67.2977 524.964 L75.5615 523.297 L80.2374 523.297 L80.2374 553.922 L87.8763 553.922 L87.8763 557.857 L67.969 557.857 L67.969 553.922 Z\" fill=\"#000000\" fill-rule=\"evenodd\" fill-opacity=\"1\" /><path clip-path=\"url(#clip200)\" d=\"M 0 0 M92.9457 551.977 L97.8299 551.977 L97.8299 557.857 L92.9457 557.857 L92.9457 551.977 Z\" fill=\"#000000\" fill-rule=\"evenodd\" fill-opacity=\"1\" /><path clip-path=\"url(#clip200)\" d=\"M 0 0 M102.946 523.297 L121.302 523.297 L121.302 527.232 L107.228 527.232 L107.228 535.704 Q108.247 535.357 109.265 535.195 Q110.284 535.01 111.302 535.01 Q117.089 535.01 120.469 538.181 Q123.848 541.352 123.848 546.769 Q123.848 552.348 120.376 555.45 Q116.904 558.528 110.584 558.528 Q108.409 558.528 106.14 558.158 Q103.895 557.788 101.487 557.047 L101.487 552.348 Q103.571 553.482 105.793 554.038 Q108.015 554.593 110.492 554.593 Q114.496 554.593 116.834 552.487 Q119.172 550.38 119.172 546.769 Q119.172 543.158 116.834 541.052 Q114.496 538.945 110.492 538.945 Q108.617 538.945 106.742 539.362 Q104.89 539.778 102.946 540.658 L102.946 523.297 Z\" fill=\"#000000\" fill-rule=\"evenodd\" fill-opacity=\"1\" /><path clip-path=\"url(#clip200)\" d=\"M 0 0 M70.5615 252.188 L86.8809 252.188 L86.8809 256.123 L64.9366 256.123 L64.9366 252.188 Q67.5986 249.433 72.1819 244.804 Q76.7883 240.151 77.9689 238.808 Q80.2143 236.285 81.0939 234.549 Q81.9967 232.79 81.9967 231.1 Q81.9967 228.346 80.0522 226.609 Q78.1309 224.873 75.0291 224.873 Q72.83 224.873 70.3763 225.637 Q67.9458 226.401 65.168 227.952 L65.168 223.23 Q67.9921 222.096 70.4458 221.517 Q72.8995 220.938 74.9365 220.938 Q80.3068 220.938 83.5013 223.623 Q86.6957 226.309 86.6957 230.799 Q86.6957 232.929 85.8855 234.85 Q85.0985 236.748 82.992 239.341 Q82.4133 240.012 79.3115 243.23 Q76.2096 246.424 70.5615 252.188 Z\" fill=\"#000000\" fill-rule=\"evenodd\" fill-opacity=\"1\" /><path clip-path=\"url(#clip200)\" d=\"M 0 0 M91.9503 250.244 L96.8345 250.244 L96.8345 256.123 L91.9503 256.123 L91.9503 250.244 Z\" fill=\"#000000\" fill-rule=\"evenodd\" fill-opacity=\"1\" /><path clip-path=\"url(#clip200)\" d=\"M 0 0 M111.904 224.642 Q108.293 224.642 106.464 228.207 Q104.659 231.748 104.659 238.878 Q104.659 245.984 106.464 249.549 Q108.293 253.091 111.904 253.091 Q115.538 253.091 117.344 249.549 Q119.172 245.984 119.172 238.878 Q119.172 231.748 117.344 228.207 Q115.538 224.642 111.904 224.642 M111.904 220.938 Q117.714 220.938 120.77 225.545 Q123.848 230.128 123.848 238.878 Q123.848 247.605 120.77 252.211 Q117.714 256.794 111.904 256.794 Q106.094 256.794 103.015 252.211 Q99.9595 247.605 99.9595 238.878 Q99.9595 230.128 103.015 225.545 Q106.094 220.938 111.904 220.938 Z\" fill=\"#000000\" fill-rule=\"evenodd\" fill-opacity=\"1\" /><polyline clip-path=\"url(#clip202)\" style=\"stroke:#009af9; stroke-width:4; stroke-opacity:1; fill:none\" points=\"\n  210.251,1294.91 252.702,1318.54 295.153,1340.15 337.604,1359.76 380.056,1377.35 422.507,1392.93 464.958,1406.51 507.409,1418.07 549.86,1427.62 592.311,1435.16 \n  634.762,1440.69 677.213,1444.21 719.664,1445.72 762.115,1445.21 804.566,1442.7 847.017,1438.18 889.468,1431.64 931.919,1423.1 974.37,1412.54 1016.82,1399.97 \n  1059.27,1385.39 1101.72,1368.81 1144.17,1350.21 1186.63,1317.97 1229.08,1287.51 1271.53,1253.03 1313.98,1214.52 1356.43,1172 1398.88,1125.45 1441.33,1074.88 \n  1483.78,1020.29 1526.23,961.675 1568.68,899.041 1611.14,832.385 1653.59,761.709 1696.04,687.01 1738.49,608.291 1780.94,829.932 1823.39,779.162 1865.84,726.38 \n  1908.29,671.588 1950.74,614.785 1993.2,555.972 2035.65,495.147 2078.1,432.312 2120.55,367.467 2163,300.61 2205.45,231.743 2247.9,160.865 2290.35,87.9763 \n  \n  \"/>\n<path clip-path=\"url(#clip200)\" d=\"\nM1989.74 251.724 L2280.76 251.724 L2280.76 130.764 L1989.74 130.764  Z\n  \" fill=\"#ffffff\" fill-rule=\"evenodd\" fill-opacity=\"1\"/>\n<polyline clip-path=\"url(#clip200)\" style=\"stroke:#000000; stroke-width:4; stroke-opacity:1; fill:none\" points=\"\n  1989.74,251.724 2280.76,251.724 2280.76,130.764 1989.74,130.764 1989.74,251.724 \n  \"/>\n<polyline clip-path=\"url(#clip200)\" style=\"stroke:#009af9; stroke-width:4; stroke-opacity:1; fill:none\" points=\"\n  2013.74,191.244 2157.74,191.244 \n  \"/>\n<path clip-path=\"url(#clip200)\" d=\"M 0 0 M2195.58 210.931 Q2193.77 215.561 2192.06 216.973 Q2190.35 218.385 2187.48 218.385 L2184.08 218.385 L2184.08 214.82 L2186.58 214.82 Q2188.33 214.82 2189.31 213.987 Q2190.28 213.154 2191.46 210.052 L2192.22 208.107 L2181.74 182.598 L2186.25 182.598 L2194.35 202.876 L2202.46 182.598 L2206.97 182.598 L2195.58 210.931 Z\" fill=\"#000000\" fill-rule=\"evenodd\" fill-opacity=\"1\" /><path clip-path=\"url(#clip200)\" d=\"M 0 0 M2212.85 204.589 L2220.49 204.589 L2220.49 178.223 L2212.18 179.89 L2212.18 175.631 L2220.44 173.964 L2225.12 173.964 L2225.12 204.589 L2232.76 204.589 L2232.76 208.524 L2212.85 208.524 L2212.85 204.589 Z\" fill=\"#000000\" fill-rule=\"evenodd\" fill-opacity=\"1\" /></svg>\n"
     },
     "execution_count": 360,
     "metadata": {},
     "output_type": "execute_result"
    }
   ],
   "source": [
    "plot(x,y)"
   ]
  },
  {
   "cell_type": "code",
   "execution_count": 361,
   "metadata": {},
   "outputs": [
    {
     "data": {
      "text/plain": [
       "0.036553039473967285"
      ]
     },
     "execution_count": 361,
     "metadata": {},
     "output_type": "execute_result"
    }
   ],
   "source": [
    "rand(1)[1]*0.1"
   ]
  },
  {
   "cell_type": "code",
   "execution_count": 362,
   "metadata": {},
   "outputs": [
    {
     "data": {
      "text/plain": [
       "6"
      ]
     },
     "execution_count": 362,
     "metadata": {},
     "output_type": "execute_result"
    }
   ],
   "source": [
    "my_function(2)"
   ]
  },
  {
   "cell_type": "code",
   "execution_count": 363,
   "metadata": {},
   "outputs": [
    {
     "data": {
      "text/plain": [
       "1"
      ]
     },
     "execution_count": 363,
     "metadata": {},
     "output_type": "execute_result"
    }
   ],
   "source": [
    "trial_x =[x for x in  range(-20,stop = 20)];\n",
    "argmin(trial_x)\n",
    "# trial_x\n",
    "# [x1^2 for x1 in x]"
   ]
  },
  {
   "cell_type": "code",
   "execution_count": 365,
   "metadata": {},
   "outputs": [
    {
     "data": {
      "text/plain": [
       "find_a_min (generic function with 2 methods)"
      ]
     },
     "execution_count": 365,
     "metadata": {},
     "output_type": "execute_result"
    }
   ],
   "source": [
    "function find_a_min(funct_input, start = 1)\n",
    "    f_dydx = derivative(funct_input)\n",
    "    # println(\"found f_dydx\")\n",
    "    # trial_x =[x for x in  range(-20,stop = 20)]\n",
    "    # y = funct_input.(trial_x) # NOTE the dot for element wise computation\n",
    "    # idx = argmin(y)\n",
    "    # x_i = trial_x[idx] # x sub i\n",
    "    x_i = start\n",
    "    # println(\"argmin is $idx with x value of $x_i\")\n",
    "    step = 1e-2\n",
    "    eps_ = 1e-7\n",
    "    x_list = []\n",
    "    dydx_list = []\n",
    "    for i in range(1,length = 3000)\n",
    "        # get the gradient\n",
    "        dydx = f_dydx(x_i)\n",
    "        if abs(dydx)<eps_\n",
    "            println(\"Found a min at $x_i. Iteration $i\")\n",
    "            return x_i,x_list,dydx_list\n",
    "        end\n",
    "        x_delta = -dydx*step # step in the negative gradient\n",
    "        x_i = x_i+x_delta\n",
    "        push!(x_list, x_i)\n",
    "        push!(dydx_list, dydx)\n",
    "\n",
    "\n",
    "    end\n",
    "\n",
    "    println(\"Did NOT terminate. x =  $x_i\")\n",
    "    return x_i,x_list,dydx_list\n",
    "end"
   ]
  },
  {
   "cell_type": "code",
   "execution_count": 370,
   "metadata": {},
   "outputs": [
    {
     "name": "stdout",
     "output_type": "stream",
     "text": [
      "Found a min at -0.4999999472113128. Iteration 839\n",
      "  0.000404 seconds (4.24 k allocations: 99.500 KiB)\n"
     ]
    },
    {
     "data": {
      "image/svg+xml": "<?xml version=\"1.0\" encoding=\"utf-8\"?>\n<svg xmlns=\"http://www.w3.org/2000/svg\" xmlns:xlink=\"http://www.w3.org/1999/xlink\" width=\"600\" height=\"400\" viewBox=\"0 0 2400 1600\">\n<defs>\n  <clipPath id=\"clip360\">\n    <rect x=\"0\" y=\"0\" width=\"2400\" height=\"1600\"/>\n  </clipPath>\n</defs>\n<path clip-path=\"url(#clip360)\" d=\"\nM0 1600 L2400 1600 L2400 0 L0 0  Z\n  \" fill=\"#ffffff\" fill-rule=\"evenodd\" fill-opacity=\"1\"/>\n<defs>\n  <clipPath id=\"clip361\">\n    <rect x=\"480\" y=\"0\" width=\"1681\" height=\"1600\"/>\n  </clipPath>\n</defs>\n<path clip-path=\"url(#clip360)\" d=\"\nM110.881 1486.45 L2352.76 1486.45 L2352.76 123.472 L110.881 123.472  Z\n  \" fill=\"#ffffff\" fill-rule=\"evenodd\" fill-opacity=\"1\"/>\n<defs>\n  <clipPath id=\"clip362\">\n    <rect x=\"110\" y=\"123\" width=\"2243\" height=\"1364\"/>\n  </clipPath>\n</defs>\n<polyline clip-path=\"url(#clip362)\" style=\"stroke:#000000; stroke-width:2; stroke-opacity:0.1; fill:none\" points=\"\n  171.803,1486.45 171.803,123.472 \n  \"/>\n<polyline clip-path=\"url(#clip362)\" style=\"stroke:#000000; stroke-width:2; stroke-opacity:0.1; fill:none\" points=\"\n  677.174,1486.45 677.174,123.472 \n  \"/>\n<polyline clip-path=\"url(#clip362)\" style=\"stroke:#000000; stroke-width:2; stroke-opacity:0.1; fill:none\" points=\"\n  1182.54,1486.45 1182.54,123.472 \n  \"/>\n<polyline clip-path=\"url(#clip362)\" style=\"stroke:#000000; stroke-width:2; stroke-opacity:0.1; fill:none\" points=\"\n  1687.92,1486.45 1687.92,123.472 \n  \"/>\n<polyline clip-path=\"url(#clip362)\" style=\"stroke:#000000; stroke-width:2; stroke-opacity:0.1; fill:none\" points=\"\n  2193.29,1486.45 2193.29,123.472 \n  \"/>\n<polyline clip-path=\"url(#clip362)\" style=\"stroke:#000000; stroke-width:2; stroke-opacity:0.1; fill:none\" points=\"\n  110.881,1447.87 2352.76,1447.87 \n  \"/>\n<polyline clip-path=\"url(#clip362)\" style=\"stroke:#000000; stroke-width:2; stroke-opacity:0.1; fill:none\" points=\"\n  110.881,1061.22 2352.76,1061.22 \n  \"/>\n<polyline clip-path=\"url(#clip362)\" style=\"stroke:#000000; stroke-width:2; stroke-opacity:0.1; fill:none\" points=\"\n  110.881,674.568 2352.76,674.568 \n  \"/>\n<polyline clip-path=\"url(#clip362)\" style=\"stroke:#000000; stroke-width:2; stroke-opacity:0.1; fill:none\" points=\"\n  110.881,287.916 2352.76,287.916 \n  \"/>\n<polyline clip-path=\"url(#clip360)\" style=\"stroke:#000000; stroke-width:4; stroke-opacity:1; fill:none\" points=\"\n  110.881,1486.45 2352.76,1486.45 \n  \"/>\n<polyline clip-path=\"url(#clip360)\" style=\"stroke:#000000; stroke-width:4; stroke-opacity:1; fill:none\" points=\"\n  110.881,1486.45 110.881,123.472 \n  \"/>\n<polyline clip-path=\"url(#clip360)\" style=\"stroke:#000000; stroke-width:4; stroke-opacity:1; fill:none\" points=\"\n  171.803,1486.45 171.803,1470.09 \n  \"/>\n<polyline clip-path=\"url(#clip360)\" style=\"stroke:#000000; stroke-width:4; stroke-opacity:1; fill:none\" points=\"\n  677.174,1486.45 677.174,1470.09 \n  \"/>\n<polyline clip-path=\"url(#clip360)\" style=\"stroke:#000000; stroke-width:4; stroke-opacity:1; fill:none\" points=\"\n  1182.54,1486.45 1182.54,1470.09 \n  \"/>\n<polyline clip-path=\"url(#clip360)\" style=\"stroke:#000000; stroke-width:4; stroke-opacity:1; fill:none\" points=\"\n  1687.92,1486.45 1687.92,1470.09 \n  \"/>\n<polyline clip-path=\"url(#clip360)\" style=\"stroke:#000000; stroke-width:4; stroke-opacity:1; fill:none\" points=\"\n  2193.29,1486.45 2193.29,1470.09 \n  \"/>\n<polyline clip-path=\"url(#clip360)\" style=\"stroke:#000000; stroke-width:4; stroke-opacity:1; fill:none\" points=\"\n  110.881,1447.87 137.783,1447.87 \n  \"/>\n<polyline clip-path=\"url(#clip360)\" style=\"stroke:#000000; stroke-width:4; stroke-opacity:1; fill:none\" points=\"\n  110.881,1061.22 137.783,1061.22 \n  \"/>\n<polyline clip-path=\"url(#clip360)\" style=\"stroke:#000000; stroke-width:4; stroke-opacity:1; fill:none\" points=\"\n  110.881,674.568 137.783,674.568 \n  \"/>\n<polyline clip-path=\"url(#clip360)\" style=\"stroke:#000000; stroke-width:4; stroke-opacity:1; fill:none\" points=\"\n  110.881,287.916 137.783,287.916 \n  \"/>\n<path clip-path=\"url(#clip360)\" d=\"M 0 0 M171.803 1508.44 Q168.192 1508.44 166.364 1512 Q164.558 1515.55 164.558 1522.67 Q164.558 1529.78 166.364 1533.35 Q168.192 1536.89 171.803 1536.89 Q175.438 1536.89 177.243 1533.35 Q179.072 1529.78 179.072 1522.67 Q179.072 1515.55 177.243 1512 Q175.438 1508.44 171.803 1508.44 M171.803 1504.73 Q177.613 1504.73 180.669 1509.34 Q183.748 1513.92 183.748 1522.67 Q183.748 1531.4 180.669 1536.01 Q177.613 1540.59 171.803 1540.59 Q165.993 1540.59 162.914 1536.01 Q159.859 1531.4 159.859 1522.67 Q159.859 1513.92 162.914 1509.34 Q165.993 1504.73 171.803 1504.73 Z\" fill=\"#000000\" fill-rule=\"evenodd\" fill-opacity=\"1\" /><path clip-path=\"url(#clip360)\" d=\"M 0 0 M644.813 1535.98 L661.132 1535.98 L661.132 1539.92 L639.188 1539.92 L639.188 1535.98 Q641.85 1533.23 646.433 1528.6 Q651.04 1523.95 652.22 1522.61 Q654.466 1520.08 655.345 1518.35 Q656.248 1516.59 656.248 1514.9 Q656.248 1512.14 654.304 1510.41 Q652.383 1508.67 649.281 1508.67 Q647.082 1508.67 644.628 1509.43 Q642.197 1510.2 639.42 1511.75 L639.42 1507.03 Q642.244 1505.89 644.697 1505.31 Q647.151 1504.73 649.188 1504.73 Q654.558 1504.73 657.753 1507.42 Q660.947 1510.11 660.947 1514.6 Q660.947 1516.73 660.137 1518.65 Q659.35 1520.54 657.244 1523.14 Q656.665 1523.81 653.563 1527.03 Q650.461 1530.22 644.813 1535.98 Z\" fill=\"#000000\" fill-rule=\"evenodd\" fill-opacity=\"1\" /><path clip-path=\"url(#clip360)\" d=\"M 0 0 M676.202 1508.44 Q672.591 1508.44 670.762 1512 Q668.956 1515.55 668.956 1522.67 Q668.956 1529.78 670.762 1533.35 Q672.591 1536.89 676.202 1536.89 Q679.836 1536.89 681.642 1533.35 Q683.47 1529.78 683.47 1522.67 Q683.47 1515.55 681.642 1512 Q679.836 1508.44 676.202 1508.44 M676.202 1504.73 Q682.012 1504.73 685.068 1509.34 Q688.146 1513.92 688.146 1522.67 Q688.146 1531.4 685.068 1536.01 Q682.012 1540.59 676.202 1540.59 Q670.392 1540.59 667.313 1536.01 Q664.257 1531.4 664.257 1522.67 Q664.257 1513.92 667.313 1509.34 Q670.392 1504.73 676.202 1504.73 Z\" fill=\"#000000\" fill-rule=\"evenodd\" fill-opacity=\"1\" /><path clip-path=\"url(#clip360)\" d=\"M 0 0 M703.216 1508.44 Q699.604 1508.44 697.776 1512 Q695.97 1515.55 695.97 1522.67 Q695.97 1529.78 697.776 1533.35 Q699.604 1536.89 703.216 1536.89 Q706.85 1536.89 708.655 1533.35 Q710.484 1529.78 710.484 1522.67 Q710.484 1515.55 708.655 1512 Q706.85 1508.44 703.216 1508.44 M703.216 1504.73 Q709.026 1504.73 712.081 1509.34 Q715.16 1513.92 715.16 1522.67 Q715.16 1531.4 712.081 1536.01 Q709.026 1540.59 703.216 1540.59 Q697.405 1540.59 694.327 1536.01 Q691.271 1531.4 691.271 1522.67 Q691.271 1513.92 694.327 1509.34 Q697.405 1504.73 703.216 1504.73 Z\" fill=\"#000000\" fill-rule=\"evenodd\" fill-opacity=\"1\" /><path clip-path=\"url(#clip360)\" d=\"M 0 0 M1158.54 1509.43 L1146.73 1527.88 L1158.54 1527.88 L1158.54 1509.43 M1157.31 1505.36 L1163.19 1505.36 L1163.19 1527.88 L1168.12 1527.88 L1168.12 1531.77 L1163.19 1531.77 L1163.19 1539.92 L1158.54 1539.92 L1158.54 1531.77 L1142.94 1531.77 L1142.94 1527.26 L1157.31 1505.36 Z\" fill=\"#000000\" fill-rule=\"evenodd\" fill-opacity=\"1\" /><path clip-path=\"url(#clip360)\" d=\"M 0 0 M1183.19 1508.44 Q1179.58 1508.44 1177.75 1512 Q1175.95 1515.55 1175.95 1522.67 Q1175.95 1529.78 1177.75 1533.35 Q1179.58 1536.89 1183.19 1536.89 Q1186.83 1536.89 1188.63 1533.35 Q1190.46 1529.78 1190.46 1522.67 Q1190.46 1515.55 1188.63 1512 Q1186.83 1508.44 1183.19 1508.44 M1183.19 1504.73 Q1189 1504.73 1192.06 1509.34 Q1195.14 1513.92 1195.14 1522.67 Q1195.14 1531.4 1192.06 1536.01 Q1189 1540.59 1183.19 1540.59 Q1177.38 1540.59 1174.3 1536.01 Q1171.25 1531.4 1171.25 1522.67 Q1171.25 1513.92 1174.3 1509.34 Q1177.38 1504.73 1183.19 1504.73 Z\" fill=\"#000000\" fill-rule=\"evenodd\" fill-opacity=\"1\" /><path clip-path=\"url(#clip360)\" d=\"M 0 0 M1210.21 1508.44 Q1206.6 1508.44 1204.77 1512 Q1202.96 1515.55 1202.96 1522.67 Q1202.96 1529.78 1204.77 1533.35 Q1206.6 1536.89 1210.21 1536.89 Q1213.84 1536.89 1215.65 1533.35 Q1217.48 1529.78 1217.48 1522.67 Q1217.48 1515.55 1215.65 1512 Q1213.84 1508.44 1210.21 1508.44 M1210.21 1504.73 Q1216.02 1504.73 1219.07 1509.34 Q1222.15 1513.92 1222.15 1522.67 Q1222.15 1531.4 1219.07 1536.01 Q1216.02 1540.59 1210.21 1540.59 Q1204.4 1540.59 1201.32 1536.01 Q1198.26 1531.4 1198.26 1522.67 Q1198.26 1513.92 1201.32 1509.34 Q1204.4 1504.73 1210.21 1504.73 Z\" fill=\"#000000\" fill-rule=\"evenodd\" fill-opacity=\"1\" /><path clip-path=\"url(#clip360)\" d=\"M 0 0 M1661.31 1520.78 Q1658.16 1520.78 1656.31 1522.93 Q1654.48 1525.08 1654.48 1528.83 Q1654.48 1532.56 1656.31 1534.73 Q1658.16 1536.89 1661.31 1536.89 Q1664.45 1536.89 1666.28 1534.73 Q1668.14 1532.56 1668.14 1528.83 Q1668.14 1525.08 1666.28 1522.93 Q1664.45 1520.78 1661.31 1520.78 M1670.59 1506.12 L1670.59 1510.38 Q1668.83 1509.55 1667.02 1509.11 Q1665.24 1508.67 1663.48 1508.67 Q1658.85 1508.67 1656.4 1511.8 Q1653.97 1514.92 1653.62 1521.24 Q1654.99 1519.23 1657.05 1518.16 Q1659.11 1517.07 1661.58 1517.07 Q1666.79 1517.07 1669.8 1520.24 Q1672.83 1523.39 1672.83 1528.83 Q1672.83 1534.16 1669.69 1537.37 Q1666.54 1540.59 1661.31 1540.59 Q1655.31 1540.59 1652.14 1536.01 Q1648.97 1531.4 1648.97 1522.67 Q1648.97 1514.48 1652.86 1509.62 Q1656.75 1504.73 1663.3 1504.73 Q1665.06 1504.73 1666.84 1505.08 Q1668.64 1505.43 1670.59 1506.12 Z\" fill=\"#000000\" fill-rule=\"evenodd\" fill-opacity=\"1\" /><path clip-path=\"url(#clip360)\" d=\"M 0 0 M1687.9 1508.44 Q1684.29 1508.44 1682.46 1512 Q1680.66 1515.55 1680.66 1522.67 Q1680.66 1529.78 1682.46 1533.35 Q1684.29 1536.89 1687.9 1536.89 Q1691.54 1536.89 1693.34 1533.35 Q1695.17 1529.78 1695.17 1522.67 Q1695.17 1515.55 1693.34 1512 Q1691.54 1508.44 1687.9 1508.44 M1687.9 1504.73 Q1693.71 1504.73 1696.77 1509.34 Q1699.85 1513.92 1699.85 1522.67 Q1699.85 1531.4 1696.77 1536.01 Q1693.71 1540.59 1687.9 1540.59 Q1682.09 1540.59 1679.02 1536.01 Q1675.96 1531.4 1675.96 1522.67 Q1675.96 1513.92 1679.02 1509.34 Q1682.09 1504.73 1687.9 1504.73 Z\" fill=\"#000000\" fill-rule=\"evenodd\" fill-opacity=\"1\" /><path clip-path=\"url(#clip360)\" d=\"M 0 0 M1714.92 1508.44 Q1711.31 1508.44 1709.48 1512 Q1707.67 1515.55 1707.67 1522.67 Q1707.67 1529.78 1709.48 1533.35 Q1711.31 1536.89 1714.92 1536.89 Q1718.55 1536.89 1720.36 1533.35 Q1722.19 1529.78 1722.19 1522.67 Q1722.19 1515.55 1720.36 1512 Q1718.55 1508.44 1714.92 1508.44 M1714.92 1504.73 Q1720.73 1504.73 1723.78 1509.34 Q1726.86 1513.92 1726.86 1522.67 Q1726.86 1531.4 1723.78 1536.01 Q1720.73 1540.59 1714.92 1540.59 Q1709.11 1540.59 1706.03 1536.01 Q1702.97 1531.4 1702.97 1522.67 Q1702.97 1513.92 1706.03 1509.34 Q1709.11 1504.73 1714.92 1504.73 Z\" fill=\"#000000\" fill-rule=\"evenodd\" fill-opacity=\"1\" /><path clip-path=\"url(#clip360)\" d=\"M 0 0 M2166.27 1523.51 Q2162.94 1523.51 2161.02 1525.29 Q2159.12 1527.07 2159.12 1530.2 Q2159.12 1533.32 2161.02 1535.11 Q2162.94 1536.89 2166.27 1536.89 Q2169.61 1536.89 2171.53 1535.11 Q2173.45 1533.3 2173.45 1530.2 Q2173.45 1527.07 2171.53 1525.29 Q2169.63 1523.51 2166.27 1523.51 M2161.6 1521.52 Q2158.59 1520.78 2156.9 1518.72 Q2155.23 1516.66 2155.23 1513.69 Q2155.23 1509.55 2158.17 1507.14 Q2161.13 1504.73 2166.27 1504.73 Q2171.43 1504.73 2174.37 1507.14 Q2177.31 1509.55 2177.31 1513.69 Q2177.31 1516.66 2175.62 1518.72 Q2173.96 1520.78 2170.97 1521.52 Q2174.35 1522.3 2176.23 1524.6 Q2178.12 1526.89 2178.12 1530.2 Q2178.12 1535.22 2175.05 1537.91 Q2171.99 1540.59 2166.27 1540.59 Q2160.55 1540.59 2157.48 1537.91 Q2154.42 1535.22 2154.42 1530.2 Q2154.42 1526.89 2156.32 1524.6 Q2158.22 1522.3 2161.6 1521.52 M2159.88 1514.13 Q2159.88 1516.82 2161.55 1518.32 Q2163.24 1519.83 2166.27 1519.83 Q2169.28 1519.83 2170.97 1518.32 Q2172.68 1516.82 2172.68 1514.13 Q2172.68 1511.45 2170.97 1509.94 Q2169.28 1508.44 2166.27 1508.44 Q2163.24 1508.44 2161.55 1509.94 Q2159.88 1511.45 2159.88 1514.13 Z\" fill=\"#000000\" fill-rule=\"evenodd\" fill-opacity=\"1\" /><path clip-path=\"url(#clip360)\" d=\"M 0 0 M2193.19 1508.44 Q2189.58 1508.44 2187.75 1512 Q2185.95 1515.55 2185.95 1522.67 Q2185.95 1529.78 2187.75 1533.35 Q2189.58 1536.89 2193.19 1536.89 Q2196.83 1536.89 2198.63 1533.35 Q2200.46 1529.78 2200.46 1522.67 Q2200.46 1515.55 2198.63 1512 Q2196.83 1508.44 2193.19 1508.44 M2193.19 1504.73 Q2199 1504.73 2202.06 1509.34 Q2205.14 1513.92 2205.14 1522.67 Q2205.14 1531.4 2202.06 1536.01 Q2199 1540.59 2193.19 1540.59 Q2187.38 1540.59 2184.3 1536.01 Q2181.25 1531.4 2181.25 1522.67 Q2181.25 1513.92 2184.3 1509.34 Q2187.38 1504.73 2193.19 1504.73 Z\" fill=\"#000000\" fill-rule=\"evenodd\" fill-opacity=\"1\" /><path clip-path=\"url(#clip360)\" d=\"M 0 0 M2220.21 1508.44 Q2216.6 1508.44 2214.77 1512 Q2212.96 1515.55 2212.96 1522.67 Q2212.96 1529.78 2214.77 1533.35 Q2216.6 1536.89 2220.21 1536.89 Q2223.84 1536.89 2225.65 1533.35 Q2227.48 1529.78 2227.48 1522.67 Q2227.48 1515.55 2225.65 1512 Q2223.84 1508.44 2220.21 1508.44 M2220.21 1504.73 Q2226.02 1504.73 2229.07 1509.34 Q2232.15 1513.92 2232.15 1522.67 Q2232.15 1531.4 2229.07 1536.01 Q2226.02 1540.59 2220.21 1540.59 Q2214.4 1540.59 2211.32 1536.01 Q2208.26 1531.4 2208.26 1522.67 Q2208.26 1513.92 2211.32 1509.34 Q2214.4 1504.73 2220.21 1504.73 Z\" fill=\"#000000\" fill-rule=\"evenodd\" fill-opacity=\"1\" /><path clip-path=\"url(#clip360)\" d=\"M 0 0 M74.9365 1433.67 Q71.3254 1433.67 69.4967 1437.24 Q67.6912 1440.78 67.6912 1447.91 Q67.6912 1455.01 69.4967 1458.58 Q71.3254 1462.12 74.9365 1462.12 Q78.5707 1462.12 80.3763 1458.58 Q82.205 1455.01 82.205 1447.91 Q82.205 1440.78 80.3763 1437.24 Q78.5707 1433.67 74.9365 1433.67 M74.9365 1429.97 Q80.7467 1429.97 83.8022 1434.57 Q86.8809 1439.16 86.8809 1447.91 Q86.8809 1456.63 83.8022 1461.24 Q80.7467 1465.82 74.9365 1465.82 Q69.1264 1465.82 66.0477 1461.24 Q62.9921 1456.63 62.9921 1447.91 Q62.9921 1439.16 66.0477 1434.57 Q69.1264 1429.97 74.9365 1429.97 Z\" fill=\"#000000\" fill-rule=\"evenodd\" fill-opacity=\"1\" /><path clip-path=\"url(#clip360)\" d=\"M 0 0 M66.9736 1074.57 L74.6124 1074.57 L74.6124 1048.2 L66.3023 1049.87 L66.3023 1045.61 L74.5661 1043.94 L79.242 1043.94 L79.242 1074.57 L86.8809 1074.57 L86.8809 1078.5 L66.9736 1078.5 L66.9736 1074.57 Z\" fill=\"#000000\" fill-rule=\"evenodd\" fill-opacity=\"1\" /><path clip-path=\"url(#clip360)\" d=\"M 0 0 M70.5615 687.913 L86.8809 687.913 L86.8809 691.848 L64.9366 691.848 L64.9366 687.913 Q67.5986 685.158 72.1819 680.529 Q76.7883 675.876 77.9689 674.534 Q80.2143 672.01 81.0939 670.274 Q81.9967 668.515 81.9967 666.825 Q81.9967 664.071 80.0522 662.334 Q78.1309 660.598 75.0291 660.598 Q72.83 660.598 70.3763 661.362 Q67.9458 662.126 65.168 663.677 L65.168 658.955 Q67.9921 657.821 70.4458 657.242 Q72.8995 656.663 74.9365 656.663 Q80.3068 656.663 83.5013 659.348 Q86.6957 662.034 86.6957 666.524 Q86.6957 668.654 85.8855 670.575 Q85.0985 672.473 82.992 675.066 Q82.4133 675.737 79.3115 678.955 Q76.2096 682.149 70.5615 687.913 Z\" fill=\"#000000\" fill-rule=\"evenodd\" fill-opacity=\"1\" /><path clip-path=\"url(#clip360)\" d=\"M 0 0 M79.7513 286.562 Q83.1078 287.279 84.9827 289.548 Q86.8809 291.816 86.8809 295.15 Q86.8809 300.265 83.3624 303.066 Q79.8439 305.867 73.3624 305.867 Q71.1865 305.867 68.8717 305.427 Q66.5801 305.011 64.1264 304.154 L64.1264 299.64 Q66.0708 300.775 68.3856 301.353 Q70.7004 301.932 73.2236 301.932 Q77.6217 301.932 79.9133 300.196 Q82.2281 298.46 82.2281 295.15 Q82.2281 292.094 80.0754 290.381 Q77.9457 288.645 74.1263 288.645 L70.0986 288.645 L70.0986 284.802 L74.3115 284.802 Q77.7606 284.802 79.5893 283.437 Q81.418 282.048 81.418 279.455 Q81.418 276.793 79.5198 275.381 Q77.6448 273.946 74.1263 273.946 Q72.205 273.946 70.006 274.363 Q67.8069 274.779 65.168 275.659 L65.168 271.492 Q67.8301 270.752 70.1449 270.381 Q72.4828 270.011 74.543 270.011 Q79.867 270.011 82.9689 272.441 Q86.0707 274.849 86.0707 278.969 Q86.0707 281.839 84.4272 283.83 Q82.7837 285.798 79.7513 286.562 Z\" fill=\"#000000\" fill-rule=\"evenodd\" fill-opacity=\"1\" /><path clip-path=\"url(#clip360)\" d=\"M 0 0 M447.401 12.096 L485.642 12.096 L485.642 18.9825 L455.584 18.9825 L455.584 36.8875 L484.386 36.8875 L484.386 43.7741 L455.584 43.7741 L455.584 65.6895 L486.371 65.6895 L486.371 72.576 L447.401 72.576 L447.401 12.096 Z\" fill=\"#000000\" fill-rule=\"evenodd\" fill-opacity=\"1\" /><path clip-path=\"url(#clip360)\" d=\"M 0 0 M488.842 27.2059 L496.741 27.2059 L510.919 65.2844 L525.098 27.2059 L532.997 27.2059 L515.983 72.576 L505.856 72.576 L488.842 27.2059 Z\" fill=\"#000000\" fill-rule=\"evenodd\" fill-opacity=\"1\" /><path clip-path=\"url(#clip360)\" d=\"M 0 0 M561.434 49.7694 Q552.401 49.7694 548.917 51.8354 Q545.433 53.9013 545.433 58.8839 Q545.433 62.8538 548.026 65.2034 Q550.659 67.5124 555.155 67.5124 Q561.353 67.5124 565.08 63.1374 Q568.847 58.7219 568.847 51.4303 L568.847 49.7694 L561.434 49.7694 M576.301 46.6907 L576.301 72.576 L568.847 72.576 L568.847 65.6895 Q566.295 69.8214 562.487 71.8063 Q558.68 73.7508 553.17 73.7508 Q546.203 73.7508 542.071 69.8619 Q537.98 65.9325 537.98 59.3701 Q537.98 51.7138 543.084 47.825 Q548.228 43.9361 558.396 43.9361 L568.847 43.9361 L568.847 43.2069 Q568.847 38.0623 565.445 35.2672 Q562.082 32.4315 555.966 32.4315 Q552.077 32.4315 548.39 33.3632 Q544.704 34.295 541.301 36.1584 L541.301 29.2718 Q545.393 27.692 549.241 26.9223 Q553.089 26.1121 556.735 26.1121 Q566.579 26.1121 571.44 31.2163 Q576.301 36.3204 576.301 46.6907 Z\" fill=\"#000000\" fill-rule=\"evenodd\" fill-opacity=\"1\" /><path clip-path=\"url(#clip360)\" d=\"M 0 0 M584.119 9.54393 L591.573 9.54393 L591.573 72.576 L584.119 72.576 L584.119 9.54393 Z\" fill=\"#000000\" fill-rule=\"evenodd\" fill-opacity=\"1\" /><path clip-path=\"url(#clip360)\" d=\"M 0 0 M598.622 54.671 L598.622 27.2059 L606.075 27.2059 L606.075 54.3874 Q606.075 60.8284 608.587 64.0691 Q611.098 67.2693 616.121 67.2693 Q622.157 67.2693 625.641 63.421 Q629.165 59.5726 629.165 52.9291 L629.165 27.2059 L636.619 27.2059 L636.619 72.576 L629.165 72.576 L629.165 65.6084 Q626.451 69.7404 622.846 71.7658 Q619.281 73.7508 614.542 73.7508 Q606.723 73.7508 602.672 68.8897 Q598.622 64.0286 598.622 54.671 M617.377 26.1121 L617.377 26.1121 Z\" fill=\"#000000\" fill-rule=\"evenodd\" fill-opacity=\"1\" /><path clip-path=\"url(#clip360)\" d=\"M 0 0 M651.81 14.324 L651.81 27.2059 L667.163 27.2059 L667.163 32.9987 L651.81 32.9987 L651.81 57.6282 Q651.81 63.1779 653.309 64.7578 Q654.848 66.3376 659.507 66.3376 L667.163 66.3376 L667.163 72.576 L659.507 72.576 Q650.878 72.576 647.597 69.3758 Q644.316 66.1351 644.316 57.6282 L644.316 32.9987 L638.847 32.9987 L638.847 27.2059 L644.316 27.2059 L644.316 14.324 L651.81 14.324 Z\" fill=\"#000000\" fill-rule=\"evenodd\" fill-opacity=\"1\" /><path clip-path=\"url(#clip360)\" d=\"M 0 0 M713.789 48.0275 L713.789 51.6733 L679.518 51.6733 Q680.004 59.3701 684.136 63.421 Q688.309 67.4314 695.722 67.4314 Q700.016 67.4314 704.026 66.3781 Q708.077 65.3249 712.047 63.2184 L712.047 70.267 Q708.036 71.9684 703.824 72.8596 Q699.611 73.7508 695.276 73.7508 Q684.42 73.7508 678.06 67.4314 Q671.74 61.1119 671.74 50.3365 Q671.74 39.1965 677.736 32.6746 Q683.772 26.1121 693.98 26.1121 Q703.135 26.1121 708.442 32.0264 Q713.789 37.9003 713.789 48.0275 M706.335 45.84 Q706.254 39.7232 702.892 36.0774 Q699.57 32.4315 694.061 32.4315 Q687.822 32.4315 684.055 35.9558 Q680.328 39.4801 679.761 45.8805 L706.335 45.84 Z\" fill=\"#000000\" fill-rule=\"evenodd\" fill-opacity=\"1\" /><path clip-path=\"url(#clip360)\" d=\"M 0 0 M751.462 34.0924 L751.462 9.54393 L758.916 9.54393 L758.916 72.576 L751.462 72.576 L751.462 65.7705 Q749.113 69.8214 745.507 71.8063 Q741.943 73.7508 736.919 73.7508 Q728.696 73.7508 723.511 67.1883 Q718.366 60.6258 718.366 49.9314 Q718.366 39.2371 723.511 32.6746 Q728.696 26.1121 736.919 26.1121 Q741.943 26.1121 745.507 28.0971 Q749.113 30.0415 751.462 34.0924 M726.063 49.9314 Q726.063 58.1548 729.425 62.8538 Q732.828 67.5124 738.742 67.5124 Q744.657 67.5124 748.059 62.8538 Q751.462 58.1548 751.462 49.9314 Q751.462 41.7081 748.059 37.0496 Q744.657 32.3505 738.742 32.3505 Q732.828 32.3505 729.425 37.0496 Q726.063 41.7081 726.063 49.9314 Z\" fill=\"#000000\" fill-rule=\"evenodd\" fill-opacity=\"1\" /><path clip-path=\"url(#clip360)\" d=\"M 0 0 M830.819 27.2059 L814.413 49.2833 L831.67 72.576 L822.88 72.576 L809.674 54.752 L796.468 72.576 L787.677 72.576 L805.299 48.8377 L789.176 27.2059 L797.967 27.2059 L809.998 43.369 L822.029 27.2059 L830.819 27.2059 Z\" fill=\"#000000\" fill-rule=\"evenodd\" fill-opacity=\"1\" /><path clip-path=\"url(#clip360)\" d=\"M 0 0 M860.513 27.2059 L868.412 27.2059 L882.59 65.2844 L896.768 27.2059 L904.667 27.2059 L887.654 72.576 L877.526 72.576 L860.513 27.2059 Z\" fill=\"#000000\" fill-rule=\"evenodd\" fill-opacity=\"1\" /><path clip-path=\"url(#clip360)\" d=\"M 0 0 M933.105 49.7694 Q924.071 49.7694 920.587 51.8354 Q917.104 53.9013 917.104 58.8839 Q917.104 62.8538 919.696 65.2034 Q922.329 67.5124 926.826 67.5124 Q933.024 67.5124 936.751 63.1374 Q940.518 58.7219 940.518 51.4303 L940.518 49.7694 L933.105 49.7694 M947.972 46.6907 L947.972 72.576 L940.518 72.576 L940.518 65.6895 Q937.966 69.8214 934.158 71.8063 Q930.35 73.7508 924.841 73.7508 Q917.873 73.7508 913.741 69.8619 Q909.65 65.9325 909.65 59.3701 Q909.65 51.7138 914.754 47.825 Q919.899 43.9361 930.067 43.9361 L940.518 43.9361 L940.518 43.2069 Q940.518 38.0623 937.115 35.2672 Q933.753 32.4315 927.636 32.4315 Q923.747 32.4315 920.061 33.3632 Q916.374 34.295 912.972 36.1584 L912.972 29.2718 Q917.063 27.692 920.911 26.9223 Q924.76 26.1121 928.406 26.1121 Q938.249 26.1121 943.11 31.2163 Q947.972 36.3204 947.972 46.6907 Z\" fill=\"#000000\" fill-rule=\"evenodd\" fill-opacity=\"1\" /><path clip-path=\"url(#clip360)\" d=\"M 0 0 M955.79 9.54393 L963.243 9.54393 L963.243 72.576 L955.79 72.576 L955.79 9.54393 Z\" fill=\"#000000\" fill-rule=\"evenodd\" fill-opacity=\"1\" /><path clip-path=\"url(#clip360)\" d=\"M 0 0 M970.292 54.671 L970.292 27.2059 L977.746 27.2059 L977.746 54.3874 Q977.746 60.8284 980.257 64.0691 Q982.769 67.2693 987.792 67.2693 Q993.828 67.2693 997.312 63.421 Q1000.84 59.5726 1000.84 52.9291 L1000.84 27.2059 L1008.29 27.2059 L1008.29 72.576 L1000.84 72.576 L1000.84 65.6084 Q998.122 69.7404 994.516 71.7658 Q990.952 73.7508 986.212 73.7508 Q978.394 73.7508 974.343 68.8897 Q970.292 64.0286 970.292 54.671 M989.048 26.1121 L989.048 26.1121 Z\" fill=\"#000000\" fill-rule=\"evenodd\" fill-opacity=\"1\" /><path clip-path=\"url(#clip360)\" d=\"M 0 0 M1054.92 48.0275 L1054.92 51.6733 L1020.64 51.6733 Q1021.13 59.3701 1025.26 63.421 Q1029.44 67.4314 1036.85 67.4314 Q1041.14 67.4314 1045.15 66.3781 Q1049.2 65.3249 1053.17 63.2184 L1053.17 70.267 Q1049.16 71.9684 1044.95 72.8596 Q1040.74 73.7508 1036.4 73.7508 Q1025.55 73.7508 1019.19 67.4314 Q1012.87 61.1119 1012.87 50.3365 Q1012.87 39.1965 1018.86 32.6746 Q1024.9 26.1121 1035.11 26.1121 Q1044.26 26.1121 1049.57 32.0264 Q1054.92 37.9003 1054.92 48.0275 M1047.46 45.84 Q1047.38 39.7232 1044.02 36.0774 Q1040.7 32.4315 1035.19 32.4315 Q1028.95 32.4315 1025.18 35.9558 Q1021.45 39.4801 1020.89 45.8805 L1047.46 45.84 Z\" fill=\"#000000\" fill-rule=\"evenodd\" fill-opacity=\"1\" /><path clip-path=\"url(#clip360)\" d=\"M 0 0 M1091.66 28.5427 L1091.66 35.5912 Q1088.5 33.9709 1085.09 33.1607 Q1081.69 32.3505 1078.05 32.3505 Q1072.5 32.3505 1069.7 34.0519 Q1066.95 35.7533 1066.95 39.156 Q1066.95 41.7486 1068.93 43.2475 Q1070.92 44.7058 1076.91 46.0426 L1079.46 46.6097 Q1087.4 48.3111 1090.73 51.4303 Q1094.09 54.509 1094.09 60.0587 Q1094.09 66.3781 1089.06 70.0644 Q1084.08 73.7508 1075.33 73.7508 Q1071.69 73.7508 1067.72 73.0216 Q1063.79 72.3329 1059.41 70.9151 L1059.41 63.2184 Q1063.54 65.3654 1067.55 66.4591 Q1071.56 67.5124 1075.49 67.5124 Q1080.76 67.5124 1083.6 65.73 Q1086.43 63.9071 1086.43 60.6258 Q1086.43 57.5877 1084.37 55.9673 Q1082.34 54.3469 1075.41 52.8481 L1072.82 52.2405 Q1065.89 50.7821 1062.81 47.7845 Q1059.74 44.7463 1059.74 39.4801 Q1059.74 33.0797 1064.27 29.5959 Q1068.81 26.1121 1077.15 26.1121 Q1081.29 26.1121 1084.93 26.7198 Q1088.58 27.3274 1091.66 28.5427 Z\" fill=\"#000000\" fill-rule=\"evenodd\" fill-opacity=\"1\" /><path clip-path=\"url(#clip360)\" d=\"M 0 0 M1148.9 49.7694 Q1139.86 49.7694 1136.38 51.8354 Q1132.9 53.9013 1132.9 58.8839 Q1132.9 62.8538 1135.49 65.2034 Q1138.12 67.5124 1142.62 67.5124 Q1148.82 67.5124 1152.54 63.1374 Q1156.31 58.7219 1156.31 51.4303 L1156.31 49.7694 L1148.9 49.7694 M1163.76 46.6907 L1163.76 72.576 L1156.31 72.576 L1156.31 65.6895 Q1153.76 69.8214 1149.95 71.8063 Q1146.14 73.7508 1140.63 73.7508 Q1133.66 73.7508 1129.53 69.8619 Q1125.44 65.9325 1125.44 59.3701 Q1125.44 51.7138 1130.55 47.825 Q1135.69 43.9361 1145.86 43.9361 L1156.31 43.9361 L1156.31 43.2069 Q1156.31 38.0623 1152.91 35.2672 Q1149.54 32.4315 1143.43 32.4315 Q1139.54 32.4315 1135.85 33.3632 Q1132.17 34.295 1128.76 36.1584 L1128.76 29.2718 Q1132.85 27.692 1136.7 26.9223 Q1140.55 26.1121 1144.2 26.1121 Q1154.04 26.1121 1158.9 31.2163 Q1163.76 36.3204 1163.76 46.6907 Z\" fill=\"#000000\" fill-rule=\"evenodd\" fill-opacity=\"1\" /><path clip-path=\"url(#clip360)\" d=\"M 0 0 M1220.92 9.54393 L1220.92 15.7418 L1213.79 15.7418 Q1209.78 15.7418 1208.2 17.3622 Q1206.66 18.9825 1206.66 23.1955 L1206.66 27.2059 L1218.94 27.2059 L1218.94 32.9987 L1206.66 32.9987 L1206.66 72.576 L1199.17 72.576 L1199.17 32.9987 L1192.04 32.9987 L1192.04 27.2059 L1199.17 27.2059 L1199.17 24.0462 Q1199.17 16.471 1202.69 13.0277 Q1206.22 9.54393 1213.87 9.54393 L1220.92 9.54393 Z\" fill=\"#000000\" fill-rule=\"evenodd\" fill-opacity=\"1\" /><path clip-path=\"url(#clip360)\" d=\"M 0 0 M1227.97 54.671 L1227.97 27.2059 L1235.42 27.2059 L1235.42 54.3874 Q1235.42 60.8284 1237.94 64.0691 Q1240.45 67.2693 1245.47 67.2693 Q1251.51 67.2693 1254.99 63.421 Q1258.51 59.5726 1258.51 52.9291 L1258.51 27.2059 L1265.97 27.2059 L1265.97 72.576 L1258.51 72.576 L1258.51 65.6084 Q1255.8 69.7404 1252.19 71.7658 Q1248.63 73.7508 1243.89 73.7508 Q1236.07 73.7508 1232.02 68.8897 Q1227.97 64.0286 1227.97 54.671 M1246.73 26.1121 L1246.73 26.1121 Z\" fill=\"#000000\" fill-rule=\"evenodd\" fill-opacity=\"1\" /><path clip-path=\"url(#clip360)\" d=\"M 0 0 M1311.5 45.1919 L1311.5 72.576 L1304.05 72.576 L1304.05 45.4349 Q1304.05 38.994 1301.53 35.7938 Q1299.02 32.5936 1294 32.5936 Q1287.96 32.5936 1284.48 36.4419 Q1281 40.2903 1281 46.9338 L1281 72.576 L1273.5 72.576 L1273.5 27.2059 L1281 27.2059 L1281 34.2544 Q1283.67 30.163 1287.28 28.1376 Q1290.92 26.1121 1295.66 26.1121 Q1303.48 26.1121 1307.49 30.9732 Q1311.5 35.7938 1311.5 45.1919 Z\" fill=\"#000000\" fill-rule=\"evenodd\" fill-opacity=\"1\" /><path clip-path=\"url(#clip360)\" d=\"M 0 0 M1351.97 28.9478 L1351.97 35.9153 Q1348.81 34.1734 1345.61 33.3227 Q1342.45 32.4315 1339.21 32.4315 Q1331.96 32.4315 1327.95 37.0496 Q1323.94 41.6271 1323.94 49.9314 Q1323.94 58.2358 1327.95 62.8538 Q1331.96 67.4314 1339.21 67.4314 Q1342.45 67.4314 1345.61 66.5807 Q1348.81 65.6895 1351.97 63.9476 L1351.97 70.8341 Q1348.85 72.2924 1345.49 73.0216 Q1342.17 73.7508 1338.4 73.7508 Q1328.15 73.7508 1322.11 67.3098 Q1316.08 60.8689 1316.08 49.9314 Q1316.08 38.832 1322.15 32.472 Q1328.27 26.1121 1338.88 26.1121 Q1342.33 26.1121 1345.61 26.8413 Q1348.89 27.5299 1351.97 28.9478 Z\" fill=\"#000000\" fill-rule=\"evenodd\" fill-opacity=\"1\" /><path clip-path=\"url(#clip360)\" d=\"M 0 0 M1367.16 14.324 L1367.16 27.2059 L1382.51 27.2059 L1382.51 32.9987 L1367.16 32.9987 L1367.16 57.6282 Q1367.16 63.1779 1368.66 64.7578 Q1370.2 66.3376 1374.86 66.3376 L1382.51 66.3376 L1382.51 72.576 L1374.86 72.576 Q1366.23 72.576 1362.95 69.3758 Q1359.66 66.1351 1359.66 57.6282 L1359.66 32.9987 L1354.2 32.9987 L1354.2 27.2059 L1359.66 27.2059 L1359.66 14.324 L1367.16 14.324 Z\" fill=\"#000000\" fill-rule=\"evenodd\" fill-opacity=\"1\" /><path clip-path=\"url(#clip360)\" d=\"M 0 0 M1390.33 27.2059 L1397.78 27.2059 L1397.78 72.576 L1390.33 72.576 L1390.33 27.2059 M1390.33 9.54393 L1397.78 9.54393 L1397.78 18.9825 L1390.33 18.9825 L1390.33 9.54393 Z\" fill=\"#000000\" fill-rule=\"evenodd\" fill-opacity=\"1\" /><path clip-path=\"url(#clip360)\" d=\"M 0 0 M1423.18 32.4315 Q1417.19 32.4315 1413.7 37.1306 Q1410.22 41.7891 1410.22 49.9314 Q1410.22 58.0738 1413.66 62.7728 Q1417.15 67.4314 1423.18 67.4314 Q1429.14 67.4314 1432.62 62.7323 Q1436.11 58.0333 1436.11 49.9314 Q1436.11 41.8701 1432.62 37.1711 Q1429.14 32.4315 1423.18 32.4315 M1423.18 26.1121 Q1432.91 26.1121 1438.46 32.4315 Q1444 38.7509 1444 49.9314 Q1444 61.0714 1438.46 67.4314 Q1432.91 73.7508 1423.18 73.7508 Q1413.42 73.7508 1407.87 67.4314 Q1402.36 61.0714 1402.36 49.9314 Q1402.36 38.7509 1407.87 32.4315 Q1413.42 26.1121 1423.18 26.1121 Z\" fill=\"#000000\" fill-rule=\"evenodd\" fill-opacity=\"1\" /><path clip-path=\"url(#clip360)\" d=\"M 0 0 M1489.54 45.1919 L1489.54 72.576 L1482.08 72.576 L1482.08 45.4349 Q1482.08 38.994 1479.57 35.7938 Q1477.06 32.5936 1472.04 32.5936 Q1466 32.5936 1462.52 36.4419 Q1459.03 40.2903 1459.03 46.9338 L1459.03 72.576 L1451.54 72.576 L1451.54 27.2059 L1459.03 27.2059 L1459.03 34.2544 Q1461.71 30.163 1465.31 28.1376 Q1468.96 26.1121 1473.7 26.1121 Q1481.52 26.1121 1485.53 30.9732 Q1489.54 35.7938 1489.54 45.1919 Z\" fill=\"#000000\" fill-rule=\"evenodd\" fill-opacity=\"1\" /><path clip-path=\"url(#clip360)\" d=\"M 0 0 M1541.31 32.4315 Q1535.31 32.4315 1531.83 37.1306 Q1528.34 41.7891 1528.34 49.9314 Q1528.34 58.0738 1531.79 62.7728 Q1535.27 67.4314 1541.31 67.4314 Q1547.26 67.4314 1550.75 62.7323 Q1554.23 58.0333 1554.23 49.9314 Q1554.23 41.8701 1550.75 37.1711 Q1547.26 32.4315 1541.31 32.4315 M1541.31 26.1121 Q1551.03 26.1121 1556.58 32.4315 Q1562.13 38.7509 1562.13 49.9314 Q1562.13 61.0714 1556.58 67.4314 Q1551.03 73.7508 1541.31 73.7508 Q1531.54 73.7508 1526 67.4314 Q1520.49 61.0714 1520.49 49.9314 Q1520.49 38.7509 1526 32.4315 Q1531.54 26.1121 1541.31 26.1121 Z\" fill=\"#000000\" fill-rule=\"evenodd\" fill-opacity=\"1\" /><path clip-path=\"url(#clip360)\" d=\"M 0 0 M1592.92 9.54393 L1592.92 15.7418 L1585.79 15.7418 Q1581.78 15.7418 1580.2 17.3622 Q1578.66 18.9825 1578.66 23.1955 L1578.66 27.2059 L1590.93 27.2059 L1590.93 32.9987 L1578.66 32.9987 L1578.66 72.576 L1571.16 72.576 L1571.16 32.9987 L1564.03 32.9987 L1564.03 27.2059 L1571.16 27.2059 L1571.16 24.0462 Q1571.16 16.471 1574.69 13.0277 Q1578.21 9.54393 1585.87 9.54393 L1592.92 9.54393 Z\" fill=\"#000000\" fill-rule=\"evenodd\" fill-opacity=\"1\" /><path clip-path=\"url(#clip360)\" d=\"M 0 0 M1627.11 27.2059 L1634.56 27.2059 L1634.56 72.576 L1627.11 72.576 L1627.11 27.2059 M1627.11 9.54393 L1634.56 9.54393 L1634.56 18.9825 L1627.11 18.9825 L1627.11 9.54393 Z\" fill=\"#000000\" fill-rule=\"evenodd\" fill-opacity=\"1\" /><path clip-path=\"url(#clip360)\" d=\"M 0 0 M1649.75 14.324 L1649.75 27.2059 L1665.1 27.2059 L1665.1 32.9987 L1649.75 32.9987 L1649.75 57.6282 Q1649.75 63.1779 1651.25 64.7578 Q1652.79 66.3376 1657.45 66.3376 L1665.1 66.3376 L1665.1 72.576 L1657.45 72.576 Q1648.82 72.576 1645.54 69.3758 Q1642.26 66.1351 1642.26 57.6282 L1642.26 32.9987 L1636.79 32.9987 L1636.79 27.2059 L1642.26 27.2059 L1642.26 14.324 L1649.75 14.324 Z\" fill=\"#000000\" fill-rule=\"evenodd\" fill-opacity=\"1\" /><path clip-path=\"url(#clip360)\" d=\"M 0 0 M1711.73 48.0275 L1711.73 51.6733 L1677.46 51.6733 Q1677.94 59.3701 1682.08 63.421 Q1686.25 67.4314 1693.66 67.4314 Q1697.96 67.4314 1701.97 66.3781 Q1706.02 65.3249 1709.99 63.2184 L1709.99 70.267 Q1705.98 71.9684 1701.76 72.8596 Q1697.55 73.7508 1693.22 73.7508 Q1682.36 73.7508 1676 67.4314 Q1669.68 61.1119 1669.68 50.3365 Q1669.68 39.1965 1675.68 32.6746 Q1681.71 26.1121 1691.92 26.1121 Q1701.08 26.1121 1706.38 32.0264 Q1711.73 37.9003 1711.73 48.0275 M1704.28 45.84 Q1704.19 39.7232 1700.83 36.0774 Q1697.51 32.4315 1692 32.4315 Q1685.76 32.4315 1682 35.9558 Q1678.27 39.4801 1677.7 45.8805 L1704.28 45.84 Z\" fill=\"#000000\" fill-rule=\"evenodd\" fill-opacity=\"1\" /><path clip-path=\"url(#clip360)\" d=\"M 0 0 M1745.84 34.1734 Q1744.58 33.4443 1743.08 33.1202 Q1741.62 32.7556 1739.84 32.7556 Q1733.52 32.7556 1730.12 36.8875 Q1726.76 40.9789 1726.76 48.6757 L1726.76 72.576 L1719.26 72.576 L1719.26 27.2059 L1726.76 27.2059 L1726.76 34.2544 Q1729.11 30.1225 1732.87 28.1376 Q1736.64 26.1121 1742.03 26.1121 Q1742.8 26.1121 1743.73 26.2337 Q1744.66 26.3147 1745.8 26.5172 L1745.84 34.1734 Z\" fill=\"#000000\" fill-rule=\"evenodd\" fill-opacity=\"1\" /><path clip-path=\"url(#clip360)\" d=\"M 0 0 M1774.27 49.7694 Q1765.24 49.7694 1761.76 51.8354 Q1758.27 53.9013 1758.27 58.8839 Q1758.27 62.8538 1760.87 65.2034 Q1763.5 67.5124 1768 67.5124 Q1774.19 67.5124 1777.92 63.1374 Q1781.69 58.7219 1781.69 51.4303 L1781.69 49.7694 L1774.27 49.7694 M1789.14 46.6907 L1789.14 72.576 L1781.69 72.576 L1781.69 65.6895 Q1779.14 69.8214 1775.33 71.8063 Q1771.52 73.7508 1766.01 73.7508 Q1759.04 73.7508 1754.91 69.8619 Q1750.82 65.9325 1750.82 59.3701 Q1750.82 51.7138 1755.92 47.825 Q1761.07 43.9361 1771.24 43.9361 L1781.69 43.9361 L1781.69 43.2069 Q1781.69 38.0623 1778.29 35.2672 Q1774.92 32.4315 1768.81 32.4315 Q1764.92 32.4315 1761.23 33.3632 Q1757.54 34.295 1754.14 36.1584 L1754.14 29.2718 Q1758.23 27.692 1762.08 26.9223 Q1765.93 26.1121 1769.58 26.1121 Q1779.42 26.1121 1784.28 31.2163 Q1789.14 36.3204 1789.14 46.6907 Z\" fill=\"#000000\" fill-rule=\"evenodd\" fill-opacity=\"1\" /><path clip-path=\"url(#clip360)\" d=\"M 0 0 M1804.33 14.324 L1804.33 27.2059 L1819.69 27.2059 L1819.69 32.9987 L1804.33 32.9987 L1804.33 57.6282 Q1804.33 63.1779 1805.83 64.7578 Q1807.37 66.3376 1812.03 66.3376 L1819.69 66.3376 L1819.69 72.576 L1812.03 72.576 Q1803.4 72.576 1800.12 69.3758 Q1796.84 66.1351 1796.84 57.6282 L1796.84 32.9987 L1791.37 32.9987 L1791.37 27.2059 L1796.84 27.2059 L1796.84 14.324 L1804.33 14.324 Z\" fill=\"#000000\" fill-rule=\"evenodd\" fill-opacity=\"1\" /><path clip-path=\"url(#clip360)\" d=\"M 0 0 M1827.5 27.2059 L1834.96 27.2059 L1834.96 72.576 L1827.5 72.576 L1827.5 27.2059 M1827.5 9.54393 L1834.96 9.54393 L1834.96 18.9825 L1827.5 18.9825 L1827.5 9.54393 Z\" fill=\"#000000\" fill-rule=\"evenodd\" fill-opacity=\"1\" /><path clip-path=\"url(#clip360)\" d=\"M 0 0 M1860.36 32.4315 Q1854.36 32.4315 1850.88 37.1306 Q1847.39 41.7891 1847.39 49.9314 Q1847.39 58.0738 1850.84 62.7728 Q1854.32 67.4314 1860.36 67.4314 Q1866.31 67.4314 1869.8 62.7323 Q1873.28 58.0333 1873.28 49.9314 Q1873.28 41.8701 1869.8 37.1711 Q1866.31 32.4315 1860.36 32.4315 M1860.36 26.1121 Q1870.08 26.1121 1875.63 32.4315 Q1881.18 38.7509 1881.18 49.9314 Q1881.18 61.0714 1875.63 67.4314 Q1870.08 73.7508 1860.36 73.7508 Q1850.59 73.7508 1845.04 67.4314 Q1839.54 61.0714 1839.54 49.9314 Q1839.54 38.7509 1845.04 32.4315 Q1850.59 26.1121 1860.36 26.1121 Z\" fill=\"#000000\" fill-rule=\"evenodd\" fill-opacity=\"1\" /><path clip-path=\"url(#clip360)\" d=\"M 0 0 M1926.71 45.1919 L1926.71 72.576 L1919.26 72.576 L1919.26 45.4349 Q1919.26 38.994 1916.75 35.7938 Q1914.23 32.5936 1909.21 32.5936 Q1903.17 32.5936 1899.69 36.4419 Q1896.21 40.2903 1896.21 46.9338 L1896.21 72.576 L1888.71 72.576 L1888.71 27.2059 L1896.21 27.2059 L1896.21 34.2544 Q1898.88 30.163 1902.49 28.1376 Q1906.13 26.1121 1910.87 26.1121 Q1918.69 26.1121 1922.7 30.9732 Q1926.71 35.7938 1926.71 45.1919 Z\" fill=\"#000000\" fill-rule=\"evenodd\" fill-opacity=\"1\" /><path clip-path=\"url(#clip360)\" d=\"M 0 0 M1995.49 36.0774 L1983.71 36.0774 L1980.3 49.6074 L1992.17 49.6074 L1995.49 36.0774 M1989.42 13.0277 L1985.21 29.839 L1997.03 29.839 L2001.29 13.0277 L2007.77 13.0277 L2003.6 29.839 L2016.24 29.839 L2016.24 36.0774 L2002.02 36.0774 L1998.7 49.6074 L2011.58 49.6074 L2011.58 55.8053 L1997.12 55.8053 L1992.9 72.576 L1986.42 72.576 L1990.59 55.8053 L1978.72 55.8053 L1974.55 72.576 L1968.03 72.576 L1972.24 55.8053 L1959.48 55.8053 L1959.48 49.6074 L1973.74 49.6074 L1977.14 36.0774 L1964.1 36.0774 L1964.1 29.839 L1978.72 29.839 L1982.86 13.0277 L1989.42 13.0277 Z\" fill=\"#000000\" fill-rule=\"evenodd\" fill-opacity=\"1\" /><polyline clip-path=\"url(#clip362)\" style=\"stroke:#009af9; stroke-width:16; stroke-opacity:1; fill:none\" points=\"\n  174.33,287.916 176.857,311.115 179.384,333.85 181.911,356.131 184.438,377.965 186.964,399.364 189.491,420.334 192.018,440.885 194.545,461.024 197.072,480.761 \n  199.599,500.104 202.126,519.059 204.652,537.635 207.179,555.84 209.706,573.681 212.233,591.164 214.76,608.299 217.287,625.09 219.814,641.546 222.34,657.672 \n  224.867,673.476 227.394,162.047 229.921,213.48 232.448,262.856 234.975,310.256 237.502,355.761 240.028,399.446 242.555,441.383 245.082,481.642 247.609,520.292 \n  250.136,557.395 252.663,593.014 255.189,627.208 257.716,660.035 260.243,691.548 262.77,721.801 265.297,750.844 267.824,778.725 270.351,805.491 272.877,831.187 \n  275.404,855.854 277.931,879.535 280.458,902.269 282.985,924.093 285.512,945.044 288.039,965.157 290.565,984.466 293.092,1003 295.619,1020.8 298.146,1037.88 \n  300.673,1054.28 303.2,1142.95 305.727,1149.05 308.253,1155.03 310.78,1160.88 313.307,1166.62 315.834,1172.25 318.361,1177.76 320.888,1183.16 323.415,1188.46 \n  325.941,1193.65 328.468,1198.73 330.995,1203.71 333.522,1208.6 336.049,1213.38 338.576,1218.07 341.103,1222.67 343.629,1227.17 346.156,1231.59 348.683,1235.91 \n  351.21,1240.15 353.737,1244.31 356.264,1248.38 358.79,1252.37 361.317,1256.28 363.844,1260.11 366.371,1263.86 368.898,1267.54 371.425,1271.15 373.952,1274.69 \n  376.478,1278.15 379.005,1281.54 381.532,1284.87 384.059,1288.13 386.586,1291.33 389.113,1294.46 391.64,1297.52 394.166,1300.53 396.693,1303.48 399.22,1306.37 \n  401.747,1309.2 404.274,1311.97 406.801,1314.69 409.328,1317.35 411.854,1319.96 414.381,1322.52 416.908,1325.03 419.435,1327.48 421.962,1329.89 424.489,1332.25 \n  427.016,1334.56 429.542,1336.83 432.069,1339.05 434.596,1341.23 437.123,1343.36 439.65,1345.45 442.177,1347.5 444.704,1349.51 447.23,1351.47 449.757,1353.4 \n  452.284,1355.29 454.811,1357.14 457.338,1358.96 459.865,1360.74 462.391,1362.48 464.918,1364.19 467.445,1365.86 469.972,1367.5 472.499,1369.11 475.026,1370.68 \n  477.553,1372.23 480.079,1373.74 482.606,1375.22 485.133,1376.68 487.66,1378.1 490.187,1379.5 492.714,1380.86 495.241,1382.2 497.767,1383.52 500.294,1384.8 \n  502.821,1386.06 505.348,1387.3 507.875,1388.51 510.402,1389.7 512.929,1390.86 515.455,1392 517.982,1393.12 520.509,1394.22 523.036,1395.29 525.563,1396.34 \n  528.09,1397.37 530.617,1398.38 533.143,1399.37 535.67,1400.34 538.197,1401.29 540.724,1402.22 543.251,1403.14 545.778,1404.03 548.305,1404.91 550.831,1405.77 \n  553.358,1406.61 555.885,1407.43 558.412,1408.24 560.939,1409.04 563.466,1409.81 565.992,1410.57 568.519,1411.32 571.046,1412.05 573.573,1412.77 576.1,1413.47 \n  578.627,1414.16 581.154,1414.83 583.68,1415.49 586.207,1416.14 588.734,1416.78 591.261,1417.4 593.788,1418.01 596.315,1418.6 598.842,1419.19 601.368,1419.76 \n  603.895,1420.33 606.422,1420.88 608.949,1421.42 611.476,1421.95 614.003,1422.46 616.53,1422.97 619.056,1423.47 621.583,1423.96 624.11,1424.44 626.637,1424.91 \n  629.164,1425.36 631.691,1425.81 634.218,1426.26 636.744,1426.69 639.271,1427.11 641.798,1427.53 644.325,1427.93 646.852,1428.33 649.379,1428.72 651.906,1429.11 \n  654.432,1429.48 656.959,1429.85 659.486,1430.21 662.013,1430.56 664.54,1430.91 667.067,1431.25 669.593,1431.58 672.12,1431.91 674.647,1432.23 677.174,1432.54 \n  679.701,1432.85 682.228,1433.15 684.755,1433.44 687.281,1433.73 689.808,1434.01 692.335,1434.29 694.862,1434.56 697.389,1434.83 699.916,1435.09 702.443,1435.34 \n  704.969,1435.59 707.496,1435.84 710.023,1436.08 712.55,1436.32 715.077,1436.55 717.604,1436.77 720.131,1437 722.657,1437.21 725.184,1437.43 727.711,1437.64 \n  730.238,1437.84 732.765,1438.04 735.292,1438.24 737.819,1438.43 740.345,1438.62 742.872,1438.8 745.399,1438.99 747.926,1439.16 750.453,1439.34 752.98,1439.51 \n  755.506,1439.68 758.033,1439.84 760.56,1440 763.087,1440.16 765.614,1440.31 768.141,1440.46 770.668,1440.61 773.194,1440.76 775.721,1440.9 778.248,1441.04 \n  780.775,1441.18 783.302,1441.31 785.829,1441.44 788.356,1441.57 790.882,1441.7 793.409,1441.82 795.936,1441.94 798.463,1442.06 800.99,1442.18 803.517,1442.29 \n  806.044,1442.4 808.57,1442.51 811.097,1442.62 813.624,1442.72 816.151,1442.83 818.678,1442.93 821.205,1443.03 823.732,1443.12 826.258,1443.22 828.785,1443.31 \n  831.312,1443.4 833.839,1443.49 836.366,1443.58 838.893,1443.66 841.42,1443.75 843.946,1443.83 846.473,1443.91 849,1443.99 851.527,1444.07 854.054,1444.15 \n  856.581,1444.22 859.107,1444.29 861.634,1444.36 864.161,1444.43 866.688,1444.5 869.215,1444.57 871.742,1444.64 874.269,1444.7 876.795,1444.76 879.322,1444.83 \n  881.849,1444.89 884.376,1444.95 886.903,1445.01 889.43,1445.06 891.957,1445.12 894.483,1445.17 897.01,1445.23 899.537,1445.28 902.064,1445.33 904.591,1445.38 \n  907.118,1445.43 909.645,1445.48 912.171,1445.53 914.698,1445.58 917.225,1445.62 919.752,1445.67 922.279,1445.71 924.806,1445.76 927.333,1445.8 929.859,1445.84 \n  932.386,1445.88 934.913,1445.92 937.44,1445.96 939.967,1446 942.494,1446.03 945.021,1446.07 947.547,1446.11 950.074,1446.14 952.601,1446.18 955.128,1446.21 \n  957.655,1446.24 960.182,1446.28 962.708,1446.31 965.235,1446.34 967.762,1446.37 970.289,1446.4 972.816,1446.43 975.343,1446.46 977.87,1446.49 980.396,1446.52 \n  982.923,1446.54 985.45,1446.57 987.977,1446.6 990.504,1446.62 993.031,1446.65 995.558,1446.67 998.084,1446.69 1000.61,1446.72 1003.14,1446.74 1005.67,1446.76 \n  1008.19,1446.79 1010.72,1446.81 1013.25,1446.83 1015.77,1446.85 1018.3,1446.87 1020.83,1446.89 1023.35,1446.91 1025.88,1446.93 1028.41,1446.95 1030.93,1446.97 \n  1033.46,1446.98 1035.99,1447 1038.51,1447.02 1041.04,1447.04 1043.57,1447.05 1046.09,1447.07 1048.62,1447.09 1051.15,1447.1 1053.68,1447.12 1056.2,1447.13 \n  1058.73,1447.15 1061.26,1447.16 1063.78,1447.18 1066.31,1447.19 1068.84,1447.2 1071.36,1447.22 1073.89,1447.23 1076.42,1447.24 1078.94,1447.26 1081.47,1447.27 \n  1084,1447.28 1086.52,1447.29 1089.05,1447.3 1091.58,1447.32 1094.1,1447.33 1096.63,1447.34 1099.16,1447.35 1101.69,1447.36 1104.21,1447.37 1106.74,1447.38 \n  1109.27,1447.39 1111.79,1447.4 1114.32,1447.41 1116.85,1447.42 1119.37,1447.43 1121.9,1447.44 1124.43,1447.44 1126.95,1447.45 1129.48,1447.46 1132.01,1447.47 \n  1134.53,1447.48 1137.06,1447.49 1139.59,1447.49 1142.12,1447.5 1144.64,1447.51 1147.17,1447.52 1149.7,1447.52 1152.22,1447.53 1154.75,1447.54 1157.28,1447.54 \n  1159.8,1447.55 1162.33,1447.56 1164.86,1447.56 1167.38,1447.57 1169.91,1447.57 1172.44,1447.58 1174.96,1447.59 1177.49,1447.59 1180.02,1447.6 1182.54,1447.6 \n  1185.07,1447.61 1187.6,1447.61 1190.13,1447.62 1192.65,1447.62 1195.18,1447.63 1197.71,1447.63 1200.23,1447.64 1202.76,1447.64 1205.29,1447.65 1207.81,1447.65 \n  1210.34,1447.66 1212.87,1447.66 1215.39,1447.67 1217.92,1447.67 1220.45,1447.67 1222.97,1447.68 1225.5,1447.68 1228.03,1447.69 1230.55,1447.69 1233.08,1447.69 \n  1235.61,1447.7 1238.14,1447.7 1240.66,1447.7 1243.19,1447.71 1245.72,1447.71 1248.24,1447.71 1250.77,1447.72 1253.3,1447.72 1255.82,1447.72 1258.35,1447.73 \n  1260.88,1447.73 1263.4,1447.73 1265.93,1447.73 1268.46,1447.74 1270.98,1447.74 1273.51,1447.74 1276.04,1447.75 1278.57,1447.75 1281.09,1447.75 1283.62,1447.75 \n  1286.15,1447.76 1288.67,1447.76 1291.2,1447.76 1293.73,1447.76 1296.25,1447.76 1298.78,1447.77 1301.31,1447.77 1303.83,1447.77 1306.36,1447.77 1308.89,1447.77 \n  1311.41,1447.78 1313.94,1447.78 1316.47,1447.78 1318.99,1447.78 1321.52,1447.78 1324.05,1447.79 1326.58,1447.79 1329.1,1447.79 1331.63,1447.79 1334.16,1447.79 \n  1336.68,1447.79 1339.21,1447.8 1341.74,1447.8 1344.26,1447.8 1346.79,1447.8 1349.32,1447.8 1351.84,1447.8 1354.37,1447.8 1356.9,1447.81 1359.42,1447.81 \n  1361.95,1447.81 1364.48,1447.81 1367.01,1447.81 1369.53,1447.81 1372.06,1447.81 1374.59,1447.82 1377.11,1447.82 1379.64,1447.82 1382.17,1447.82 1384.69,1447.82 \n  1387.22,1447.82 1389.75,1447.82 1392.27,1447.82 1394.8,1447.82 1397.33,1447.82 1399.85,1447.83 1402.38,1447.83 1404.91,1447.83 1407.43,1447.83 1409.96,1447.83 \n  1412.49,1447.83 1415.02,1447.83 1417.54,1447.83 1420.07,1447.83 1422.6,1447.83 1425.12,1447.83 1427.65,1447.84 1430.18,1447.84 1432.7,1447.84 1435.23,1447.84 \n  1437.76,1447.84 1440.28,1447.84 1442.81,1447.84 1445.34,1447.84 1447.86,1447.84 1450.39,1447.84 1452.92,1447.84 1455.44,1447.84 1457.97,1447.84 1460.5,1447.84 \n  1463.03,1447.84 1465.55,1447.85 1468.08,1447.85 1470.61,1447.85 1473.13,1447.85 1475.66,1447.85 1478.19,1447.85 1480.71,1447.85 1483.24,1447.85 1485.77,1447.85 \n  1488.29,1447.85 1490.82,1447.85 1493.35,1447.85 1495.87,1447.85 1498.4,1447.85 1500.93,1447.85 1503.46,1447.85 1505.98,1447.85 1508.51,1447.85 1511.04,1447.85 \n  1513.56,1447.85 1516.09,1447.85 1518.62,1447.85 1521.14,1447.86 1523.67,1447.86 1526.2,1447.86 1528.72,1447.86 1531.25,1447.86 1533.78,1447.86 1536.3,1447.86 \n  1538.83,1447.86 1541.36,1447.86 1543.88,1447.86 1546.41,1447.86 1548.94,1447.86 1551.47,1447.86 1553.99,1447.86 1556.52,1447.86 1559.05,1447.86 1561.57,1447.86 \n  1564.1,1447.86 1566.63,1447.86 1569.15,1447.86 1571.68,1447.86 1574.21,1447.86 1576.73,1447.86 1579.26,1447.86 1581.79,1447.86 1584.31,1447.86 1586.84,1447.86 \n  1589.37,1447.86 1591.9,1447.86 1594.42,1447.86 1596.95,1447.86 1599.48,1447.86 1602,1447.86 1604.53,1447.86 1607.06,1447.86 1609.58,1447.86 1612.11,1447.86 \n  1614.64,1447.86 1617.16,1447.86 1619.69,1447.86 1622.22,1447.87 1624.74,1447.87 1627.27,1447.87 1629.8,1447.87 1632.32,1447.87 1634.85,1447.87 1637.38,1447.87 \n  1639.91,1447.87 1642.43,1447.87 1644.96,1447.87 1647.49,1447.87 1650.01,1447.87 1652.54,1447.87 1655.07,1447.87 1657.59,1447.87 1660.12,1447.87 1662.65,1447.87 \n  1665.17,1447.87 1667.7,1447.87 1670.23,1447.87 1672.75,1447.87 1675.28,1447.87 1677.81,1447.87 1680.33,1447.87 1682.86,1447.87 1685.39,1447.87 1687.92,1447.87 \n  1690.44,1447.87 1692.97,1447.87 1695.5,1447.87 1698.02,1447.87 1700.55,1447.87 1703.08,1447.87 1705.6,1447.87 1708.13,1447.87 1710.66,1447.87 1713.18,1447.87 \n  1715.71,1447.87 1718.24,1447.87 1720.76,1447.87 1723.29,1447.87 1725.82,1447.87 1728.35,1447.87 1730.87,1447.87 1733.4,1447.87 1735.93,1447.87 1738.45,1447.87 \n  1740.98,1447.87 1743.51,1447.87 1746.03,1447.87 1748.56,1447.87 1751.09,1447.87 1753.61,1447.87 1756.14,1447.87 1758.67,1447.87 1761.19,1447.87 1763.72,1447.87 \n  1766.25,1447.87 1768.77,1447.87 1771.3,1447.87 1773.83,1447.87 1776.36,1447.87 1778.88,1447.87 1781.41,1447.87 1783.94,1447.87 1786.46,1447.87 1788.99,1447.87 \n  1791.52,1447.87 1794.04,1447.87 1796.57,1447.87 1799.1,1447.87 1801.62,1447.87 1804.15,1447.87 1806.68,1447.87 1809.2,1447.87 1811.73,1447.87 1814.26,1447.87 \n  1816.78,1447.87 1819.31,1447.87 1821.84,1447.87 1824.37,1447.87 1826.89,1447.87 1829.42,1447.87 1831.95,1447.87 1834.47,1447.87 1837,1447.87 1839.53,1447.87 \n  1842.05,1447.87 1844.58,1447.87 1847.11,1447.87 1849.63,1447.87 1852.16,1447.87 1854.69,1447.87 1857.21,1447.87 1859.74,1447.87 1862.27,1447.87 1864.8,1447.87 \n  1867.32,1447.87 1869.85,1447.87 1872.38,1447.87 1874.9,1447.87 1877.43,1447.87 1879.96,1447.87 1882.48,1447.87 1885.01,1447.87 1887.54,1447.87 1890.06,1447.87 \n  1892.59,1447.87 1895.12,1447.87 1897.64,1447.87 1900.17,1447.87 1902.7,1447.87 1905.22,1447.87 1907.75,1447.87 1910.28,1447.87 1912.81,1447.87 1915.33,1447.87 \n  1917.86,1447.87 1920.39,1447.87 1922.91,1447.87 1925.44,1447.87 1927.97,1447.87 1930.49,1447.87 1933.02,1447.87 1935.55,1447.87 1938.07,1447.87 1940.6,1447.87 \n  1943.13,1447.87 1945.65,1447.87 1948.18,1447.87 1950.71,1447.87 1953.24,1447.87 1955.76,1447.87 1958.29,1447.87 1960.82,1447.87 1963.34,1447.87 1965.87,1447.87 \n  1968.4,1447.87 1970.92,1447.87 1973.45,1447.87 1975.98,1447.87 1978.5,1447.87 1981.03,1447.87 1983.56,1447.87 1986.08,1447.87 1988.61,1447.87 1991.14,1447.87 \n  1993.66,1447.87 1996.19,1447.87 1998.72,1447.87 2001.25,1447.87 2003.77,1447.87 2006.3,1447.87 2008.83,1447.87 2011.35,1447.87 2013.88,1447.87 2016.41,1447.87 \n  2018.93,1447.87 2021.46,1447.87 2023.99,1447.87 2026.51,1447.87 2029.04,1447.87 2031.57,1447.87 2034.09,1447.87 2036.62,1447.87 2039.15,1447.87 2041.67,1447.87 \n  2044.2,1447.87 2046.73,1447.87 2049.26,1447.87 2051.78,1447.87 2054.31,1447.87 2056.84,1447.87 2059.36,1447.87 2061.89,1447.87 2064.42,1447.87 2066.94,1447.87 \n  2069.47,1447.87 2072,1447.87 2074.52,1447.87 2077.05,1447.87 2079.58,1447.87 2082.1,1447.87 2084.63,1447.87 2087.16,1447.87 2089.69,1447.87 2092.21,1447.87 \n  2094.74,1447.87 2097.27,1447.87 2099.79,1447.87 2102.32,1447.87 2104.85,1447.87 2107.37,1447.87 2109.9,1447.87 2112.43,1447.87 2114.95,1447.87 2117.48,1447.87 \n  2120.01,1447.87 2122.53,1447.87 2125.06,1447.87 2127.59,1447.87 2130.11,1447.87 2132.64,1447.87 2135.17,1447.87 2137.7,1447.87 2140.22,1447.87 2142.75,1447.87 \n  2145.28,1447.87 2147.8,1447.87 2150.33,1447.87 2152.86,1447.87 2155.38,1447.87 2157.91,1447.87 2160.44,1447.87 2162.96,1447.87 2165.49,1447.87 2168.02,1447.87 \n  2170.54,1447.87 2173.07,1447.87 2175.6,1447.87 2178.13,1447.87 2180.65,1447.87 2183.18,1447.87 2185.71,1447.87 2188.23,1447.87 2190.76,1447.87 2193.29,1447.87 \n  2195.81,1447.87 2198.34,1447.87 2200.87,1447.87 2203.39,1447.87 2205.92,1447.87 2208.45,1447.87 2210.97,1447.87 2213.5,1447.87 2216.03,1447.87 2218.55,1447.87 \n  2221.08,1447.87 2223.61,1447.87 2226.14,1447.87 2228.66,1447.87 2231.19,1447.87 2233.72,1447.87 2236.24,1447.87 2238.77,1447.87 2241.3,1447.87 2243.82,1447.87 \n  2246.35,1447.87 2248.88,1447.87 2251.4,1447.87 2253.93,1447.87 2256.46,1447.87 2258.98,1447.87 2261.51,1447.87 2264.04,1447.87 2266.56,1447.87 2269.09,1447.87 \n  2271.62,1447.87 2274.15,1447.87 2276.67,1447.87 2279.2,1447.87 2281.73,1447.87 2284.25,1447.87 2286.78,1447.87 2289.31,1447.87 \n  \"/>\n<path clip-path=\"url(#clip360)\" d=\"\nM1989.74 327.952 L2280.76 327.952 L2280.76 206.992 L1989.74 206.992  Z\n  \" fill=\"#ffffff\" fill-rule=\"evenodd\" fill-opacity=\"1\"/>\n<polyline clip-path=\"url(#clip360)\" style=\"stroke:#000000; stroke-width:4; stroke-opacity:1; fill:none\" points=\"\n  1989.74,327.952 2280.76,327.952 2280.76,206.992 1989.74,206.992 1989.74,327.952 \n  \"/>\n<polyline clip-path=\"url(#clip360)\" style=\"stroke:#009af9; stroke-width:4; stroke-opacity:1; fill:none\" points=\"\n  2013.74,267.472 2157.74,267.472 \n  \"/>\n<path clip-path=\"url(#clip360)\" d=\"M 0 0 M2195.58 287.16 Q2193.77 291.789 2192.06 293.201 Q2190.35 294.613 2187.48 294.613 L2184.08 294.613 L2184.08 291.048 L2186.58 291.048 Q2188.33 291.048 2189.31 290.215 Q2190.28 289.382 2191.46 286.28 L2192.22 284.335 L2181.74 258.826 L2186.25 258.826 L2194.35 279.104 L2202.46 258.826 L2206.97 258.826 L2195.58 287.16 Z\" fill=\"#000000\" fill-rule=\"evenodd\" fill-opacity=\"1\" /><path clip-path=\"url(#clip360)\" d=\"M 0 0 M2212.85 280.817 L2220.49 280.817 L2220.49 254.451 L2212.18 256.118 L2212.18 251.859 L2220.44 250.192 L2225.12 250.192 L2225.12 280.817 L2232.76 280.817 L2232.76 284.752 L2212.85 284.752 L2212.85 280.817 Z\" fill=\"#000000\" fill-rule=\"evenodd\" fill-opacity=\"1\" /></svg>\n"
     },
     "execution_count": 370,
     "metadata": {},
     "output_type": "execute_result"
    }
   ],
   "source": [
    "\n",
    "@time x, xs,dydx_list = find_a_min(my_function2);\n",
    "plot(dydx_list, lw = 4, title = \"Evaluted x values a function of iteration #\")"
   ]
  },
  {
   "cell_type": "code",
   "execution_count": 283,
   "metadata": {},
   "outputs": [
    {
     "data": {
      "text/plain": [
       "find_a_min_momentum (generic function with 2 methods)"
      ]
     },
     "execution_count": 283,
     "metadata": {},
     "output_type": "execute_result"
    }
   ],
   "source": [
    "function find_a_min_momentum(funct_input, start = 1)\n",
    "    f_dydx = derivative(funct_input)\n",
    "    # # println(\"found f_dydx\")\n",
    "    # trial_x =[x for x in  range(-20,stop = 20)]\n",
    "    # y = funct_input.(trial_x) # NOTE the dot for element wise computation\n",
    "    # idx = argmin(y)\n",
    "    x_i = start # trial_x[idx] # x sub i\n",
    "    # println(\"argmin is $idx with x value of $x_i\")\n",
    "    step = 1e-1\n",
    "    m_t = 0\n",
    "    m_t_minus_1 = 0\n",
    "    beta = 0.5\n",
    "    eps_ = 1e-7\n",
    "    x_list = []\n",
    "    for i in range(1,length = 3000)\n",
    "        # get the gradient\n",
    "        dydx = f_dydx(x_i)\n",
    "        if abs(dydx)<eps_\n",
    "            println(\"Found a min at $x_i. Iteration $i\")\n",
    "            return x_i,x_list\n",
    "        end\n",
    "        m_t = beta*m_t_minus_1+(1-beta)*dydx\n",
    "        x_delta = -m_t*step # step in the negative gradient\n",
    "        x_i = x_i+x_delta\n",
    "        m_t_minus_1 = m_t\n",
    "        push!(x_list, x_i)\n",
    "\n",
    "\n",
    "    end\n",
    "\n",
    "    println(\"Did NOT terminate. x =  $x_i\")\n",
    "    return x_i,x_list\n",
    "end"
   ]
  },
  {
   "cell_type": "code",
   "execution_count": 284,
   "metadata": {},
   "outputs": [
    {
     "name": "stdout",
     "output_type": "stream",
     "text": [
      "Found a min at -0.49999999971101844. Iteration 42\n",
      "  0.016712 seconds (47.75 k allocations: 2.563 MiB)\n"
     ]
    }
   ],
   "source": [
    "@time x, xs = find_a_min_momentum(my_function);"
   ]
  },
  {
   "cell_type": "code",
   "execution_count": 285,
   "metadata": {},
   "outputs": [
    {
     "data": {
      "image/svg+xml": "<?xml version=\"1.0\" encoding=\"utf-8\"?>\n<svg xmlns=\"http://www.w3.org/2000/svg\" xmlns:xlink=\"http://www.w3.org/1999/xlink\" width=\"600\" height=\"400\" viewBox=\"0 0 2400 1600\">\n<defs>\n  <clipPath id=\"clip480\">\n    <rect x=\"0\" y=\"0\" width=\"2400\" height=\"1600\"/>\n  </clipPath>\n</defs>\n<path clip-path=\"url(#clip480)\" d=\"\nM0 1600 L2400 1600 L2400 0 L0 0  Z\n  \" fill=\"#ffffff\" fill-rule=\"evenodd\" fill-opacity=\"1\"/>\n<defs>\n  <clipPath id=\"clip481\">\n    <rect x=\"480\" y=\"0\" width=\"1681\" height=\"1600\"/>\n  </clipPath>\n</defs>\n<path clip-path=\"url(#clip480)\" d=\"\nM162.802 1486.45 L2352.76 1486.45 L2352.76 123.472 L162.802 123.472  Z\n  \" fill=\"#ffffff\" fill-rule=\"evenodd\" fill-opacity=\"1\"/>\n<defs>\n  <clipPath id=\"clip482\">\n    <rect x=\"162\" y=\"123\" width=\"2191\" height=\"1364\"/>\n  </clipPath>\n</defs>\n<polyline clip-path=\"url(#clip482)\" style=\"stroke:#000000; stroke-width:2; stroke-opacity:0.1; fill:none\" points=\"\n  173.132,1486.45 173.132,123.472 \n  \"/>\n<polyline clip-path=\"url(#clip482)\" style=\"stroke:#000000; stroke-width:2; stroke-opacity:0.1; fill:none\" points=\"\n  689.63,1486.45 689.63,123.472 \n  \"/>\n<polyline clip-path=\"url(#clip482)\" style=\"stroke:#000000; stroke-width:2; stroke-opacity:0.1; fill:none\" points=\"\n  1206.13,1486.45 1206.13,123.472 \n  \"/>\n<polyline clip-path=\"url(#clip482)\" style=\"stroke:#000000; stroke-width:2; stroke-opacity:0.1; fill:none\" points=\"\n  1722.63,1486.45 1722.63,123.472 \n  \"/>\n<polyline clip-path=\"url(#clip482)\" style=\"stroke:#000000; stroke-width:2; stroke-opacity:0.1; fill:none\" points=\"\n  2239.13,1486.45 2239.13,123.472 \n  \"/>\n<polyline clip-path=\"url(#clip482)\" style=\"stroke:#000000; stroke-width:2; stroke-opacity:0.1; fill:none\" points=\"\n  162.802,1256.81 2352.76,1256.81 \n  \"/>\n<polyline clip-path=\"url(#clip482)\" style=\"stroke:#000000; stroke-width:2; stroke-opacity:0.1; fill:none\" points=\"\n  162.802,971.22 2352.76,971.22 \n  \"/>\n<polyline clip-path=\"url(#clip482)\" style=\"stroke:#000000; stroke-width:2; stroke-opacity:0.1; fill:none\" points=\"\n  162.802,685.629 2352.76,685.629 \n  \"/>\n<polyline clip-path=\"url(#clip482)\" style=\"stroke:#000000; stroke-width:2; stroke-opacity:0.1; fill:none\" points=\"\n  162.802,400.039 2352.76,400.039 \n  \"/>\n<polyline clip-path=\"url(#clip480)\" style=\"stroke:#000000; stroke-width:4; stroke-opacity:1; fill:none\" points=\"\n  162.802,1486.45 2352.76,1486.45 \n  \"/>\n<polyline clip-path=\"url(#clip480)\" style=\"stroke:#000000; stroke-width:4; stroke-opacity:1; fill:none\" points=\"\n  162.802,1486.45 162.802,123.472 \n  \"/>\n<polyline clip-path=\"url(#clip480)\" style=\"stroke:#000000; stroke-width:4; stroke-opacity:1; fill:none\" points=\"\n  173.132,1486.45 173.132,1470.09 \n  \"/>\n<polyline clip-path=\"url(#clip480)\" style=\"stroke:#000000; stroke-width:4; stroke-opacity:1; fill:none\" points=\"\n  689.63,1486.45 689.63,1470.09 \n  \"/>\n<polyline clip-path=\"url(#clip480)\" style=\"stroke:#000000; stroke-width:4; stroke-opacity:1; fill:none\" points=\"\n  1206.13,1486.45 1206.13,1470.09 \n  \"/>\n<polyline clip-path=\"url(#clip480)\" style=\"stroke:#000000; stroke-width:4; stroke-opacity:1; fill:none\" points=\"\n  1722.63,1486.45 1722.63,1470.09 \n  \"/>\n<polyline clip-path=\"url(#clip480)\" style=\"stroke:#000000; stroke-width:4; stroke-opacity:1; fill:none\" points=\"\n  2239.13,1486.45 2239.13,1470.09 \n  \"/>\n<polyline clip-path=\"url(#clip480)\" style=\"stroke:#000000; stroke-width:4; stroke-opacity:1; fill:none\" points=\"\n  162.802,1256.81 189.081,1256.81 \n  \"/>\n<polyline clip-path=\"url(#clip480)\" style=\"stroke:#000000; stroke-width:4; stroke-opacity:1; fill:none\" points=\"\n  162.802,971.22 189.081,971.22 \n  \"/>\n<polyline clip-path=\"url(#clip480)\" style=\"stroke:#000000; stroke-width:4; stroke-opacity:1; fill:none\" points=\"\n  162.802,685.629 189.081,685.629 \n  \"/>\n<polyline clip-path=\"url(#clip480)\" style=\"stroke:#000000; stroke-width:4; stroke-opacity:1; fill:none\" points=\"\n  162.802,400.039 189.081,400.039 \n  \"/>\n<path clip-path=\"url(#clip480)\" d=\"M 0 0 M173.132 1508.44 Q169.521 1508.44 167.692 1512 Q165.887 1515.55 165.887 1522.67 Q165.887 1529.78 167.692 1533.35 Q169.521 1536.89 173.132 1536.89 Q176.766 1536.89 178.572 1533.35 Q180.4 1529.78 180.4 1522.67 Q180.4 1515.55 178.572 1512 Q176.766 1508.44 173.132 1508.44 M173.132 1504.73 Q178.942 1504.73 181.998 1509.34 Q185.076 1513.92 185.076 1522.67 Q185.076 1531.4 181.998 1536.01 Q178.942 1540.59 173.132 1540.59 Q167.322 1540.59 164.243 1536.01 Q161.187 1531.4 161.187 1522.67 Q161.187 1513.92 164.243 1509.34 Q167.322 1504.73 173.132 1504.73 Z\" fill=\"#000000\" fill-rule=\"evenodd\" fill-opacity=\"1\" /><path clip-path=\"url(#clip480)\" d=\"M 0 0 M666.506 1535.98 L674.144 1535.98 L674.144 1509.62 L665.834 1511.29 L665.834 1507.03 L674.098 1505.36 L678.774 1505.36 L678.774 1535.98 L686.413 1535.98 L686.413 1539.92 L666.506 1539.92 L666.506 1535.98 Z\" fill=\"#000000\" fill-rule=\"evenodd\" fill-opacity=\"1\" /><path clip-path=\"url(#clip480)\" d=\"M 0 0 M701.482 1508.44 Q697.871 1508.44 696.042 1512 Q694.237 1515.55 694.237 1522.67 Q694.237 1529.78 696.042 1533.35 Q697.871 1536.89 701.482 1536.89 Q705.116 1536.89 706.922 1533.35 Q708.751 1529.78 708.751 1522.67 Q708.751 1515.55 706.922 1512 Q705.116 1508.44 701.482 1508.44 M701.482 1504.73 Q707.292 1504.73 710.348 1509.34 Q713.427 1513.92 713.427 1522.67 Q713.427 1531.4 710.348 1536.01 Q707.292 1540.59 701.482 1540.59 Q695.672 1540.59 692.593 1536.01 Q689.538 1531.4 689.538 1522.67 Q689.538 1513.92 692.593 1509.34 Q695.672 1504.73 701.482 1504.73 Z\" fill=\"#000000\" fill-rule=\"evenodd\" fill-opacity=\"1\" /><path clip-path=\"url(#clip480)\" d=\"M 0 0 M1187.27 1535.98 L1203.59 1535.98 L1203.59 1539.92 L1181.65 1539.92 L1181.65 1535.98 Q1184.31 1533.23 1188.9 1528.6 Q1193.5 1523.95 1194.68 1522.61 Q1196.93 1520.08 1197.81 1518.35 Q1198.71 1516.59 1198.71 1514.9 Q1198.71 1512.14 1196.77 1510.41 Q1194.84 1508.67 1191.74 1508.67 Q1189.54 1508.67 1187.09 1509.43 Q1184.66 1510.2 1181.88 1511.75 L1181.88 1507.03 Q1184.71 1505.89 1187.16 1505.31 Q1189.61 1504.73 1191.65 1504.73 Q1197.02 1504.73 1200.21 1507.42 Q1203.41 1510.11 1203.41 1514.6 Q1203.41 1516.73 1202.6 1518.65 Q1201.81 1520.54 1199.71 1523.14 Q1199.13 1523.81 1196.02 1527.03 Q1192.92 1530.22 1187.27 1535.98 Z\" fill=\"#000000\" fill-rule=\"evenodd\" fill-opacity=\"1\" /><path clip-path=\"url(#clip480)\" d=\"M 0 0 M1218.66 1508.44 Q1215.05 1508.44 1213.22 1512 Q1211.42 1515.55 1211.42 1522.67 Q1211.42 1529.78 1213.22 1533.35 Q1215.05 1536.89 1218.66 1536.89 Q1222.3 1536.89 1224.1 1533.35 Q1225.93 1529.78 1225.93 1522.67 Q1225.93 1515.55 1224.1 1512 Q1222.3 1508.44 1218.66 1508.44 M1218.66 1504.73 Q1224.47 1504.73 1227.53 1509.34 Q1230.61 1513.92 1230.61 1522.67 Q1230.61 1531.4 1227.53 1536.01 Q1224.47 1540.59 1218.66 1540.59 Q1212.85 1540.59 1209.77 1536.01 Q1206.72 1531.4 1206.72 1522.67 Q1206.72 1513.92 1209.77 1509.34 Q1212.85 1504.73 1218.66 1504.73 Z\" fill=\"#000000\" fill-rule=\"evenodd\" fill-opacity=\"1\" /><path clip-path=\"url(#clip480)\" d=\"M 0 0 M1713.37 1521.29 Q1716.72 1522 1718.6 1524.27 Q1720.5 1526.54 1720.5 1529.87 Q1720.5 1534.99 1716.98 1537.79 Q1713.46 1540.59 1706.98 1540.59 Q1704.8 1540.59 1702.49 1540.15 Q1700.2 1539.73 1697.74 1538.88 L1697.74 1534.36 Q1699.69 1535.5 1702 1536.08 Q1704.32 1536.66 1706.84 1536.66 Q1711.24 1536.66 1713.53 1534.92 Q1715.85 1533.18 1715.85 1529.87 Q1715.85 1526.82 1713.69 1525.11 Q1711.56 1523.37 1707.74 1523.37 L1703.72 1523.37 L1703.72 1519.53 L1707.93 1519.53 Q1711.38 1519.53 1713.21 1518.16 Q1715.04 1516.77 1715.04 1514.18 Q1715.04 1511.52 1713.14 1510.11 Q1711.26 1508.67 1707.74 1508.67 Q1705.82 1508.67 1703.62 1509.09 Q1701.42 1509.5 1698.79 1510.38 L1698.79 1506.22 Q1701.45 1505.48 1703.76 1505.11 Q1706.1 1504.73 1708.16 1504.73 Q1713.48 1504.73 1716.59 1507.17 Q1719.69 1509.57 1719.69 1513.69 Q1719.69 1516.56 1718.04 1518.55 Q1716.4 1520.52 1713.37 1521.29 Z\" fill=\"#000000\" fill-rule=\"evenodd\" fill-opacity=\"1\" /><path clip-path=\"url(#clip480)\" d=\"M 0 0 M1735.57 1508.44 Q1731.96 1508.44 1730.13 1512 Q1728.32 1515.55 1728.32 1522.67 Q1728.32 1529.78 1730.13 1533.35 Q1731.96 1536.89 1735.57 1536.89 Q1739.2 1536.89 1741.01 1533.35 Q1742.84 1529.78 1742.84 1522.67 Q1742.84 1515.55 1741.01 1512 Q1739.2 1508.44 1735.57 1508.44 M1735.57 1504.73 Q1741.38 1504.73 1744.43 1509.34 Q1747.51 1513.92 1747.51 1522.67 Q1747.51 1531.4 1744.43 1536.01 Q1741.38 1540.59 1735.57 1540.59 Q1729.76 1540.59 1726.68 1536.01 Q1723.62 1531.4 1723.62 1522.67 Q1723.62 1513.92 1726.68 1509.34 Q1729.76 1504.73 1735.57 1504.73 Z\" fill=\"#000000\" fill-rule=\"evenodd\" fill-opacity=\"1\" /><path clip-path=\"url(#clip480)\" d=\"M 0 0 M2228.63 1509.43 L2216.82 1527.88 L2228.63 1527.88 L2228.63 1509.43 M2227.4 1505.36 L2233.28 1505.36 L2233.28 1527.88 L2238.21 1527.88 L2238.21 1531.77 L2233.28 1531.77 L2233.28 1539.92 L2228.63 1539.92 L2228.63 1531.77 L2213.03 1531.77 L2213.03 1527.26 L2227.4 1505.36 Z\" fill=\"#000000\" fill-rule=\"evenodd\" fill-opacity=\"1\" /><path clip-path=\"url(#clip480)\" d=\"M 0 0 M2253.28 1508.44 Q2249.67 1508.44 2247.84 1512 Q2246.04 1515.55 2246.04 1522.67 Q2246.04 1529.78 2247.84 1533.35 Q2249.67 1536.89 2253.28 1536.89 Q2256.92 1536.89 2258.72 1533.35 Q2260.55 1529.78 2260.55 1522.67 Q2260.55 1515.55 2258.72 1512 Q2256.92 1508.44 2253.28 1508.44 M2253.28 1504.73 Q2259.09 1504.73 2262.15 1509.34 Q2265.23 1513.92 2265.23 1522.67 Q2265.23 1531.4 2262.15 1536.01 Q2259.09 1540.59 2253.28 1540.59 Q2247.47 1540.59 2244.39 1536.01 Q2241.34 1531.4 2241.34 1522.67 Q2241.34 1513.92 2244.39 1509.34 Q2247.47 1504.73 2253.28 1504.73 Z\" fill=\"#000000\" fill-rule=\"evenodd\" fill-opacity=\"1\" /><path clip-path=\"url(#clip480)\" d=\"M 0 0 M62.9921 1259.21 L75.4689 1259.21 L75.4689 1263 L62.9921 1263 L62.9921 1259.21 Z\" fill=\"#000000\" fill-rule=\"evenodd\" fill-opacity=\"1\" /><path clip-path=\"url(#clip480)\" d=\"M 0 0 M90.5383 1242.61 Q86.9272 1242.61 85.0985 1246.17 Q83.2929 1249.72 83.2929 1256.84 Q83.2929 1263.95 85.0985 1267.52 Q86.9272 1271.06 90.5383 1271.06 Q94.1725 1271.06 95.9781 1267.52 Q97.8068 1263.95 97.8068 1256.84 Q97.8068 1249.72 95.9781 1246.17 Q94.1725 1242.61 90.5383 1242.61 M90.5383 1238.91 Q96.3484 1238.91 99.404 1243.51 Q102.483 1248.09 102.483 1256.84 Q102.483 1265.57 99.404 1270.18 Q96.3484 1274.76 90.5383 1274.76 Q84.7281 1274.76 81.6494 1270.18 Q78.5939 1265.57 78.5939 1256.84 Q78.5939 1248.09 81.6494 1243.51 Q84.7281 1238.91 90.5383 1238.91 Z\" fill=\"#000000\" fill-rule=\"evenodd\" fill-opacity=\"1\" /><path clip-path=\"url(#clip480)\" d=\"M 0 0 M107.552 1268.21 L112.436 1268.21 L112.436 1274.09 L107.552 1274.09 L107.552 1268.21 Z\" fill=\"#000000\" fill-rule=\"evenodd\" fill-opacity=\"1\" /><path clip-path=\"url(#clip480)\" d=\"M 0 0 M131.672 1255.46 Q135.029 1256.17 136.904 1258.44 Q138.802 1260.71 138.802 1264.04 Q138.802 1269.16 135.283 1271.96 Q131.765 1274.76 125.283 1274.76 Q123.108 1274.76 120.793 1274.32 Q118.501 1273.9 116.047 1273.05 L116.047 1268.53 Q117.992 1269.67 120.307 1270.25 Q122.621 1270.83 125.145 1270.83 Q129.543 1270.83 131.834 1269.09 Q134.149 1267.35 134.149 1264.04 Q134.149 1260.99 131.996 1259.28 Q129.867 1257.54 126.047 1257.54 L122.02 1257.54 L122.02 1253.7 L126.233 1253.7 Q129.682 1253.7 131.51 1252.33 Q133.339 1250.94 133.339 1248.35 Q133.339 1245.69 131.441 1244.28 Q129.566 1242.84 126.047 1242.84 Q124.126 1242.84 121.927 1243.26 Q119.728 1243.67 117.089 1244.55 L117.089 1240.39 Q119.751 1239.65 122.066 1239.28 Q124.404 1238.91 126.464 1238.91 Q131.788 1238.91 134.89 1241.34 Q137.992 1243.74 137.992 1247.86 Q137.992 1250.73 136.348 1252.72 Q134.705 1254.69 131.672 1255.46 Z\" fill=\"#000000\" fill-rule=\"evenodd\" fill-opacity=\"1\" /><path clip-path=\"url(#clip480)\" d=\"M 0 0 M89.8901 957.018 Q86.279 957.018 84.4503 960.583 Q82.6448 964.125 82.6448 971.254 Q82.6448 978.361 84.4503 981.926 Q86.279 985.467 89.8901 985.467 Q93.5244 985.467 95.3299 981.926 Q97.1586 978.361 97.1586 971.254 Q97.1586 964.125 95.3299 960.583 Q93.5244 957.018 89.8901 957.018 M89.8901 953.315 Q95.7003 953.315 98.7558 957.921 Q101.835 962.504 101.835 971.254 Q101.835 979.981 98.7558 984.588 Q95.7003 989.171 89.8901 989.171 Q84.08 989.171 81.0013 984.588 Q77.9457 979.981 77.9457 971.254 Q77.9457 962.504 81.0013 957.921 Q84.08 953.315 89.8901 953.315 Z\" fill=\"#000000\" fill-rule=\"evenodd\" fill-opacity=\"1\" /><path clip-path=\"url(#clip480)\" d=\"M 0 0 M106.904 982.62 L111.788 982.62 L111.788 988.5 L106.904 988.5 L106.904 982.62 Z\" fill=\"#000000\" fill-rule=\"evenodd\" fill-opacity=\"1\" /><path clip-path=\"url(#clip480)\" d=\"M 0 0 M126.858 957.018 Q123.246 957.018 121.418 960.583 Q119.612 964.125 119.612 971.254 Q119.612 978.361 121.418 981.926 Q123.246 985.467 126.858 985.467 Q130.492 985.467 132.297 981.926 Q134.126 978.361 134.126 971.254 Q134.126 964.125 132.297 960.583 Q130.492 957.018 126.858 957.018 M126.858 953.315 Q132.668 953.315 135.723 957.921 Q138.802 962.504 138.802 971.254 Q138.802 979.981 135.723 984.588 Q132.668 989.171 126.858 989.171 Q121.047 989.171 117.969 984.588 Q114.913 979.981 114.913 971.254 Q114.913 962.504 117.969 957.921 Q121.047 953.315 126.858 953.315 Z\" fill=\"#000000\" fill-rule=\"evenodd\" fill-opacity=\"1\" /><path clip-path=\"url(#clip480)\" d=\"M 0 0 M90.5383 671.428 Q86.9272 671.428 85.0985 674.993 Q83.2929 678.534 83.2929 685.664 Q83.2929 692.77 85.0985 696.335 Q86.9272 699.877 90.5383 699.877 Q94.1725 699.877 95.9781 696.335 Q97.8068 692.77 97.8068 685.664 Q97.8068 678.534 95.9781 674.993 Q94.1725 671.428 90.5383 671.428 M90.5383 667.724 Q96.3484 667.724 99.404 672.331 Q102.483 676.914 102.483 685.664 Q102.483 694.391 99.404 698.997 Q96.3484 703.581 90.5383 703.581 Q84.7281 703.581 81.6494 698.997 Q78.5939 694.391 78.5939 685.664 Q78.5939 676.914 81.6494 672.331 Q84.7281 667.724 90.5383 667.724 Z\" fill=\"#000000\" fill-rule=\"evenodd\" fill-opacity=\"1\" /><path clip-path=\"url(#clip480)\" d=\"M 0 0 M107.552 697.03 L112.436 697.03 L112.436 702.909 L107.552 702.909 L107.552 697.03 Z\" fill=\"#000000\" fill-rule=\"evenodd\" fill-opacity=\"1\" /><path clip-path=\"url(#clip480)\" d=\"M 0 0 M131.672 684.275 Q135.029 684.993 136.904 687.261 Q138.802 689.53 138.802 692.863 Q138.802 697.979 135.283 700.78 Q131.765 703.581 125.283 703.581 Q123.108 703.581 120.793 703.141 Q118.501 702.724 116.047 701.868 L116.047 697.354 Q117.992 698.488 120.307 699.067 Q122.621 699.645 125.145 699.645 Q129.543 699.645 131.834 697.909 Q134.149 696.173 134.149 692.863 Q134.149 689.808 131.996 688.095 Q129.867 686.358 126.047 686.358 L122.02 686.358 L122.02 682.516 L126.233 682.516 Q129.682 682.516 131.51 681.15 Q133.339 679.761 133.339 677.169 Q133.339 674.507 131.441 673.095 Q129.566 671.659 126.047 671.659 Q124.126 671.659 121.927 672.076 Q119.728 672.493 117.089 673.372 L117.089 669.206 Q119.751 668.465 122.066 668.095 Q124.404 667.724 126.464 667.724 Q131.788 667.724 134.89 670.155 Q137.992 672.562 137.992 676.683 Q137.992 679.553 136.348 681.544 Q134.705 683.511 131.672 684.275 Z\" fill=\"#000000\" fill-rule=\"evenodd\" fill-opacity=\"1\" /><path clip-path=\"url(#clip480)\" d=\"M 0 0 M89.7281 385.838 Q86.117 385.838 84.2883 389.402 Q82.4828 392.944 82.4828 400.074 Q82.4828 407.18 84.2883 410.745 Q86.117 414.287 89.7281 414.287 Q93.3623 414.287 95.1679 410.745 Q96.9966 407.18 96.9966 400.074 Q96.9966 392.944 95.1679 389.402 Q93.3623 385.838 89.7281 385.838 M89.7281 382.134 Q95.5382 382.134 98.5938 386.74 Q101.672 391.324 101.672 400.074 Q101.672 408.8 98.5938 413.407 Q95.5382 417.99 89.7281 417.99 Q83.9179 417.99 80.8393 413.407 Q77.7837 408.8 77.7837 400.074 Q77.7837 391.324 80.8393 386.74 Q83.9179 382.134 89.7281 382.134 Z\" fill=\"#000000\" fill-rule=\"evenodd\" fill-opacity=\"1\" /><path clip-path=\"url(#clip480)\" d=\"M 0 0 M106.742 411.439 L111.626 411.439 L111.626 417.319 L106.742 417.319 L106.742 411.439 Z\" fill=\"#000000\" fill-rule=\"evenodd\" fill-opacity=\"1\" /><path clip-path=\"url(#clip480)\" d=\"M 0 0 M127.274 398.175 Q124.126 398.175 122.274 400.328 Q120.446 402.481 120.446 406.231 Q120.446 409.958 122.274 412.134 Q124.126 414.287 127.274 414.287 Q130.422 414.287 132.251 412.134 Q134.103 409.958 134.103 406.231 Q134.103 402.481 132.251 400.328 Q130.422 398.175 127.274 398.175 M136.557 383.523 L136.557 387.782 Q134.797 386.949 132.992 386.509 Q131.209 386.069 129.45 386.069 Q124.82 386.069 122.367 389.194 Q119.936 392.319 119.589 398.638 Q120.955 396.625 123.015 395.56 Q125.075 394.472 127.552 394.472 Q132.76 394.472 135.77 397.643 Q138.802 400.791 138.802 406.231 Q138.802 411.555 135.654 414.773 Q132.506 417.99 127.274 417.99 Q121.279 417.99 118.108 413.407 Q114.936 408.8 114.936 400.074 Q114.936 391.879 118.825 387.018 Q122.714 382.134 129.265 382.134 Q131.024 382.134 132.807 382.481 Q134.612 382.828 136.557 383.523 Z\" fill=\"#000000\" fill-rule=\"evenodd\" fill-opacity=\"1\" /><path clip-path=\"url(#clip480)\" d=\"M 0 0 M473.362 12.096 L511.602 12.096 L511.602 18.9825 L481.545 18.9825 L481.545 36.8875 L510.347 36.8875 L510.347 43.7741 L481.545 43.7741 L481.545 65.6895 L512.332 65.6895 L512.332 72.576 L473.362 72.576 L473.362 12.096 Z\" fill=\"#000000\" fill-rule=\"evenodd\" fill-opacity=\"1\" /><path clip-path=\"url(#clip480)\" d=\"M 0 0 M514.803 27.2059 L522.702 27.2059 L536.88 65.2844 L551.058 27.2059 L558.957 27.2059 L541.944 72.576 L531.816 72.576 L514.803 27.2059 Z\" fill=\"#000000\" fill-rule=\"evenodd\" fill-opacity=\"1\" /><path clip-path=\"url(#clip480)\" d=\"M 0 0 M587.395 49.7694 Q578.361 49.7694 574.877 51.8354 Q571.394 53.9013 571.394 58.8839 Q571.394 62.8538 573.986 65.2034 Q576.619 67.5124 581.116 67.5124 Q587.314 67.5124 591.041 63.1374 Q594.808 58.7219 594.808 51.4303 L594.808 49.7694 L587.395 49.7694 M602.262 46.6907 L602.262 72.576 L594.808 72.576 L594.808 65.6895 Q592.256 69.8214 588.448 71.8063 Q584.64 73.7508 579.131 73.7508 Q572.163 73.7508 568.031 69.8619 Q563.94 65.9325 563.94 59.3701 Q563.94 51.7138 569.044 47.825 Q574.189 43.9361 584.357 43.9361 L594.808 43.9361 L594.808 43.2069 Q594.808 38.0623 591.405 35.2672 Q588.043 32.4315 581.926 32.4315 Q578.037 32.4315 574.351 33.3632 Q570.665 34.295 567.262 36.1584 L567.262 29.2718 Q571.353 27.692 575.202 26.9223 Q579.05 26.1121 582.696 26.1121 Q592.539 26.1121 597.4 31.2163 Q602.262 36.3204 602.262 46.6907 Z\" fill=\"#000000\" fill-rule=\"evenodd\" fill-opacity=\"1\" /><path clip-path=\"url(#clip480)\" d=\"M 0 0 M610.08 9.54393 L617.533 9.54393 L617.533 72.576 L610.08 72.576 L610.08 9.54393 Z\" fill=\"#000000\" fill-rule=\"evenodd\" fill-opacity=\"1\" /><path clip-path=\"url(#clip480)\" d=\"M 0 0 M624.582 54.671 L624.582 27.2059 L632.036 27.2059 L632.036 54.3874 Q632.036 60.8284 634.547 64.0691 Q637.059 67.2693 642.082 67.2693 Q648.118 67.2693 651.602 63.421 Q655.126 59.5726 655.126 52.9291 L655.126 27.2059 L662.58 27.2059 L662.58 72.576 L655.126 72.576 L655.126 65.6084 Q652.412 69.7404 648.806 71.7658 Q645.242 73.7508 640.502 73.7508 Q632.684 73.7508 628.633 68.8897 Q624.582 64.0286 624.582 54.671 M643.338 26.1121 L643.338 26.1121 Z\" fill=\"#000000\" fill-rule=\"evenodd\" fill-opacity=\"1\" /><path clip-path=\"url(#clip480)\" d=\"M 0 0 M677.77 14.324 L677.77 27.2059 L693.123 27.2059 L693.123 32.9987 L677.77 32.9987 L677.77 57.6282 Q677.77 63.1779 679.269 64.7578 Q680.809 66.3376 685.467 66.3376 L693.123 66.3376 L693.123 72.576 L685.467 72.576 Q676.839 72.576 673.557 69.3758 Q670.276 66.1351 670.276 57.6282 L670.276 32.9987 L664.808 32.9987 L664.808 27.2059 L670.276 27.2059 L670.276 14.324 L677.77 14.324 Z\" fill=\"#000000\" fill-rule=\"evenodd\" fill-opacity=\"1\" /><path clip-path=\"url(#clip480)\" d=\"M 0 0 M739.749 48.0275 L739.749 51.6733 L705.479 51.6733 Q705.965 59.3701 710.097 63.421 Q714.269 67.4314 721.682 67.4314 Q725.976 67.4314 729.987 66.3781 Q734.037 65.3249 738.007 63.2184 L738.007 70.267 Q733.997 71.9684 729.784 72.8596 Q725.571 73.7508 721.237 73.7508 Q710.38 73.7508 704.02 67.4314 Q697.701 61.1119 697.701 50.3365 Q697.701 39.1965 703.696 32.6746 Q709.732 26.1121 719.94 26.1121 Q729.095 26.1121 734.402 32.0264 Q739.749 37.9003 739.749 48.0275 M732.296 45.84 Q732.215 39.7232 728.852 36.0774 Q725.531 32.4315 720.021 32.4315 Q713.783 32.4315 710.016 35.9558 Q706.289 39.4801 705.722 45.8805 L732.296 45.84 Z\" fill=\"#000000\" fill-rule=\"evenodd\" fill-opacity=\"1\" /><path clip-path=\"url(#clip480)\" d=\"M 0 0 M777.423 34.0924 L777.423 9.54393 L784.876 9.54393 L784.876 72.576 L777.423 72.576 L777.423 65.7705 Q775.073 69.8214 771.468 71.8063 Q767.903 73.7508 762.88 73.7508 Q754.657 73.7508 749.471 67.1883 Q744.327 60.6258 744.327 49.9314 Q744.327 39.2371 749.471 32.6746 Q754.657 26.1121 762.88 26.1121 Q767.903 26.1121 771.468 28.0971 Q775.073 30.0415 777.423 34.0924 M752.024 49.9314 Q752.024 58.1548 755.386 62.8538 Q758.789 67.5124 764.703 67.5124 Q770.617 67.5124 774.02 62.8538 Q777.423 58.1548 777.423 49.9314 Q777.423 41.7081 774.02 37.0496 Q770.617 32.3505 764.703 32.3505 Q758.789 32.3505 755.386 37.0496 Q752.024 41.7081 752.024 49.9314 Z\" fill=\"#000000\" fill-rule=\"evenodd\" fill-opacity=\"1\" /><path clip-path=\"url(#clip480)\" d=\"M 0 0 M856.78 27.2059 L840.374 49.2833 L857.631 72.576 L848.84 72.576 L835.634 54.752 L822.428 72.576 L813.638 72.576 L831.259 48.8377 L815.137 27.2059 L823.927 27.2059 L835.958 43.369 L847.989 27.2059 L856.78 27.2059 Z\" fill=\"#000000\" fill-rule=\"evenodd\" fill-opacity=\"1\" /><path clip-path=\"url(#clip480)\" d=\"M 0 0 M886.473 27.2059 L894.372 27.2059 L908.55 65.2844 L922.729 27.2059 L930.628 27.2059 L913.614 72.576 L903.487 72.576 L886.473 27.2059 Z\" fill=\"#000000\" fill-rule=\"evenodd\" fill-opacity=\"1\" /><path clip-path=\"url(#clip480)\" d=\"M 0 0 M959.065 49.7694 Q950.032 49.7694 946.548 51.8354 Q943.064 53.9013 943.064 58.8839 Q943.064 62.8538 945.657 65.2034 Q948.29 67.5124 952.786 67.5124 Q958.984 67.5124 962.711 63.1374 Q966.478 58.7219 966.478 51.4303 L966.478 49.7694 L959.065 49.7694 M973.932 46.6907 L973.932 72.576 L966.478 72.576 L966.478 65.6895 Q963.926 69.8214 960.118 71.8063 Q956.311 73.7508 950.801 73.7508 Q943.834 73.7508 939.702 69.8619 Q935.61 65.9325 935.61 59.3701 Q935.61 51.7138 940.715 47.825 Q945.859 43.9361 956.027 43.9361 L966.478 43.9361 L966.478 43.2069 Q966.478 38.0623 963.076 35.2672 Q959.713 32.4315 953.597 32.4315 Q949.708 32.4315 946.021 33.3632 Q942.335 34.295 938.932 36.1584 L938.932 29.2718 Q943.024 27.692 946.872 26.9223 Q950.72 26.1121 954.366 26.1121 Q964.21 26.1121 969.071 31.2163 Q973.932 36.3204 973.932 46.6907 Z\" fill=\"#000000\" fill-rule=\"evenodd\" fill-opacity=\"1\" /><path clip-path=\"url(#clip480)\" d=\"M 0 0 M981.75 9.54393 L989.204 9.54393 L989.204 72.576 L981.75 72.576 L981.75 9.54393 Z\" fill=\"#000000\" fill-rule=\"evenodd\" fill-opacity=\"1\" /><path clip-path=\"url(#clip480)\" d=\"M 0 0 M996.253 54.671 L996.253 27.2059 L1003.71 27.2059 L1003.71 54.3874 Q1003.71 60.8284 1006.22 64.0691 Q1008.73 67.2693 1013.75 67.2693 Q1019.79 67.2693 1023.27 63.421 Q1026.8 59.5726 1026.8 52.9291 L1026.8 27.2059 L1034.25 27.2059 L1034.25 72.576 L1026.8 72.576 L1026.8 65.6084 Q1024.08 69.7404 1020.48 71.7658 Q1016.91 73.7508 1012.17 73.7508 Q1004.35 73.7508 1000.3 68.8897 Q996.253 64.0286 996.253 54.671 M1015.01 26.1121 L1015.01 26.1121 Z\" fill=\"#000000\" fill-rule=\"evenodd\" fill-opacity=\"1\" /><path clip-path=\"url(#clip480)\" d=\"M 0 0 M1080.88 48.0275 L1080.88 51.6733 L1046.61 51.6733 Q1047.09 59.3701 1051.22 63.421 Q1055.4 67.4314 1062.81 67.4314 Q1067.1 67.4314 1071.11 66.3781 Q1075.16 65.3249 1079.13 63.2184 L1079.13 70.267 Q1075.12 71.9684 1070.91 72.8596 Q1066.7 73.7508 1062.36 73.7508 Q1051.51 73.7508 1045.15 67.4314 Q1038.83 61.1119 1038.83 50.3365 Q1038.83 39.1965 1044.82 32.6746 Q1050.86 26.1121 1061.07 26.1121 Q1070.22 26.1121 1075.53 32.0264 Q1080.88 37.9003 1080.88 48.0275 M1073.42 45.84 Q1073.34 39.7232 1069.98 36.0774 Q1066.66 32.4315 1061.15 32.4315 Q1054.91 32.4315 1051.14 35.9558 Q1047.42 39.4801 1046.85 45.8805 L1073.42 45.84 Z\" fill=\"#000000\" fill-rule=\"evenodd\" fill-opacity=\"1\" /><path clip-path=\"url(#clip480)\" d=\"M 0 0 M1117.62 28.5427 L1117.62 35.5912 Q1114.46 33.9709 1111.06 33.1607 Q1107.65 32.3505 1104.01 32.3505 Q1098.46 32.3505 1095.66 34.0519 Q1092.91 35.7533 1092.91 39.156 Q1092.91 41.7486 1094.89 43.2475 Q1096.88 44.7058 1102.87 46.0426 L1105.42 46.6097 Q1113.36 48.3111 1116.69 51.4303 Q1120.05 54.509 1120.05 60.0587 Q1120.05 66.3781 1115.03 70.0644 Q1110.04 73.7508 1101.29 73.7508 Q1097.65 73.7508 1093.68 73.0216 Q1089.75 72.3329 1085.37 70.9151 L1085.37 63.2184 Q1089.5 65.3654 1093.51 66.4591 Q1097.53 67.5124 1101.45 67.5124 Q1106.72 67.5124 1109.56 65.73 Q1112.39 63.9071 1112.39 60.6258 Q1112.39 57.5877 1110.33 55.9673 Q1108.3 54.3469 1101.37 52.8481 L1098.78 52.2405 Q1091.85 50.7821 1088.78 47.7845 Q1085.7 44.7463 1085.7 39.4801 Q1085.7 33.0797 1090.23 29.5959 Q1094.77 26.1121 1103.12 26.1121 Q1107.25 26.1121 1110.89 26.7198 Q1114.54 27.3274 1117.62 28.5427 Z\" fill=\"#000000\" fill-rule=\"evenodd\" fill-opacity=\"1\" /><path clip-path=\"url(#clip480)\" d=\"M 0 0 M1174.86 49.7694 Q1165.82 49.7694 1162.34 51.8354 Q1158.86 53.9013 1158.86 58.8839 Q1158.86 62.8538 1161.45 65.2034 Q1164.08 67.5124 1168.58 67.5124 Q1174.78 67.5124 1178.5 63.1374 Q1182.27 58.7219 1182.27 51.4303 L1182.27 49.7694 L1174.86 49.7694 M1189.72 46.6907 L1189.72 72.576 L1182.27 72.576 L1182.27 65.6895 Q1179.72 69.8214 1175.91 71.8063 Q1172.1 73.7508 1166.59 73.7508 Q1159.63 73.7508 1155.49 69.8619 Q1151.4 65.9325 1151.4 59.3701 Q1151.4 51.7138 1156.51 47.825 Q1161.65 43.9361 1171.82 43.9361 L1182.27 43.9361 L1182.27 43.2069 Q1182.27 38.0623 1178.87 35.2672 Q1175.51 32.4315 1169.39 32.4315 Q1165.5 32.4315 1161.81 33.3632 Q1158.13 34.295 1154.72 36.1584 L1154.72 29.2718 Q1158.82 27.692 1162.66 26.9223 Q1166.51 26.1121 1170.16 26.1121 Q1180 26.1121 1184.86 31.2163 Q1189.72 36.3204 1189.72 46.6907 Z\" fill=\"#000000\" fill-rule=\"evenodd\" fill-opacity=\"1\" /><path clip-path=\"url(#clip480)\" d=\"M 0 0 M1246.88 9.54393 L1246.88 15.7418 L1239.75 15.7418 Q1235.74 15.7418 1234.16 17.3622 Q1232.62 18.9825 1232.62 23.1955 L1232.62 27.2059 L1244.9 27.2059 L1244.9 32.9987 L1232.62 32.9987 L1232.62 72.576 L1225.13 72.576 L1225.13 32.9987 L1218 32.9987 L1218 27.2059 L1225.13 27.2059 L1225.13 24.0462 Q1225.13 16.471 1228.65 13.0277 Q1232.18 9.54393 1239.83 9.54393 L1246.88 9.54393 Z\" fill=\"#000000\" fill-rule=\"evenodd\" fill-opacity=\"1\" /><path clip-path=\"url(#clip480)\" d=\"M 0 0 M1253.93 54.671 L1253.93 27.2059 L1261.38 27.2059 L1261.38 54.3874 Q1261.38 60.8284 1263.9 64.0691 Q1266.41 67.2693 1271.43 67.2693 Q1277.47 67.2693 1280.95 63.421 Q1284.47 59.5726 1284.47 52.9291 L1284.47 27.2059 L1291.93 27.2059 L1291.93 72.576 L1284.47 72.576 L1284.47 65.6084 Q1281.76 69.7404 1278.15 71.7658 Q1274.59 73.7508 1269.85 73.7508 Q1262.03 73.7508 1257.98 68.8897 Q1253.93 64.0286 1253.93 54.671 M1272.69 26.1121 L1272.69 26.1121 Z\" fill=\"#000000\" fill-rule=\"evenodd\" fill-opacity=\"1\" /><path clip-path=\"url(#clip480)\" d=\"M 0 0 M1337.46 45.1919 L1337.46 72.576 L1330.01 72.576 L1330.01 45.4349 Q1330.01 38.994 1327.49 35.7938 Q1324.98 32.5936 1319.96 32.5936 Q1313.92 32.5936 1310.44 36.4419 Q1306.96 40.2903 1306.96 46.9338 L1306.96 72.576 L1299.46 72.576 L1299.46 27.2059 L1306.96 27.2059 L1306.96 34.2544 Q1309.63 30.163 1313.24 28.1376 Q1316.88 26.1121 1321.62 26.1121 Q1329.44 26.1121 1333.45 30.9732 Q1337.46 35.7938 1337.46 45.1919 Z\" fill=\"#000000\" fill-rule=\"evenodd\" fill-opacity=\"1\" /><path clip-path=\"url(#clip480)\" d=\"M 0 0 M1377.93 28.9478 L1377.93 35.9153 Q1374.77 34.1734 1371.57 33.3227 Q1368.41 32.4315 1365.17 32.4315 Q1357.92 32.4315 1353.91 37.0496 Q1349.9 41.6271 1349.9 49.9314 Q1349.9 58.2358 1353.91 62.8538 Q1357.92 67.4314 1365.17 67.4314 Q1368.41 67.4314 1371.57 66.5807 Q1374.77 65.6895 1377.93 63.9476 L1377.93 70.8341 Q1374.81 72.2924 1371.45 73.0216 Q1368.13 73.7508 1364.36 73.7508 Q1354.11 73.7508 1348.07 67.3098 Q1342.04 60.8689 1342.04 49.9314 Q1342.04 38.832 1348.11 32.472 Q1354.23 26.1121 1364.84 26.1121 Q1368.29 26.1121 1371.57 26.8413 Q1374.85 27.5299 1377.93 28.9478 Z\" fill=\"#000000\" fill-rule=\"evenodd\" fill-opacity=\"1\" /><path clip-path=\"url(#clip480)\" d=\"M 0 0 M1393.12 14.324 L1393.12 27.2059 L1408.47 27.2059 L1408.47 32.9987 L1393.12 32.9987 L1393.12 57.6282 Q1393.12 63.1779 1394.62 64.7578 Q1396.16 66.3376 1400.82 66.3376 L1408.47 66.3376 L1408.47 72.576 L1400.82 72.576 Q1392.19 72.576 1388.91 69.3758 Q1385.63 66.1351 1385.63 57.6282 L1385.63 32.9987 L1380.16 32.9987 L1380.16 27.2059 L1385.63 27.2059 L1385.63 14.324 L1393.12 14.324 Z\" fill=\"#000000\" fill-rule=\"evenodd\" fill-opacity=\"1\" /><path clip-path=\"url(#clip480)\" d=\"M 0 0 M1416.29 27.2059 L1423.74 27.2059 L1423.74 72.576 L1416.29 72.576 L1416.29 27.2059 M1416.29 9.54393 L1423.74 9.54393 L1423.74 18.9825 L1416.29 18.9825 L1416.29 9.54393 Z\" fill=\"#000000\" fill-rule=\"evenodd\" fill-opacity=\"1\" /><path clip-path=\"url(#clip480)\" d=\"M 0 0 M1449.14 32.4315 Q1443.15 32.4315 1439.66 37.1306 Q1436.18 41.7891 1436.18 49.9314 Q1436.18 58.0738 1439.62 62.7728 Q1443.11 67.4314 1449.14 67.4314 Q1455.1 67.4314 1458.58 62.7323 Q1462.07 58.0333 1462.07 49.9314 Q1462.07 41.8701 1458.58 37.1711 Q1455.1 32.4315 1449.14 32.4315 M1449.14 26.1121 Q1458.87 26.1121 1464.42 32.4315 Q1469.97 38.7509 1469.97 49.9314 Q1469.97 61.0714 1464.42 67.4314 Q1458.87 73.7508 1449.14 73.7508 Q1439.38 73.7508 1433.83 67.4314 Q1428.32 61.0714 1428.32 49.9314 Q1428.32 38.7509 1433.83 32.4315 Q1439.38 26.1121 1449.14 26.1121 Z\" fill=\"#000000\" fill-rule=\"evenodd\" fill-opacity=\"1\" /><path clip-path=\"url(#clip480)\" d=\"M 0 0 M1515.5 45.1919 L1515.5 72.576 L1508.04 72.576 L1508.04 45.4349 Q1508.04 38.994 1505.53 35.7938 Q1503.02 32.5936 1498 32.5936 Q1491.96 32.5936 1488.48 36.4419 Q1484.99 40.2903 1484.99 46.9338 L1484.99 72.576 L1477.5 72.576 L1477.5 27.2059 L1484.99 27.2059 L1484.99 34.2544 Q1487.67 30.163 1491.27 28.1376 Q1494.92 26.1121 1499.66 26.1121 Q1507.48 26.1121 1511.49 30.9732 Q1515.5 35.7938 1515.5 45.1919 Z\" fill=\"#000000\" fill-rule=\"evenodd\" fill-opacity=\"1\" /><path clip-path=\"url(#clip480)\" d=\"M 0 0 M1567.27 32.4315 Q1561.27 32.4315 1557.79 37.1306 Q1554.31 41.7891 1554.31 49.9314 Q1554.31 58.0738 1557.75 62.7728 Q1561.23 67.4314 1567.27 67.4314 Q1573.22 67.4314 1576.71 62.7323 Q1580.19 58.0333 1580.19 49.9314 Q1580.19 41.8701 1576.71 37.1711 Q1573.22 32.4315 1567.27 32.4315 M1567.27 26.1121 Q1576.99 26.1121 1582.54 32.4315 Q1588.09 38.7509 1588.09 49.9314 Q1588.09 61.0714 1582.54 67.4314 Q1576.99 73.7508 1567.27 73.7508 Q1557.51 73.7508 1551.96 67.4314 Q1546.45 61.0714 1546.45 49.9314 Q1546.45 38.7509 1551.96 32.4315 Q1557.51 26.1121 1567.27 26.1121 Z\" fill=\"#000000\" fill-rule=\"evenodd\" fill-opacity=\"1\" /><path clip-path=\"url(#clip480)\" d=\"M 0 0 M1618.88 9.54393 L1618.88 15.7418 L1611.75 15.7418 Q1607.74 15.7418 1606.16 17.3622 Q1604.62 18.9825 1604.62 23.1955 L1604.62 27.2059 L1616.89 27.2059 L1616.89 32.9987 L1604.62 32.9987 L1604.62 72.576 L1597.12 72.576 L1597.12 32.9987 L1589.99 32.9987 L1589.99 27.2059 L1597.12 27.2059 L1597.12 24.0462 Q1597.12 16.471 1600.65 13.0277 Q1604.17 9.54393 1611.83 9.54393 L1618.88 9.54393 Z\" fill=\"#000000\" fill-rule=\"evenodd\" fill-opacity=\"1\" /><path clip-path=\"url(#clip480)\" d=\"M 0 0 M1653.07 27.2059 L1660.52 27.2059 L1660.52 72.576 L1653.07 72.576 L1653.07 27.2059 M1653.07 9.54393 L1660.52 9.54393 L1660.52 18.9825 L1653.07 18.9825 L1653.07 9.54393 Z\" fill=\"#000000\" fill-rule=\"evenodd\" fill-opacity=\"1\" /><path clip-path=\"url(#clip480)\" d=\"M 0 0 M1675.71 14.324 L1675.71 27.2059 L1691.06 27.2059 L1691.06 32.9987 L1675.71 32.9987 L1675.71 57.6282 Q1675.71 63.1779 1677.21 64.7578 Q1678.75 66.3376 1683.41 66.3376 L1691.06 66.3376 L1691.06 72.576 L1683.41 72.576 Q1674.78 72.576 1671.5 69.3758 Q1668.22 66.1351 1668.22 57.6282 L1668.22 32.9987 L1662.75 32.9987 L1662.75 27.2059 L1668.22 27.2059 L1668.22 14.324 L1675.71 14.324 Z\" fill=\"#000000\" fill-rule=\"evenodd\" fill-opacity=\"1\" /><path clip-path=\"url(#clip480)\" d=\"M 0 0 M1737.69 48.0275 L1737.69 51.6733 L1703.42 51.6733 Q1703.9 59.3701 1708.04 63.421 Q1712.21 67.4314 1719.62 67.4314 Q1723.92 67.4314 1727.93 66.3781 Q1731.98 65.3249 1735.95 63.2184 L1735.95 70.267 Q1731.94 71.9684 1727.72 72.8596 Q1723.51 73.7508 1719.18 73.7508 Q1708.32 73.7508 1701.96 67.4314 Q1695.64 61.1119 1695.64 50.3365 Q1695.64 39.1965 1701.64 32.6746 Q1707.67 26.1121 1717.88 26.1121 Q1727.04 26.1121 1732.34 32.0264 Q1737.69 37.9003 1737.69 48.0275 M1730.24 45.84 Q1730.15 39.7232 1726.79 36.0774 Q1723.47 32.4315 1717.96 32.4315 Q1711.72 32.4315 1707.96 35.9558 Q1704.23 39.4801 1703.66 45.8805 L1730.24 45.84 Z\" fill=\"#000000\" fill-rule=\"evenodd\" fill-opacity=\"1\" /><path clip-path=\"url(#clip480)\" d=\"M 0 0 M1771.8 34.1734 Q1770.54 33.4443 1769.04 33.1202 Q1767.59 32.7556 1765.8 32.7556 Q1759.48 32.7556 1756.08 36.8875 Q1752.72 40.9789 1752.72 48.6757 L1752.72 72.576 L1745.22 72.576 L1745.22 27.2059 L1752.72 27.2059 L1752.72 34.2544 Q1755.07 30.1225 1758.84 28.1376 Q1762.6 26.1121 1767.99 26.1121 Q1768.76 26.1121 1769.69 26.2337 Q1770.62 26.3147 1771.76 26.5172 L1771.8 34.1734 Z\" fill=\"#000000\" fill-rule=\"evenodd\" fill-opacity=\"1\" /><path clip-path=\"url(#clip480)\" d=\"M 0 0 M1800.24 49.7694 Q1791.2 49.7694 1787.72 51.8354 Q1784.23 53.9013 1784.23 58.8839 Q1784.23 62.8538 1786.83 65.2034 Q1789.46 67.5124 1793.96 67.5124 Q1800.15 67.5124 1803.88 63.1374 Q1807.65 58.7219 1807.65 51.4303 L1807.65 49.7694 L1800.24 49.7694 M1815.1 46.6907 L1815.1 72.576 L1807.65 72.576 L1807.65 65.6895 Q1805.1 69.8214 1801.29 71.8063 Q1797.48 73.7508 1791.97 73.7508 Q1785 73.7508 1780.87 69.8619 Q1776.78 65.9325 1776.78 59.3701 Q1776.78 51.7138 1781.88 47.825 Q1787.03 43.9361 1797.2 43.9361 L1807.65 43.9361 L1807.65 43.2069 Q1807.65 38.0623 1804.25 35.2672 Q1800.88 32.4315 1794.77 32.4315 Q1790.88 32.4315 1787.19 33.3632 Q1783.51 34.295 1780.1 36.1584 L1780.1 29.2718 Q1784.19 27.692 1788.04 26.9223 Q1791.89 26.1121 1795.54 26.1121 Q1805.38 26.1121 1810.24 31.2163 Q1815.1 36.3204 1815.1 46.6907 Z\" fill=\"#000000\" fill-rule=\"evenodd\" fill-opacity=\"1\" /><path clip-path=\"url(#clip480)\" d=\"M 0 0 M1830.29 14.324 L1830.29 27.2059 L1845.65 27.2059 L1845.65 32.9987 L1830.29 32.9987 L1830.29 57.6282 Q1830.29 63.1779 1831.79 64.7578 Q1833.33 66.3376 1837.99 66.3376 L1845.65 66.3376 L1845.65 72.576 L1837.99 72.576 Q1829.36 72.576 1826.08 69.3758 Q1822.8 66.1351 1822.8 57.6282 L1822.8 32.9987 L1817.33 32.9987 L1817.33 27.2059 L1822.8 27.2059 L1822.8 14.324 L1830.29 14.324 Z\" fill=\"#000000\" fill-rule=\"evenodd\" fill-opacity=\"1\" /><path clip-path=\"url(#clip480)\" d=\"M 0 0 M1853.46 27.2059 L1860.92 27.2059 L1860.92 72.576 L1853.46 72.576 L1853.46 27.2059 M1853.46 9.54393 L1860.92 9.54393 L1860.92 18.9825 L1853.46 18.9825 L1853.46 9.54393 Z\" fill=\"#000000\" fill-rule=\"evenodd\" fill-opacity=\"1\" /><path clip-path=\"url(#clip480)\" d=\"M 0 0 M1886.32 32.4315 Q1880.32 32.4315 1876.84 37.1306 Q1873.35 41.7891 1873.35 49.9314 Q1873.35 58.0738 1876.8 62.7728 Q1880.28 67.4314 1886.32 67.4314 Q1892.27 67.4314 1895.76 62.7323 Q1899.24 58.0333 1899.24 49.9314 Q1899.24 41.8701 1895.76 37.1711 Q1892.27 32.4315 1886.32 32.4315 M1886.32 26.1121 Q1896.04 26.1121 1901.59 32.4315 Q1907.14 38.7509 1907.14 49.9314 Q1907.14 61.0714 1901.59 67.4314 Q1896.04 73.7508 1886.32 73.7508 Q1876.55 73.7508 1871 67.4314 Q1865.5 61.0714 1865.5 49.9314 Q1865.5 38.7509 1871 32.4315 Q1876.55 26.1121 1886.32 26.1121 Z\" fill=\"#000000\" fill-rule=\"evenodd\" fill-opacity=\"1\" /><path clip-path=\"url(#clip480)\" d=\"M 0 0 M1952.67 45.1919 L1952.67 72.576 L1945.22 72.576 L1945.22 45.4349 Q1945.22 38.994 1942.71 35.7938 Q1940.19 32.5936 1935.17 32.5936 Q1929.14 32.5936 1925.65 36.4419 Q1922.17 40.2903 1922.17 46.9338 L1922.17 72.576 L1914.67 72.576 L1914.67 27.2059 L1922.17 27.2059 L1922.17 34.2544 Q1924.84 30.163 1928.45 28.1376 Q1932.09 26.1121 1936.83 26.1121 Q1944.65 26.1121 1948.66 30.9732 Q1952.67 35.7938 1952.67 45.1919 Z\" fill=\"#000000\" fill-rule=\"evenodd\" fill-opacity=\"1\" /><path clip-path=\"url(#clip480)\" d=\"M 0 0 M2021.46 36.0774 L2009.67 36.0774 L2006.26 49.6074 L2018.13 49.6074 L2021.46 36.0774 M2015.38 13.0277 L2011.17 29.839 L2022.99 29.839 L2027.25 13.0277 L2033.73 13.0277 L2029.56 29.839 L2042.2 29.839 L2042.2 36.0774 L2027.98 36.0774 L2024.66 49.6074 L2037.54 49.6074 L2037.54 55.8053 L2023.08 55.8053 L2018.86 72.576 L2012.38 72.576 L2016.55 55.8053 L2004.68 55.8053 L2000.51 72.576 L1993.99 72.576 L1998.2 55.8053 L1985.44 55.8053 L1985.44 49.6074 L1999.7 49.6074 L2003.1 36.0774 L1990.06 36.0774 L1990.06 29.839 L2004.68 29.839 L2008.82 13.0277 L2015.38 13.0277 Z\" fill=\"#000000\" fill-rule=\"evenodd\" fill-opacity=\"1\" /><polyline clip-path=\"url(#clip482)\" style=\"stroke:#009af9; stroke-width:16; stroke-opacity:1; fill:none\" points=\"\n  224.782,162.047 276.432,361.96 328.081,570.441 379.731,762.358 431.381,926.801 483.031,1061.06 534.681,1166.81 586.331,1247.72 637.981,1308.12 689.63,1352.23 \n  741.28,1383.79 792.93,1405.9 844.58,1421.09 896.23,1431.3 947.88,1437.99 999.53,1442.26 1051.18,1444.89 1102.83,1446.43 1154.48,1447.28 1206.13,1447.7 \n  1257.78,1447.86 1309.43,1447.87 1361.08,1447.81 1412.73,1447.72 1464.38,1447.62 1516.03,1447.53 1567.68,1447.46 1619.33,1447.39 1670.98,1447.34 1722.63,1447.3 \n  1774.28,1447.27 1825.93,1447.25 1877.58,1447.23 1929.23,1447.22 1980.88,1447.22 2032.53,1447.21 2084.18,1447.21 2135.83,1447.21 2187.48,1447.2 2239.13,1447.2 \n  2290.78,1447.2 \n  \"/>\n<path clip-path=\"url(#clip480)\" d=\"\nM1989.74 327.952 L2280.76 327.952 L2280.76 206.992 L1989.74 206.992  Z\n  \" fill=\"#ffffff\" fill-rule=\"evenodd\" fill-opacity=\"1\"/>\n<polyline clip-path=\"url(#clip480)\" style=\"stroke:#000000; stroke-width:4; stroke-opacity:1; fill:none\" points=\"\n  1989.74,327.952 2280.76,327.952 2280.76,206.992 1989.74,206.992 1989.74,327.952 \n  \"/>\n<polyline clip-path=\"url(#clip480)\" style=\"stroke:#009af9; stroke-width:4; stroke-opacity:1; fill:none\" points=\"\n  2013.74,267.472 2157.74,267.472 \n  \"/>\n<path clip-path=\"url(#clip480)\" d=\"M 0 0 M2195.58 287.16 Q2193.77 291.789 2192.06 293.201 Q2190.35 294.613 2187.48 294.613 L2184.08 294.613 L2184.08 291.048 L2186.58 291.048 Q2188.33 291.048 2189.31 290.215 Q2190.28 289.382 2191.46 286.28 L2192.22 284.335 L2181.74 258.826 L2186.25 258.826 L2194.35 279.104 L2202.46 258.826 L2206.97 258.826 L2195.58 287.16 Z\" fill=\"#000000\" fill-rule=\"evenodd\" fill-opacity=\"1\" /><path clip-path=\"url(#clip480)\" d=\"M 0 0 M2212.85 280.817 L2220.49 280.817 L2220.49 254.451 L2212.18 256.118 L2212.18 251.859 L2220.44 250.192 L2225.12 250.192 L2225.12 280.817 L2232.76 280.817 L2232.76 284.752 L2212.85 284.752 L2212.85 280.817 Z\" fill=\"#000000\" fill-rule=\"evenodd\" fill-opacity=\"1\" /></svg>\n"
     },
     "execution_count": 285,
     "metadata": {},
     "output_type": "execute_result"
    }
   ],
   "source": [
    "plot(xs, lw = 4, title = \"Evaluted x values a function of iteration #\")"
   ]
  },
  {
   "cell_type": "code",
   "execution_count": 294,
   "metadata": {},
   "outputs": [
    {
     "data": {
      "text/plain": [
       "find_a_min_rmsp (generic function with 2 methods)"
      ]
     },
     "execution_count": 294,
     "metadata": {},
     "output_type": "execute_result"
    }
   ],
   "source": [
    "function find_a_min_rmsp(funct_input, start = 1)\n",
    "    f_dydx = derivative(funct_input)\n",
    "    # # println(\"found f_dydx\")\n",
    "    # trial_x =[x for x in  range(-20,stop = 20)]\n",
    "    # y = funct_input.(trial_x) # NOTE the dot for element wise computation\n",
    "    # idx = argmin(y)\n",
    "    x_i = start # trial_x[idx] # x sub i\n",
    "    # println(\"argmin is $idx with x value of $x_i\")\n",
    "    step = 1e-1 # basically the learning rate. \n",
    "    v_t = 0\n",
    "    v_t_minus_1 = 0\n",
    "    beta = 0.9\n",
    "    eps_ = 1e-7\n",
    "    x_list = []\n",
    "    for i in range(1,length = 3000)\n",
    "        # get the gradient\n",
    "        dydx = f_dydx(x_i)\n",
    "        if abs(dydx)<eps_\n",
    "            println(\"Found a min at $x_i. Iteration $i\")\n",
    "            return x_i,x_list\n",
    "        end\n",
    "        # m_t = beta*m_t_minus_1+(1-beta)*dydx\n",
    "        v_t = beta*v_t_minus_1 +(1-beta)*dydx^2\n",
    "        update_term = 1/(v_t+1e-9)*dydx\n",
    "        x_delta = -update_term*step # step in the negative gradient\n",
    "        x_i = x_i+x_delta\n",
    "        v_t_minus_1 = v_t\n",
    "        push!(x_list, x_i)\n",
    "\n",
    "\n",
    "    end\n",
    "\n",
    "    println(\"Did NOT terminate. x =  $x_i\")\n",
    "    return x_i,x_list\n",
    "end"
   ]
  },
  {
   "cell_type": "code",
   "execution_count": 297,
   "metadata": {},
   "outputs": [
    {
     "name": "stdout",
     "output_type": "stream",
     "text": [
      "Found a min at -0.5000000064818624. Iteration 32\n",
      "  0.000367 seconds (408 allocations: 7.563 KiB)\n"
     ]
    }
   ],
   "source": [
    "@time x, xs = find_a_min_rmsp(my_function);"
   ]
  },
  {
   "cell_type": "code",
   "execution_count": 298,
   "metadata": {},
   "outputs": [
    {
     "data": {
      "image/svg+xml": "<?xml version=\"1.0\" encoding=\"utf-8\"?>\n<svg xmlns=\"http://www.w3.org/2000/svg\" xmlns:xlink=\"http://www.w3.org/1999/xlink\" width=\"600\" height=\"400\" viewBox=\"0 0 2400 1600\">\n<defs>\n  <clipPath id=\"clip640\">\n    <rect x=\"0\" y=\"0\" width=\"2400\" height=\"1600\"/>\n  </clipPath>\n</defs>\n<path clip-path=\"url(#clip640)\" d=\"\nM0 1600 L2400 1600 L2400 0 L0 0  Z\n  \" fill=\"#ffffff\" fill-rule=\"evenodd\" fill-opacity=\"1\"/>\n<defs>\n  <clipPath id=\"clip641\">\n    <rect x=\"480\" y=\"0\" width=\"1681\" height=\"1600\"/>\n  </clipPath>\n</defs>\n<path clip-path=\"url(#clip640)\" d=\"\nM189.468 1486.45 L2352.76 1486.45 L2352.76 123.472 L189.468 123.472  Z\n  \" fill=\"#ffffff\" fill-rule=\"evenodd\" fill-opacity=\"1\"/>\n<defs>\n  <clipPath id=\"clip642\">\n    <rect x=\"189\" y=\"123\" width=\"2164\" height=\"1364\"/>\n  </clipPath>\n</defs>\n<polyline clip-path=\"url(#clip642)\" style=\"stroke:#000000; stroke-width:2; stroke-opacity:0.1; fill:none\" points=\"\n  522.805,1486.45 522.805,123.472 \n  \"/>\n<polyline clip-path=\"url(#clip642)\" style=\"stroke:#000000; stroke-width:2; stroke-opacity:0.1; fill:none\" points=\"\n  862.945,1486.45 862.945,123.472 \n  \"/>\n<polyline clip-path=\"url(#clip642)\" style=\"stroke:#000000; stroke-width:2; stroke-opacity:0.1; fill:none\" points=\"\n  1203.08,1486.45 1203.08,123.472 \n  \"/>\n<polyline clip-path=\"url(#clip642)\" style=\"stroke:#000000; stroke-width:2; stroke-opacity:0.1; fill:none\" points=\"\n  1543.22,1486.45 1543.22,123.472 \n  \"/>\n<polyline clip-path=\"url(#clip642)\" style=\"stroke:#000000; stroke-width:2; stroke-opacity:0.1; fill:none\" points=\"\n  1883.36,1486.45 1883.36,123.472 \n  \"/>\n<polyline clip-path=\"url(#clip642)\" style=\"stroke:#000000; stroke-width:2; stroke-opacity:0.1; fill:none\" points=\"\n  2223.5,1486.45 2223.5,123.472 \n  \"/>\n<polyline clip-path=\"url(#clip642)\" style=\"stroke:#000000; stroke-width:2; stroke-opacity:0.1; fill:none\" points=\"\n  189.468,1447.87 2352.76,1447.87 \n  \"/>\n<polyline clip-path=\"url(#clip642)\" style=\"stroke:#000000; stroke-width:2; stroke-opacity:0.1; fill:none\" points=\"\n  189.468,1172.34 2352.76,1172.34 \n  \"/>\n<polyline clip-path=\"url(#clip642)\" style=\"stroke:#000000; stroke-width:2; stroke-opacity:0.1; fill:none\" points=\"\n  189.468,896.805 2352.76,896.805 \n  \"/>\n<polyline clip-path=\"url(#clip642)\" style=\"stroke:#000000; stroke-width:2; stroke-opacity:0.1; fill:none\" points=\"\n  189.468,621.271 2352.76,621.271 \n  \"/>\n<polyline clip-path=\"url(#clip642)\" style=\"stroke:#000000; stroke-width:2; stroke-opacity:0.1; fill:none\" points=\"\n  189.468,345.736 2352.76,345.736 \n  \"/>\n<polyline clip-path=\"url(#clip640)\" style=\"stroke:#000000; stroke-width:4; stroke-opacity:1; fill:none\" points=\"\n  189.468,1486.45 2352.76,1486.45 \n  \"/>\n<polyline clip-path=\"url(#clip640)\" style=\"stroke:#000000; stroke-width:4; stroke-opacity:1; fill:none\" points=\"\n  189.468,1486.45 189.468,123.472 \n  \"/>\n<polyline clip-path=\"url(#clip640)\" style=\"stroke:#000000; stroke-width:4; stroke-opacity:1; fill:none\" points=\"\n  522.805,1486.45 522.805,1470.09 \n  \"/>\n<polyline clip-path=\"url(#clip640)\" style=\"stroke:#000000; stroke-width:4; stroke-opacity:1; fill:none\" points=\"\n  862.945,1486.45 862.945,1470.09 \n  \"/>\n<polyline clip-path=\"url(#clip640)\" style=\"stroke:#000000; stroke-width:4; stroke-opacity:1; fill:none\" points=\"\n  1203.08,1486.45 1203.08,1470.09 \n  \"/>\n<polyline clip-path=\"url(#clip640)\" style=\"stroke:#000000; stroke-width:4; stroke-opacity:1; fill:none\" points=\"\n  1543.22,1486.45 1543.22,1470.09 \n  \"/>\n<polyline clip-path=\"url(#clip640)\" style=\"stroke:#000000; stroke-width:4; stroke-opacity:1; fill:none\" points=\"\n  1883.36,1486.45 1883.36,1470.09 \n  \"/>\n<polyline clip-path=\"url(#clip640)\" style=\"stroke:#000000; stroke-width:4; stroke-opacity:1; fill:none\" points=\"\n  2223.5,1486.45 2223.5,1470.09 \n  \"/>\n<polyline clip-path=\"url(#clip640)\" style=\"stroke:#000000; stroke-width:4; stroke-opacity:1; fill:none\" points=\"\n  189.468,1447.87 215.428,1447.87 \n  \"/>\n<polyline clip-path=\"url(#clip640)\" style=\"stroke:#000000; stroke-width:4; stroke-opacity:1; fill:none\" points=\"\n  189.468,1172.34 215.428,1172.34 \n  \"/>\n<polyline clip-path=\"url(#clip640)\" style=\"stroke:#000000; stroke-width:4; stroke-opacity:1; fill:none\" points=\"\n  189.468,896.805 215.428,896.805 \n  \"/>\n<polyline clip-path=\"url(#clip640)\" style=\"stroke:#000000; stroke-width:4; stroke-opacity:1; fill:none\" points=\"\n  189.468,621.271 215.428,621.271 \n  \"/>\n<polyline clip-path=\"url(#clip640)\" style=\"stroke:#000000; stroke-width:4; stroke-opacity:1; fill:none\" points=\"\n  189.468,345.736 215.428,345.736 \n  \"/>\n<path clip-path=\"url(#clip640)\" d=\"M 0 0 M513.083 1505.36 L531.439 1505.36 L531.439 1509.3 L517.365 1509.3 L517.365 1517.77 Q518.384 1517.42 519.402 1517.26 Q520.421 1517.07 521.439 1517.07 Q527.226 1517.07 530.606 1520.24 Q533.986 1523.42 533.986 1528.83 Q533.986 1534.41 530.513 1537.51 Q527.041 1540.59 520.722 1540.59 Q518.546 1540.59 516.277 1540.22 Q514.032 1539.85 511.625 1539.11 L511.625 1534.41 Q513.708 1535.54 515.93 1536.1 Q518.152 1536.66 520.629 1536.66 Q524.634 1536.66 526.972 1534.55 Q529.31 1532.44 529.31 1528.83 Q529.31 1525.22 526.972 1523.11 Q524.634 1521.01 520.629 1521.01 Q518.754 1521.01 516.879 1521.42 Q515.027 1521.84 513.083 1522.72 L513.083 1505.36 Z\" fill=\"#000000\" fill-rule=\"evenodd\" fill-opacity=\"1\" /><path clip-path=\"url(#clip640)\" d=\"M 0 0 M839.82 1535.98 L847.459 1535.98 L847.459 1509.62 L839.149 1511.29 L839.149 1507.03 L847.412 1505.36 L852.088 1505.36 L852.088 1535.98 L859.727 1535.98 L859.727 1539.92 L839.82 1539.92 L839.82 1535.98 Z\" fill=\"#000000\" fill-rule=\"evenodd\" fill-opacity=\"1\" /><path clip-path=\"url(#clip640)\" d=\"M 0 0 M874.797 1508.44 Q871.185 1508.44 869.357 1512 Q867.551 1515.55 867.551 1522.67 Q867.551 1529.78 869.357 1533.35 Q871.185 1536.89 874.797 1536.89 Q878.431 1536.89 880.236 1533.35 Q882.065 1529.78 882.065 1522.67 Q882.065 1515.55 880.236 1512 Q878.431 1508.44 874.797 1508.44 M874.797 1504.73 Q880.607 1504.73 883.662 1509.34 Q886.741 1513.92 886.741 1522.67 Q886.741 1531.4 883.662 1536.01 Q880.607 1540.59 874.797 1540.59 Q868.986 1540.59 865.908 1536.01 Q862.852 1531.4 862.852 1522.67 Q862.852 1513.92 865.908 1509.34 Q868.986 1504.73 874.797 1504.73 Z\" fill=\"#000000\" fill-rule=\"evenodd\" fill-opacity=\"1\" /><path clip-path=\"url(#clip640)\" d=\"M 0 0 M1180.46 1535.98 L1188.1 1535.98 L1188.1 1509.62 L1179.79 1511.29 L1179.79 1507.03 L1188.05 1505.36 L1192.73 1505.36 L1192.73 1535.98 L1200.36 1535.98 L1200.36 1539.92 L1180.46 1539.92 L1180.46 1535.98 Z\" fill=\"#000000\" fill-rule=\"evenodd\" fill-opacity=\"1\" /><path clip-path=\"url(#clip640)\" d=\"M 0 0 M1205.48 1505.36 L1223.84 1505.36 L1223.84 1509.3 L1209.76 1509.3 L1209.76 1517.77 Q1210.78 1517.42 1211.8 1517.26 Q1212.82 1517.07 1213.84 1517.07 Q1219.62 1517.07 1223 1520.24 Q1226.38 1523.42 1226.38 1528.83 Q1226.38 1534.41 1222.91 1537.51 Q1219.44 1540.59 1213.12 1540.59 Q1210.94 1540.59 1208.67 1540.22 Q1206.43 1539.85 1204.02 1539.11 L1204.02 1534.41 Q1206.11 1535.54 1208.33 1536.1 Q1210.55 1536.66 1213.03 1536.66 Q1217.03 1536.66 1219.37 1534.55 Q1221.71 1532.44 1221.71 1528.83 Q1221.71 1525.22 1219.37 1523.11 Q1217.03 1521.01 1213.03 1521.01 Q1211.15 1521.01 1209.28 1521.42 Q1207.42 1521.84 1205.48 1522.72 L1205.48 1505.36 Z\" fill=\"#000000\" fill-rule=\"evenodd\" fill-opacity=\"1\" /><path clip-path=\"url(#clip640)\" d=\"M 0 0 M1524.37 1535.98 L1540.69 1535.98 L1540.69 1539.92 L1518.74 1539.92 L1518.74 1535.98 Q1521.41 1533.23 1525.99 1528.6 Q1530.6 1523.95 1531.78 1522.61 Q1534.02 1520.08 1534.9 1518.35 Q1535.8 1516.59 1535.8 1514.9 Q1535.8 1512.14 1533.86 1510.41 Q1531.94 1508.67 1528.84 1508.67 Q1526.64 1508.67 1524.18 1509.43 Q1521.75 1510.2 1518.98 1511.75 L1518.98 1507.03 Q1521.8 1505.89 1524.25 1505.31 Q1526.71 1504.73 1528.74 1504.73 Q1534.12 1504.73 1537.31 1507.42 Q1540.5 1510.11 1540.5 1514.6 Q1540.5 1516.73 1539.69 1518.65 Q1538.91 1520.54 1536.8 1523.14 Q1536.22 1523.81 1533.12 1527.03 Q1530.02 1530.22 1524.37 1535.98 Z\" fill=\"#000000\" fill-rule=\"evenodd\" fill-opacity=\"1\" /><path clip-path=\"url(#clip640)\" d=\"M 0 0 M1555.76 1508.44 Q1552.15 1508.44 1550.32 1512 Q1548.51 1515.55 1548.51 1522.67 Q1548.51 1529.78 1550.32 1533.35 Q1552.15 1536.89 1555.76 1536.89 Q1559.39 1536.89 1561.2 1533.35 Q1563.03 1529.78 1563.03 1522.67 Q1563.03 1515.55 1561.2 1512 Q1559.39 1508.44 1555.76 1508.44 M1555.76 1504.73 Q1561.57 1504.73 1564.62 1509.34 Q1567.7 1513.92 1567.7 1522.67 Q1567.7 1531.4 1564.62 1536.01 Q1561.57 1540.59 1555.76 1540.59 Q1549.95 1540.59 1546.87 1536.01 Q1543.81 1531.4 1543.81 1522.67 Q1543.81 1513.92 1546.87 1509.34 Q1549.95 1504.73 1555.76 1504.73 Z\" fill=\"#000000\" fill-rule=\"evenodd\" fill-opacity=\"1\" /><path clip-path=\"url(#clip640)\" d=\"M 0 0 M1865.01 1535.98 L1881.33 1535.98 L1881.33 1539.92 L1859.38 1539.92 L1859.38 1535.98 Q1862.04 1533.23 1866.63 1528.6 Q1871.23 1523.95 1872.41 1522.61 Q1874.66 1520.08 1875.54 1518.35 Q1876.44 1516.59 1876.44 1514.9 Q1876.44 1512.14 1874.5 1510.41 Q1872.58 1508.67 1869.47 1508.67 Q1867.28 1508.67 1864.82 1509.43 Q1862.39 1510.2 1859.61 1511.75 L1859.61 1507.03 Q1862.44 1505.89 1864.89 1505.31 Q1867.34 1504.73 1869.38 1504.73 Q1874.75 1504.73 1877.95 1507.42 Q1881.14 1510.11 1881.14 1514.6 Q1881.14 1516.73 1880.33 1518.65 Q1879.54 1520.54 1877.44 1523.14 Q1876.86 1523.81 1873.76 1527.03 Q1870.66 1530.22 1865.01 1535.98 Z\" fill=\"#000000\" fill-rule=\"evenodd\" fill-opacity=\"1\" /><path clip-path=\"url(#clip640)\" d=\"M 0 0 M1886.44 1505.36 L1904.8 1505.36 L1904.8 1509.3 L1890.72 1509.3 L1890.72 1517.77 Q1891.74 1517.42 1892.76 1517.26 Q1893.78 1517.07 1894.8 1517.07 Q1900.59 1517.07 1903.97 1520.24 Q1907.34 1523.42 1907.34 1528.83 Q1907.34 1534.41 1903.87 1537.51 Q1900.4 1540.59 1894.08 1540.59 Q1891.9 1540.59 1889.64 1540.22 Q1887.39 1539.85 1884.98 1539.11 L1884.98 1534.41 Q1887.07 1535.54 1889.29 1536.1 Q1891.51 1536.66 1893.99 1536.66 Q1897.99 1536.66 1900.33 1534.55 Q1902.67 1532.44 1902.67 1528.83 Q1902.67 1525.22 1900.33 1523.11 Q1897.99 1521.01 1893.99 1521.01 Q1892.11 1521.01 1890.24 1521.42 Q1888.39 1521.84 1886.44 1522.72 L1886.44 1505.36 Z\" fill=\"#000000\" fill-rule=\"evenodd\" fill-opacity=\"1\" /><path clip-path=\"url(#clip640)\" d=\"M 0 0 M2214.24 1521.29 Q2217.6 1522 2219.48 1524.27 Q2221.37 1526.54 2221.37 1529.87 Q2221.37 1534.99 2217.85 1537.79 Q2214.34 1540.59 2207.85 1540.59 Q2205.68 1540.59 2203.36 1540.15 Q2201.07 1539.73 2198.62 1538.88 L2198.62 1534.36 Q2200.56 1535.5 2202.88 1536.08 Q2205.19 1536.66 2207.72 1536.66 Q2212.11 1536.66 2214.41 1534.92 Q2216.72 1533.18 2216.72 1529.87 Q2216.72 1526.82 2214.57 1525.11 Q2212.44 1523.37 2208.62 1523.37 L2204.59 1523.37 L2204.59 1519.53 L2208.8 1519.53 Q2212.25 1519.53 2214.08 1518.16 Q2215.91 1516.77 2215.91 1514.18 Q2215.91 1511.52 2214.01 1510.11 Q2212.14 1508.67 2208.62 1508.67 Q2206.7 1508.67 2204.5 1509.09 Q2202.3 1509.5 2199.66 1510.38 L2199.66 1506.22 Q2202.32 1505.48 2204.64 1505.11 Q2206.98 1504.73 2209.04 1504.73 Q2214.36 1504.73 2217.46 1507.17 Q2220.56 1509.57 2220.56 1513.69 Q2220.56 1516.56 2218.92 1518.55 Q2217.28 1520.52 2214.24 1521.29 Z\" fill=\"#000000\" fill-rule=\"evenodd\" fill-opacity=\"1\" /><path clip-path=\"url(#clip640)\" d=\"M 0 0 M2236.44 1508.44 Q2232.83 1508.44 2231 1512 Q2229.2 1515.55 2229.2 1522.67 Q2229.2 1529.78 2231 1533.35 Q2232.83 1536.89 2236.44 1536.89 Q2240.08 1536.89 2241.88 1533.35 Q2243.71 1529.78 2243.71 1522.67 Q2243.71 1515.55 2241.88 1512 Q2240.08 1508.44 2236.44 1508.44 M2236.44 1504.73 Q2242.25 1504.73 2245.31 1509.34 Q2248.39 1513.92 2248.39 1522.67 Q2248.39 1531.4 2245.31 1536.01 Q2242.25 1540.59 2236.44 1540.59 Q2230.63 1540.59 2227.55 1536.01 Q2224.5 1531.4 2224.5 1522.67 Q2224.5 1513.92 2227.55 1509.34 Q2230.63 1504.73 2236.44 1504.73 Z\" fill=\"#000000\" fill-rule=\"evenodd\" fill-opacity=\"1\" /><path clip-path=\"url(#clip640)\" d=\"M 0 0 M62.9921 1450.27 L75.4689 1450.27 L75.4689 1454.07 L62.9921 1454.07 L62.9921 1450.27 Z\" fill=\"#000000\" fill-rule=\"evenodd\" fill-opacity=\"1\" /><path clip-path=\"url(#clip640)\" d=\"M 0 0 M90.5383 1433.67 Q86.9272 1433.67 85.0985 1437.24 Q83.2929 1440.78 83.2929 1447.91 Q83.2929 1455.01 85.0985 1458.58 Q86.9272 1462.12 90.5383 1462.12 Q94.1725 1462.12 95.9781 1458.58 Q97.8068 1455.01 97.8068 1447.91 Q97.8068 1440.78 95.9781 1437.24 Q94.1725 1433.67 90.5383 1433.67 M90.5383 1429.97 Q96.3484 1429.97 99.404 1434.57 Q102.483 1439.16 102.483 1447.91 Q102.483 1456.63 99.404 1461.24 Q96.3484 1465.82 90.5383 1465.82 Q84.7281 1465.82 81.6494 1461.24 Q78.5939 1456.63 78.5939 1447.91 Q78.5939 1439.16 81.6494 1434.57 Q84.7281 1429.97 90.5383 1429.97 Z\" fill=\"#000000\" fill-rule=\"evenodd\" fill-opacity=\"1\" /><path clip-path=\"url(#clip640)\" d=\"M 0 0 M107.552 1459.27 L112.436 1459.27 L112.436 1465.15 L107.552 1465.15 L107.552 1459.27 Z\" fill=\"#000000\" fill-rule=\"evenodd\" fill-opacity=\"1\" /><path clip-path=\"url(#clip640)\" d=\"M 0 0 M117.552 1430.59 L135.908 1430.59 L135.908 1434.53 L121.834 1434.53 L121.834 1443 Q122.853 1442.65 123.871 1442.49 Q124.89 1442.31 125.908 1442.31 Q131.695 1442.31 135.075 1445.48 Q138.455 1448.65 138.455 1454.07 Q138.455 1459.64 134.982 1462.75 Q131.51 1465.82 125.191 1465.82 Q123.015 1465.82 120.746 1465.45 Q118.501 1465.08 116.094 1464.34 L116.094 1459.64 Q118.177 1460.78 120.399 1461.33 Q122.621 1461.89 125.098 1461.89 Q129.103 1461.89 131.441 1459.78 Q133.779 1457.68 133.779 1454.07 Q133.779 1450.45 131.441 1448.35 Q129.103 1446.24 125.098 1446.24 Q123.223 1446.24 121.348 1446.66 Q119.496 1447.07 117.552 1447.95 L117.552 1430.59 Z\" fill=\"#000000\" fill-rule=\"evenodd\" fill-opacity=\"1\" /><path clip-path=\"url(#clip640)\" d=\"M 0 0 M153.524 1433.67 Q149.913 1433.67 148.084 1437.24 Q146.279 1440.78 146.279 1447.91 Q146.279 1455.01 148.084 1458.58 Q149.913 1462.12 153.524 1462.12 Q157.158 1462.12 158.964 1458.58 Q160.793 1455.01 160.793 1447.91 Q160.793 1440.78 158.964 1437.24 Q157.158 1433.67 153.524 1433.67 M153.524 1429.97 Q159.334 1429.97 162.39 1434.57 Q165.468 1439.16 165.468 1447.91 Q165.468 1456.63 162.39 1461.24 Q159.334 1465.82 153.524 1465.82 Q147.714 1465.82 144.635 1461.24 Q141.58 1456.63 141.58 1447.91 Q141.58 1439.16 144.635 1434.57 Q147.714 1429.97 153.524 1429.97 Z\" fill=\"#000000\" fill-rule=\"evenodd\" fill-opacity=\"1\" /><path clip-path=\"url(#clip640)\" d=\"M 0 0 M64.5893 1174.73 L77.0661 1174.73 L77.0661 1178.53 L64.5893 1178.53 L64.5893 1174.73 Z\" fill=\"#000000\" fill-rule=\"evenodd\" fill-opacity=\"1\" /><path clip-path=\"url(#clip640)\" d=\"M 0 0 M92.1355 1158.14 Q88.5244 1158.14 86.6957 1161.7 Q84.8902 1165.24 84.8902 1172.37 Q84.8902 1179.48 86.6957 1183.04 Q88.5244 1186.59 92.1355 1186.59 Q95.7697 1186.59 97.5753 1183.04 Q99.404 1179.48 99.404 1172.37 Q99.404 1165.24 97.5753 1161.7 Q95.7697 1158.14 92.1355 1158.14 M92.1355 1154.43 Q97.9456 1154.43 101.001 1159.04 Q104.08 1163.62 104.08 1172.37 Q104.08 1181.1 101.001 1185.71 Q97.9456 1190.29 92.1355 1190.29 Q86.3253 1190.29 83.2466 1185.71 Q80.1911 1181.1 80.1911 1172.37 Q80.1911 1163.62 83.2466 1159.04 Q86.3253 1154.43 92.1355 1154.43 Z\" fill=\"#000000\" fill-rule=\"evenodd\" fill-opacity=\"1\" /><path clip-path=\"url(#clip640)\" d=\"M 0 0 M109.149 1183.74 L114.034 1183.74 L114.034 1189.62 L109.149 1189.62 L109.149 1183.74 Z\" fill=\"#000000\" fill-rule=\"evenodd\" fill-opacity=\"1\" /><path clip-path=\"url(#clip640)\" d=\"M 0 0 M123.131 1185.68 L139.45 1185.68 L139.45 1189.62 L117.506 1189.62 L117.506 1185.68 Q120.168 1182.93 124.751 1178.3 Q129.358 1173.65 130.538 1172.3 Q132.783 1169.78 133.663 1168.04 Q134.566 1166.29 134.566 1164.6 Q134.566 1161.84 132.621 1160.11 Q130.7 1158.37 127.598 1158.37 Q125.399 1158.37 122.946 1159.13 Q120.515 1159.9 117.737 1161.45 L117.737 1156.73 Q120.561 1155.59 123.015 1155.01 Q125.469 1154.43 127.506 1154.43 Q132.876 1154.43 136.07 1157.12 Q139.265 1159.8 139.265 1164.29 Q139.265 1166.42 138.455 1168.35 Q137.668 1170.24 135.561 1172.84 Q134.982 1173.51 131.881 1176.73 Q128.779 1179.92 123.131 1185.68 Z\" fill=\"#000000\" fill-rule=\"evenodd\" fill-opacity=\"1\" /><path clip-path=\"url(#clip640)\" d=\"M 0 0 M144.566 1155.06 L162.922 1155.06 L162.922 1158.99 L148.848 1158.99 L148.848 1167.47 Q149.867 1167.12 150.885 1166.96 Q151.904 1166.77 152.922 1166.77 Q158.709 1166.77 162.089 1169.94 Q165.468 1173.11 165.468 1178.53 Q165.468 1184.11 161.996 1187.21 Q158.524 1190.29 152.205 1190.29 Q150.029 1190.29 147.76 1189.92 Q145.515 1189.55 143.107 1188.81 L143.107 1184.11 Q145.191 1185.24 147.413 1185.8 Q149.635 1186.36 152.112 1186.36 Q156.117 1186.36 158.455 1184.25 Q160.793 1182.14 160.793 1178.53 Q160.793 1174.92 158.455 1172.81 Q156.117 1170.71 152.112 1170.71 Q150.237 1170.71 148.362 1171.12 Q146.51 1171.54 144.566 1172.42 L144.566 1155.06 Z\" fill=\"#000000\" fill-rule=\"evenodd\" fill-opacity=\"1\" /><path clip-path=\"url(#clip640)\" d=\"M 0 0 M89.5429 882.603 Q85.9318 882.603 84.1031 886.168 Q82.2976 889.71 82.2976 896.839 Q82.2976 903.946 84.1031 907.511 Q85.9318 911.052 89.5429 911.052 Q93.1771 911.052 94.9827 907.511 Q96.8114 903.946 96.8114 896.839 Q96.8114 889.71 94.9827 886.168 Q93.1771 882.603 89.5429 882.603 M89.5429 878.9 Q95.3531 878.9 98.4086 883.506 Q101.487 888.089 101.487 896.839 Q101.487 905.566 98.4086 910.173 Q95.3531 914.756 89.5429 914.756 Q83.7328 914.756 80.6541 910.173 Q77.5985 905.566 77.5985 896.839 Q77.5985 888.089 80.6541 883.506 Q83.7328 878.9 89.5429 878.9 Z\" fill=\"#000000\" fill-rule=\"evenodd\" fill-opacity=\"1\" /><path clip-path=\"url(#clip640)\" d=\"M 0 0 M106.557 908.205 L111.441 908.205 L111.441 914.085 L106.557 914.085 L106.557 908.205 Z\" fill=\"#000000\" fill-rule=\"evenodd\" fill-opacity=\"1\" /><path clip-path=\"url(#clip640)\" d=\"M 0 0 M126.51 882.603 Q122.899 882.603 121.071 886.168 Q119.265 889.71 119.265 896.839 Q119.265 903.946 121.071 907.511 Q122.899 911.052 126.51 911.052 Q130.145 911.052 131.95 907.511 Q133.779 903.946 133.779 896.839 Q133.779 889.71 131.95 886.168 Q130.145 882.603 126.51 882.603 M126.51 878.9 Q132.32 878.9 135.376 883.506 Q138.455 888.089 138.455 896.839 Q138.455 905.566 135.376 910.173 Q132.32 914.756 126.51 914.756 Q120.7 914.756 117.621 910.173 Q114.566 905.566 114.566 896.839 Q114.566 888.089 117.621 883.506 Q120.7 878.9 126.51 878.9 Z\" fill=\"#000000\" fill-rule=\"evenodd\" fill-opacity=\"1\" /><path clip-path=\"url(#clip640)\" d=\"M 0 0 M153.524 882.603 Q149.913 882.603 148.084 886.168 Q146.279 889.71 146.279 896.839 Q146.279 903.946 148.084 907.511 Q149.913 911.052 153.524 911.052 Q157.158 911.052 158.964 907.511 Q160.793 903.946 160.793 896.839 Q160.793 889.71 158.964 886.168 Q157.158 882.603 153.524 882.603 M153.524 878.9 Q159.334 878.9 162.39 883.506 Q165.468 888.089 165.468 896.839 Q165.468 905.566 162.39 910.173 Q159.334 914.756 153.524 914.756 Q147.714 914.756 144.635 910.173 Q141.58 905.566 141.58 896.839 Q141.58 888.089 144.635 883.506 Q147.714 878.9 153.524 878.9 Z\" fill=\"#000000\" fill-rule=\"evenodd\" fill-opacity=\"1\" /><path clip-path=\"url(#clip640)\" d=\"M 0 0 M92.1355 607.069 Q88.5244 607.069 86.6957 610.634 Q84.8902 614.176 84.8902 621.305 Q84.8902 628.412 86.6957 631.977 Q88.5244 635.518 92.1355 635.518 Q95.7697 635.518 97.5753 631.977 Q99.404 628.412 99.404 621.305 Q99.404 614.176 97.5753 610.634 Q95.7697 607.069 92.1355 607.069 M92.1355 603.366 Q97.9456 603.366 101.001 607.972 Q104.08 612.555 104.08 621.305 Q104.08 630.032 101.001 634.639 Q97.9456 639.222 92.1355 639.222 Q86.3253 639.222 83.2466 634.639 Q80.1911 630.032 80.1911 621.305 Q80.1911 612.555 83.2466 607.972 Q86.3253 603.366 92.1355 603.366 Z\" fill=\"#000000\" fill-rule=\"evenodd\" fill-opacity=\"1\" /><path clip-path=\"url(#clip640)\" d=\"M 0 0 M109.149 632.671 L114.034 632.671 L114.034 638.551 L109.149 638.551 L109.149 632.671 Z\" fill=\"#000000\" fill-rule=\"evenodd\" fill-opacity=\"1\" /><path clip-path=\"url(#clip640)\" d=\"M 0 0 M123.131 634.615 L139.45 634.615 L139.45 638.551 L117.506 638.551 L117.506 634.615 Q120.168 631.861 124.751 627.231 Q129.358 622.578 130.538 621.236 Q132.783 618.713 133.663 616.977 Q134.566 615.217 134.566 613.528 Q134.566 610.773 132.621 609.037 Q130.7 607.301 127.598 607.301 Q125.399 607.301 122.946 608.065 Q120.515 608.828 117.737 610.379 L117.737 605.657 Q120.561 604.523 123.015 603.944 Q125.469 603.366 127.506 603.366 Q132.876 603.366 136.07 606.051 Q139.265 608.736 139.265 613.227 Q139.265 615.356 138.455 617.278 Q137.668 619.176 135.561 621.768 Q134.982 622.44 131.881 625.657 Q128.779 628.852 123.131 634.615 Z\" fill=\"#000000\" fill-rule=\"evenodd\" fill-opacity=\"1\" /><path clip-path=\"url(#clip640)\" d=\"M 0 0 M144.566 603.991 L162.922 603.991 L162.922 607.926 L148.848 607.926 L148.848 616.398 Q149.867 616.051 150.885 615.889 Q151.904 615.703 152.922 615.703 Q158.709 615.703 162.089 618.875 Q165.468 622.046 165.468 627.463 Q165.468 633.041 161.996 636.143 Q158.524 639.222 152.205 639.222 Q150.029 639.222 147.76 638.851 Q145.515 638.481 143.107 637.74 L143.107 633.041 Q145.191 634.176 147.413 634.731 Q149.635 635.287 152.112 635.287 Q156.117 635.287 158.455 633.18 Q160.793 631.074 160.793 627.463 Q160.793 623.852 158.455 621.745 Q156.117 619.639 152.112 619.639 Q150.237 619.639 148.362 620.055 Q146.51 620.472 144.566 621.352 L144.566 603.991 Z\" fill=\"#000000\" fill-rule=\"evenodd\" fill-opacity=\"1\" /><path clip-path=\"url(#clip640)\" d=\"M 0 0 M90.5383 331.535 Q86.9272 331.535 85.0985 335.1 Q83.2929 338.641 83.2929 345.771 Q83.2929 352.878 85.0985 356.442 Q86.9272 359.984 90.5383 359.984 Q94.1725 359.984 95.9781 356.442 Q97.8068 352.878 97.8068 345.771 Q97.8068 338.641 95.9781 335.1 Q94.1725 331.535 90.5383 331.535 M90.5383 327.831 Q96.3484 327.831 99.404 332.438 Q102.483 337.021 102.483 345.771 Q102.483 354.498 99.404 359.104 Q96.3484 363.688 90.5383 363.688 Q84.7281 363.688 81.6494 359.104 Q78.5939 354.498 78.5939 345.771 Q78.5939 337.021 81.6494 332.438 Q84.7281 327.831 90.5383 327.831 Z\" fill=\"#000000\" fill-rule=\"evenodd\" fill-opacity=\"1\" /><path clip-path=\"url(#clip640)\" d=\"M 0 0 M107.552 357.137 L112.436 357.137 L112.436 363.016 L107.552 363.016 L107.552 357.137 Z\" fill=\"#000000\" fill-rule=\"evenodd\" fill-opacity=\"1\" /><path clip-path=\"url(#clip640)\" d=\"M 0 0 M117.552 328.456 L135.908 328.456 L135.908 332.392 L121.834 332.392 L121.834 340.864 Q122.853 340.516 123.871 340.354 Q124.89 340.169 125.908 340.169 Q131.695 340.169 135.075 343.341 Q138.455 346.512 138.455 351.928 Q138.455 357.507 134.982 360.609 Q131.51 363.688 125.191 363.688 Q123.015 363.688 120.746 363.317 Q118.501 362.947 116.094 362.206 L116.094 357.507 Q118.177 358.641 120.399 359.197 Q122.621 359.752 125.098 359.752 Q129.103 359.752 131.441 357.646 Q133.779 355.54 133.779 351.928 Q133.779 348.317 131.441 346.211 Q129.103 344.104 125.098 344.104 Q123.223 344.104 121.348 344.521 Q119.496 344.938 117.552 345.817 L117.552 328.456 Z\" fill=\"#000000\" fill-rule=\"evenodd\" fill-opacity=\"1\" /><path clip-path=\"url(#clip640)\" d=\"M 0 0 M153.524 331.535 Q149.913 331.535 148.084 335.1 Q146.279 338.641 146.279 345.771 Q146.279 352.878 148.084 356.442 Q149.913 359.984 153.524 359.984 Q157.158 359.984 158.964 356.442 Q160.793 352.878 160.793 345.771 Q160.793 338.641 158.964 335.1 Q157.158 331.535 153.524 331.535 M153.524 327.831 Q159.334 327.831 162.39 332.438 Q165.468 337.021 165.468 345.771 Q165.468 354.498 162.39 359.104 Q159.334 363.688 153.524 363.688 Q147.714 363.688 144.635 359.104 Q141.58 354.498 141.58 345.771 Q141.58 337.021 144.635 332.438 Q147.714 327.831 153.524 327.831 Z\" fill=\"#000000\" fill-rule=\"evenodd\" fill-opacity=\"1\" /><path clip-path=\"url(#clip640)\" d=\"M 0 0 M486.695 12.096 L524.936 12.096 L524.936 18.9825 L494.878 18.9825 L494.878 36.8875 L523.68 36.8875 L523.68 43.7741 L494.878 43.7741 L494.878 65.6895 L525.665 65.6895 L525.665 72.576 L486.695 72.576 L486.695 12.096 Z\" fill=\"#000000\" fill-rule=\"evenodd\" fill-opacity=\"1\" /><path clip-path=\"url(#clip640)\" d=\"M 0 0 M528.136 27.2059 L536.035 27.2059 L550.213 65.2844 L564.391 27.2059 L572.291 27.2059 L555.277 72.576 L545.15 72.576 L528.136 27.2059 Z\" fill=\"#000000\" fill-rule=\"evenodd\" fill-opacity=\"1\" /><path clip-path=\"url(#clip640)\" d=\"M 0 0 M600.728 49.7694 Q591.695 49.7694 588.211 51.8354 Q584.727 53.9013 584.727 58.8839 Q584.727 62.8538 587.32 65.2034 Q589.953 67.5124 594.449 67.5124 Q600.647 67.5124 604.374 63.1374 Q608.141 58.7219 608.141 51.4303 L608.141 49.7694 L600.728 49.7694 M615.595 46.6907 L615.595 72.576 L608.141 72.576 L608.141 65.6895 Q605.589 69.8214 601.781 71.8063 Q597.973 73.7508 592.464 73.7508 Q585.497 73.7508 581.365 69.8619 Q577.273 65.9325 577.273 59.3701 Q577.273 51.7138 582.377 47.825 Q587.522 43.9361 597.69 43.9361 L608.141 43.9361 L608.141 43.2069 Q608.141 38.0623 604.738 35.2672 Q601.376 32.4315 595.259 32.4315 Q591.37 32.4315 587.684 33.3632 Q583.998 34.295 580.595 36.1584 L580.595 29.2718 Q584.686 27.692 588.535 26.9223 Q592.383 26.1121 596.029 26.1121 Q605.873 26.1121 610.734 31.2163 Q615.595 36.3204 615.595 46.6907 Z\" fill=\"#000000\" fill-rule=\"evenodd\" fill-opacity=\"1\" /><path clip-path=\"url(#clip640)\" d=\"M 0 0 M623.413 9.54393 L630.867 9.54393 L630.867 72.576 L623.413 72.576 L623.413 9.54393 Z\" fill=\"#000000\" fill-rule=\"evenodd\" fill-opacity=\"1\" /><path clip-path=\"url(#clip640)\" d=\"M 0 0 M637.915 54.671 L637.915 27.2059 L645.369 27.2059 L645.369 54.3874 Q645.369 60.8284 647.881 64.0691 Q650.392 67.2693 655.415 67.2693 Q661.451 67.2693 664.935 63.421 Q668.459 59.5726 668.459 52.9291 L668.459 27.2059 L675.913 27.2059 L675.913 72.576 L668.459 72.576 L668.459 65.6084 Q665.745 69.7404 662.14 71.7658 Q658.575 73.7508 653.835 73.7508 Q646.017 73.7508 641.966 68.8897 Q637.915 64.0286 637.915 54.671 M656.671 26.1121 L656.671 26.1121 Z\" fill=\"#000000\" fill-rule=\"evenodd\" fill-opacity=\"1\" /><path clip-path=\"url(#clip640)\" d=\"M 0 0 M691.104 14.324 L691.104 27.2059 L706.457 27.2059 L706.457 32.9987 L691.104 32.9987 L691.104 57.6282 Q691.104 63.1779 692.603 64.7578 Q694.142 66.3376 698.8 66.3376 L706.457 66.3376 L706.457 72.576 L698.8 72.576 Q690.172 72.576 686.891 69.3758 Q683.61 66.1351 683.61 57.6282 L683.61 32.9987 L678.141 32.9987 L678.141 27.2059 L683.61 27.2059 L683.61 14.324 L691.104 14.324 Z\" fill=\"#000000\" fill-rule=\"evenodd\" fill-opacity=\"1\" /><path clip-path=\"url(#clip640)\" d=\"M 0 0 M753.083 48.0275 L753.083 51.6733 L718.812 51.6733 Q719.298 59.3701 723.43 63.421 Q727.602 67.4314 735.016 67.4314 Q739.309 67.4314 743.32 66.3781 Q747.371 65.3249 751.341 63.2184 L751.341 70.267 Q747.33 71.9684 743.117 72.8596 Q738.904 73.7508 734.57 73.7508 Q723.713 73.7508 717.354 67.4314 Q711.034 61.1119 711.034 50.3365 Q711.034 39.1965 717.029 32.6746 Q723.065 26.1121 733.274 26.1121 Q742.429 26.1121 747.735 32.0264 Q753.083 37.9003 753.083 48.0275 M745.629 45.84 Q745.548 39.7232 742.186 36.0774 Q738.864 32.4315 733.355 32.4315 Q727.116 32.4315 723.349 35.9558 Q719.622 39.4801 719.055 45.8805 L745.629 45.84 Z\" fill=\"#000000\" fill-rule=\"evenodd\" fill-opacity=\"1\" /><path clip-path=\"url(#clip640)\" d=\"M 0 0 M790.756 34.0924 L790.756 9.54393 L798.21 9.54393 L798.21 72.576 L790.756 72.576 L790.756 65.7705 Q788.406 69.8214 784.801 71.8063 Q781.236 73.7508 776.213 73.7508 Q767.99 73.7508 762.805 67.1883 Q757.66 60.6258 757.66 49.9314 Q757.66 39.2371 762.805 32.6746 Q767.99 26.1121 776.213 26.1121 Q781.236 26.1121 784.801 28.0971 Q788.406 30.0415 790.756 34.0924 M765.357 49.9314 Q765.357 58.1548 768.719 62.8538 Q772.122 67.5124 778.036 67.5124 Q783.95 67.5124 787.353 62.8538 Q790.756 58.1548 790.756 49.9314 Q790.756 41.7081 787.353 37.0496 Q783.95 32.3505 778.036 32.3505 Q772.122 32.3505 768.719 37.0496 Q765.357 41.7081 765.357 49.9314 Z\" fill=\"#000000\" fill-rule=\"evenodd\" fill-opacity=\"1\" /><path clip-path=\"url(#clip640)\" d=\"M 0 0 M870.113 27.2059 L853.707 49.2833 L870.964 72.576 L862.173 72.576 L848.967 54.752 L835.761 72.576 L826.971 72.576 L844.592 48.8377 L828.47 27.2059 L837.26 27.2059 L849.292 43.369 L861.323 27.2059 L870.113 27.2059 Z\" fill=\"#000000\" fill-rule=\"evenodd\" fill-opacity=\"1\" /><path clip-path=\"url(#clip640)\" d=\"M 0 0 M899.806 27.2059 L907.706 27.2059 L921.884 65.2844 L936.062 27.2059 L943.961 27.2059 L926.947 72.576 L916.82 72.576 L899.806 27.2059 Z\" fill=\"#000000\" fill-rule=\"evenodd\" fill-opacity=\"1\" /><path clip-path=\"url(#clip640)\" d=\"M 0 0 M972.398 49.7694 Q963.365 49.7694 959.881 51.8354 Q956.397 53.9013 956.397 58.8839 Q956.397 62.8538 958.99 65.2034 Q961.623 67.5124 966.12 67.5124 Q972.317 67.5124 976.044 63.1374 Q979.812 58.7219 979.812 51.4303 L979.812 49.7694 L972.398 49.7694 M987.265 46.6907 L987.265 72.576 L979.812 72.576 L979.812 65.6895 Q977.26 69.8214 973.452 71.8063 Q969.644 73.7508 964.135 73.7508 Q957.167 73.7508 953.035 69.8619 Q948.944 65.9325 948.944 59.3701 Q948.944 51.7138 954.048 47.825 Q959.193 43.9361 969.36 43.9361 L979.812 43.9361 L979.812 43.2069 Q979.812 38.0623 976.409 35.2672 Q973.047 32.4315 966.93 32.4315 Q963.041 32.4315 959.355 33.3632 Q955.668 34.295 952.265 36.1584 L952.265 29.2718 Q956.357 27.692 960.205 26.9223 Q964.054 26.1121 967.699 26.1121 Q977.543 26.1121 982.404 31.2163 Q987.265 36.3204 987.265 46.6907 Z\" fill=\"#000000\" fill-rule=\"evenodd\" fill-opacity=\"1\" /><path clip-path=\"url(#clip640)\" d=\"M 0 0 M995.084 9.54393 L1002.54 9.54393 L1002.54 72.576 L995.084 72.576 L995.084 9.54393 Z\" fill=\"#000000\" fill-rule=\"evenodd\" fill-opacity=\"1\" /><path clip-path=\"url(#clip640)\" d=\"M 0 0 M1009.59 54.671 L1009.59 27.2059 L1017.04 27.2059 L1017.04 54.3874 Q1017.04 60.8284 1019.55 64.0691 Q1022.06 67.2693 1027.09 67.2693 Q1033.12 67.2693 1036.61 63.421 Q1040.13 59.5726 1040.13 52.9291 L1040.13 27.2059 L1047.58 27.2059 L1047.58 72.576 L1040.13 72.576 L1040.13 65.6084 Q1037.42 69.7404 1033.81 71.7658 Q1030.25 73.7508 1025.51 73.7508 Q1017.69 73.7508 1013.64 68.8897 Q1009.59 64.0286 1009.59 54.671 M1028.34 26.1121 L1028.34 26.1121 Z\" fill=\"#000000\" fill-rule=\"evenodd\" fill-opacity=\"1\" /><path clip-path=\"url(#clip640)\" d=\"M 0 0 M1094.21 48.0275 L1094.21 51.6733 L1059.94 51.6733 Q1060.42 59.3701 1064.56 63.421 Q1068.73 67.4314 1076.14 67.4314 Q1080.44 67.4314 1084.45 66.3781 Q1088.5 65.3249 1092.47 63.2184 L1092.47 70.267 Q1088.46 71.9684 1084.24 72.8596 Q1080.03 73.7508 1075.7 73.7508 Q1064.84 73.7508 1058.48 67.4314 Q1052.16 61.1119 1052.16 50.3365 Q1052.16 39.1965 1058.16 32.6746 Q1064.19 26.1121 1074.4 26.1121 Q1083.56 26.1121 1088.86 32.0264 Q1094.21 37.9003 1094.21 48.0275 M1086.76 45.84 Q1086.67 39.7232 1083.31 36.0774 Q1079.99 32.4315 1074.48 32.4315 Q1068.24 32.4315 1064.48 35.9558 Q1060.75 39.4801 1060.18 45.8805 L1086.76 45.84 Z\" fill=\"#000000\" fill-rule=\"evenodd\" fill-opacity=\"1\" /><path clip-path=\"url(#clip640)\" d=\"M 0 0 M1130.95 28.5427 L1130.95 35.5912 Q1127.79 33.9709 1124.39 33.1607 Q1120.99 32.3505 1117.34 32.3505 Q1111.79 32.3505 1108.99 34.0519 Q1106.24 35.7533 1106.24 39.156 Q1106.24 41.7486 1108.23 43.2475 Q1110.21 44.7058 1116.21 46.0426 L1118.76 46.6097 Q1126.7 48.3111 1130.02 51.4303 Q1133.38 54.509 1133.38 60.0587 Q1133.38 66.3781 1128.36 70.0644 Q1123.38 73.7508 1114.63 73.7508 Q1110.98 73.7508 1107.01 73.0216 Q1103.08 72.3329 1098.71 70.9151 L1098.71 63.2184 Q1102.84 65.3654 1106.85 66.4591 Q1110.86 67.5124 1114.79 67.5124 Q1120.05 67.5124 1122.89 65.73 Q1125.73 63.9071 1125.73 60.6258 Q1125.73 57.5877 1123.66 55.9673 Q1121.63 54.3469 1114.71 52.8481 L1112.11 52.2405 Q1105.19 50.7821 1102.11 47.7845 Q1099.03 44.7463 1099.03 39.4801 Q1099.03 33.0797 1103.57 29.5959 Q1108.1 26.1121 1116.45 26.1121 Q1120.58 26.1121 1124.23 26.7198 Q1127.87 27.3274 1130.95 28.5427 Z\" fill=\"#000000\" fill-rule=\"evenodd\" fill-opacity=\"1\" /><path clip-path=\"url(#clip640)\" d=\"M 0 0 M1188.19 49.7694 Q1179.16 49.7694 1175.67 51.8354 Q1172.19 53.9013 1172.19 58.8839 Q1172.19 62.8538 1174.78 65.2034 Q1177.41 67.5124 1181.91 67.5124 Q1188.11 67.5124 1191.84 63.1374 Q1195.6 58.7219 1195.6 51.4303 L1195.6 49.7694 L1188.19 49.7694 M1203.06 46.6907 L1203.06 72.576 L1195.6 72.576 L1195.6 65.6895 Q1193.05 69.8214 1189.24 71.8063 Q1185.44 73.7508 1179.93 73.7508 Q1172.96 73.7508 1168.83 69.8619 Q1164.74 65.9325 1164.74 59.3701 Q1164.74 51.7138 1169.84 47.825 Q1174.98 43.9361 1185.15 43.9361 L1195.6 43.9361 L1195.6 43.2069 Q1195.6 38.0623 1192.2 35.2672 Q1188.84 32.4315 1182.72 32.4315 Q1178.83 32.4315 1175.15 33.3632 Q1171.46 34.295 1168.06 36.1584 L1168.06 29.2718 Q1172.15 27.692 1176 26.9223 Q1179.85 26.1121 1183.49 26.1121 Q1193.33 26.1121 1198.2 31.2163 Q1203.06 36.3204 1203.06 46.6907 Z\" fill=\"#000000\" fill-rule=\"evenodd\" fill-opacity=\"1\" /><path clip-path=\"url(#clip640)\" d=\"M 0 0 M1260.22 9.54393 L1260.22 15.7418 L1253.09 15.7418 Q1249.08 15.7418 1247.5 17.3622 Q1245.96 18.9825 1245.96 23.1955 L1245.96 27.2059 L1258.23 27.2059 L1258.23 32.9987 L1245.96 32.9987 L1245.96 72.576 L1238.46 72.576 L1238.46 32.9987 L1231.33 32.9987 L1231.33 27.2059 L1238.46 27.2059 L1238.46 24.0462 Q1238.46 16.471 1241.99 13.0277 Q1245.51 9.54393 1253.17 9.54393 L1260.22 9.54393 Z\" fill=\"#000000\" fill-rule=\"evenodd\" fill-opacity=\"1\" /><path clip-path=\"url(#clip640)\" d=\"M 0 0 M1267.26 54.671 L1267.26 27.2059 L1274.72 27.2059 L1274.72 54.3874 Q1274.72 60.8284 1277.23 64.0691 Q1279.74 67.2693 1284.76 67.2693 Q1290.8 67.2693 1294.28 63.421 Q1297.81 59.5726 1297.81 52.9291 L1297.81 27.2059 L1305.26 27.2059 L1305.26 72.576 L1297.81 72.576 L1297.81 65.6084 Q1295.09 69.7404 1291.49 71.7658 Q1287.92 73.7508 1283.18 73.7508 Q1275.37 73.7508 1271.31 68.8897 Q1267.26 64.0286 1267.26 54.671 M1286.02 26.1121 L1286.02 26.1121 Z\" fill=\"#000000\" fill-rule=\"evenodd\" fill-opacity=\"1\" /><path clip-path=\"url(#clip640)\" d=\"M 0 0 M1350.79 45.1919 L1350.79 72.576 L1343.34 72.576 L1343.34 45.4349 Q1343.34 38.994 1340.83 35.7938 Q1338.32 32.5936 1333.29 32.5936 Q1327.26 32.5936 1323.77 36.4419 Q1320.29 40.2903 1320.29 46.9338 L1320.29 72.576 L1312.8 72.576 L1312.8 27.2059 L1320.29 27.2059 L1320.29 34.2544 Q1322.96 30.163 1326.57 28.1376 Q1330.21 26.1121 1334.95 26.1121 Q1342.77 26.1121 1346.78 30.9732 Q1350.79 35.7938 1350.79 45.1919 Z\" fill=\"#000000\" fill-rule=\"evenodd\" fill-opacity=\"1\" /><path clip-path=\"url(#clip640)\" d=\"M 0 0 M1391.26 28.9478 L1391.26 35.9153 Q1388.1 34.1734 1384.9 33.3227 Q1381.74 32.4315 1378.5 32.4315 Q1371.25 32.4315 1367.24 37.0496 Q1363.23 41.6271 1363.23 49.9314 Q1363.23 58.2358 1367.24 62.8538 Q1371.25 67.4314 1378.5 67.4314 Q1381.74 67.4314 1384.9 66.5807 Q1388.1 65.6895 1391.26 63.9476 L1391.26 70.8341 Q1388.14 72.2924 1384.78 73.0216 Q1381.46 73.7508 1377.69 73.7508 Q1367.44 73.7508 1361.41 67.3098 Q1355.37 60.8689 1355.37 49.9314 Q1355.37 38.832 1361.45 32.472 Q1367.56 26.1121 1378.18 26.1121 Q1381.62 26.1121 1384.9 26.8413 Q1388.18 27.5299 1391.26 28.9478 Z\" fill=\"#000000\" fill-rule=\"evenodd\" fill-opacity=\"1\" /><path clip-path=\"url(#clip640)\" d=\"M 0 0 M1406.45 14.324 L1406.45 27.2059 L1421.81 27.2059 L1421.81 32.9987 L1406.45 32.9987 L1406.45 57.6282 Q1406.45 63.1779 1407.95 64.7578 Q1409.49 66.3376 1414.15 66.3376 L1421.81 66.3376 L1421.81 72.576 L1414.15 72.576 Q1405.52 72.576 1402.24 69.3758 Q1398.96 66.1351 1398.96 57.6282 L1398.96 32.9987 L1393.49 32.9987 L1393.49 27.2059 L1398.96 27.2059 L1398.96 14.324 L1406.45 14.324 Z\" fill=\"#000000\" fill-rule=\"evenodd\" fill-opacity=\"1\" /><path clip-path=\"url(#clip640)\" d=\"M 0 0 M1429.62 27.2059 L1437.08 27.2059 L1437.08 72.576 L1429.62 72.576 L1429.62 27.2059 M1429.62 9.54393 L1437.08 9.54393 L1437.08 18.9825 L1429.62 18.9825 L1429.62 9.54393 Z\" fill=\"#000000\" fill-rule=\"evenodd\" fill-opacity=\"1\" /><path clip-path=\"url(#clip640)\" d=\"M 0 0 M1462.48 32.4315 Q1456.48 32.4315 1453 37.1306 Q1449.51 41.7891 1449.51 49.9314 Q1449.51 58.0738 1452.96 62.7728 Q1456.44 67.4314 1462.48 67.4314 Q1468.43 67.4314 1471.92 62.7323 Q1475.4 58.0333 1475.4 49.9314 Q1475.4 41.8701 1471.92 37.1711 Q1468.43 32.4315 1462.48 32.4315 M1462.48 26.1121 Q1472.2 26.1121 1477.75 32.4315 Q1483.3 38.7509 1483.3 49.9314 Q1483.3 61.0714 1477.75 67.4314 Q1472.2 73.7508 1462.48 73.7508 Q1452.71 73.7508 1447.16 67.4314 Q1441.66 61.0714 1441.66 49.9314 Q1441.66 38.7509 1447.16 32.4315 Q1452.71 26.1121 1462.48 26.1121 Z\" fill=\"#000000\" fill-rule=\"evenodd\" fill-opacity=\"1\" /><path clip-path=\"url(#clip640)\" d=\"M 0 0 M1528.83 45.1919 L1528.83 72.576 L1521.38 72.576 L1521.38 45.4349 Q1521.38 38.994 1518.87 35.7938 Q1516.35 32.5936 1511.33 32.5936 Q1505.29 32.5936 1501.81 36.4419 Q1498.33 40.2903 1498.33 46.9338 L1498.33 72.576 L1490.83 72.576 L1490.83 27.2059 L1498.33 27.2059 L1498.33 34.2544 Q1501 30.163 1504.61 28.1376 Q1508.25 26.1121 1512.99 26.1121 Q1520.81 26.1121 1524.82 30.9732 Q1528.83 35.7938 1528.83 45.1919 Z\" fill=\"#000000\" fill-rule=\"evenodd\" fill-opacity=\"1\" /><path clip-path=\"url(#clip640)\" d=\"M 0 0 M1580.6 32.4315 Q1574.61 32.4315 1571.12 37.1306 Q1567.64 41.7891 1567.64 49.9314 Q1567.64 58.0738 1571.08 62.7728 Q1574.57 67.4314 1580.6 67.4314 Q1586.56 67.4314 1590.04 62.7323 Q1593.52 58.0333 1593.52 49.9314 Q1593.52 41.8701 1590.04 37.1711 Q1586.56 32.4315 1580.6 32.4315 M1580.6 26.1121 Q1590.32 26.1121 1595.87 32.4315 Q1601.42 38.7509 1601.42 49.9314 Q1601.42 61.0714 1595.87 67.4314 Q1590.32 73.7508 1580.6 73.7508 Q1570.84 73.7508 1565.29 67.4314 Q1559.78 61.0714 1559.78 49.9314 Q1559.78 38.7509 1565.29 32.4315 Q1570.84 26.1121 1580.6 26.1121 Z\" fill=\"#000000\" fill-rule=\"evenodd\" fill-opacity=\"1\" /><path clip-path=\"url(#clip640)\" d=\"M 0 0 M1632.21 9.54393 L1632.21 15.7418 L1625.08 15.7418 Q1621.07 15.7418 1619.49 17.3622 Q1617.95 18.9825 1617.95 23.1955 L1617.95 27.2059 L1630.22 27.2059 L1630.22 32.9987 L1617.95 32.9987 L1617.95 72.576 L1610.46 72.576 L1610.46 32.9987 L1603.33 32.9987 L1603.33 27.2059 L1610.46 27.2059 L1610.46 24.0462 Q1610.46 16.471 1613.98 13.0277 Q1617.5 9.54393 1625.16 9.54393 L1632.21 9.54393 Z\" fill=\"#000000\" fill-rule=\"evenodd\" fill-opacity=\"1\" /><path clip-path=\"url(#clip640)\" d=\"M 0 0 M1666.4 27.2059 L1673.85 27.2059 L1673.85 72.576 L1666.4 72.576 L1666.4 27.2059 M1666.4 9.54393 L1673.85 9.54393 L1673.85 18.9825 L1666.4 18.9825 L1666.4 9.54393 Z\" fill=\"#000000\" fill-rule=\"evenodd\" fill-opacity=\"1\" /><path clip-path=\"url(#clip640)\" d=\"M 0 0 M1689.04 14.324 L1689.04 27.2059 L1704.4 27.2059 L1704.4 32.9987 L1689.04 32.9987 L1689.04 57.6282 Q1689.04 63.1779 1690.54 64.7578 Q1692.08 66.3376 1696.74 66.3376 L1704.4 66.3376 L1704.4 72.576 L1696.74 72.576 Q1688.11 72.576 1684.83 69.3758 Q1681.55 66.1351 1681.55 57.6282 L1681.55 32.9987 L1676.08 32.9987 L1676.08 27.2059 L1681.55 27.2059 L1681.55 14.324 L1689.04 14.324 Z\" fill=\"#000000\" fill-rule=\"evenodd\" fill-opacity=\"1\" /><path clip-path=\"url(#clip640)\" d=\"M 0 0 M1751.02 48.0275 L1751.02 51.6733 L1716.75 51.6733 Q1717.24 59.3701 1721.37 63.421 Q1725.54 67.4314 1732.96 67.4314 Q1737.25 67.4314 1741.26 66.3781 Q1745.31 65.3249 1749.28 63.2184 L1749.28 70.267 Q1745.27 71.9684 1741.06 72.8596 Q1736.84 73.7508 1732.51 73.7508 Q1721.65 73.7508 1715.29 67.4314 Q1708.97 61.1119 1708.97 50.3365 Q1708.97 39.1965 1714.97 32.6746 Q1721.01 26.1121 1731.21 26.1121 Q1740.37 26.1121 1745.68 32.0264 Q1751.02 37.9003 1751.02 48.0275 M1743.57 45.84 Q1743.49 39.7232 1740.13 36.0774 Q1736.8 32.4315 1731.29 32.4315 Q1725.06 32.4315 1721.29 35.9558 Q1717.56 39.4801 1717 45.8805 L1743.57 45.84 Z\" fill=\"#000000\" fill-rule=\"evenodd\" fill-opacity=\"1\" /><path clip-path=\"url(#clip640)\" d=\"M 0 0 M1785.13 34.1734 Q1783.88 33.4443 1782.38 33.1202 Q1780.92 32.7556 1779.14 32.7556 Q1772.82 32.7556 1769.41 36.8875 Q1766.05 40.9789 1766.05 48.6757 L1766.05 72.576 L1758.56 72.576 L1758.56 27.2059 L1766.05 27.2059 L1766.05 34.2544 Q1768.4 30.1225 1772.17 28.1376 Q1775.94 26.1121 1781.32 26.1121 Q1782.09 26.1121 1783.02 26.2337 Q1783.96 26.3147 1785.09 26.5172 L1785.13 34.1734 Z\" fill=\"#000000\" fill-rule=\"evenodd\" fill-opacity=\"1\" /><path clip-path=\"url(#clip640)\" d=\"M 0 0 M1813.57 49.7694 Q1804.54 49.7694 1801.05 51.8354 Q1797.57 53.9013 1797.57 58.8839 Q1797.57 62.8538 1800.16 65.2034 Q1802.79 67.5124 1807.29 67.5124 Q1813.49 67.5124 1817.21 63.1374 Q1820.98 58.7219 1820.98 51.4303 L1820.98 49.7694 L1813.57 49.7694 M1828.44 46.6907 L1828.44 72.576 L1820.98 72.576 L1820.98 65.6895 Q1818.43 69.8214 1814.62 71.8063 Q1810.81 73.7508 1805.3 73.7508 Q1798.34 73.7508 1794.21 69.8619 Q1790.11 65.9325 1790.11 59.3701 Q1790.11 51.7138 1795.22 47.825 Q1800.36 43.9361 1810.53 43.9361 L1820.98 43.9361 L1820.98 43.2069 Q1820.98 38.0623 1817.58 35.2672 Q1814.22 32.4315 1808.1 32.4315 Q1804.21 32.4315 1800.52 33.3632 Q1796.84 34.295 1793.44 36.1584 L1793.44 29.2718 Q1797.53 27.692 1801.38 26.9223 Q1805.22 26.1121 1808.87 26.1121 Q1818.71 26.1121 1823.57 31.2163 Q1828.44 36.3204 1828.44 46.6907 Z\" fill=\"#000000\" fill-rule=\"evenodd\" fill-opacity=\"1\" /><path clip-path=\"url(#clip640)\" d=\"M 0 0 M1843.63 14.324 L1843.63 27.2059 L1858.98 27.2059 L1858.98 32.9987 L1843.63 32.9987 L1843.63 57.6282 Q1843.63 63.1779 1845.13 64.7578 Q1846.66 66.3376 1851.32 66.3376 L1858.98 66.3376 L1858.98 72.576 L1851.32 72.576 Q1842.69 72.576 1839.41 69.3758 Q1836.13 66.1351 1836.13 57.6282 L1836.13 32.9987 L1830.66 32.9987 L1830.66 27.2059 L1836.13 27.2059 L1836.13 14.324 L1843.63 14.324 Z\" fill=\"#000000\" fill-rule=\"evenodd\" fill-opacity=\"1\" /><path clip-path=\"url(#clip640)\" d=\"M 0 0 M1866.8 27.2059 L1874.25 27.2059 L1874.25 72.576 L1866.8 72.576 L1866.8 27.2059 M1866.8 9.54393 L1874.25 9.54393 L1874.25 18.9825 L1866.8 18.9825 L1866.8 9.54393 Z\" fill=\"#000000\" fill-rule=\"evenodd\" fill-opacity=\"1\" /><path clip-path=\"url(#clip640)\" d=\"M 0 0 M1899.65 32.4315 Q1893.66 32.4315 1890.17 37.1306 Q1886.69 41.7891 1886.69 49.9314 Q1886.69 58.0738 1890.13 62.7728 Q1893.61 67.4314 1899.65 67.4314 Q1905.61 67.4314 1909.09 62.7323 Q1912.57 58.0333 1912.57 49.9314 Q1912.57 41.8701 1909.09 37.1711 Q1905.61 32.4315 1899.65 32.4315 M1899.65 26.1121 Q1909.37 26.1121 1914.92 32.4315 Q1920.47 38.7509 1920.47 49.9314 Q1920.47 61.0714 1914.92 67.4314 Q1909.37 73.7508 1899.65 73.7508 Q1889.89 73.7508 1884.34 67.4314 Q1878.83 61.0714 1878.83 49.9314 Q1878.83 38.7509 1884.34 32.4315 Q1889.89 26.1121 1899.65 26.1121 Z\" fill=\"#000000\" fill-rule=\"evenodd\" fill-opacity=\"1\" /><path clip-path=\"url(#clip640)\" d=\"M 0 0 M1966 45.1919 L1966 72.576 L1958.55 72.576 L1958.55 45.4349 Q1958.55 38.994 1956.04 35.7938 Q1953.53 32.5936 1948.5 32.5936 Q1942.47 32.5936 1938.98 36.4419 Q1935.5 40.2903 1935.5 46.9338 L1935.5 72.576 L1928.01 72.576 L1928.01 27.2059 L1935.5 27.2059 L1935.5 34.2544 Q1938.17 30.163 1941.78 28.1376 Q1945.43 26.1121 1950.17 26.1121 Q1957.98 26.1121 1961.99 30.9732 Q1966 35.7938 1966 45.1919 Z\" fill=\"#000000\" fill-rule=\"evenodd\" fill-opacity=\"1\" /><path clip-path=\"url(#clip640)\" d=\"M 0 0 M2034.79 36.0774 L2023 36.0774 L2019.6 49.6074 L2031.47 49.6074 L2034.79 36.0774 M2028.71 13.0277 L2024.5 29.839 L2036.33 29.839 L2040.58 13.0277 L2047.06 13.0277 L2042.89 29.839 L2055.53 29.839 L2055.53 36.0774 L2041.31 36.0774 L2037.99 49.6074 L2050.87 49.6074 L2050.87 55.8053 L2036.41 55.8053 L2032.2 72.576 L2025.71 72.576 L2029.89 55.8053 L2018.02 55.8053 L2013.85 72.576 L2007.32 72.576 L2011.54 55.8053 L1998.78 55.8053 L1998.78 49.6074 L2013.04 49.6074 L2016.44 36.0774 L2003.39 36.0774 L2003.39 29.839 L2018.02 29.839 L2022.15 13.0277 L2028.71 13.0277 Z\" fill=\"#000000\" fill-rule=\"evenodd\" fill-opacity=\"1\" /><polyline clip-path=\"url(#clip642)\" style=\"stroke:#009af9; stroke-width:16; stroke-opacity:1; fill:none\" points=\"\n  250.694,162.047 318.721,351.915 386.749,487.677 454.777,596.996 522.805,690.529 590.833,773.464 658.861,848.67 726.889,917.847 794.917,982.029 862.945,1041.83 \n  930.973,1097.59 999.001,1149.44 1067.03,1197.36 1135.06,1241.25 1203.08,1280.93 1271.11,1316.21 1339.14,1346.92 1407.17,1372.97 1475.2,1394.38 1543.22,1411.35 \n  1611.25,1424.21 1679.28,1433.47 1747.31,1439.73 1815.34,1443.66 1883.36,1445.92 1951.39,1447.08 2019.42,1447.61 2087.45,1447.8 2155.47,1447.86 2223.5,1447.87 \n  2291.53,1447.87 \n  \"/>\n<path clip-path=\"url(#clip640)\" d=\"\nM1989.74 327.952 L2280.76 327.952 L2280.76 206.992 L1989.74 206.992  Z\n  \" fill=\"#ffffff\" fill-rule=\"evenodd\" fill-opacity=\"1\"/>\n<polyline clip-path=\"url(#clip640)\" style=\"stroke:#000000; stroke-width:4; stroke-opacity:1; fill:none\" points=\"\n  1989.74,327.952 2280.76,327.952 2280.76,206.992 1989.74,206.992 1989.74,327.952 \n  \"/>\n<polyline clip-path=\"url(#clip640)\" style=\"stroke:#009af9; stroke-width:4; stroke-opacity:1; fill:none\" points=\"\n  2013.74,267.472 2157.74,267.472 \n  \"/>\n<path clip-path=\"url(#clip640)\" d=\"M 0 0 M2195.58 287.16 Q2193.77 291.789 2192.06 293.201 Q2190.35 294.613 2187.48 294.613 L2184.08 294.613 L2184.08 291.048 L2186.58 291.048 Q2188.33 291.048 2189.31 290.215 Q2190.28 289.382 2191.46 286.28 L2192.22 284.335 L2181.74 258.826 L2186.25 258.826 L2194.35 279.104 L2202.46 258.826 L2206.97 258.826 L2195.58 287.16 Z\" fill=\"#000000\" fill-rule=\"evenodd\" fill-opacity=\"1\" /><path clip-path=\"url(#clip640)\" d=\"M 0 0 M2212.85 280.817 L2220.49 280.817 L2220.49 254.451 L2212.18 256.118 L2212.18 251.859 L2220.44 250.192 L2225.12 250.192 L2225.12 280.817 L2232.76 280.817 L2232.76 284.752 L2212.85 284.752 L2212.85 280.817 Z\" fill=\"#000000\" fill-rule=\"evenodd\" fill-opacity=\"1\" /></svg>\n"
     },
     "execution_count": 298,
     "metadata": {},
     "output_type": "execute_result"
    }
   ],
   "source": [
    "plot(xs, lw = 4, title = \"Evaluted x values a function of iteration #\")"
   ]
  },
  {
   "cell_type": "code",
   "execution_count": null,
   "metadata": {},
   "outputs": [],
   "source": [
    "function find_a_min_adam(funct_input, start = 1)\n",
    "    f_dydx = derivative(funct_input)\n",
    "    # # println(\"found f_dydx\")\n",
    "    # trial_x =[x for x in  range(-20,stop = 20)]\n",
    "    # y = funct_input.(trial_x) # NOTE the dot for element wise computation\n",
    "    # idx = argmin(y)\n",
    "    x_i = start # trial_x[idx] # x sub i\n",
    "    # println(\"argmin is $idx with x value of $x_i\")\n",
    "    step = 1e-1 # basically the learning rate. \n",
    "    v_t = 0\n",
    "    v_t_minus_1 = 0\n",
    "    beta_1 = 0.9\n",
    "    beta_2 = 0.9\n",
    "    eps_ = 1e-7\n",
    "    x_list = []\n",
    "    for i in range(1,length = 3000)\n",
    "        # get the gradient\n",
    "        dydx = f_dydx(x_i)\n",
    "        if abs(dydx)<eps_\n",
    "            println(\"Found a min at $x_i. Iteration $i\")\n",
    "            return x_i,x_list\n",
    "        end\n",
    "        # m_t = beta*m_t_minus_1+(1-beta)*dydx\n",
    "        v_t = beta*v_t_minus_1 +(1-beta)*dydx^2\n",
    "        update_term = 1/(v_t+1e-9)*dydx\n",
    "        x_delta = -update_term*step # step in the negative gradient\n",
    "        x_i = x_i+x_delta\n",
    "        v_t_minus_1 = v_t\n",
    "        push!(x_list, x_i)\n",
    "\n",
    "\n",
    "    end\n",
    "\n",
    "    println(\"Did NOT terminate. x =  $x_i\")\n",
    "    return x_i,x_list\n",
    "end"
   ]
  },
  {
   "cell_type": "code",
   "execution_count": null,
   "metadata": {},
   "outputs": [],
   "source": []
  },
  {
   "cell_type": "code",
   "execution_count": null,
   "metadata": {},
   "outputs": [],
   "source": []
  },
  {
   "cell_type": "code",
   "execution_count": null,
   "metadata": {},
   "outputs": [],
   "source": []
  },
  {
   "cell_type": "code",
   "execution_count": 165,
   "metadata": {},
   "outputs": [
    {
     "name": "stdout",
     "output_type": "stream",
     "text": [
      "123"
     ]
    }
   ],
   "source": [
    "# @doc range(length=200)\n",
    "for i in range(1,length = 3)\n",
    "    print(i)\n",
    "end"
   ]
  },
  {
   "cell_type": "code",
   "execution_count": 176,
   "metadata": {},
   "outputs": [
    {
     "data": {
      "text/plain": [
       "0-element Array{Any,1}"
      ]
     },
     "execution_count": 176,
     "metadata": {},
     "output_type": "execute_result"
    }
   ],
   "source": [
    "x_list = []"
   ]
  },
  {
   "cell_type": "code",
   "execution_count": 177,
   "metadata": {},
   "outputs": [
    {
     "data": {
      "text/latex": [
       "No documentation found.\n",
       "\n",
       "Binding \\texttt{push} does not exist.\n",
       "\n"
      ],
      "text/markdown": [
       "No documentation found.\n",
       "\n",
       "Binding `push` does not exist.\n"
      ],
      "text/plain": [
       "  No documentation found.\n",
       "\n",
       "  Binding \u001b[36mpush\u001b[39m does not exist."
      ]
     },
     "execution_count": 177,
     "metadata": {},
     "output_type": "execute_result"
    }
   ],
   "source": [
    "@doc push"
   ]
  },
  {
   "cell_type": "code",
   "execution_count": 179,
   "metadata": {},
   "outputs": [],
   "source": [
    "# code_native(f, (Any,)) "
   ]
  },
  {
   "cell_type": "code",
   "execution_count": null,
   "metadata": {},
   "outputs": [],
   "source": []
  }
 ],
 "metadata": {
  "kernelspec": {
   "display_name": "Julia 1.0.5",
   "language": "julia",
   "name": "julia-1.0"
  },
  "language_info": {
   "file_extension": ".jl",
   "mimetype": "application/julia",
   "name": "julia",
   "version": "1.0.5"
  }
 },
 "nbformat": 4,
 "nbformat_minor": 4
}
